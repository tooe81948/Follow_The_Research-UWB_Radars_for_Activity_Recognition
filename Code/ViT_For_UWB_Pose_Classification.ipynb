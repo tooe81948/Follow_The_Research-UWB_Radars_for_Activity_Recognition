{
  "nbformat": 4,
  "nbformat_minor": 0,
  "metadata": {
    "colab": {
      "provenance": [],
      "machine_shape": "hm"
    },
    "kernelspec": {
      "name": "python3",
      "display_name": "Python 3"
    },
    "language_info": {
      "name": "python"
    },
    "accelerator": "GPU",
    "gpuClass": "premium",
    "widgets": {
      "application/vnd.jupyter.widget-state+json": {
        "f77375f3b1f54e908d522fd13297aeb1": {
          "model_module": "@jupyter-widgets/controls",
          "model_name": "VBoxModel",
          "model_module_version": "1.5.0",
          "state": {
            "_dom_classes": [],
            "_model_module": "@jupyter-widgets/controls",
            "_model_module_version": "1.5.0",
            "_model_name": "VBoxModel",
            "_view_count": null,
            "_view_module": "@jupyter-widgets/controls",
            "_view_module_version": "1.5.0",
            "_view_name": "VBoxView",
            "box_style": "",
            "children": [
              "IPY_MODEL_988685b4a2674b518656841e3d08124e",
              "IPY_MODEL_de95dbc2493341efacf46914839e95c8",
              "IPY_MODEL_ebe0d2cfdc5d4405ac0f93b67ea69105",
              "IPY_MODEL_d05f38b2538b4421bd19a624c0c1a6b0",
              "IPY_MODEL_e7c4f0f2bc9f485ba1b9a837abb30488"
            ],
            "layout": "IPY_MODEL_daee8151945d436aa72d1abf2ba956eb"
          }
        },
        "988685b4a2674b518656841e3d08124e": {
          "model_module": "@jupyter-widgets/controls",
          "model_name": "HTMLModel",
          "model_module_version": "1.5.0",
          "state": {
            "_dom_classes": [],
            "_model_module": "@jupyter-widgets/controls",
            "_model_module_version": "1.5.0",
            "_model_name": "HTMLModel",
            "_view_count": null,
            "_view_module": "@jupyter-widgets/controls",
            "_view_module_version": "1.5.0",
            "_view_name": "HTMLView",
            "description": "",
            "description_tooltip": null,
            "layout": "IPY_MODEL_82bc0e5d05dc459d9c8d45e96d90286f",
            "placeholder": "​",
            "style": "IPY_MODEL_9f0a9f154ce34ac78723e6a937813304",
            "value": "<center> <img\nsrc=https://huggingface.co/front/assets/huggingface_logo-noborder.svg\nalt='Hugging Face'> <br> Copy a token from <a\nhref=\"https://huggingface.co/settings/tokens\" target=\"_blank\">your Hugging Face\ntokens page</a> and paste it below. <br> Immediately click login after copying\nyour token or it might be stored in plain text in this notebook file. </center>"
          }
        },
        "de95dbc2493341efacf46914839e95c8": {
          "model_module": "@jupyter-widgets/controls",
          "model_name": "PasswordModel",
          "model_module_version": "1.5.0",
          "state": {
            "_dom_classes": [],
            "_model_module": "@jupyter-widgets/controls",
            "_model_module_version": "1.5.0",
            "_model_name": "PasswordModel",
            "_view_count": null,
            "_view_module": "@jupyter-widgets/controls",
            "_view_module_version": "1.5.0",
            "_view_name": "PasswordView",
            "continuous_update": true,
            "description": "Token:",
            "description_tooltip": null,
            "disabled": false,
            "layout": "IPY_MODEL_33e8862ebffb41ba8f263b5525f8da0f",
            "placeholder": "​",
            "style": "IPY_MODEL_6c95d7ad383a4bfd85804cb8c4632d86",
            "value": ""
          }
        },
        "ebe0d2cfdc5d4405ac0f93b67ea69105": {
          "model_module": "@jupyter-widgets/controls",
          "model_name": "CheckboxModel",
          "model_module_version": "1.5.0",
          "state": {
            "_dom_classes": [],
            "_model_module": "@jupyter-widgets/controls",
            "_model_module_version": "1.5.0",
            "_model_name": "CheckboxModel",
            "_view_count": null,
            "_view_module": "@jupyter-widgets/controls",
            "_view_module_version": "1.5.0",
            "_view_name": "CheckboxView",
            "description": "Add token as git credential?",
            "description_tooltip": null,
            "disabled": false,
            "indent": true,
            "layout": "IPY_MODEL_79214f0fddcd45049fd492a7cc7309aa",
            "style": "IPY_MODEL_96b6c6c0083d48cdab357eaed1dcb81d",
            "value": true
          }
        },
        "d05f38b2538b4421bd19a624c0c1a6b0": {
          "model_module": "@jupyter-widgets/controls",
          "model_name": "ButtonModel",
          "model_module_version": "1.5.0",
          "state": {
            "_dom_classes": [],
            "_model_module": "@jupyter-widgets/controls",
            "_model_module_version": "1.5.0",
            "_model_name": "ButtonModel",
            "_view_count": null,
            "_view_module": "@jupyter-widgets/controls",
            "_view_module_version": "1.5.0",
            "_view_name": "ButtonView",
            "button_style": "",
            "description": "Login",
            "disabled": false,
            "icon": "",
            "layout": "IPY_MODEL_ef0bd2948a514a6f9cdf3a69775d3009",
            "style": "IPY_MODEL_aae99071a26a457380fcfbe7177fae74",
            "tooltip": ""
          }
        },
        "e7c4f0f2bc9f485ba1b9a837abb30488": {
          "model_module": "@jupyter-widgets/controls",
          "model_name": "HTMLModel",
          "model_module_version": "1.5.0",
          "state": {
            "_dom_classes": [],
            "_model_module": "@jupyter-widgets/controls",
            "_model_module_version": "1.5.0",
            "_model_name": "HTMLModel",
            "_view_count": null,
            "_view_module": "@jupyter-widgets/controls",
            "_view_module_version": "1.5.0",
            "_view_name": "HTMLView",
            "description": "",
            "description_tooltip": null,
            "layout": "IPY_MODEL_dea9946180204e03bc0c565d88389993",
            "placeholder": "​",
            "style": "IPY_MODEL_5e777bfe1c4640a7b63443f370a7992c",
            "value": "\n<b>Pro Tip:</b> If you don't already have one, you can create a dedicated\n'notebooks' token with 'write' access, that you can then easily reuse for all\nnotebooks. </center>"
          }
        },
        "daee8151945d436aa72d1abf2ba956eb": {
          "model_module": "@jupyter-widgets/base",
          "model_name": "LayoutModel",
          "model_module_version": "1.2.0",
          "state": {
            "_model_module": "@jupyter-widgets/base",
            "_model_module_version": "1.2.0",
            "_model_name": "LayoutModel",
            "_view_count": null,
            "_view_module": "@jupyter-widgets/base",
            "_view_module_version": "1.2.0",
            "_view_name": "LayoutView",
            "align_content": null,
            "align_items": "center",
            "align_self": null,
            "border": null,
            "bottom": null,
            "display": "flex",
            "flex": null,
            "flex_flow": "column",
            "grid_area": null,
            "grid_auto_columns": null,
            "grid_auto_flow": null,
            "grid_auto_rows": null,
            "grid_column": null,
            "grid_gap": null,
            "grid_row": null,
            "grid_template_areas": null,
            "grid_template_columns": null,
            "grid_template_rows": null,
            "height": null,
            "justify_content": null,
            "justify_items": null,
            "left": null,
            "margin": null,
            "max_height": null,
            "max_width": null,
            "min_height": null,
            "min_width": null,
            "object_fit": null,
            "object_position": null,
            "order": null,
            "overflow": null,
            "overflow_x": null,
            "overflow_y": null,
            "padding": null,
            "right": null,
            "top": null,
            "visibility": null,
            "width": "50%"
          }
        },
        "82bc0e5d05dc459d9c8d45e96d90286f": {
          "model_module": "@jupyter-widgets/base",
          "model_name": "LayoutModel",
          "model_module_version": "1.2.0",
          "state": {
            "_model_module": "@jupyter-widgets/base",
            "_model_module_version": "1.2.0",
            "_model_name": "LayoutModel",
            "_view_count": null,
            "_view_module": "@jupyter-widgets/base",
            "_view_module_version": "1.2.0",
            "_view_name": "LayoutView",
            "align_content": null,
            "align_items": null,
            "align_self": null,
            "border": null,
            "bottom": null,
            "display": null,
            "flex": null,
            "flex_flow": null,
            "grid_area": null,
            "grid_auto_columns": null,
            "grid_auto_flow": null,
            "grid_auto_rows": null,
            "grid_column": null,
            "grid_gap": null,
            "grid_row": null,
            "grid_template_areas": null,
            "grid_template_columns": null,
            "grid_template_rows": null,
            "height": null,
            "justify_content": null,
            "justify_items": null,
            "left": null,
            "margin": null,
            "max_height": null,
            "max_width": null,
            "min_height": null,
            "min_width": null,
            "object_fit": null,
            "object_position": null,
            "order": null,
            "overflow": null,
            "overflow_x": null,
            "overflow_y": null,
            "padding": null,
            "right": null,
            "top": null,
            "visibility": null,
            "width": null
          }
        },
        "9f0a9f154ce34ac78723e6a937813304": {
          "model_module": "@jupyter-widgets/controls",
          "model_name": "DescriptionStyleModel",
          "model_module_version": "1.5.0",
          "state": {
            "_model_module": "@jupyter-widgets/controls",
            "_model_module_version": "1.5.0",
            "_model_name": "DescriptionStyleModel",
            "_view_count": null,
            "_view_module": "@jupyter-widgets/base",
            "_view_module_version": "1.2.0",
            "_view_name": "StyleView",
            "description_width": ""
          }
        },
        "33e8862ebffb41ba8f263b5525f8da0f": {
          "model_module": "@jupyter-widgets/base",
          "model_name": "LayoutModel",
          "model_module_version": "1.2.0",
          "state": {
            "_model_module": "@jupyter-widgets/base",
            "_model_module_version": "1.2.0",
            "_model_name": "LayoutModel",
            "_view_count": null,
            "_view_module": "@jupyter-widgets/base",
            "_view_module_version": "1.2.0",
            "_view_name": "LayoutView",
            "align_content": null,
            "align_items": null,
            "align_self": null,
            "border": null,
            "bottom": null,
            "display": null,
            "flex": null,
            "flex_flow": null,
            "grid_area": null,
            "grid_auto_columns": null,
            "grid_auto_flow": null,
            "grid_auto_rows": null,
            "grid_column": null,
            "grid_gap": null,
            "grid_row": null,
            "grid_template_areas": null,
            "grid_template_columns": null,
            "grid_template_rows": null,
            "height": null,
            "justify_content": null,
            "justify_items": null,
            "left": null,
            "margin": null,
            "max_height": null,
            "max_width": null,
            "min_height": null,
            "min_width": null,
            "object_fit": null,
            "object_position": null,
            "order": null,
            "overflow": null,
            "overflow_x": null,
            "overflow_y": null,
            "padding": null,
            "right": null,
            "top": null,
            "visibility": null,
            "width": null
          }
        },
        "6c95d7ad383a4bfd85804cb8c4632d86": {
          "model_module": "@jupyter-widgets/controls",
          "model_name": "DescriptionStyleModel",
          "model_module_version": "1.5.0",
          "state": {
            "_model_module": "@jupyter-widgets/controls",
            "_model_module_version": "1.5.0",
            "_model_name": "DescriptionStyleModel",
            "_view_count": null,
            "_view_module": "@jupyter-widgets/base",
            "_view_module_version": "1.2.0",
            "_view_name": "StyleView",
            "description_width": ""
          }
        },
        "79214f0fddcd45049fd492a7cc7309aa": {
          "model_module": "@jupyter-widgets/base",
          "model_name": "LayoutModel",
          "model_module_version": "1.2.0",
          "state": {
            "_model_module": "@jupyter-widgets/base",
            "_model_module_version": "1.2.0",
            "_model_name": "LayoutModel",
            "_view_count": null,
            "_view_module": "@jupyter-widgets/base",
            "_view_module_version": "1.2.0",
            "_view_name": "LayoutView",
            "align_content": null,
            "align_items": null,
            "align_self": null,
            "border": null,
            "bottom": null,
            "display": null,
            "flex": null,
            "flex_flow": null,
            "grid_area": null,
            "grid_auto_columns": null,
            "grid_auto_flow": null,
            "grid_auto_rows": null,
            "grid_column": null,
            "grid_gap": null,
            "grid_row": null,
            "grid_template_areas": null,
            "grid_template_columns": null,
            "grid_template_rows": null,
            "height": null,
            "justify_content": null,
            "justify_items": null,
            "left": null,
            "margin": null,
            "max_height": null,
            "max_width": null,
            "min_height": null,
            "min_width": null,
            "object_fit": null,
            "object_position": null,
            "order": null,
            "overflow": null,
            "overflow_x": null,
            "overflow_y": null,
            "padding": null,
            "right": null,
            "top": null,
            "visibility": null,
            "width": null
          }
        },
        "96b6c6c0083d48cdab357eaed1dcb81d": {
          "model_module": "@jupyter-widgets/controls",
          "model_name": "DescriptionStyleModel",
          "model_module_version": "1.5.0",
          "state": {
            "_model_module": "@jupyter-widgets/controls",
            "_model_module_version": "1.5.0",
            "_model_name": "DescriptionStyleModel",
            "_view_count": null,
            "_view_module": "@jupyter-widgets/base",
            "_view_module_version": "1.2.0",
            "_view_name": "StyleView",
            "description_width": ""
          }
        },
        "ef0bd2948a514a6f9cdf3a69775d3009": {
          "model_module": "@jupyter-widgets/base",
          "model_name": "LayoutModel",
          "model_module_version": "1.2.0",
          "state": {
            "_model_module": "@jupyter-widgets/base",
            "_model_module_version": "1.2.0",
            "_model_name": "LayoutModel",
            "_view_count": null,
            "_view_module": "@jupyter-widgets/base",
            "_view_module_version": "1.2.0",
            "_view_name": "LayoutView",
            "align_content": null,
            "align_items": null,
            "align_self": null,
            "border": null,
            "bottom": null,
            "display": null,
            "flex": null,
            "flex_flow": null,
            "grid_area": null,
            "grid_auto_columns": null,
            "grid_auto_flow": null,
            "grid_auto_rows": null,
            "grid_column": null,
            "grid_gap": null,
            "grid_row": null,
            "grid_template_areas": null,
            "grid_template_columns": null,
            "grid_template_rows": null,
            "height": null,
            "justify_content": null,
            "justify_items": null,
            "left": null,
            "margin": null,
            "max_height": null,
            "max_width": null,
            "min_height": null,
            "min_width": null,
            "object_fit": null,
            "object_position": null,
            "order": null,
            "overflow": null,
            "overflow_x": null,
            "overflow_y": null,
            "padding": null,
            "right": null,
            "top": null,
            "visibility": null,
            "width": null
          }
        },
        "aae99071a26a457380fcfbe7177fae74": {
          "model_module": "@jupyter-widgets/controls",
          "model_name": "ButtonStyleModel",
          "model_module_version": "1.5.0",
          "state": {
            "_model_module": "@jupyter-widgets/controls",
            "_model_module_version": "1.5.0",
            "_model_name": "ButtonStyleModel",
            "_view_count": null,
            "_view_module": "@jupyter-widgets/base",
            "_view_module_version": "1.2.0",
            "_view_name": "StyleView",
            "button_color": null,
            "font_weight": ""
          }
        },
        "dea9946180204e03bc0c565d88389993": {
          "model_module": "@jupyter-widgets/base",
          "model_name": "LayoutModel",
          "model_module_version": "1.2.0",
          "state": {
            "_model_module": "@jupyter-widgets/base",
            "_model_module_version": "1.2.0",
            "_model_name": "LayoutModel",
            "_view_count": null,
            "_view_module": "@jupyter-widgets/base",
            "_view_module_version": "1.2.0",
            "_view_name": "LayoutView",
            "align_content": null,
            "align_items": null,
            "align_self": null,
            "border": null,
            "bottom": null,
            "display": null,
            "flex": null,
            "flex_flow": null,
            "grid_area": null,
            "grid_auto_columns": null,
            "grid_auto_flow": null,
            "grid_auto_rows": null,
            "grid_column": null,
            "grid_gap": null,
            "grid_row": null,
            "grid_template_areas": null,
            "grid_template_columns": null,
            "grid_template_rows": null,
            "height": null,
            "justify_content": null,
            "justify_items": null,
            "left": null,
            "margin": null,
            "max_height": null,
            "max_width": null,
            "min_height": null,
            "min_width": null,
            "object_fit": null,
            "object_position": null,
            "order": null,
            "overflow": null,
            "overflow_x": null,
            "overflow_y": null,
            "padding": null,
            "right": null,
            "top": null,
            "visibility": null,
            "width": null
          }
        },
        "5e777bfe1c4640a7b63443f370a7992c": {
          "model_module": "@jupyter-widgets/controls",
          "model_name": "DescriptionStyleModel",
          "model_module_version": "1.5.0",
          "state": {
            "_model_module": "@jupyter-widgets/controls",
            "_model_module_version": "1.5.0",
            "_model_name": "DescriptionStyleModel",
            "_view_count": null,
            "_view_module": "@jupyter-widgets/base",
            "_view_module_version": "1.2.0",
            "_view_name": "StyleView",
            "description_width": ""
          }
        },
        "1464b73dad3c4553b436b67802941a44": {
          "model_module": "@jupyter-widgets/controls",
          "model_name": "HBoxModel",
          "model_module_version": "1.5.0",
          "state": {
            "_dom_classes": [],
            "_model_module": "@jupyter-widgets/controls",
            "_model_module_version": "1.5.0",
            "_model_name": "HBoxModel",
            "_view_count": null,
            "_view_module": "@jupyter-widgets/controls",
            "_view_module_version": "1.5.0",
            "_view_name": "HBoxView",
            "box_style": "",
            "children": [
              "IPY_MODEL_f2a728a28c8a403ca3ca2ff7afd9293f",
              "IPY_MODEL_edc067e210d9423eb61a8c9424f403a3",
              "IPY_MODEL_8063ec773b1f4835a3c3113f3fb5ff47"
            ],
            "layout": "IPY_MODEL_1263baa1dc184caf825776807f831fc0"
          }
        },
        "f2a728a28c8a403ca3ca2ff7afd9293f": {
          "model_module": "@jupyter-widgets/controls",
          "model_name": "HTMLModel",
          "model_module_version": "1.5.0",
          "state": {
            "_dom_classes": [],
            "_model_module": "@jupyter-widgets/controls",
            "_model_module_version": "1.5.0",
            "_model_name": "HTMLModel",
            "_view_count": null,
            "_view_module": "@jupyter-widgets/controls",
            "_view_module_version": "1.5.0",
            "_view_name": "HTMLView",
            "description": "",
            "description_tooltip": null,
            "layout": "IPY_MODEL_aab9fe8d56a4419f869ef239a4544d0d",
            "placeholder": "​",
            "style": "IPY_MODEL_f88892d3f7d246deb2405f00d0bf57ae",
            "value": "Resolving data files: 100%"
          }
        },
        "edc067e210d9423eb61a8c9424f403a3": {
          "model_module": "@jupyter-widgets/controls",
          "model_name": "FloatProgressModel",
          "model_module_version": "1.5.0",
          "state": {
            "_dom_classes": [],
            "_model_module": "@jupyter-widgets/controls",
            "_model_module_version": "1.5.0",
            "_model_name": "FloatProgressModel",
            "_view_count": null,
            "_view_module": "@jupyter-widgets/controls",
            "_view_module_version": "1.5.0",
            "_view_name": "ProgressView",
            "bar_style": "success",
            "description": "",
            "description_tooltip": null,
            "layout": "IPY_MODEL_252f99c4de0e451b9b8a11729c4e3753",
            "max": 1920,
            "min": 0,
            "orientation": "horizontal",
            "style": "IPY_MODEL_bfa310fd84764be19585cf49e8a9d2df",
            "value": 1920
          }
        },
        "8063ec773b1f4835a3c3113f3fb5ff47": {
          "model_module": "@jupyter-widgets/controls",
          "model_name": "HTMLModel",
          "model_module_version": "1.5.0",
          "state": {
            "_dom_classes": [],
            "_model_module": "@jupyter-widgets/controls",
            "_model_module_version": "1.5.0",
            "_model_name": "HTMLModel",
            "_view_count": null,
            "_view_module": "@jupyter-widgets/controls",
            "_view_module_version": "1.5.0",
            "_view_name": "HTMLView",
            "description": "",
            "description_tooltip": null,
            "layout": "IPY_MODEL_b2daaa5c5c06466ea1507c4fe56afcce",
            "placeholder": "​",
            "style": "IPY_MODEL_5fb9cbcc4528451dadc963fd26766700",
            "value": " 1920/1920 [00:00&lt;00:00, 12774.28it/s]"
          }
        },
        "1263baa1dc184caf825776807f831fc0": {
          "model_module": "@jupyter-widgets/base",
          "model_name": "LayoutModel",
          "model_module_version": "1.2.0",
          "state": {
            "_model_module": "@jupyter-widgets/base",
            "_model_module_version": "1.2.0",
            "_model_name": "LayoutModel",
            "_view_count": null,
            "_view_module": "@jupyter-widgets/base",
            "_view_module_version": "1.2.0",
            "_view_name": "LayoutView",
            "align_content": null,
            "align_items": null,
            "align_self": null,
            "border": null,
            "bottom": null,
            "display": null,
            "flex": null,
            "flex_flow": null,
            "grid_area": null,
            "grid_auto_columns": null,
            "grid_auto_flow": null,
            "grid_auto_rows": null,
            "grid_column": null,
            "grid_gap": null,
            "grid_row": null,
            "grid_template_areas": null,
            "grid_template_columns": null,
            "grid_template_rows": null,
            "height": null,
            "justify_content": null,
            "justify_items": null,
            "left": null,
            "margin": null,
            "max_height": null,
            "max_width": null,
            "min_height": null,
            "min_width": null,
            "object_fit": null,
            "object_position": null,
            "order": null,
            "overflow": null,
            "overflow_x": null,
            "overflow_y": null,
            "padding": null,
            "right": null,
            "top": null,
            "visibility": null,
            "width": null
          }
        },
        "aab9fe8d56a4419f869ef239a4544d0d": {
          "model_module": "@jupyter-widgets/base",
          "model_name": "LayoutModel",
          "model_module_version": "1.2.0",
          "state": {
            "_model_module": "@jupyter-widgets/base",
            "_model_module_version": "1.2.0",
            "_model_name": "LayoutModel",
            "_view_count": null,
            "_view_module": "@jupyter-widgets/base",
            "_view_module_version": "1.2.0",
            "_view_name": "LayoutView",
            "align_content": null,
            "align_items": null,
            "align_self": null,
            "border": null,
            "bottom": null,
            "display": null,
            "flex": null,
            "flex_flow": null,
            "grid_area": null,
            "grid_auto_columns": null,
            "grid_auto_flow": null,
            "grid_auto_rows": null,
            "grid_column": null,
            "grid_gap": null,
            "grid_row": null,
            "grid_template_areas": null,
            "grid_template_columns": null,
            "grid_template_rows": null,
            "height": null,
            "justify_content": null,
            "justify_items": null,
            "left": null,
            "margin": null,
            "max_height": null,
            "max_width": null,
            "min_height": null,
            "min_width": null,
            "object_fit": null,
            "object_position": null,
            "order": null,
            "overflow": null,
            "overflow_x": null,
            "overflow_y": null,
            "padding": null,
            "right": null,
            "top": null,
            "visibility": null,
            "width": null
          }
        },
        "f88892d3f7d246deb2405f00d0bf57ae": {
          "model_module": "@jupyter-widgets/controls",
          "model_name": "DescriptionStyleModel",
          "model_module_version": "1.5.0",
          "state": {
            "_model_module": "@jupyter-widgets/controls",
            "_model_module_version": "1.5.0",
            "_model_name": "DescriptionStyleModel",
            "_view_count": null,
            "_view_module": "@jupyter-widgets/base",
            "_view_module_version": "1.2.0",
            "_view_name": "StyleView",
            "description_width": ""
          }
        },
        "252f99c4de0e451b9b8a11729c4e3753": {
          "model_module": "@jupyter-widgets/base",
          "model_name": "LayoutModel",
          "model_module_version": "1.2.0",
          "state": {
            "_model_module": "@jupyter-widgets/base",
            "_model_module_version": "1.2.0",
            "_model_name": "LayoutModel",
            "_view_count": null,
            "_view_module": "@jupyter-widgets/base",
            "_view_module_version": "1.2.0",
            "_view_name": "LayoutView",
            "align_content": null,
            "align_items": null,
            "align_self": null,
            "border": null,
            "bottom": null,
            "display": null,
            "flex": null,
            "flex_flow": null,
            "grid_area": null,
            "grid_auto_columns": null,
            "grid_auto_flow": null,
            "grid_auto_rows": null,
            "grid_column": null,
            "grid_gap": null,
            "grid_row": null,
            "grid_template_areas": null,
            "grid_template_columns": null,
            "grid_template_rows": null,
            "height": null,
            "justify_content": null,
            "justify_items": null,
            "left": null,
            "margin": null,
            "max_height": null,
            "max_width": null,
            "min_height": null,
            "min_width": null,
            "object_fit": null,
            "object_position": null,
            "order": null,
            "overflow": null,
            "overflow_x": null,
            "overflow_y": null,
            "padding": null,
            "right": null,
            "top": null,
            "visibility": null,
            "width": null
          }
        },
        "bfa310fd84764be19585cf49e8a9d2df": {
          "model_module": "@jupyter-widgets/controls",
          "model_name": "ProgressStyleModel",
          "model_module_version": "1.5.0",
          "state": {
            "_model_module": "@jupyter-widgets/controls",
            "_model_module_version": "1.5.0",
            "_model_name": "ProgressStyleModel",
            "_view_count": null,
            "_view_module": "@jupyter-widgets/base",
            "_view_module_version": "1.2.0",
            "_view_name": "StyleView",
            "bar_color": null,
            "description_width": ""
          }
        },
        "b2daaa5c5c06466ea1507c4fe56afcce": {
          "model_module": "@jupyter-widgets/base",
          "model_name": "LayoutModel",
          "model_module_version": "1.2.0",
          "state": {
            "_model_module": "@jupyter-widgets/base",
            "_model_module_version": "1.2.0",
            "_model_name": "LayoutModel",
            "_view_count": null,
            "_view_module": "@jupyter-widgets/base",
            "_view_module_version": "1.2.0",
            "_view_name": "LayoutView",
            "align_content": null,
            "align_items": null,
            "align_self": null,
            "border": null,
            "bottom": null,
            "display": null,
            "flex": null,
            "flex_flow": null,
            "grid_area": null,
            "grid_auto_columns": null,
            "grid_auto_flow": null,
            "grid_auto_rows": null,
            "grid_column": null,
            "grid_gap": null,
            "grid_row": null,
            "grid_template_areas": null,
            "grid_template_columns": null,
            "grid_template_rows": null,
            "height": null,
            "justify_content": null,
            "justify_items": null,
            "left": null,
            "margin": null,
            "max_height": null,
            "max_width": null,
            "min_height": null,
            "min_width": null,
            "object_fit": null,
            "object_position": null,
            "order": null,
            "overflow": null,
            "overflow_x": null,
            "overflow_y": null,
            "padding": null,
            "right": null,
            "top": null,
            "visibility": null,
            "width": null
          }
        },
        "5fb9cbcc4528451dadc963fd26766700": {
          "model_module": "@jupyter-widgets/controls",
          "model_name": "DescriptionStyleModel",
          "model_module_version": "1.5.0",
          "state": {
            "_model_module": "@jupyter-widgets/controls",
            "_model_module_version": "1.5.0",
            "_model_name": "DescriptionStyleModel",
            "_view_count": null,
            "_view_module": "@jupyter-widgets/base",
            "_view_module_version": "1.2.0",
            "_view_name": "StyleView",
            "description_width": ""
          }
        },
        "7f6366e442444906ab6fb2b557dbb928": {
          "model_module": "@jupyter-widgets/controls",
          "model_name": "HBoxModel",
          "model_module_version": "1.5.0",
          "state": {
            "_dom_classes": [],
            "_model_module": "@jupyter-widgets/controls",
            "_model_module_version": "1.5.0",
            "_model_name": "HBoxModel",
            "_view_count": null,
            "_view_module": "@jupyter-widgets/controls",
            "_view_module_version": "1.5.0",
            "_view_name": "HBoxView",
            "box_style": "",
            "children": [
              "IPY_MODEL_115b03bfafba48a0b435ddb4fe27f402",
              "IPY_MODEL_1c598240e0364d1791c08f4667f33f3c",
              "IPY_MODEL_2c5d44a2d3744ac588a6f296d83011be"
            ],
            "layout": "IPY_MODEL_1ef0d05b4af4469d8d6a45c780c364c4"
          }
        },
        "115b03bfafba48a0b435ddb4fe27f402": {
          "model_module": "@jupyter-widgets/controls",
          "model_name": "HTMLModel",
          "model_module_version": "1.5.0",
          "state": {
            "_dom_classes": [],
            "_model_module": "@jupyter-widgets/controls",
            "_model_module_version": "1.5.0",
            "_model_name": "HTMLModel",
            "_view_count": null,
            "_view_module": "@jupyter-widgets/controls",
            "_view_module_version": "1.5.0",
            "_view_name": "HTMLView",
            "description": "",
            "description_tooltip": null,
            "layout": "IPY_MODEL_ac1b8c3fefdc43538eb0e1439f72d2d3",
            "placeholder": "​",
            "style": "IPY_MODEL_e23e8dd304524312aafdeabedcdef34f",
            "value": "Downloading data files: 100%"
          }
        },
        "1c598240e0364d1791c08f4667f33f3c": {
          "model_module": "@jupyter-widgets/controls",
          "model_name": "FloatProgressModel",
          "model_module_version": "1.5.0",
          "state": {
            "_dom_classes": [],
            "_model_module": "@jupyter-widgets/controls",
            "_model_module_version": "1.5.0",
            "_model_name": "FloatProgressModel",
            "_view_count": null,
            "_view_module": "@jupyter-widgets/controls",
            "_view_module_version": "1.5.0",
            "_view_name": "ProgressView",
            "bar_style": "success",
            "description": "",
            "description_tooltip": null,
            "layout": "IPY_MODEL_b2a2b1cb22274486b2ea31a9ef8f0e7a",
            "max": 1920,
            "min": 0,
            "orientation": "horizontal",
            "style": "IPY_MODEL_5873bc69ca0547ea97e845ce5aa258a1",
            "value": 1920
          }
        },
        "2c5d44a2d3744ac588a6f296d83011be": {
          "model_module": "@jupyter-widgets/controls",
          "model_name": "HTMLModel",
          "model_module_version": "1.5.0",
          "state": {
            "_dom_classes": [],
            "_model_module": "@jupyter-widgets/controls",
            "_model_module_version": "1.5.0",
            "_model_name": "HTMLModel",
            "_view_count": null,
            "_view_module": "@jupyter-widgets/controls",
            "_view_module_version": "1.5.0",
            "_view_name": "HTMLView",
            "description": "",
            "description_tooltip": null,
            "layout": "IPY_MODEL_430e7c60b46a4b13a7f84b33c2b800be",
            "placeholder": "​",
            "style": "IPY_MODEL_7c131888c1ab420483e499200547637c",
            "value": " 1920/1920 [00:00&lt;00:00, 46198.61it/s]"
          }
        },
        "1ef0d05b4af4469d8d6a45c780c364c4": {
          "model_module": "@jupyter-widgets/base",
          "model_name": "LayoutModel",
          "model_module_version": "1.2.0",
          "state": {
            "_model_module": "@jupyter-widgets/base",
            "_model_module_version": "1.2.0",
            "_model_name": "LayoutModel",
            "_view_count": null,
            "_view_module": "@jupyter-widgets/base",
            "_view_module_version": "1.2.0",
            "_view_name": "LayoutView",
            "align_content": null,
            "align_items": null,
            "align_self": null,
            "border": null,
            "bottom": null,
            "display": null,
            "flex": null,
            "flex_flow": null,
            "grid_area": null,
            "grid_auto_columns": null,
            "grid_auto_flow": null,
            "grid_auto_rows": null,
            "grid_column": null,
            "grid_gap": null,
            "grid_row": null,
            "grid_template_areas": null,
            "grid_template_columns": null,
            "grid_template_rows": null,
            "height": null,
            "justify_content": null,
            "justify_items": null,
            "left": null,
            "margin": null,
            "max_height": null,
            "max_width": null,
            "min_height": null,
            "min_width": null,
            "object_fit": null,
            "object_position": null,
            "order": null,
            "overflow": null,
            "overflow_x": null,
            "overflow_y": null,
            "padding": null,
            "right": null,
            "top": null,
            "visibility": null,
            "width": null
          }
        },
        "ac1b8c3fefdc43538eb0e1439f72d2d3": {
          "model_module": "@jupyter-widgets/base",
          "model_name": "LayoutModel",
          "model_module_version": "1.2.0",
          "state": {
            "_model_module": "@jupyter-widgets/base",
            "_model_module_version": "1.2.0",
            "_model_name": "LayoutModel",
            "_view_count": null,
            "_view_module": "@jupyter-widgets/base",
            "_view_module_version": "1.2.0",
            "_view_name": "LayoutView",
            "align_content": null,
            "align_items": null,
            "align_self": null,
            "border": null,
            "bottom": null,
            "display": null,
            "flex": null,
            "flex_flow": null,
            "grid_area": null,
            "grid_auto_columns": null,
            "grid_auto_flow": null,
            "grid_auto_rows": null,
            "grid_column": null,
            "grid_gap": null,
            "grid_row": null,
            "grid_template_areas": null,
            "grid_template_columns": null,
            "grid_template_rows": null,
            "height": null,
            "justify_content": null,
            "justify_items": null,
            "left": null,
            "margin": null,
            "max_height": null,
            "max_width": null,
            "min_height": null,
            "min_width": null,
            "object_fit": null,
            "object_position": null,
            "order": null,
            "overflow": null,
            "overflow_x": null,
            "overflow_y": null,
            "padding": null,
            "right": null,
            "top": null,
            "visibility": null,
            "width": null
          }
        },
        "e23e8dd304524312aafdeabedcdef34f": {
          "model_module": "@jupyter-widgets/controls",
          "model_name": "DescriptionStyleModel",
          "model_module_version": "1.5.0",
          "state": {
            "_model_module": "@jupyter-widgets/controls",
            "_model_module_version": "1.5.0",
            "_model_name": "DescriptionStyleModel",
            "_view_count": null,
            "_view_module": "@jupyter-widgets/base",
            "_view_module_version": "1.2.0",
            "_view_name": "StyleView",
            "description_width": ""
          }
        },
        "b2a2b1cb22274486b2ea31a9ef8f0e7a": {
          "model_module": "@jupyter-widgets/base",
          "model_name": "LayoutModel",
          "model_module_version": "1.2.0",
          "state": {
            "_model_module": "@jupyter-widgets/base",
            "_model_module_version": "1.2.0",
            "_model_name": "LayoutModel",
            "_view_count": null,
            "_view_module": "@jupyter-widgets/base",
            "_view_module_version": "1.2.0",
            "_view_name": "LayoutView",
            "align_content": null,
            "align_items": null,
            "align_self": null,
            "border": null,
            "bottom": null,
            "display": null,
            "flex": null,
            "flex_flow": null,
            "grid_area": null,
            "grid_auto_columns": null,
            "grid_auto_flow": null,
            "grid_auto_rows": null,
            "grid_column": null,
            "grid_gap": null,
            "grid_row": null,
            "grid_template_areas": null,
            "grid_template_columns": null,
            "grid_template_rows": null,
            "height": null,
            "justify_content": null,
            "justify_items": null,
            "left": null,
            "margin": null,
            "max_height": null,
            "max_width": null,
            "min_height": null,
            "min_width": null,
            "object_fit": null,
            "object_position": null,
            "order": null,
            "overflow": null,
            "overflow_x": null,
            "overflow_y": null,
            "padding": null,
            "right": null,
            "top": null,
            "visibility": null,
            "width": null
          }
        },
        "5873bc69ca0547ea97e845ce5aa258a1": {
          "model_module": "@jupyter-widgets/controls",
          "model_name": "ProgressStyleModel",
          "model_module_version": "1.5.0",
          "state": {
            "_model_module": "@jupyter-widgets/controls",
            "_model_module_version": "1.5.0",
            "_model_name": "ProgressStyleModel",
            "_view_count": null,
            "_view_module": "@jupyter-widgets/base",
            "_view_module_version": "1.2.0",
            "_view_name": "StyleView",
            "bar_color": null,
            "description_width": ""
          }
        },
        "430e7c60b46a4b13a7f84b33c2b800be": {
          "model_module": "@jupyter-widgets/base",
          "model_name": "LayoutModel",
          "model_module_version": "1.2.0",
          "state": {
            "_model_module": "@jupyter-widgets/base",
            "_model_module_version": "1.2.0",
            "_model_name": "LayoutModel",
            "_view_count": null,
            "_view_module": "@jupyter-widgets/base",
            "_view_module_version": "1.2.0",
            "_view_name": "LayoutView",
            "align_content": null,
            "align_items": null,
            "align_self": null,
            "border": null,
            "bottom": null,
            "display": null,
            "flex": null,
            "flex_flow": null,
            "grid_area": null,
            "grid_auto_columns": null,
            "grid_auto_flow": null,
            "grid_auto_rows": null,
            "grid_column": null,
            "grid_gap": null,
            "grid_row": null,
            "grid_template_areas": null,
            "grid_template_columns": null,
            "grid_template_rows": null,
            "height": null,
            "justify_content": null,
            "justify_items": null,
            "left": null,
            "margin": null,
            "max_height": null,
            "max_width": null,
            "min_height": null,
            "min_width": null,
            "object_fit": null,
            "object_position": null,
            "order": null,
            "overflow": null,
            "overflow_x": null,
            "overflow_y": null,
            "padding": null,
            "right": null,
            "top": null,
            "visibility": null,
            "width": null
          }
        },
        "7c131888c1ab420483e499200547637c": {
          "model_module": "@jupyter-widgets/controls",
          "model_name": "DescriptionStyleModel",
          "model_module_version": "1.5.0",
          "state": {
            "_model_module": "@jupyter-widgets/controls",
            "_model_module_version": "1.5.0",
            "_model_name": "DescriptionStyleModel",
            "_view_count": null,
            "_view_module": "@jupyter-widgets/base",
            "_view_module_version": "1.2.0",
            "_view_name": "StyleView",
            "description_width": ""
          }
        },
        "496fbfeb4c7d4056b60b55b70e4f56b9": {
          "model_module": "@jupyter-widgets/controls",
          "model_name": "HBoxModel",
          "model_module_version": "1.5.0",
          "state": {
            "_dom_classes": [],
            "_model_module": "@jupyter-widgets/controls",
            "_model_module_version": "1.5.0",
            "_model_name": "HBoxModel",
            "_view_count": null,
            "_view_module": "@jupyter-widgets/controls",
            "_view_module_version": "1.5.0",
            "_view_name": "HBoxView",
            "box_style": "",
            "children": [
              "IPY_MODEL_91a2a7c723774ec0bfa97c02ca9ae6ae",
              "IPY_MODEL_ae4cafee34be454789374c625b7fd464",
              "IPY_MODEL_0858358178e14c22a858cd7419a79252"
            ],
            "layout": "IPY_MODEL_efd04d7c591543fc90180b74aa6af519"
          }
        },
        "91a2a7c723774ec0bfa97c02ca9ae6ae": {
          "model_module": "@jupyter-widgets/controls",
          "model_name": "HTMLModel",
          "model_module_version": "1.5.0",
          "state": {
            "_dom_classes": [],
            "_model_module": "@jupyter-widgets/controls",
            "_model_module_version": "1.5.0",
            "_model_name": "HTMLModel",
            "_view_count": null,
            "_view_module": "@jupyter-widgets/controls",
            "_view_module_version": "1.5.0",
            "_view_name": "HTMLView",
            "description": "",
            "description_tooltip": null,
            "layout": "IPY_MODEL_685ed9e51b5c4d5587314f77e24f98a9",
            "placeholder": "​",
            "style": "IPY_MODEL_ba8c8fc5e0ab4bad83c16a87bc1d6e1a",
            "value": "Downloading data files: "
          }
        },
        "ae4cafee34be454789374c625b7fd464": {
          "model_module": "@jupyter-widgets/controls",
          "model_name": "FloatProgressModel",
          "model_module_version": "1.5.0",
          "state": {
            "_dom_classes": [],
            "_model_module": "@jupyter-widgets/controls",
            "_model_module_version": "1.5.0",
            "_model_name": "FloatProgressModel",
            "_view_count": null,
            "_view_module": "@jupyter-widgets/controls",
            "_view_module_version": "1.5.0",
            "_view_name": "ProgressView",
            "bar_style": "success",
            "description": "",
            "description_tooltip": null,
            "layout": "IPY_MODEL_54d1ef9d8125436b80be9d0892134bc4",
            "max": 1,
            "min": 0,
            "orientation": "horizontal",
            "style": "IPY_MODEL_5c106ddae6304beaac3e4f8c053f4b31",
            "value": 0
          }
        },
        "0858358178e14c22a858cd7419a79252": {
          "model_module": "@jupyter-widgets/controls",
          "model_name": "HTMLModel",
          "model_module_version": "1.5.0",
          "state": {
            "_dom_classes": [],
            "_model_module": "@jupyter-widgets/controls",
            "_model_module_version": "1.5.0",
            "_model_name": "HTMLModel",
            "_view_count": null,
            "_view_module": "@jupyter-widgets/controls",
            "_view_module_version": "1.5.0",
            "_view_name": "HTMLView",
            "description": "",
            "description_tooltip": null,
            "layout": "IPY_MODEL_85a0775d7a654dd1bd46689066b2fd40",
            "placeholder": "​",
            "style": "IPY_MODEL_52d05d8e74b9450fb15fb6978ec56665",
            "value": " 0/0 [00:00&lt;?, ?it/s]"
          }
        },
        "efd04d7c591543fc90180b74aa6af519": {
          "model_module": "@jupyter-widgets/base",
          "model_name": "LayoutModel",
          "model_module_version": "1.2.0",
          "state": {
            "_model_module": "@jupyter-widgets/base",
            "_model_module_version": "1.2.0",
            "_model_name": "LayoutModel",
            "_view_count": null,
            "_view_module": "@jupyter-widgets/base",
            "_view_module_version": "1.2.0",
            "_view_name": "LayoutView",
            "align_content": null,
            "align_items": null,
            "align_self": null,
            "border": null,
            "bottom": null,
            "display": null,
            "flex": null,
            "flex_flow": null,
            "grid_area": null,
            "grid_auto_columns": null,
            "grid_auto_flow": null,
            "grid_auto_rows": null,
            "grid_column": null,
            "grid_gap": null,
            "grid_row": null,
            "grid_template_areas": null,
            "grid_template_columns": null,
            "grid_template_rows": null,
            "height": null,
            "justify_content": null,
            "justify_items": null,
            "left": null,
            "margin": null,
            "max_height": null,
            "max_width": null,
            "min_height": null,
            "min_width": null,
            "object_fit": null,
            "object_position": null,
            "order": null,
            "overflow": null,
            "overflow_x": null,
            "overflow_y": null,
            "padding": null,
            "right": null,
            "top": null,
            "visibility": null,
            "width": null
          }
        },
        "685ed9e51b5c4d5587314f77e24f98a9": {
          "model_module": "@jupyter-widgets/base",
          "model_name": "LayoutModel",
          "model_module_version": "1.2.0",
          "state": {
            "_model_module": "@jupyter-widgets/base",
            "_model_module_version": "1.2.0",
            "_model_name": "LayoutModel",
            "_view_count": null,
            "_view_module": "@jupyter-widgets/base",
            "_view_module_version": "1.2.0",
            "_view_name": "LayoutView",
            "align_content": null,
            "align_items": null,
            "align_self": null,
            "border": null,
            "bottom": null,
            "display": null,
            "flex": null,
            "flex_flow": null,
            "grid_area": null,
            "grid_auto_columns": null,
            "grid_auto_flow": null,
            "grid_auto_rows": null,
            "grid_column": null,
            "grid_gap": null,
            "grid_row": null,
            "grid_template_areas": null,
            "grid_template_columns": null,
            "grid_template_rows": null,
            "height": null,
            "justify_content": null,
            "justify_items": null,
            "left": null,
            "margin": null,
            "max_height": null,
            "max_width": null,
            "min_height": null,
            "min_width": null,
            "object_fit": null,
            "object_position": null,
            "order": null,
            "overflow": null,
            "overflow_x": null,
            "overflow_y": null,
            "padding": null,
            "right": null,
            "top": null,
            "visibility": null,
            "width": null
          }
        },
        "ba8c8fc5e0ab4bad83c16a87bc1d6e1a": {
          "model_module": "@jupyter-widgets/controls",
          "model_name": "DescriptionStyleModel",
          "model_module_version": "1.5.0",
          "state": {
            "_model_module": "@jupyter-widgets/controls",
            "_model_module_version": "1.5.0",
            "_model_name": "DescriptionStyleModel",
            "_view_count": null,
            "_view_module": "@jupyter-widgets/base",
            "_view_module_version": "1.2.0",
            "_view_name": "StyleView",
            "description_width": ""
          }
        },
        "54d1ef9d8125436b80be9d0892134bc4": {
          "model_module": "@jupyter-widgets/base",
          "model_name": "LayoutModel",
          "model_module_version": "1.2.0",
          "state": {
            "_model_module": "@jupyter-widgets/base",
            "_model_module_version": "1.2.0",
            "_model_name": "LayoutModel",
            "_view_count": null,
            "_view_module": "@jupyter-widgets/base",
            "_view_module_version": "1.2.0",
            "_view_name": "LayoutView",
            "align_content": null,
            "align_items": null,
            "align_self": null,
            "border": null,
            "bottom": null,
            "display": null,
            "flex": null,
            "flex_flow": null,
            "grid_area": null,
            "grid_auto_columns": null,
            "grid_auto_flow": null,
            "grid_auto_rows": null,
            "grid_column": null,
            "grid_gap": null,
            "grid_row": null,
            "grid_template_areas": null,
            "grid_template_columns": null,
            "grid_template_rows": null,
            "height": null,
            "justify_content": null,
            "justify_items": null,
            "left": null,
            "margin": null,
            "max_height": null,
            "max_width": null,
            "min_height": null,
            "min_width": null,
            "object_fit": null,
            "object_position": null,
            "order": null,
            "overflow": null,
            "overflow_x": null,
            "overflow_y": null,
            "padding": null,
            "right": null,
            "top": null,
            "visibility": null,
            "width": "20px"
          }
        },
        "5c106ddae6304beaac3e4f8c053f4b31": {
          "model_module": "@jupyter-widgets/controls",
          "model_name": "ProgressStyleModel",
          "model_module_version": "1.5.0",
          "state": {
            "_model_module": "@jupyter-widgets/controls",
            "_model_module_version": "1.5.0",
            "_model_name": "ProgressStyleModel",
            "_view_count": null,
            "_view_module": "@jupyter-widgets/base",
            "_view_module_version": "1.2.0",
            "_view_name": "StyleView",
            "bar_color": null,
            "description_width": ""
          }
        },
        "85a0775d7a654dd1bd46689066b2fd40": {
          "model_module": "@jupyter-widgets/base",
          "model_name": "LayoutModel",
          "model_module_version": "1.2.0",
          "state": {
            "_model_module": "@jupyter-widgets/base",
            "_model_module_version": "1.2.0",
            "_model_name": "LayoutModel",
            "_view_count": null,
            "_view_module": "@jupyter-widgets/base",
            "_view_module_version": "1.2.0",
            "_view_name": "LayoutView",
            "align_content": null,
            "align_items": null,
            "align_self": null,
            "border": null,
            "bottom": null,
            "display": null,
            "flex": null,
            "flex_flow": null,
            "grid_area": null,
            "grid_auto_columns": null,
            "grid_auto_flow": null,
            "grid_auto_rows": null,
            "grid_column": null,
            "grid_gap": null,
            "grid_row": null,
            "grid_template_areas": null,
            "grid_template_columns": null,
            "grid_template_rows": null,
            "height": null,
            "justify_content": null,
            "justify_items": null,
            "left": null,
            "margin": null,
            "max_height": null,
            "max_width": null,
            "min_height": null,
            "min_width": null,
            "object_fit": null,
            "object_position": null,
            "order": null,
            "overflow": null,
            "overflow_x": null,
            "overflow_y": null,
            "padding": null,
            "right": null,
            "top": null,
            "visibility": null,
            "width": null
          }
        },
        "52d05d8e74b9450fb15fb6978ec56665": {
          "model_module": "@jupyter-widgets/controls",
          "model_name": "DescriptionStyleModel",
          "model_module_version": "1.5.0",
          "state": {
            "_model_module": "@jupyter-widgets/controls",
            "_model_module_version": "1.5.0",
            "_model_name": "DescriptionStyleModel",
            "_view_count": null,
            "_view_module": "@jupyter-widgets/base",
            "_view_module_version": "1.2.0",
            "_view_name": "StyleView",
            "description_width": ""
          }
        },
        "1780fc4d1fea42a28065b7f18b2beeba": {
          "model_module": "@jupyter-widgets/controls",
          "model_name": "HBoxModel",
          "model_module_version": "1.5.0",
          "state": {
            "_dom_classes": [],
            "_model_module": "@jupyter-widgets/controls",
            "_model_module_version": "1.5.0",
            "_model_name": "HBoxModel",
            "_view_count": null,
            "_view_module": "@jupyter-widgets/controls",
            "_view_module_version": "1.5.0",
            "_view_name": "HBoxView",
            "box_style": "",
            "children": [
              "IPY_MODEL_2a3077bd68394dac8bc8b998cfe38d1e",
              "IPY_MODEL_5c4ba1fde0454d52b1a0ec785ec67e3b",
              "IPY_MODEL_0c8bed368d624c9681df14b242468f8d"
            ],
            "layout": "IPY_MODEL_13d9c694539a436d9bd120004e373dbf"
          }
        },
        "2a3077bd68394dac8bc8b998cfe38d1e": {
          "model_module": "@jupyter-widgets/controls",
          "model_name": "HTMLModel",
          "model_module_version": "1.5.0",
          "state": {
            "_dom_classes": [],
            "_model_module": "@jupyter-widgets/controls",
            "_model_module_version": "1.5.0",
            "_model_name": "HTMLModel",
            "_view_count": null,
            "_view_module": "@jupyter-widgets/controls",
            "_view_module_version": "1.5.0",
            "_view_name": "HTMLView",
            "description": "",
            "description_tooltip": null,
            "layout": "IPY_MODEL_eea20b6137a44d3786fbcd7956d07e47",
            "placeholder": "​",
            "style": "IPY_MODEL_83b704fc8e5b446fbf1d6cca7be63a97",
            "value": "Extracting data files: "
          }
        },
        "5c4ba1fde0454d52b1a0ec785ec67e3b": {
          "model_module": "@jupyter-widgets/controls",
          "model_name": "FloatProgressModel",
          "model_module_version": "1.5.0",
          "state": {
            "_dom_classes": [],
            "_model_module": "@jupyter-widgets/controls",
            "_model_module_version": "1.5.0",
            "_model_name": "FloatProgressModel",
            "_view_count": null,
            "_view_module": "@jupyter-widgets/controls",
            "_view_module_version": "1.5.0",
            "_view_name": "ProgressView",
            "bar_style": "success",
            "description": "",
            "description_tooltip": null,
            "layout": "IPY_MODEL_1e78c3a7b7864ff39eccb714fdb7134b",
            "max": 1,
            "min": 0,
            "orientation": "horizontal",
            "style": "IPY_MODEL_5de0fd5cca254c15941ae5d24ca8c3ca",
            "value": 0
          }
        },
        "0c8bed368d624c9681df14b242468f8d": {
          "model_module": "@jupyter-widgets/controls",
          "model_name": "HTMLModel",
          "model_module_version": "1.5.0",
          "state": {
            "_dom_classes": [],
            "_model_module": "@jupyter-widgets/controls",
            "_model_module_version": "1.5.0",
            "_model_name": "HTMLModel",
            "_view_count": null,
            "_view_module": "@jupyter-widgets/controls",
            "_view_module_version": "1.5.0",
            "_view_name": "HTMLView",
            "description": "",
            "description_tooltip": null,
            "layout": "IPY_MODEL_d5d1d039039240099b21f3f1b6c3b113",
            "placeholder": "​",
            "style": "IPY_MODEL_5cbe58e63257405ea7713f620f08fa89",
            "value": " 0/0 [00:00&lt;?, ?it/s]"
          }
        },
        "13d9c694539a436d9bd120004e373dbf": {
          "model_module": "@jupyter-widgets/base",
          "model_name": "LayoutModel",
          "model_module_version": "1.2.0",
          "state": {
            "_model_module": "@jupyter-widgets/base",
            "_model_module_version": "1.2.0",
            "_model_name": "LayoutModel",
            "_view_count": null,
            "_view_module": "@jupyter-widgets/base",
            "_view_module_version": "1.2.0",
            "_view_name": "LayoutView",
            "align_content": null,
            "align_items": null,
            "align_self": null,
            "border": null,
            "bottom": null,
            "display": null,
            "flex": null,
            "flex_flow": null,
            "grid_area": null,
            "grid_auto_columns": null,
            "grid_auto_flow": null,
            "grid_auto_rows": null,
            "grid_column": null,
            "grid_gap": null,
            "grid_row": null,
            "grid_template_areas": null,
            "grid_template_columns": null,
            "grid_template_rows": null,
            "height": null,
            "justify_content": null,
            "justify_items": null,
            "left": null,
            "margin": null,
            "max_height": null,
            "max_width": null,
            "min_height": null,
            "min_width": null,
            "object_fit": null,
            "object_position": null,
            "order": null,
            "overflow": null,
            "overflow_x": null,
            "overflow_y": null,
            "padding": null,
            "right": null,
            "top": null,
            "visibility": null,
            "width": null
          }
        },
        "eea20b6137a44d3786fbcd7956d07e47": {
          "model_module": "@jupyter-widgets/base",
          "model_name": "LayoutModel",
          "model_module_version": "1.2.0",
          "state": {
            "_model_module": "@jupyter-widgets/base",
            "_model_module_version": "1.2.0",
            "_model_name": "LayoutModel",
            "_view_count": null,
            "_view_module": "@jupyter-widgets/base",
            "_view_module_version": "1.2.0",
            "_view_name": "LayoutView",
            "align_content": null,
            "align_items": null,
            "align_self": null,
            "border": null,
            "bottom": null,
            "display": null,
            "flex": null,
            "flex_flow": null,
            "grid_area": null,
            "grid_auto_columns": null,
            "grid_auto_flow": null,
            "grid_auto_rows": null,
            "grid_column": null,
            "grid_gap": null,
            "grid_row": null,
            "grid_template_areas": null,
            "grid_template_columns": null,
            "grid_template_rows": null,
            "height": null,
            "justify_content": null,
            "justify_items": null,
            "left": null,
            "margin": null,
            "max_height": null,
            "max_width": null,
            "min_height": null,
            "min_width": null,
            "object_fit": null,
            "object_position": null,
            "order": null,
            "overflow": null,
            "overflow_x": null,
            "overflow_y": null,
            "padding": null,
            "right": null,
            "top": null,
            "visibility": null,
            "width": null
          }
        },
        "83b704fc8e5b446fbf1d6cca7be63a97": {
          "model_module": "@jupyter-widgets/controls",
          "model_name": "DescriptionStyleModel",
          "model_module_version": "1.5.0",
          "state": {
            "_model_module": "@jupyter-widgets/controls",
            "_model_module_version": "1.5.0",
            "_model_name": "DescriptionStyleModel",
            "_view_count": null,
            "_view_module": "@jupyter-widgets/base",
            "_view_module_version": "1.2.0",
            "_view_name": "StyleView",
            "description_width": ""
          }
        },
        "1e78c3a7b7864ff39eccb714fdb7134b": {
          "model_module": "@jupyter-widgets/base",
          "model_name": "LayoutModel",
          "model_module_version": "1.2.0",
          "state": {
            "_model_module": "@jupyter-widgets/base",
            "_model_module_version": "1.2.0",
            "_model_name": "LayoutModel",
            "_view_count": null,
            "_view_module": "@jupyter-widgets/base",
            "_view_module_version": "1.2.0",
            "_view_name": "LayoutView",
            "align_content": null,
            "align_items": null,
            "align_self": null,
            "border": null,
            "bottom": null,
            "display": null,
            "flex": null,
            "flex_flow": null,
            "grid_area": null,
            "grid_auto_columns": null,
            "grid_auto_flow": null,
            "grid_auto_rows": null,
            "grid_column": null,
            "grid_gap": null,
            "grid_row": null,
            "grid_template_areas": null,
            "grid_template_columns": null,
            "grid_template_rows": null,
            "height": null,
            "justify_content": null,
            "justify_items": null,
            "left": null,
            "margin": null,
            "max_height": null,
            "max_width": null,
            "min_height": null,
            "min_width": null,
            "object_fit": null,
            "object_position": null,
            "order": null,
            "overflow": null,
            "overflow_x": null,
            "overflow_y": null,
            "padding": null,
            "right": null,
            "top": null,
            "visibility": null,
            "width": "20px"
          }
        },
        "5de0fd5cca254c15941ae5d24ca8c3ca": {
          "model_module": "@jupyter-widgets/controls",
          "model_name": "ProgressStyleModel",
          "model_module_version": "1.5.0",
          "state": {
            "_model_module": "@jupyter-widgets/controls",
            "_model_module_version": "1.5.0",
            "_model_name": "ProgressStyleModel",
            "_view_count": null,
            "_view_module": "@jupyter-widgets/base",
            "_view_module_version": "1.2.0",
            "_view_name": "StyleView",
            "bar_color": null,
            "description_width": ""
          }
        },
        "d5d1d039039240099b21f3f1b6c3b113": {
          "model_module": "@jupyter-widgets/base",
          "model_name": "LayoutModel",
          "model_module_version": "1.2.0",
          "state": {
            "_model_module": "@jupyter-widgets/base",
            "_model_module_version": "1.2.0",
            "_model_name": "LayoutModel",
            "_view_count": null,
            "_view_module": "@jupyter-widgets/base",
            "_view_module_version": "1.2.0",
            "_view_name": "LayoutView",
            "align_content": null,
            "align_items": null,
            "align_self": null,
            "border": null,
            "bottom": null,
            "display": null,
            "flex": null,
            "flex_flow": null,
            "grid_area": null,
            "grid_auto_columns": null,
            "grid_auto_flow": null,
            "grid_auto_rows": null,
            "grid_column": null,
            "grid_gap": null,
            "grid_row": null,
            "grid_template_areas": null,
            "grid_template_columns": null,
            "grid_template_rows": null,
            "height": null,
            "justify_content": null,
            "justify_items": null,
            "left": null,
            "margin": null,
            "max_height": null,
            "max_width": null,
            "min_height": null,
            "min_width": null,
            "object_fit": null,
            "object_position": null,
            "order": null,
            "overflow": null,
            "overflow_x": null,
            "overflow_y": null,
            "padding": null,
            "right": null,
            "top": null,
            "visibility": null,
            "width": null
          }
        },
        "5cbe58e63257405ea7713f620f08fa89": {
          "model_module": "@jupyter-widgets/controls",
          "model_name": "DescriptionStyleModel",
          "model_module_version": "1.5.0",
          "state": {
            "_model_module": "@jupyter-widgets/controls",
            "_model_module_version": "1.5.0",
            "_model_name": "DescriptionStyleModel",
            "_view_count": null,
            "_view_module": "@jupyter-widgets/base",
            "_view_module_version": "1.2.0",
            "_view_name": "StyleView",
            "description_width": ""
          }
        },
        "a5231cd50e994a9eb902bb09b6501827": {
          "model_module": "@jupyter-widgets/controls",
          "model_name": "HBoxModel",
          "model_module_version": "1.5.0",
          "state": {
            "_dom_classes": [],
            "_model_module": "@jupyter-widgets/controls",
            "_model_module_version": "1.5.0",
            "_model_name": "HBoxModel",
            "_view_count": null,
            "_view_module": "@jupyter-widgets/controls",
            "_view_module_version": "1.5.0",
            "_view_name": "HBoxView",
            "box_style": "",
            "children": [
              "IPY_MODEL_2c092674989d4bf4a20c6a865644732c",
              "IPY_MODEL_0f3b6b7a9a044eebb46c8991b14caff0",
              "IPY_MODEL_0fded271844a4a55a339fba46a2c6e91"
            ],
            "layout": "IPY_MODEL_9bca3d5abfcb448bb53af6b0e7f3b835"
          }
        },
        "2c092674989d4bf4a20c6a865644732c": {
          "model_module": "@jupyter-widgets/controls",
          "model_name": "HTMLModel",
          "model_module_version": "1.5.0",
          "state": {
            "_dom_classes": [],
            "_model_module": "@jupyter-widgets/controls",
            "_model_module_version": "1.5.0",
            "_model_name": "HTMLModel",
            "_view_count": null,
            "_view_module": "@jupyter-widgets/controls",
            "_view_module_version": "1.5.0",
            "_view_name": "HTMLView",
            "description": "",
            "description_tooltip": null,
            "layout": "IPY_MODEL_0bc95169df224f2ab774f1bc60748da9",
            "placeholder": "​",
            "style": "IPY_MODEL_77fb9a79b03845138c87676c06e566b7",
            "value": "Generating train split: "
          }
        },
        "0f3b6b7a9a044eebb46c8991b14caff0": {
          "model_module": "@jupyter-widgets/controls",
          "model_name": "FloatProgressModel",
          "model_module_version": "1.5.0",
          "state": {
            "_dom_classes": [],
            "_model_module": "@jupyter-widgets/controls",
            "_model_module_version": "1.5.0",
            "_model_name": "FloatProgressModel",
            "_view_count": null,
            "_view_module": "@jupyter-widgets/controls",
            "_view_module_version": "1.5.0",
            "_view_name": "ProgressView",
            "bar_style": "info",
            "description": "",
            "description_tooltip": null,
            "layout": "IPY_MODEL_3af216bde60d433f8ef5db6b636ce00b",
            "max": 1,
            "min": 0,
            "orientation": "horizontal",
            "style": "IPY_MODEL_0200c1ab15e64993b67c5dcb58b77170",
            "value": 1
          }
        },
        "0fded271844a4a55a339fba46a2c6e91": {
          "model_module": "@jupyter-widgets/controls",
          "model_name": "HTMLModel",
          "model_module_version": "1.5.0",
          "state": {
            "_dom_classes": [],
            "_model_module": "@jupyter-widgets/controls",
            "_model_module_version": "1.5.0",
            "_model_name": "HTMLModel",
            "_view_count": null,
            "_view_module": "@jupyter-widgets/controls",
            "_view_module_version": "1.5.0",
            "_view_name": "HTMLView",
            "description": "",
            "description_tooltip": null,
            "layout": "IPY_MODEL_b639111a462944549ff50f9290fe4dc1",
            "placeholder": "​",
            "style": "IPY_MODEL_df78dbe2cf714903bdba1bc136addee1",
            "value": " 1000/0 [00:00&lt;00:00, 6344.35 examples/s]"
          }
        },
        "9bca3d5abfcb448bb53af6b0e7f3b835": {
          "model_module": "@jupyter-widgets/base",
          "model_name": "LayoutModel",
          "model_module_version": "1.2.0",
          "state": {
            "_model_module": "@jupyter-widgets/base",
            "_model_module_version": "1.2.0",
            "_model_name": "LayoutModel",
            "_view_count": null,
            "_view_module": "@jupyter-widgets/base",
            "_view_module_version": "1.2.0",
            "_view_name": "LayoutView",
            "align_content": null,
            "align_items": null,
            "align_self": null,
            "border": null,
            "bottom": null,
            "display": null,
            "flex": null,
            "flex_flow": null,
            "grid_area": null,
            "grid_auto_columns": null,
            "grid_auto_flow": null,
            "grid_auto_rows": null,
            "grid_column": null,
            "grid_gap": null,
            "grid_row": null,
            "grid_template_areas": null,
            "grid_template_columns": null,
            "grid_template_rows": null,
            "height": null,
            "justify_content": null,
            "justify_items": null,
            "left": null,
            "margin": null,
            "max_height": null,
            "max_width": null,
            "min_height": null,
            "min_width": null,
            "object_fit": null,
            "object_position": null,
            "order": null,
            "overflow": null,
            "overflow_x": null,
            "overflow_y": null,
            "padding": null,
            "right": null,
            "top": null,
            "visibility": "hidden",
            "width": null
          }
        },
        "0bc95169df224f2ab774f1bc60748da9": {
          "model_module": "@jupyter-widgets/base",
          "model_name": "LayoutModel",
          "model_module_version": "1.2.0",
          "state": {
            "_model_module": "@jupyter-widgets/base",
            "_model_module_version": "1.2.0",
            "_model_name": "LayoutModel",
            "_view_count": null,
            "_view_module": "@jupyter-widgets/base",
            "_view_module_version": "1.2.0",
            "_view_name": "LayoutView",
            "align_content": null,
            "align_items": null,
            "align_self": null,
            "border": null,
            "bottom": null,
            "display": null,
            "flex": null,
            "flex_flow": null,
            "grid_area": null,
            "grid_auto_columns": null,
            "grid_auto_flow": null,
            "grid_auto_rows": null,
            "grid_column": null,
            "grid_gap": null,
            "grid_row": null,
            "grid_template_areas": null,
            "grid_template_columns": null,
            "grid_template_rows": null,
            "height": null,
            "justify_content": null,
            "justify_items": null,
            "left": null,
            "margin": null,
            "max_height": null,
            "max_width": null,
            "min_height": null,
            "min_width": null,
            "object_fit": null,
            "object_position": null,
            "order": null,
            "overflow": null,
            "overflow_x": null,
            "overflow_y": null,
            "padding": null,
            "right": null,
            "top": null,
            "visibility": null,
            "width": null
          }
        },
        "77fb9a79b03845138c87676c06e566b7": {
          "model_module": "@jupyter-widgets/controls",
          "model_name": "DescriptionStyleModel",
          "model_module_version": "1.5.0",
          "state": {
            "_model_module": "@jupyter-widgets/controls",
            "_model_module_version": "1.5.0",
            "_model_name": "DescriptionStyleModel",
            "_view_count": null,
            "_view_module": "@jupyter-widgets/base",
            "_view_module_version": "1.2.0",
            "_view_name": "StyleView",
            "description_width": ""
          }
        },
        "3af216bde60d433f8ef5db6b636ce00b": {
          "model_module": "@jupyter-widgets/base",
          "model_name": "LayoutModel",
          "model_module_version": "1.2.0",
          "state": {
            "_model_module": "@jupyter-widgets/base",
            "_model_module_version": "1.2.0",
            "_model_name": "LayoutModel",
            "_view_count": null,
            "_view_module": "@jupyter-widgets/base",
            "_view_module_version": "1.2.0",
            "_view_name": "LayoutView",
            "align_content": null,
            "align_items": null,
            "align_self": null,
            "border": null,
            "bottom": null,
            "display": null,
            "flex": null,
            "flex_flow": null,
            "grid_area": null,
            "grid_auto_columns": null,
            "grid_auto_flow": null,
            "grid_auto_rows": null,
            "grid_column": null,
            "grid_gap": null,
            "grid_row": null,
            "grid_template_areas": null,
            "grid_template_columns": null,
            "grid_template_rows": null,
            "height": null,
            "justify_content": null,
            "justify_items": null,
            "left": null,
            "margin": null,
            "max_height": null,
            "max_width": null,
            "min_height": null,
            "min_width": null,
            "object_fit": null,
            "object_position": null,
            "order": null,
            "overflow": null,
            "overflow_x": null,
            "overflow_y": null,
            "padding": null,
            "right": null,
            "top": null,
            "visibility": null,
            "width": "20px"
          }
        },
        "0200c1ab15e64993b67c5dcb58b77170": {
          "model_module": "@jupyter-widgets/controls",
          "model_name": "ProgressStyleModel",
          "model_module_version": "1.5.0",
          "state": {
            "_model_module": "@jupyter-widgets/controls",
            "_model_module_version": "1.5.0",
            "_model_name": "ProgressStyleModel",
            "_view_count": null,
            "_view_module": "@jupyter-widgets/base",
            "_view_module_version": "1.2.0",
            "_view_name": "StyleView",
            "bar_color": null,
            "description_width": ""
          }
        },
        "b639111a462944549ff50f9290fe4dc1": {
          "model_module": "@jupyter-widgets/base",
          "model_name": "LayoutModel",
          "model_module_version": "1.2.0",
          "state": {
            "_model_module": "@jupyter-widgets/base",
            "_model_module_version": "1.2.0",
            "_model_name": "LayoutModel",
            "_view_count": null,
            "_view_module": "@jupyter-widgets/base",
            "_view_module_version": "1.2.0",
            "_view_name": "LayoutView",
            "align_content": null,
            "align_items": null,
            "align_self": null,
            "border": null,
            "bottom": null,
            "display": null,
            "flex": null,
            "flex_flow": null,
            "grid_area": null,
            "grid_auto_columns": null,
            "grid_auto_flow": null,
            "grid_auto_rows": null,
            "grid_column": null,
            "grid_gap": null,
            "grid_row": null,
            "grid_template_areas": null,
            "grid_template_columns": null,
            "grid_template_rows": null,
            "height": null,
            "justify_content": null,
            "justify_items": null,
            "left": null,
            "margin": null,
            "max_height": null,
            "max_width": null,
            "min_height": null,
            "min_width": null,
            "object_fit": null,
            "object_position": null,
            "order": null,
            "overflow": null,
            "overflow_x": null,
            "overflow_y": null,
            "padding": null,
            "right": null,
            "top": null,
            "visibility": null,
            "width": null
          }
        },
        "df78dbe2cf714903bdba1bc136addee1": {
          "model_module": "@jupyter-widgets/controls",
          "model_name": "DescriptionStyleModel",
          "model_module_version": "1.5.0",
          "state": {
            "_model_module": "@jupyter-widgets/controls",
            "_model_module_version": "1.5.0",
            "_model_name": "DescriptionStyleModel",
            "_view_count": null,
            "_view_module": "@jupyter-widgets/base",
            "_view_module_version": "1.2.0",
            "_view_name": "StyleView",
            "description_width": ""
          }
        },
        "a01153e093d040a09b5c9f5c111f4675": {
          "model_module": "@jupyter-widgets/controls",
          "model_name": "HBoxModel",
          "model_module_version": "1.5.0",
          "state": {
            "_dom_classes": [],
            "_model_module": "@jupyter-widgets/controls",
            "_model_module_version": "1.5.0",
            "_model_name": "HBoxModel",
            "_view_count": null,
            "_view_module": "@jupyter-widgets/controls",
            "_view_module_version": "1.5.0",
            "_view_name": "HBoxView",
            "box_style": "",
            "children": [
              "IPY_MODEL_f06559fd89ed44fc982128711449a201",
              "IPY_MODEL_222a0f10489e484c926b1560b361eb18",
              "IPY_MODEL_64bbcead2dd448ca8895fa81cc216920"
            ],
            "layout": "IPY_MODEL_d5bd144e02dc4fed94c18454adccf8bb"
          }
        },
        "f06559fd89ed44fc982128711449a201": {
          "model_module": "@jupyter-widgets/controls",
          "model_name": "HTMLModel",
          "model_module_version": "1.5.0",
          "state": {
            "_dom_classes": [],
            "_model_module": "@jupyter-widgets/controls",
            "_model_module_version": "1.5.0",
            "_model_name": "HTMLModel",
            "_view_count": null,
            "_view_module": "@jupyter-widgets/controls",
            "_view_module_version": "1.5.0",
            "_view_name": "HTMLView",
            "description": "",
            "description_tooltip": null,
            "layout": "IPY_MODEL_251d27053bcb4ab59aa6f8d61d3c03cb",
            "placeholder": "​",
            "style": "IPY_MODEL_58f762337a354fddab59434f8cb21886",
            "value": "100%"
          }
        },
        "222a0f10489e484c926b1560b361eb18": {
          "model_module": "@jupyter-widgets/controls",
          "model_name": "FloatProgressModel",
          "model_module_version": "1.5.0",
          "state": {
            "_dom_classes": [],
            "_model_module": "@jupyter-widgets/controls",
            "_model_module_version": "1.5.0",
            "_model_name": "FloatProgressModel",
            "_view_count": null,
            "_view_module": "@jupyter-widgets/controls",
            "_view_module_version": "1.5.0",
            "_view_name": "ProgressView",
            "bar_style": "success",
            "description": "",
            "description_tooltip": null,
            "layout": "IPY_MODEL_8cf7f495aea7442986e47993803b7fa0",
            "max": 1,
            "min": 0,
            "orientation": "horizontal",
            "style": "IPY_MODEL_893248c7206a4c7b83d5dc8a4014c523",
            "value": 1
          }
        },
        "64bbcead2dd448ca8895fa81cc216920": {
          "model_module": "@jupyter-widgets/controls",
          "model_name": "HTMLModel",
          "model_module_version": "1.5.0",
          "state": {
            "_dom_classes": [],
            "_model_module": "@jupyter-widgets/controls",
            "_model_module_version": "1.5.0",
            "_model_name": "HTMLModel",
            "_view_count": null,
            "_view_module": "@jupyter-widgets/controls",
            "_view_module_version": "1.5.0",
            "_view_name": "HTMLView",
            "description": "",
            "description_tooltip": null,
            "layout": "IPY_MODEL_c3c080e4826d4ed38b9312fc11ee5e72",
            "placeholder": "​",
            "style": "IPY_MODEL_fb8aa56810c54a3bae1f82acb91ae954",
            "value": " 1/1 [00:00&lt;00:00, 42.68it/s]"
          }
        },
        "d5bd144e02dc4fed94c18454adccf8bb": {
          "model_module": "@jupyter-widgets/base",
          "model_name": "LayoutModel",
          "model_module_version": "1.2.0",
          "state": {
            "_model_module": "@jupyter-widgets/base",
            "_model_module_version": "1.2.0",
            "_model_name": "LayoutModel",
            "_view_count": null,
            "_view_module": "@jupyter-widgets/base",
            "_view_module_version": "1.2.0",
            "_view_name": "LayoutView",
            "align_content": null,
            "align_items": null,
            "align_self": null,
            "border": null,
            "bottom": null,
            "display": null,
            "flex": null,
            "flex_flow": null,
            "grid_area": null,
            "grid_auto_columns": null,
            "grid_auto_flow": null,
            "grid_auto_rows": null,
            "grid_column": null,
            "grid_gap": null,
            "grid_row": null,
            "grid_template_areas": null,
            "grid_template_columns": null,
            "grid_template_rows": null,
            "height": null,
            "justify_content": null,
            "justify_items": null,
            "left": null,
            "margin": null,
            "max_height": null,
            "max_width": null,
            "min_height": null,
            "min_width": null,
            "object_fit": null,
            "object_position": null,
            "order": null,
            "overflow": null,
            "overflow_x": null,
            "overflow_y": null,
            "padding": null,
            "right": null,
            "top": null,
            "visibility": null,
            "width": null
          }
        },
        "251d27053bcb4ab59aa6f8d61d3c03cb": {
          "model_module": "@jupyter-widgets/base",
          "model_name": "LayoutModel",
          "model_module_version": "1.2.0",
          "state": {
            "_model_module": "@jupyter-widgets/base",
            "_model_module_version": "1.2.0",
            "_model_name": "LayoutModel",
            "_view_count": null,
            "_view_module": "@jupyter-widgets/base",
            "_view_module_version": "1.2.0",
            "_view_name": "LayoutView",
            "align_content": null,
            "align_items": null,
            "align_self": null,
            "border": null,
            "bottom": null,
            "display": null,
            "flex": null,
            "flex_flow": null,
            "grid_area": null,
            "grid_auto_columns": null,
            "grid_auto_flow": null,
            "grid_auto_rows": null,
            "grid_column": null,
            "grid_gap": null,
            "grid_row": null,
            "grid_template_areas": null,
            "grid_template_columns": null,
            "grid_template_rows": null,
            "height": null,
            "justify_content": null,
            "justify_items": null,
            "left": null,
            "margin": null,
            "max_height": null,
            "max_width": null,
            "min_height": null,
            "min_width": null,
            "object_fit": null,
            "object_position": null,
            "order": null,
            "overflow": null,
            "overflow_x": null,
            "overflow_y": null,
            "padding": null,
            "right": null,
            "top": null,
            "visibility": null,
            "width": null
          }
        },
        "58f762337a354fddab59434f8cb21886": {
          "model_module": "@jupyter-widgets/controls",
          "model_name": "DescriptionStyleModel",
          "model_module_version": "1.5.0",
          "state": {
            "_model_module": "@jupyter-widgets/controls",
            "_model_module_version": "1.5.0",
            "_model_name": "DescriptionStyleModel",
            "_view_count": null,
            "_view_module": "@jupyter-widgets/base",
            "_view_module_version": "1.2.0",
            "_view_name": "StyleView",
            "description_width": ""
          }
        },
        "8cf7f495aea7442986e47993803b7fa0": {
          "model_module": "@jupyter-widgets/base",
          "model_name": "LayoutModel",
          "model_module_version": "1.2.0",
          "state": {
            "_model_module": "@jupyter-widgets/base",
            "_model_module_version": "1.2.0",
            "_model_name": "LayoutModel",
            "_view_count": null,
            "_view_module": "@jupyter-widgets/base",
            "_view_module_version": "1.2.0",
            "_view_name": "LayoutView",
            "align_content": null,
            "align_items": null,
            "align_self": null,
            "border": null,
            "bottom": null,
            "display": null,
            "flex": null,
            "flex_flow": null,
            "grid_area": null,
            "grid_auto_columns": null,
            "grid_auto_flow": null,
            "grid_auto_rows": null,
            "grid_column": null,
            "grid_gap": null,
            "grid_row": null,
            "grid_template_areas": null,
            "grid_template_columns": null,
            "grid_template_rows": null,
            "height": null,
            "justify_content": null,
            "justify_items": null,
            "left": null,
            "margin": null,
            "max_height": null,
            "max_width": null,
            "min_height": null,
            "min_width": null,
            "object_fit": null,
            "object_position": null,
            "order": null,
            "overflow": null,
            "overflow_x": null,
            "overflow_y": null,
            "padding": null,
            "right": null,
            "top": null,
            "visibility": null,
            "width": null
          }
        },
        "893248c7206a4c7b83d5dc8a4014c523": {
          "model_module": "@jupyter-widgets/controls",
          "model_name": "ProgressStyleModel",
          "model_module_version": "1.5.0",
          "state": {
            "_model_module": "@jupyter-widgets/controls",
            "_model_module_version": "1.5.0",
            "_model_name": "ProgressStyleModel",
            "_view_count": null,
            "_view_module": "@jupyter-widgets/base",
            "_view_module_version": "1.2.0",
            "_view_name": "StyleView",
            "bar_color": null,
            "description_width": ""
          }
        },
        "c3c080e4826d4ed38b9312fc11ee5e72": {
          "model_module": "@jupyter-widgets/base",
          "model_name": "LayoutModel",
          "model_module_version": "1.2.0",
          "state": {
            "_model_module": "@jupyter-widgets/base",
            "_model_module_version": "1.2.0",
            "_model_name": "LayoutModel",
            "_view_count": null,
            "_view_module": "@jupyter-widgets/base",
            "_view_module_version": "1.2.0",
            "_view_name": "LayoutView",
            "align_content": null,
            "align_items": null,
            "align_self": null,
            "border": null,
            "bottom": null,
            "display": null,
            "flex": null,
            "flex_flow": null,
            "grid_area": null,
            "grid_auto_columns": null,
            "grid_auto_flow": null,
            "grid_auto_rows": null,
            "grid_column": null,
            "grid_gap": null,
            "grid_row": null,
            "grid_template_areas": null,
            "grid_template_columns": null,
            "grid_template_rows": null,
            "height": null,
            "justify_content": null,
            "justify_items": null,
            "left": null,
            "margin": null,
            "max_height": null,
            "max_width": null,
            "min_height": null,
            "min_width": null,
            "object_fit": null,
            "object_position": null,
            "order": null,
            "overflow": null,
            "overflow_x": null,
            "overflow_y": null,
            "padding": null,
            "right": null,
            "top": null,
            "visibility": null,
            "width": null
          }
        },
        "fb8aa56810c54a3bae1f82acb91ae954": {
          "model_module": "@jupyter-widgets/controls",
          "model_name": "DescriptionStyleModel",
          "model_module_version": "1.5.0",
          "state": {
            "_model_module": "@jupyter-widgets/controls",
            "_model_module_version": "1.5.0",
            "_model_name": "DescriptionStyleModel",
            "_view_count": null,
            "_view_module": "@jupyter-widgets/base",
            "_view_module_version": "1.2.0",
            "_view_name": "StyleView",
            "description_width": ""
          }
        },
        "7d024065f3bb436ba55eb176ffa712fe": {
          "model_module": "@jupyter-widgets/controls",
          "model_name": "HBoxModel",
          "model_module_version": "1.5.0",
          "state": {
            "_dom_classes": [],
            "_model_module": "@jupyter-widgets/controls",
            "_model_module_version": "1.5.0",
            "_model_name": "HBoxModel",
            "_view_count": null,
            "_view_module": "@jupyter-widgets/controls",
            "_view_module_version": "1.5.0",
            "_view_name": "HBoxView",
            "box_style": "",
            "children": [
              "IPY_MODEL_c2c4c57e4b4b4ab69d50184774679226",
              "IPY_MODEL_a43097d353b846cb85e988a57479cfb9",
              "IPY_MODEL_3d99e70dd4294ded8d014e18e0962d37"
            ],
            "layout": "IPY_MODEL_542ece5408334330a65298f85455d1d9"
          }
        },
        "c2c4c57e4b4b4ab69d50184774679226": {
          "model_module": "@jupyter-widgets/controls",
          "model_name": "HTMLModel",
          "model_module_version": "1.5.0",
          "state": {
            "_dom_classes": [],
            "_model_module": "@jupyter-widgets/controls",
            "_model_module_version": "1.5.0",
            "_model_name": "HTMLModel",
            "_view_count": null,
            "_view_module": "@jupyter-widgets/controls",
            "_view_module_version": "1.5.0",
            "_view_name": "HTMLView",
            "description": "",
            "description_tooltip": null,
            "layout": "IPY_MODEL_a8bf09b4722741559df9b68b1a9e4ced",
            "placeholder": "​",
            "style": "IPY_MODEL_7e30c7bff0ee4dbd9f10e30b11ba51fb",
            "value": "Downloading (…)rocessor_config.json: 100%"
          }
        },
        "a43097d353b846cb85e988a57479cfb9": {
          "model_module": "@jupyter-widgets/controls",
          "model_name": "FloatProgressModel",
          "model_module_version": "1.5.0",
          "state": {
            "_dom_classes": [],
            "_model_module": "@jupyter-widgets/controls",
            "_model_module_version": "1.5.0",
            "_model_name": "FloatProgressModel",
            "_view_count": null,
            "_view_module": "@jupyter-widgets/controls",
            "_view_module_version": "1.5.0",
            "_view_name": "ProgressView",
            "bar_style": "success",
            "description": "",
            "description_tooltip": null,
            "layout": "IPY_MODEL_64856f6203b34968aa4fa234c4f66eb2",
            "max": 160,
            "min": 0,
            "orientation": "horizontal",
            "style": "IPY_MODEL_404e516ed1334295b0166808d9f6f8cd",
            "value": 160
          }
        },
        "3d99e70dd4294ded8d014e18e0962d37": {
          "model_module": "@jupyter-widgets/controls",
          "model_name": "HTMLModel",
          "model_module_version": "1.5.0",
          "state": {
            "_dom_classes": [],
            "_model_module": "@jupyter-widgets/controls",
            "_model_module_version": "1.5.0",
            "_model_name": "HTMLModel",
            "_view_count": null,
            "_view_module": "@jupyter-widgets/controls",
            "_view_module_version": "1.5.0",
            "_view_name": "HTMLView",
            "description": "",
            "description_tooltip": null,
            "layout": "IPY_MODEL_73070b1d85a34075b517e6bb29a71cc0",
            "placeholder": "​",
            "style": "IPY_MODEL_bfb87cdf1b804993a8c86d015448f40d",
            "value": " 160/160 [00:00&lt;00:00, 8.69kB/s]"
          }
        },
        "542ece5408334330a65298f85455d1d9": {
          "model_module": "@jupyter-widgets/base",
          "model_name": "LayoutModel",
          "model_module_version": "1.2.0",
          "state": {
            "_model_module": "@jupyter-widgets/base",
            "_model_module_version": "1.2.0",
            "_model_name": "LayoutModel",
            "_view_count": null,
            "_view_module": "@jupyter-widgets/base",
            "_view_module_version": "1.2.0",
            "_view_name": "LayoutView",
            "align_content": null,
            "align_items": null,
            "align_self": null,
            "border": null,
            "bottom": null,
            "display": null,
            "flex": null,
            "flex_flow": null,
            "grid_area": null,
            "grid_auto_columns": null,
            "grid_auto_flow": null,
            "grid_auto_rows": null,
            "grid_column": null,
            "grid_gap": null,
            "grid_row": null,
            "grid_template_areas": null,
            "grid_template_columns": null,
            "grid_template_rows": null,
            "height": null,
            "justify_content": null,
            "justify_items": null,
            "left": null,
            "margin": null,
            "max_height": null,
            "max_width": null,
            "min_height": null,
            "min_width": null,
            "object_fit": null,
            "object_position": null,
            "order": null,
            "overflow": null,
            "overflow_x": null,
            "overflow_y": null,
            "padding": null,
            "right": null,
            "top": null,
            "visibility": null,
            "width": null
          }
        },
        "a8bf09b4722741559df9b68b1a9e4ced": {
          "model_module": "@jupyter-widgets/base",
          "model_name": "LayoutModel",
          "model_module_version": "1.2.0",
          "state": {
            "_model_module": "@jupyter-widgets/base",
            "_model_module_version": "1.2.0",
            "_model_name": "LayoutModel",
            "_view_count": null,
            "_view_module": "@jupyter-widgets/base",
            "_view_module_version": "1.2.0",
            "_view_name": "LayoutView",
            "align_content": null,
            "align_items": null,
            "align_self": null,
            "border": null,
            "bottom": null,
            "display": null,
            "flex": null,
            "flex_flow": null,
            "grid_area": null,
            "grid_auto_columns": null,
            "grid_auto_flow": null,
            "grid_auto_rows": null,
            "grid_column": null,
            "grid_gap": null,
            "grid_row": null,
            "grid_template_areas": null,
            "grid_template_columns": null,
            "grid_template_rows": null,
            "height": null,
            "justify_content": null,
            "justify_items": null,
            "left": null,
            "margin": null,
            "max_height": null,
            "max_width": null,
            "min_height": null,
            "min_width": null,
            "object_fit": null,
            "object_position": null,
            "order": null,
            "overflow": null,
            "overflow_x": null,
            "overflow_y": null,
            "padding": null,
            "right": null,
            "top": null,
            "visibility": null,
            "width": null
          }
        },
        "7e30c7bff0ee4dbd9f10e30b11ba51fb": {
          "model_module": "@jupyter-widgets/controls",
          "model_name": "DescriptionStyleModel",
          "model_module_version": "1.5.0",
          "state": {
            "_model_module": "@jupyter-widgets/controls",
            "_model_module_version": "1.5.0",
            "_model_name": "DescriptionStyleModel",
            "_view_count": null,
            "_view_module": "@jupyter-widgets/base",
            "_view_module_version": "1.2.0",
            "_view_name": "StyleView",
            "description_width": ""
          }
        },
        "64856f6203b34968aa4fa234c4f66eb2": {
          "model_module": "@jupyter-widgets/base",
          "model_name": "LayoutModel",
          "model_module_version": "1.2.0",
          "state": {
            "_model_module": "@jupyter-widgets/base",
            "_model_module_version": "1.2.0",
            "_model_name": "LayoutModel",
            "_view_count": null,
            "_view_module": "@jupyter-widgets/base",
            "_view_module_version": "1.2.0",
            "_view_name": "LayoutView",
            "align_content": null,
            "align_items": null,
            "align_self": null,
            "border": null,
            "bottom": null,
            "display": null,
            "flex": null,
            "flex_flow": null,
            "grid_area": null,
            "grid_auto_columns": null,
            "grid_auto_flow": null,
            "grid_auto_rows": null,
            "grid_column": null,
            "grid_gap": null,
            "grid_row": null,
            "grid_template_areas": null,
            "grid_template_columns": null,
            "grid_template_rows": null,
            "height": null,
            "justify_content": null,
            "justify_items": null,
            "left": null,
            "margin": null,
            "max_height": null,
            "max_width": null,
            "min_height": null,
            "min_width": null,
            "object_fit": null,
            "object_position": null,
            "order": null,
            "overflow": null,
            "overflow_x": null,
            "overflow_y": null,
            "padding": null,
            "right": null,
            "top": null,
            "visibility": null,
            "width": null
          }
        },
        "404e516ed1334295b0166808d9f6f8cd": {
          "model_module": "@jupyter-widgets/controls",
          "model_name": "ProgressStyleModel",
          "model_module_version": "1.5.0",
          "state": {
            "_model_module": "@jupyter-widgets/controls",
            "_model_module_version": "1.5.0",
            "_model_name": "ProgressStyleModel",
            "_view_count": null,
            "_view_module": "@jupyter-widgets/base",
            "_view_module_version": "1.2.0",
            "_view_name": "StyleView",
            "bar_color": null,
            "description_width": ""
          }
        },
        "73070b1d85a34075b517e6bb29a71cc0": {
          "model_module": "@jupyter-widgets/base",
          "model_name": "LayoutModel",
          "model_module_version": "1.2.0",
          "state": {
            "_model_module": "@jupyter-widgets/base",
            "_model_module_version": "1.2.0",
            "_model_name": "LayoutModel",
            "_view_count": null,
            "_view_module": "@jupyter-widgets/base",
            "_view_module_version": "1.2.0",
            "_view_name": "LayoutView",
            "align_content": null,
            "align_items": null,
            "align_self": null,
            "border": null,
            "bottom": null,
            "display": null,
            "flex": null,
            "flex_flow": null,
            "grid_area": null,
            "grid_auto_columns": null,
            "grid_auto_flow": null,
            "grid_auto_rows": null,
            "grid_column": null,
            "grid_gap": null,
            "grid_row": null,
            "grid_template_areas": null,
            "grid_template_columns": null,
            "grid_template_rows": null,
            "height": null,
            "justify_content": null,
            "justify_items": null,
            "left": null,
            "margin": null,
            "max_height": null,
            "max_width": null,
            "min_height": null,
            "min_width": null,
            "object_fit": null,
            "object_position": null,
            "order": null,
            "overflow": null,
            "overflow_x": null,
            "overflow_y": null,
            "padding": null,
            "right": null,
            "top": null,
            "visibility": null,
            "width": null
          }
        },
        "bfb87cdf1b804993a8c86d015448f40d": {
          "model_module": "@jupyter-widgets/controls",
          "model_name": "DescriptionStyleModel",
          "model_module_version": "1.5.0",
          "state": {
            "_model_module": "@jupyter-widgets/controls",
            "_model_module_version": "1.5.0",
            "_model_name": "DescriptionStyleModel",
            "_view_count": null,
            "_view_module": "@jupyter-widgets/base",
            "_view_module_version": "1.2.0",
            "_view_name": "StyleView",
            "description_width": ""
          }
        },
        "77a5c8bf2d0c476e89d807016a66e23a": {
          "model_module": "@jupyter-widgets/controls",
          "model_name": "HBoxModel",
          "model_module_version": "1.5.0",
          "state": {
            "_dom_classes": [],
            "_model_module": "@jupyter-widgets/controls",
            "_model_module_version": "1.5.0",
            "_model_name": "HBoxModel",
            "_view_count": null,
            "_view_module": "@jupyter-widgets/controls",
            "_view_module_version": "1.5.0",
            "_view_name": "HBoxView",
            "box_style": "",
            "children": [
              "IPY_MODEL_5cf3de70c9284f23a1da155141046695",
              "IPY_MODEL_d1d93c6af65d4ba0aafa71ec99a69a47",
              "IPY_MODEL_e19e630bd61a473bb4b317f22957b928"
            ],
            "layout": "IPY_MODEL_27ba7a41334941dd805a0877c8308301"
          }
        },
        "5cf3de70c9284f23a1da155141046695": {
          "model_module": "@jupyter-widgets/controls",
          "model_name": "HTMLModel",
          "model_module_version": "1.5.0",
          "state": {
            "_dom_classes": [],
            "_model_module": "@jupyter-widgets/controls",
            "_model_module_version": "1.5.0",
            "_model_name": "HTMLModel",
            "_view_count": null,
            "_view_module": "@jupyter-widgets/controls",
            "_view_module_version": "1.5.0",
            "_view_name": "HTMLView",
            "description": "",
            "description_tooltip": null,
            "layout": "IPY_MODEL_14e56538a9cc47aca96d36018763a1c6",
            "placeholder": "​",
            "style": "IPY_MODEL_502df7546f88461794aa6012ad587057",
            "value": "Downloading (…)lve/main/config.json: 100%"
          }
        },
        "d1d93c6af65d4ba0aafa71ec99a69a47": {
          "model_module": "@jupyter-widgets/controls",
          "model_name": "FloatProgressModel",
          "model_module_version": "1.5.0",
          "state": {
            "_dom_classes": [],
            "_model_module": "@jupyter-widgets/controls",
            "_model_module_version": "1.5.0",
            "_model_name": "FloatProgressModel",
            "_view_count": null,
            "_view_module": "@jupyter-widgets/controls",
            "_view_module_version": "1.5.0",
            "_view_name": "ProgressView",
            "bar_style": "success",
            "description": "",
            "description_tooltip": null,
            "layout": "IPY_MODEL_3e2560d711fa4e49935a9e0100ab2695",
            "max": 69665,
            "min": 0,
            "orientation": "horizontal",
            "style": "IPY_MODEL_71e8611537704262afa50fc00b724450",
            "value": 69665
          }
        },
        "e19e630bd61a473bb4b317f22957b928": {
          "model_module": "@jupyter-widgets/controls",
          "model_name": "HTMLModel",
          "model_module_version": "1.5.0",
          "state": {
            "_dom_classes": [],
            "_model_module": "@jupyter-widgets/controls",
            "_model_module_version": "1.5.0",
            "_model_name": "HTMLModel",
            "_view_count": null,
            "_view_module": "@jupyter-widgets/controls",
            "_view_module_version": "1.5.0",
            "_view_name": "HTMLView",
            "description": "",
            "description_tooltip": null,
            "layout": "IPY_MODEL_bc2a94e66a28407c9cc247e42529210c",
            "placeholder": "​",
            "style": "IPY_MODEL_93e0c62f6e4d4a35bb13fd4f5ab81fea",
            "value": " 69.7k/69.7k [00:00&lt;00:00, 1.17MB/s]"
          }
        },
        "27ba7a41334941dd805a0877c8308301": {
          "model_module": "@jupyter-widgets/base",
          "model_name": "LayoutModel",
          "model_module_version": "1.2.0",
          "state": {
            "_model_module": "@jupyter-widgets/base",
            "_model_module_version": "1.2.0",
            "_model_name": "LayoutModel",
            "_view_count": null,
            "_view_module": "@jupyter-widgets/base",
            "_view_module_version": "1.2.0",
            "_view_name": "LayoutView",
            "align_content": null,
            "align_items": null,
            "align_self": null,
            "border": null,
            "bottom": null,
            "display": null,
            "flex": null,
            "flex_flow": null,
            "grid_area": null,
            "grid_auto_columns": null,
            "grid_auto_flow": null,
            "grid_auto_rows": null,
            "grid_column": null,
            "grid_gap": null,
            "grid_row": null,
            "grid_template_areas": null,
            "grid_template_columns": null,
            "grid_template_rows": null,
            "height": null,
            "justify_content": null,
            "justify_items": null,
            "left": null,
            "margin": null,
            "max_height": null,
            "max_width": null,
            "min_height": null,
            "min_width": null,
            "object_fit": null,
            "object_position": null,
            "order": null,
            "overflow": null,
            "overflow_x": null,
            "overflow_y": null,
            "padding": null,
            "right": null,
            "top": null,
            "visibility": null,
            "width": null
          }
        },
        "14e56538a9cc47aca96d36018763a1c6": {
          "model_module": "@jupyter-widgets/base",
          "model_name": "LayoutModel",
          "model_module_version": "1.2.0",
          "state": {
            "_model_module": "@jupyter-widgets/base",
            "_model_module_version": "1.2.0",
            "_model_name": "LayoutModel",
            "_view_count": null,
            "_view_module": "@jupyter-widgets/base",
            "_view_module_version": "1.2.0",
            "_view_name": "LayoutView",
            "align_content": null,
            "align_items": null,
            "align_self": null,
            "border": null,
            "bottom": null,
            "display": null,
            "flex": null,
            "flex_flow": null,
            "grid_area": null,
            "grid_auto_columns": null,
            "grid_auto_flow": null,
            "grid_auto_rows": null,
            "grid_column": null,
            "grid_gap": null,
            "grid_row": null,
            "grid_template_areas": null,
            "grid_template_columns": null,
            "grid_template_rows": null,
            "height": null,
            "justify_content": null,
            "justify_items": null,
            "left": null,
            "margin": null,
            "max_height": null,
            "max_width": null,
            "min_height": null,
            "min_width": null,
            "object_fit": null,
            "object_position": null,
            "order": null,
            "overflow": null,
            "overflow_x": null,
            "overflow_y": null,
            "padding": null,
            "right": null,
            "top": null,
            "visibility": null,
            "width": null
          }
        },
        "502df7546f88461794aa6012ad587057": {
          "model_module": "@jupyter-widgets/controls",
          "model_name": "DescriptionStyleModel",
          "model_module_version": "1.5.0",
          "state": {
            "_model_module": "@jupyter-widgets/controls",
            "_model_module_version": "1.5.0",
            "_model_name": "DescriptionStyleModel",
            "_view_count": null,
            "_view_module": "@jupyter-widgets/base",
            "_view_module_version": "1.2.0",
            "_view_name": "StyleView",
            "description_width": ""
          }
        },
        "3e2560d711fa4e49935a9e0100ab2695": {
          "model_module": "@jupyter-widgets/base",
          "model_name": "LayoutModel",
          "model_module_version": "1.2.0",
          "state": {
            "_model_module": "@jupyter-widgets/base",
            "_model_module_version": "1.2.0",
            "_model_name": "LayoutModel",
            "_view_count": null,
            "_view_module": "@jupyter-widgets/base",
            "_view_module_version": "1.2.0",
            "_view_name": "LayoutView",
            "align_content": null,
            "align_items": null,
            "align_self": null,
            "border": null,
            "bottom": null,
            "display": null,
            "flex": null,
            "flex_flow": null,
            "grid_area": null,
            "grid_auto_columns": null,
            "grid_auto_flow": null,
            "grid_auto_rows": null,
            "grid_column": null,
            "grid_gap": null,
            "grid_row": null,
            "grid_template_areas": null,
            "grid_template_columns": null,
            "grid_template_rows": null,
            "height": null,
            "justify_content": null,
            "justify_items": null,
            "left": null,
            "margin": null,
            "max_height": null,
            "max_width": null,
            "min_height": null,
            "min_width": null,
            "object_fit": null,
            "object_position": null,
            "order": null,
            "overflow": null,
            "overflow_x": null,
            "overflow_y": null,
            "padding": null,
            "right": null,
            "top": null,
            "visibility": null,
            "width": null
          }
        },
        "71e8611537704262afa50fc00b724450": {
          "model_module": "@jupyter-widgets/controls",
          "model_name": "ProgressStyleModel",
          "model_module_version": "1.5.0",
          "state": {
            "_model_module": "@jupyter-widgets/controls",
            "_model_module_version": "1.5.0",
            "_model_name": "ProgressStyleModel",
            "_view_count": null,
            "_view_module": "@jupyter-widgets/base",
            "_view_module_version": "1.2.0",
            "_view_name": "StyleView",
            "bar_color": null,
            "description_width": ""
          }
        },
        "bc2a94e66a28407c9cc247e42529210c": {
          "model_module": "@jupyter-widgets/base",
          "model_name": "LayoutModel",
          "model_module_version": "1.2.0",
          "state": {
            "_model_module": "@jupyter-widgets/base",
            "_model_module_version": "1.2.0",
            "_model_name": "LayoutModel",
            "_view_count": null,
            "_view_module": "@jupyter-widgets/base",
            "_view_module_version": "1.2.0",
            "_view_name": "LayoutView",
            "align_content": null,
            "align_items": null,
            "align_self": null,
            "border": null,
            "bottom": null,
            "display": null,
            "flex": null,
            "flex_flow": null,
            "grid_area": null,
            "grid_auto_columns": null,
            "grid_auto_flow": null,
            "grid_auto_rows": null,
            "grid_column": null,
            "grid_gap": null,
            "grid_row": null,
            "grid_template_areas": null,
            "grid_template_columns": null,
            "grid_template_rows": null,
            "height": null,
            "justify_content": null,
            "justify_items": null,
            "left": null,
            "margin": null,
            "max_height": null,
            "max_width": null,
            "min_height": null,
            "min_width": null,
            "object_fit": null,
            "object_position": null,
            "order": null,
            "overflow": null,
            "overflow_x": null,
            "overflow_y": null,
            "padding": null,
            "right": null,
            "top": null,
            "visibility": null,
            "width": null
          }
        },
        "93e0c62f6e4d4a35bb13fd4f5ab81fea": {
          "model_module": "@jupyter-widgets/controls",
          "model_name": "DescriptionStyleModel",
          "model_module_version": "1.5.0",
          "state": {
            "_model_module": "@jupyter-widgets/controls",
            "_model_module_version": "1.5.0",
            "_model_name": "DescriptionStyleModel",
            "_view_count": null,
            "_view_module": "@jupyter-widgets/base",
            "_view_module_version": "1.2.0",
            "_view_name": "StyleView",
            "description_width": ""
          }
        },
        "54b2ff74f93e47818d6cf01164d2b04e": {
          "model_module": "@jupyter-widgets/controls",
          "model_name": "HBoxModel",
          "model_module_version": "1.5.0",
          "state": {
            "_dom_classes": [],
            "_model_module": "@jupyter-widgets/controls",
            "_model_module_version": "1.5.0",
            "_model_name": "HBoxModel",
            "_view_count": null,
            "_view_module": "@jupyter-widgets/controls",
            "_view_module_version": "1.5.0",
            "_view_name": "HBoxView",
            "box_style": "",
            "children": [
              "IPY_MODEL_35127db498bf4345b4645b532748db97",
              "IPY_MODEL_47e60dbe32434e8ca5e37fd413486e89",
              "IPY_MODEL_302fbf76d8f34a75b40f9fc41954bc16"
            ],
            "layout": "IPY_MODEL_a5b5e97aa6cd4d90982473e68be5e9a8"
          }
        },
        "35127db498bf4345b4645b532748db97": {
          "model_module": "@jupyter-widgets/controls",
          "model_name": "HTMLModel",
          "model_module_version": "1.5.0",
          "state": {
            "_dom_classes": [],
            "_model_module": "@jupyter-widgets/controls",
            "_model_module_version": "1.5.0",
            "_model_name": "HTMLModel",
            "_view_count": null,
            "_view_module": "@jupyter-widgets/controls",
            "_view_module_version": "1.5.0",
            "_view_name": "HTMLView",
            "description": "",
            "description_tooltip": null,
            "layout": "IPY_MODEL_84cdb1d0604e4a0cbc5fe5deafce1852",
            "placeholder": "​",
            "style": "IPY_MODEL_9951e148a2764fb59a5ae3e2d6854e4b",
            "value": "Downloading pytorch_model.bin: 100%"
          }
        },
        "47e60dbe32434e8ca5e37fd413486e89": {
          "model_module": "@jupyter-widgets/controls",
          "model_name": "FloatProgressModel",
          "model_module_version": "1.5.0",
          "state": {
            "_dom_classes": [],
            "_model_module": "@jupyter-widgets/controls",
            "_model_module_version": "1.5.0",
            "_model_name": "FloatProgressModel",
            "_view_count": null,
            "_view_module": "@jupyter-widgets/controls",
            "_view_module_version": "1.5.0",
            "_view_name": "ProgressView",
            "bar_style": "success",
            "description": "",
            "description_tooltip": null,
            "layout": "IPY_MODEL_c2b8e2b6f5f348cc9445abb6f130e6ee",
            "max": 346351599,
            "min": 0,
            "orientation": "horizontal",
            "style": "IPY_MODEL_c44e3a2cf9b44971a4d8f72d8ed3d8e9",
            "value": 346351599
          }
        },
        "302fbf76d8f34a75b40f9fc41954bc16": {
          "model_module": "@jupyter-widgets/controls",
          "model_name": "HTMLModel",
          "model_module_version": "1.5.0",
          "state": {
            "_dom_classes": [],
            "_model_module": "@jupyter-widgets/controls",
            "_model_module_version": "1.5.0",
            "_model_name": "HTMLModel",
            "_view_count": null,
            "_view_module": "@jupyter-widgets/controls",
            "_view_module_version": "1.5.0",
            "_view_name": "HTMLView",
            "description": "",
            "description_tooltip": null,
            "layout": "IPY_MODEL_4e66f021b9a64c3ab3bbee41c960e258",
            "placeholder": "​",
            "style": "IPY_MODEL_7f52cac785a640759f8f429bb369e094",
            "value": " 346M/346M [00:03&lt;00:00, 98.0MB/s]"
          }
        },
        "a5b5e97aa6cd4d90982473e68be5e9a8": {
          "model_module": "@jupyter-widgets/base",
          "model_name": "LayoutModel",
          "model_module_version": "1.2.0",
          "state": {
            "_model_module": "@jupyter-widgets/base",
            "_model_module_version": "1.2.0",
            "_model_name": "LayoutModel",
            "_view_count": null,
            "_view_module": "@jupyter-widgets/base",
            "_view_module_version": "1.2.0",
            "_view_name": "LayoutView",
            "align_content": null,
            "align_items": null,
            "align_self": null,
            "border": null,
            "bottom": null,
            "display": null,
            "flex": null,
            "flex_flow": null,
            "grid_area": null,
            "grid_auto_columns": null,
            "grid_auto_flow": null,
            "grid_auto_rows": null,
            "grid_column": null,
            "grid_gap": null,
            "grid_row": null,
            "grid_template_areas": null,
            "grid_template_columns": null,
            "grid_template_rows": null,
            "height": null,
            "justify_content": null,
            "justify_items": null,
            "left": null,
            "margin": null,
            "max_height": null,
            "max_width": null,
            "min_height": null,
            "min_width": null,
            "object_fit": null,
            "object_position": null,
            "order": null,
            "overflow": null,
            "overflow_x": null,
            "overflow_y": null,
            "padding": null,
            "right": null,
            "top": null,
            "visibility": null,
            "width": null
          }
        },
        "84cdb1d0604e4a0cbc5fe5deafce1852": {
          "model_module": "@jupyter-widgets/base",
          "model_name": "LayoutModel",
          "model_module_version": "1.2.0",
          "state": {
            "_model_module": "@jupyter-widgets/base",
            "_model_module_version": "1.2.0",
            "_model_name": "LayoutModel",
            "_view_count": null,
            "_view_module": "@jupyter-widgets/base",
            "_view_module_version": "1.2.0",
            "_view_name": "LayoutView",
            "align_content": null,
            "align_items": null,
            "align_self": null,
            "border": null,
            "bottom": null,
            "display": null,
            "flex": null,
            "flex_flow": null,
            "grid_area": null,
            "grid_auto_columns": null,
            "grid_auto_flow": null,
            "grid_auto_rows": null,
            "grid_column": null,
            "grid_gap": null,
            "grid_row": null,
            "grid_template_areas": null,
            "grid_template_columns": null,
            "grid_template_rows": null,
            "height": null,
            "justify_content": null,
            "justify_items": null,
            "left": null,
            "margin": null,
            "max_height": null,
            "max_width": null,
            "min_height": null,
            "min_width": null,
            "object_fit": null,
            "object_position": null,
            "order": null,
            "overflow": null,
            "overflow_x": null,
            "overflow_y": null,
            "padding": null,
            "right": null,
            "top": null,
            "visibility": null,
            "width": null
          }
        },
        "9951e148a2764fb59a5ae3e2d6854e4b": {
          "model_module": "@jupyter-widgets/controls",
          "model_name": "DescriptionStyleModel",
          "model_module_version": "1.5.0",
          "state": {
            "_model_module": "@jupyter-widgets/controls",
            "_model_module_version": "1.5.0",
            "_model_name": "DescriptionStyleModel",
            "_view_count": null,
            "_view_module": "@jupyter-widgets/base",
            "_view_module_version": "1.2.0",
            "_view_name": "StyleView",
            "description_width": ""
          }
        },
        "c2b8e2b6f5f348cc9445abb6f130e6ee": {
          "model_module": "@jupyter-widgets/base",
          "model_name": "LayoutModel",
          "model_module_version": "1.2.0",
          "state": {
            "_model_module": "@jupyter-widgets/base",
            "_model_module_version": "1.2.0",
            "_model_name": "LayoutModel",
            "_view_count": null,
            "_view_module": "@jupyter-widgets/base",
            "_view_module_version": "1.2.0",
            "_view_name": "LayoutView",
            "align_content": null,
            "align_items": null,
            "align_self": null,
            "border": null,
            "bottom": null,
            "display": null,
            "flex": null,
            "flex_flow": null,
            "grid_area": null,
            "grid_auto_columns": null,
            "grid_auto_flow": null,
            "grid_auto_rows": null,
            "grid_column": null,
            "grid_gap": null,
            "grid_row": null,
            "grid_template_areas": null,
            "grid_template_columns": null,
            "grid_template_rows": null,
            "height": null,
            "justify_content": null,
            "justify_items": null,
            "left": null,
            "margin": null,
            "max_height": null,
            "max_width": null,
            "min_height": null,
            "min_width": null,
            "object_fit": null,
            "object_position": null,
            "order": null,
            "overflow": null,
            "overflow_x": null,
            "overflow_y": null,
            "padding": null,
            "right": null,
            "top": null,
            "visibility": null,
            "width": null
          }
        },
        "c44e3a2cf9b44971a4d8f72d8ed3d8e9": {
          "model_module": "@jupyter-widgets/controls",
          "model_name": "ProgressStyleModel",
          "model_module_version": "1.5.0",
          "state": {
            "_model_module": "@jupyter-widgets/controls",
            "_model_module_version": "1.5.0",
            "_model_name": "ProgressStyleModel",
            "_view_count": null,
            "_view_module": "@jupyter-widgets/base",
            "_view_module_version": "1.2.0",
            "_view_name": "StyleView",
            "bar_color": null,
            "description_width": ""
          }
        },
        "4e66f021b9a64c3ab3bbee41c960e258": {
          "model_module": "@jupyter-widgets/base",
          "model_name": "LayoutModel",
          "model_module_version": "1.2.0",
          "state": {
            "_model_module": "@jupyter-widgets/base",
            "_model_module_version": "1.2.0",
            "_model_name": "LayoutModel",
            "_view_count": null,
            "_view_module": "@jupyter-widgets/base",
            "_view_module_version": "1.2.0",
            "_view_name": "LayoutView",
            "align_content": null,
            "align_items": null,
            "align_self": null,
            "border": null,
            "bottom": null,
            "display": null,
            "flex": null,
            "flex_flow": null,
            "grid_area": null,
            "grid_auto_columns": null,
            "grid_auto_flow": null,
            "grid_auto_rows": null,
            "grid_column": null,
            "grid_gap": null,
            "grid_row": null,
            "grid_template_areas": null,
            "grid_template_columns": null,
            "grid_template_rows": null,
            "height": null,
            "justify_content": null,
            "justify_items": null,
            "left": null,
            "margin": null,
            "max_height": null,
            "max_width": null,
            "min_height": null,
            "min_width": null,
            "object_fit": null,
            "object_position": null,
            "order": null,
            "overflow": null,
            "overflow_x": null,
            "overflow_y": null,
            "padding": null,
            "right": null,
            "top": null,
            "visibility": null,
            "width": null
          }
        },
        "7f52cac785a640759f8f429bb369e094": {
          "model_module": "@jupyter-widgets/controls",
          "model_name": "DescriptionStyleModel",
          "model_module_version": "1.5.0",
          "state": {
            "_model_module": "@jupyter-widgets/controls",
            "_model_module_version": "1.5.0",
            "_model_name": "DescriptionStyleModel",
            "_view_count": null,
            "_view_module": "@jupyter-widgets/base",
            "_view_module_version": "1.2.0",
            "_view_name": "StyleView",
            "description_width": ""
          }
        }
      }
    }
  },
  "cells": [
    {
      "cell_type": "markdown",
      "source": [
        "# Version 1.2\n",
        "Contact: น้องซี"
      ],
      "metadata": {
        "id": "twiat-G5cehl"
      }
    },
    {
      "cell_type": "markdown",
      "source": [
        "# Installing Requirements + Setup\n",
        "Goal of this Hackathon: **Classify digits (0-9) from a diverse dataset of handwritten, printed, and billboard text**"
      ],
      "metadata": {
        "collapsed": false,
        "id": "JcS94gid5ByM"
      }
    },
    {
      "cell_type": "code",
      "execution_count": 1,
      "metadata": {
        "id": "9xR1Jlh9zUQ0",
        "colab": {
          "base_uri": "https://localhost:8080/"
        },
        "outputId": "4bfec4cb-1346-4347-c0e4-6884ae4da3c5"
      },
      "outputs": [
        {
          "output_type": "stream",
          "name": "stdout",
          "text": [
            "\u001b[2K     \u001b[90m━━━━━━━━━━━━━━━━━━━━━━━━━━━━━━━━━━━━━━━\u001b[0m \u001b[32m469.0/469.0 KB\u001b[0m \u001b[31m8.9 MB/s\u001b[0m eta \u001b[36m0:00:00\u001b[0m\n",
            "\u001b[2K     \u001b[90m━━━━━━━━━━━━━━━━━━━━━━━━━━━━━━━━━━━━━━━━\u001b[0m \u001b[32m6.3/6.3 MB\u001b[0m \u001b[31m71.1 MB/s\u001b[0m eta \u001b[36m0:00:00\u001b[0m\n",
            "\u001b[2K     \u001b[90m━━━━━━━━━━━━━━━━━━━━━━━━━━━━━━━━━━━━━━\u001b[0m \u001b[32m199.2/199.2 KB\u001b[0m \u001b[31m16.0 MB/s\u001b[0m eta \u001b[36m0:00:00\u001b[0m\n",
            "\u001b[2K     \u001b[90m━━━━━━━━━━━━━━━━━━━━━━━━━━━━━━━━━━━━━━\u001b[0m \u001b[32m212.2/212.2 KB\u001b[0m \u001b[31m14.2 MB/s\u001b[0m eta \u001b[36m0:00:00\u001b[0m\n",
            "\u001b[2K     \u001b[90m━━━━━━━━━━━━━━━━━━━━━━━━━━━━━━━━━━━━━━━━\u001b[0m \u001b[32m1.0/1.0 MB\u001b[0m \u001b[31m35.3 MB/s\u001b[0m eta \u001b[36m0:00:00\u001b[0m\n",
            "\u001b[2K     \u001b[90m━━━━━━━━━━━━━━━━━━━━━━━━━━━━━━━━━━━━━━━\u001b[0m \u001b[32m110.5/110.5 KB\u001b[0m \u001b[31m9.6 MB/s\u001b[0m eta \u001b[36m0:00:00\u001b[0m\n",
            "\u001b[2K     \u001b[90m━━━━━━━━━━━━━━━━━━━━━━━━━━━━━━━━━━━━━━\u001b[0m \u001b[32m132.9/132.9 KB\u001b[0m \u001b[31m10.2 MB/s\u001b[0m eta \u001b[36m0:00:00\u001b[0m\n",
            "\u001b[2K     \u001b[90m━━━━━━━━━━━━━━━━━━━━━━━━━━━━━━━━━━━━━━━━\u001b[0m \u001b[32m7.6/7.6 MB\u001b[0m \u001b[31m90.8 MB/s\u001b[0m eta \u001b[36m0:00:00\u001b[0m\n",
            "\u001b[2K     \u001b[90m━━━━━━━━━━━━━━━━━━━━━━━━━━━━━━━━━━━━━━\u001b[0m \u001b[32m199.2/199.2 KB\u001b[0m \u001b[31m14.4 MB/s\u001b[0m eta \u001b[36m0:00:00\u001b[0m\n",
            "\u001b[2K     \u001b[90m━━━━━━━━━━━━━━━━━━━━━━━━━━━━━━━━━━━━━\u001b[0m \u001b[32m114.2/114.2 KB\u001b[0m \u001b[31m987.8 kB/s\u001b[0m eta \u001b[36m0:00:00\u001b[0m\n",
            "\u001b[2K     \u001b[90m━━━━━━━━━━━━━━━━━━━━━━━━━━━━━━━━━━━━━━\u001b[0m \u001b[32m264.6/264.6 KB\u001b[0m \u001b[31m14.6 MB/s\u001b[0m eta \u001b[36m0:00:00\u001b[0m\n",
            "\u001b[2K     \u001b[90m━━━━━━━━━━━━━━━━━━━━━━━━━━━━━━━━━━━━━━━\u001b[0m \u001b[32m158.8/158.8 KB\u001b[0m \u001b[31m7.5 MB/s\u001b[0m eta \u001b[36m0:00:00\u001b[0m\n",
            "\u001b[?25hReading package lists...\n",
            "Building dependency tree...\n",
            "Reading state information...\n",
            "The following NEW packages will be installed:\n",
            "  zstd\n",
            "0 upgraded, 1 newly installed, 0 to remove and 22 not upgraded.\n",
            "Need to get 343 kB of archives.\n",
            "After this operation, 1,592 kB of additional disk space will be used.\n",
            "Get:1 http://archive.ubuntu.com/ubuntu focal-updates/universe amd64 zstd amd64 1.4.4+dfsg-3ubuntu0.1 [343 kB]\n",
            "Fetched 343 kB in 0s (870 kB/s)\n",
            "debconf: unable to initialize frontend: Dialog\n",
            "debconf: (No usable dialog-like program is installed, so the dialog based frontend cannot be used. at /usr/share/perl5/Debconf/FrontEnd/Dialog.pm line 76, <> line 1.)\n",
            "debconf: falling back to frontend: Readline\n",
            "debconf: unable to initialize frontend: Readline\n",
            "debconf: (This frontend requires a controlling tty.)\n",
            "debconf: falling back to frontend: Teletype\n",
            "dpkg-preconfigure: unable to re-open stdin: \n",
            "Selecting previously unselected package zstd.\n",
            "(Reading database ... 128275 files and directories currently installed.)\n",
            "Preparing to unpack .../zstd_1.4.4+dfsg-3ubuntu0.1_amd64.deb ...\n",
            "Unpacking zstd (1.4.4+dfsg-3ubuntu0.1) ...\n",
            "Setting up zstd (1.4.4+dfsg-3ubuntu0.1) ...\n",
            "Processing triggers for man-db (2.9.1-1) ...\n"
          ]
        }
      ],
      "source": [
        "!pip install datasets transformers torch albumentations -q\n",
        "!sudo apt install zstd -q"
      ]
    },
    {
      "cell_type": "code",
      "source": [
        "from google.colab import drive\n",
        "drive.mount('/content/drive')"
      ],
      "metadata": {
        "colab": {
          "base_uri": "https://localhost:8080/"
        },
        "id": "OfZC1Ah7WX29",
        "outputId": "a11ebb32-57ff-4422-fe47-c42b3af411bc"
      },
      "execution_count": 2,
      "outputs": [
        {
          "output_type": "stream",
          "name": "stdout",
          "text": [
            "Mounted at /content/drive\n"
          ]
        }
      ]
    },
    {
      "cell_type": "markdown",
      "source": [
        "# Dataset\n",
        "https://drive.google.com/drive/folders/1s51ff8PCpqPkum9bgGQPcHV6So2vlDOx?usp=share_link"
      ],
      "metadata": {
        "id": "bc9wVhLXr-Y2"
      }
    },
    {
      "cell_type": "code",
      "source": [
        "# !cp -r /content/drive/MyDrive/Signal/image_heatmap ./\n",
        "!cp -r /content/drive/MyDrive/SuperAI/Signal/image_Research ./"
      ],
      "metadata": {
        "id": "NXNsca5Q77g6"
      },
      "execution_count": 4,
      "outputs": []
    },
    {
      "cell_type": "code",
      "source": [
        "!pip install pillow==9.2.0 "
      ],
      "metadata": {
        "colab": {
          "base_uri": "https://localhost:8080/",
          "height": 277
        },
        "id": "TWvbtt-68Zg9",
        "outputId": "3fd573fe-3593-4f8d-f2ee-30cf01dc62ef"
      },
      "execution_count": 4,
      "outputs": [
        {
          "output_type": "stream",
          "name": "stdout",
          "text": [
            "Looking in indexes: https://pypi.org/simple, https://us-python.pkg.dev/colab-wheels/public/simple/\n",
            "Collecting pillow==9.2.0\n",
            "  Downloading Pillow-9.2.0-cp39-cp39-manylinux_2_28_x86_64.whl (3.2 MB)\n",
            "\u001b[2K     \u001b[90m━━━━━━━━━━━━━━━━━━━━━━━━━━━━━━━━━━━━━━━━\u001b[0m \u001b[32m3.2/3.2 MB\u001b[0m \u001b[31m33.6 MB/s\u001b[0m eta \u001b[36m0:00:00\u001b[0m\n",
            "\u001b[?25hInstalling collected packages: pillow\n",
            "  Attempting uninstall: pillow\n",
            "    Found existing installation: Pillow 8.4.0\n",
            "    Uninstalling Pillow-8.4.0:\n",
            "      Successfully uninstalled Pillow-8.4.0\n",
            "Successfully installed pillow-9.2.0\n"
          ]
        },
        {
          "output_type": "display_data",
          "data": {
            "application/vnd.colab-display-data+json": {
              "pip_warning": {
                "packages": [
                  "PIL"
                ]
              }
            }
          },
          "metadata": {}
        }
      ]
    },
    {
      "cell_type": "code",
      "source": [
        "from huggingface_hub import notebook_login\n",
        "notebook_login()"
      ],
      "metadata": {
        "colab": {
          "base_uri": "https://localhost:8080/",
          "height": 359,
          "referenced_widgets": [
            "f77375f3b1f54e908d522fd13297aeb1",
            "988685b4a2674b518656841e3d08124e",
            "de95dbc2493341efacf46914839e95c8",
            "ebe0d2cfdc5d4405ac0f93b67ea69105",
            "d05f38b2538b4421bd19a624c0c1a6b0",
            "e7c4f0f2bc9f485ba1b9a837abb30488",
            "daee8151945d436aa72d1abf2ba956eb",
            "82bc0e5d05dc459d9c8d45e96d90286f",
            "9f0a9f154ce34ac78723e6a937813304",
            "33e8862ebffb41ba8f263b5525f8da0f",
            "6c95d7ad383a4bfd85804cb8c4632d86",
            "79214f0fddcd45049fd492a7cc7309aa",
            "96b6c6c0083d48cdab357eaed1dcb81d",
            "ef0bd2948a514a6f9cdf3a69775d3009",
            "aae99071a26a457380fcfbe7177fae74",
            "dea9946180204e03bc0c565d88389993",
            "5e777bfe1c4640a7b63443f370a7992c"
          ]
        },
        "id": "A4olG1uYdhmb",
        "outputId": "ca0bf214-ffcb-49bb-c79e-d89eb5c3cc67"
      },
      "execution_count": null,
      "outputs": [
        {
          "output_type": "stream",
          "name": "stdout",
          "text": [
            "Token is valid.\n",
            "Your token has been saved in your configured git credential helpers (store).\n",
            "Your token has been saved to /root/.cache/huggingface/token\n",
            "Login successful\n"
          ]
        }
      ]
    },
    {
      "cell_type": "markdown",
      "source": [
        "# Preprocessing Dataset + Augmentation\n"
      ],
      "metadata": {
        "collapsed": false,
        "id": "T89ES0oB5ByR"
      }
    },
    {
      "cell_type": "code",
      "execution_count": 5,
      "outputs": [
        {
          "output_type": "display_data",
          "data": {
            "text/plain": [
              "<PIL.Image.Image image mode=RGB size=224x224>"
            ],
            "image/png": "[encoded data removed]"
          },
          "metadata": {}
        },
        {
          "output_type": "display_data",
          "data": {
            "text/plain": [
              "<PIL.Image.Image image mode=RGB size=224x224>"
            ],
            "image/png": "[encoded data removed]"
          },
          "metadata": {}
        },
        {
          "output_type": "display_data",
          "data": {
            "text/plain": [
              "<PIL.Image.Image image mode=RGB size=224x224>"
            ],
            "image/png": "[encoded data removed]"
          },
          "metadata": {}
        },
        {
          "output_type": "display_data",
          "data": {
            "text/plain": [
              "<PIL.Image.Image image mode=RGB size=224x224>"
            ],
            "image/png": "[encoded data removed]"
          },
          "metadata": {}
        },
        {
          "output_type": "display_data",
          "data": {
            "text/plain": [
              "<PIL.Image.Image image mode=RGB size=224x224>"
            ],
            "image/png": "[encoded data removed]"
          },
          "metadata": {}
        },
        {
          "output_type": "display_data",
          "data": {
            "text/plain": [
              "<PIL.Image.Image image mode=RGB size=224x224>"
            ],
            "image/png": "[encoded data removed]"
          },
          "metadata": {}
        },
        {
          "output_type": "display_data",
          "data": {
            "text/plain": [
              "<PIL.Image.Image image mode=RGB size=224x224>"
            ],
            "image/png": "[encoded data removed]"
          },
          "metadata": {}
        },
        {
          "output_type": "display_data",
          "data": {
            "text/plain": [
              "<PIL.Image.Image image mode=RGB size=224x224>"
            ],
            "image/png": "[encoded data removed]"
          },
          "metadata": {}
        },
        {
          "output_type": "display_data",
          "data": {
            "text/plain": [
              "<PIL.Image.Image image mode=RGB size=224x224>"
            ],
            "image/png": "[encoded data removed]"
          },
          "metadata": {}
        },
        {
          "output_type": "display_data",
          "data": {
            "text/plain": [
              "<PIL.Image.Image image mode=RGB size=224x224>"
            ],
            "image/png": "[encoded data removed]"
          },
          "metadata": {}
        },
        {
          "output_type": "display_data",
          "data": {
            "text/plain": [
              "<PIL.Image.Image image mode=RGB size=224x224>"
            ],
            "image/png": "[encoded data removed]"
          },
          "metadata": {}
        },
        {
          "output_type": "display_data",
          "data": {
            "text/plain": [
              "<PIL.Image.Image image mode=RGB size=224x224>"
            ],
            "image/png": "[encoded data removed]"
          },
          "metadata": {}
        },
        {
          "output_type": "display_data",
          "data": {
            "text/plain": [
              "<PIL.Image.Image image mode=RGB size=224x224>"
            ],
            "image/png": "[encoded data removed]"
          },
          "metadata": {}
        },
        {
          "output_type": "display_data",
          "data": {
            "text/plain": [
              "<PIL.Image.Image image mode=RGB size=224x224>"
            ],
            "image/png": "[encoded data removed]"
          },
          "metadata": {}
        },
        {
          "output_type": "display_data",
          "data": {
            "text/plain": [
              "<PIL.Image.Image image mode=RGB size=224x224>"
            ],
            "image/png": "[encoded data removed]"
          },
          "metadata": {}
        },
        {
          "output_type": "display_data",
          "data": {
            "text/plain": [
              "<PIL.Image.Image image mode=RGB size=224x224>"
            ],
            "image/png": "[encoded data removed]"
          },
          "metadata": {}
        },
        {
          "output_type": "display_data",
          "data": {
            "text/plain": [
              "<PIL.Image.Image image mode=RGB size=224x224>"
            ],
            "image/png": "[encoded data removed]"
          },
          "metadata": {}
        },
        {
          "output_type": "display_data",
          "data": {
            "text/plain": [
              "<PIL.Image.Image image mode=RGB size=224x224>"
            ],
            "image/png": "[encoded data removed]"
          },
          "metadata": {}
        },
        {
          "output_type": "display_data",
          "data": {
            "text/plain": [
              "<PIL.Image.Image image mode=RGB size=224x224>"
            ],
            "image/png": "[encoded data removed]"
          },
          "metadata": {}
        },
        {
          "output_type": "display_data",
          "data": {
            "text/plain": [
              "<PIL.Image.Image image mode=RGB size=224x224>"
            ],
            "image/png": "[encoded data removed]"
          },
          "metadata": {}
        }
      ],
      "source": [
        "import glob\n",
        "import random\n",
        "from PIL import Image, ImageOps\n",
        "import albumentations as A\n",
        "import numpy as np\n",
        "\n",
        "import numpy as np\n",
        "import pandas as pd\n",
        "from pathlib import Path\n",
        "from sklearn.feature_selection import SelectKBest, chi2\n",
        "from sklearn.decomposition import PCA\n",
        "from sklearn.ensemble import RandomForestClassifier\n",
        "from sklearn.model_selection import train_test_split\n",
        "from scipy import signal\n",
        "import matplotlib.pyplot as plt\n",
        "from scipy.ndimage import gaussian_filter\n",
        "\n",
        "files = glob.glob(\"/content/image_Research/**/*.png\", recursive=True)\n",
        "\n",
        "augment = A.Compose([\n",
        "    A.HorizontalFlip(p=0.5),\n",
        "    A.RGBShift(p=0.3),\n",
        "    A.ColorJitter(p=0.25)\n",
        "])\n",
        "\n",
        "size = 224\n",
        "\n",
        "fs = 100\n",
        "lowcut = 20\n",
        "highcut = 30\n",
        "\n",
        "\n",
        "for _ in range(20):\n",
        "    # Test Transformations\n",
        "    choice = random.choice(files)\n",
        "    img = Image.open(choice)\n",
        "    img = ImageOps.contain(img, (size, size), Image.Resampling.LANCZOS).convert(\"RGB\")\n",
        "    img = ImageOps.autocontrast(img)\n",
        "    img = Image.fromarray(augment(image=np.array(img))[\"image\"])\n",
        "    img = ImageOps.pad(img, (size, size), centering=(0,0))\n",
        "    \n",
        "    # b, a = signal.butter(2, [lowcut / (0.5* fs), highcut / (0.5*fs)], 'band')\n",
        "    # img = np.abs(signal.filtfilt(b, a, img))\n",
        "\n",
        "    # img = np.abs(img)\n",
        "    # img = np.transpose(img)\n",
        "\n",
        "    # img = ImageOps.grayscale(img)\n",
        "\n",
        "    # img = ImageOps.autocontrast(img)\n",
        "    display(img)\n",
        "    # plt.imshow(img, aspect=\"auto\")\n",
        "    # plt.show()\n"
      ],
      "metadata": {
        "id": "vlSxGpQ55ByR",
        "colab": {
          "base_uri": "https://localhost:8080/",
          "height": 1000
        },
        "outputId": "9eb2c568-f773-436e-ba87-945fc82b7aa8"
      }
    },
    {
      "cell_type": "markdown",
      "source": [
        "# Loading Processed Dataset"
      ],
      "metadata": {
        "collapsed": false,
        "id": "_hm9T-905ByS"
      }
    },
    {
      "cell_type": "code",
      "source": [
        "from datasets import load_dataset\n",
        "dataset = load_dataset(\"imagefolder\", data_dir=\"./image_Research/train\")"
      ],
      "metadata": {
        "colab": {
          "base_uri": "https://localhost:8080/",
          "height": 264,
          "referenced_widgets": [
            "1464b73dad3c4553b436b67802941a44",
            "f2a728a28c8a403ca3ca2ff7afd9293f",
            "edc067e210d9423eb61a8c9424f403a3",
            "8063ec773b1f4835a3c3113f3fb5ff47",
            "1263baa1dc184caf825776807f831fc0",
            "aab9fe8d56a4419f869ef239a4544d0d",
            "f88892d3f7d246deb2405f00d0bf57ae",
            "252f99c4de0e451b9b8a11729c4e3753",
            "bfa310fd84764be19585cf49e8a9d2df",
            "b2daaa5c5c06466ea1507c4fe56afcce",
            "5fb9cbcc4528451dadc963fd26766700",
            "7f6366e442444906ab6fb2b557dbb928",
            "115b03bfafba48a0b435ddb4fe27f402",
            "1c598240e0364d1791c08f4667f33f3c",
            "2c5d44a2d3744ac588a6f296d83011be",
            "1ef0d05b4af4469d8d6a45c780c364c4",
            "ac1b8c3fefdc43538eb0e1439f72d2d3",
            "e23e8dd304524312aafdeabedcdef34f",
            "b2a2b1cb22274486b2ea31a9ef8f0e7a",
            "5873bc69ca0547ea97e845ce5aa258a1",
            "430e7c60b46a4b13a7f84b33c2b800be",
            "7c131888c1ab420483e499200547637c",
            "496fbfeb4c7d4056b60b55b70e4f56b9",
            "91a2a7c723774ec0bfa97c02ca9ae6ae",
            "ae4cafee34be454789374c625b7fd464",
            "0858358178e14c22a858cd7419a79252",
            "efd04d7c591543fc90180b74aa6af519",
            "685ed9e51b5c4d5587314f77e24f98a9",
            "ba8c8fc5e0ab4bad83c16a87bc1d6e1a",
            "54d1ef9d8125436b80be9d0892134bc4",
            "5c106ddae6304beaac3e4f8c053f4b31",
            "85a0775d7a654dd1bd46689066b2fd40",
            "52d05d8e74b9450fb15fb6978ec56665",
            "1780fc4d1fea42a28065b7f18b2beeba",
            "2a3077bd68394dac8bc8b998cfe38d1e",
            "5c4ba1fde0454d52b1a0ec785ec67e3b",
            "0c8bed368d624c9681df14b242468f8d",
            "13d9c694539a436d9bd120004e373dbf",
            "eea20b6137a44d3786fbcd7956d07e47",
            "83b704fc8e5b446fbf1d6cca7be63a97",
            "1e78c3a7b7864ff39eccb714fdb7134b",
            "5de0fd5cca254c15941ae5d24ca8c3ca",
            "d5d1d039039240099b21f3f1b6c3b113",
            "5cbe58e63257405ea7713f620f08fa89",
            "a5231cd50e994a9eb902bb09b6501827",
            "2c092674989d4bf4a20c6a865644732c",
            "0f3b6b7a9a044eebb46c8991b14caff0",
            "0fded271844a4a55a339fba46a2c6e91",
            "9bca3d5abfcb448bb53af6b0e7f3b835",
            "0bc95169df224f2ab774f1bc60748da9",
            "77fb9a79b03845138c87676c06e566b7",
            "3af216bde60d433f8ef5db6b636ce00b",
            "0200c1ab15e64993b67c5dcb58b77170",
            "b639111a462944549ff50f9290fe4dc1",
            "df78dbe2cf714903bdba1bc136addee1",
            "a01153e093d040a09b5c9f5c111f4675",
            "f06559fd89ed44fc982128711449a201",
            "222a0f10489e484c926b1560b361eb18",
            "64bbcead2dd448ca8895fa81cc216920",
            "d5bd144e02dc4fed94c18454adccf8bb",
            "251d27053bcb4ab59aa6f8d61d3c03cb",
            "58f762337a354fddab59434f8cb21886",
            "8cf7f495aea7442986e47993803b7fa0",
            "893248c7206a4c7b83d5dc8a4014c523",
            "c3c080e4826d4ed38b9312fc11ee5e72",
            "fb8aa56810c54a3bae1f82acb91ae954"
          ]
        },
        "id": "-sYIxfzRXC63",
        "outputId": "66d92475-8029-4906-825d-9d977f698662"
      },
      "execution_count": 6,
      "outputs": [
        {
          "output_type": "display_data",
          "data": {
            "text/plain": [
              "Resolving data files:   0%|          | 0/1920 [00:00<?, ?it/s]"
            ],
            "application/vnd.jupyter.widget-view+json": {
              "version_major": 2,
              "version_minor": 0,
              "model_id": "1464b73dad3c4553b436b67802941a44"
            }
          },
          "metadata": {}
        },
        {
          "output_type": "stream",
          "name": "stdout",
          "text": [
            "Downloading and preparing dataset imagefolder/default to /root/.cache/huggingface/datasets/imagefolder/default-7917947420d30c7c/0.0.0/37fbb85cc714a338bea574ac6c7d0b5be5aff46c1862c1989b20e0771199e93f...\n"
          ]
        },
        {
          "output_type": "display_data",
          "data": {
            "text/plain": [
              "Downloading data files:   0%|          | 0/1920 [00:00<?, ?it/s]"
            ],
            "application/vnd.jupyter.widget-view+json": {
              "version_major": 2,
              "version_minor": 0,
              "model_id": "7f6366e442444906ab6fb2b557dbb928"
            }
          },
          "metadata": {}
        },
        {
          "output_type": "display_data",
          "data": {
            "text/plain": [
              "Downloading data files: 0it [00:00, ?it/s]"
            ],
            "application/vnd.jupyter.widget-view+json": {
              "version_major": 2,
              "version_minor": 0,
              "model_id": "496fbfeb4c7d4056b60b55b70e4f56b9"
            }
          },
          "metadata": {}
        },
        {
          "output_type": "display_data",
          "data": {
            "text/plain": [
              "Extracting data files: 0it [00:00, ?it/s]"
            ],
            "application/vnd.jupyter.widget-view+json": {
              "version_major": 2,
              "version_minor": 0,
              "model_id": "1780fc4d1fea42a28065b7f18b2beeba"
            }
          },
          "metadata": {}
        },
        {
          "output_type": "display_data",
          "data": {
            "text/plain": [
              "Generating train split: 0 examples [00:00, ? examples/s]"
            ],
            "application/vnd.jupyter.widget-view+json": {
              "version_major": 2,
              "version_minor": 0,
              "model_id": "a5231cd50e994a9eb902bb09b6501827"
            }
          },
          "metadata": {}
        },
        {
          "output_type": "stream",
          "name": "stdout",
          "text": [
            "Dataset imagefolder downloaded and prepared to /root/.cache/huggingface/datasets/imagefolder/default-7917947420d30c7c/0.0.0/37fbb85cc714a338bea574ac6c7d0b5be5aff46c1862c1989b20e0771199e93f. Subsequent calls will reuse this data.\n"
          ]
        },
        {
          "output_type": "display_data",
          "data": {
            "text/plain": [
              "  0%|          | 0/1 [00:00<?, ?it/s]"
            ],
            "application/vnd.jupyter.widget-view+json": {
              "version_major": 2,
              "version_minor": 0,
              "model_id": "a01153e093d040a09b5c9f5c111f4675"
            }
          },
          "metadata": {}
        }
      ]
    },
    {
      "cell_type": "code",
      "source": [
        "data = dataset[\"train\"].train_test_split(test_size=0.20)"
      ],
      "metadata": {
        "id": "joaaAkLrX-AW"
      },
      "execution_count": 7,
      "outputs": []
    },
    {
      "cell_type": "code",
      "source": [
        "data"
      ],
      "metadata": {
        "colab": {
          "base_uri": "https://localhost:8080/"
        },
        "id": "cFGDkSLkYotK",
        "outputId": "b2f9706f-599c-4344-adf1-e96853ccdc45"
      },
      "execution_count": 8,
      "outputs": [
        {
          "output_type": "execute_result",
          "data": {
            "text/plain": [
              "DatasetDict({\n",
              "    train: Dataset({\n",
              "        features: ['image', 'label'],\n",
              "        num_rows: 1536\n",
              "    })\n",
              "    test: Dataset({\n",
              "        features: ['image', 'label'],\n",
              "        num_rows: 384\n",
              "    })\n",
              "})"
            ]
          },
          "metadata": {},
          "execution_count": 8
        }
      ]
    },
    {
      "cell_type": "markdown",
      "source": [
        "# Initialize Training\n",
        "I chose ViT for this as it is one of the state-of-the art models at this time.\n",
        "The rationale behind choosing the variant finetuned on the imagenet as well was to perhaps harness the benefits of transfer learning. Unfortunately, I was not able to validate this hypothesis as there was not enough time."
      ],
      "metadata": {
        "collapsed": false,
        "id": "lanYpc8l5ByU"
      }
    },
    {
      "cell_type": "code",
      "source": [
        "from transformers import ViTFeatureExtractor, ViTForImageClassification\n",
        "model_name_or_path = 'google/vit-base-patch16-224'\n",
        "feature_extractor = ViTFeatureExtractor.from_pretrained(model_name_or_path)\n",
        "\n",
        "labels = data['train'].features['label'].names\n",
        "\n",
        "model = ViTForImageClassification.from_pretrained(\n",
        "    model_name_or_path,\n",
        "    num_labels=len(labels),\n",
        "    id2label={str(i): c for i, c in enumerate(labels)},\n",
        "    label2id={c: str(i) for i, c in enumerate(labels)},\n",
        "    ignore_mismatched_sizes=True\n",
        ")"
      ],
      "metadata": {
        "colab": {
          "base_uri": "https://localhost:8080/",
          "height": 237,
          "referenced_widgets": [
            "7d024065f3bb436ba55eb176ffa712fe",
            "c2c4c57e4b4b4ab69d50184774679226",
            "a43097d353b846cb85e988a57479cfb9",
            "3d99e70dd4294ded8d014e18e0962d37",
            "542ece5408334330a65298f85455d1d9",
            "a8bf09b4722741559df9b68b1a9e4ced",
            "7e30c7bff0ee4dbd9f10e30b11ba51fb",
            "64856f6203b34968aa4fa234c4f66eb2",
            "404e516ed1334295b0166808d9f6f8cd",
            "73070b1d85a34075b517e6bb29a71cc0",
            "bfb87cdf1b804993a8c86d015448f40d",
            "77a5c8bf2d0c476e89d807016a66e23a",
            "5cf3de70c9284f23a1da155141046695",
            "d1d93c6af65d4ba0aafa71ec99a69a47",
            "e19e630bd61a473bb4b317f22957b928",
            "27ba7a41334941dd805a0877c8308301",
            "14e56538a9cc47aca96d36018763a1c6",
            "502df7546f88461794aa6012ad587057",
            "3e2560d711fa4e49935a9e0100ab2695",
            "71e8611537704262afa50fc00b724450",
            "bc2a94e66a28407c9cc247e42529210c",
            "93e0c62f6e4d4a35bb13fd4f5ab81fea",
            "54b2ff74f93e47818d6cf01164d2b04e",
            "35127db498bf4345b4645b532748db97",
            "47e60dbe32434e8ca5e37fd413486e89",
            "302fbf76d8f34a75b40f9fc41954bc16",
            "a5b5e97aa6cd4d90982473e68be5e9a8",
            "84cdb1d0604e4a0cbc5fe5deafce1852",
            "9951e148a2764fb59a5ae3e2d6854e4b",
            "c2b8e2b6f5f348cc9445abb6f130e6ee",
            "c44e3a2cf9b44971a4d8f72d8ed3d8e9",
            "4e66f021b9a64c3ab3bbee41c960e258",
            "7f52cac785a640759f8f429bb369e094"
          ]
        },
        "id": "PCBqg1TlZCdZ",
        "outputId": "d4a36e82-3e5e-4b6f-e751-822cdbe019f4"
      },
      "execution_count": 9,
      "outputs": [
        {
          "output_type": "display_data",
          "data": {
            "text/plain": [
              "Downloading (…)rocessor_config.json:   0%|          | 0.00/160 [00:00<?, ?B/s]"
            ],
            "application/vnd.jupyter.widget-view+json": {
              "version_major": 2,
              "version_minor": 0,
              "model_id": "7d024065f3bb436ba55eb176ffa712fe"
            }
          },
          "metadata": {}
        },
        {
          "output_type": "stream",
          "name": "stderr",
          "text": [
            "/usr/local/lib/python3.9/dist-packages/transformers/models/vit/feature_extraction_vit.py:28: FutureWarning: The class ViTFeatureExtractor is deprecated and will be removed in version 5 of Transformers. Please use ViTImageProcessor instead.\n",
            "  warnings.warn(\n"
          ]
        },
        {
          "output_type": "display_data",
          "data": {
            "text/plain": [
              "Downloading (…)lve/main/config.json:   0%|          | 0.00/69.7k [00:00<?, ?B/s]"
            ],
            "application/vnd.jupyter.widget-view+json": {
              "version_major": 2,
              "version_minor": 0,
              "model_id": "77a5c8bf2d0c476e89d807016a66e23a"
            }
          },
          "metadata": {}
        },
        {
          "output_type": "display_data",
          "data": {
            "text/plain": [
              "Downloading pytorch_model.bin:   0%|          | 0.00/346M [00:00<?, ?B/s]"
            ],
            "application/vnd.jupyter.widget-view+json": {
              "version_major": 2,
              "version_minor": 0,
              "model_id": "54b2ff74f93e47818d6cf01164d2b04e"
            }
          },
          "metadata": {}
        },
        {
          "output_type": "stream",
          "name": "stderr",
          "text": [
            "Some weights of ViTForImageClassification were not initialized from the model checkpoint at google/vit-base-patch16-224 and are newly initialized because the shapes did not match:\n",
            "- classifier.weight: found shape torch.Size([1000, 768]) in the checkpoint and torch.Size([7, 768]) in the model instantiated\n",
            "- classifier.bias: found shape torch.Size([1000]) in the checkpoint and torch.Size([7]) in the model instantiated\n",
            "You should probably TRAIN this model on a down-stream task to be able to use it for predictions and inference.\n"
          ]
        }
      ]
    },
    {
      "cell_type": "code",
      "source": [
        "labels"
      ],
      "metadata": {
        "colab": {
          "base_uri": "https://localhost:8080/"
        },
        "id": "TfpqlCP7m2wF",
        "outputId": "9917ce45-88a6-4d74-bef2-513697eb3c23"
      },
      "execution_count": 10,
      "outputs": [
        {
          "output_type": "execute_result",
          "data": {
            "text/plain": [
              "['0', '1', '2', '3', '4', '5', '6']"
            ]
          },
          "metadata": {},
          "execution_count": 10
        }
      ]
    },
    {
      "cell_type": "code",
      "source": [
        "feature_extractor"
      ],
      "metadata": {
        "colab": {
          "base_uri": "https://localhost:8080/"
        },
        "id": "sBDu-jI8ZJB8",
        "outputId": "1887df90-efbf-4676-c2e4-c6e0b9641526"
      },
      "execution_count": 11,
      "outputs": [
        {
          "output_type": "execute_result",
          "data": {
            "text/plain": [
              "ViTFeatureExtractor {\n",
              "  \"do_normalize\": true,\n",
              "  \"do_rescale\": true,\n",
              "  \"do_resize\": true,\n",
              "  \"image_mean\": [\n",
              "    0.5,\n",
              "    0.5,\n",
              "    0.5\n",
              "  ],\n",
              "  \"image_processor_type\": \"ViTFeatureExtractor\",\n",
              "  \"image_std\": [\n",
              "    0.5,\n",
              "    0.5,\n",
              "    0.5\n",
              "  ],\n",
              "  \"resample\": 2,\n",
              "  \"rescale_factor\": 0.00392156862745098,\n",
              "  \"size\": {\n",
              "    \"height\": 224,\n",
              "    \"width\": 224\n",
              "  }\n",
              "}"
            ]
          },
          "metadata": {},
          "execution_count": 11
        }
      ]
    },
    {
      "cell_type": "code",
      "source": [
        "def process_example(example):\n",
        "    example[\"image\"] = example[\"image\"]\n",
        "    inputs = feature_extractor(example['image'], return_tensors='pt')\n",
        "    inputs['label'] = example['label']\n",
        "    return inputs"
      ],
      "metadata": {
        "id": "TTbdAv9gZIha"
      },
      "execution_count": 12,
      "outputs": []
    },
    {
      "cell_type": "code",
      "source": [
        "def _transform(example_batch):\n",
        "    IMG_SIZE = 720\n",
        "    new_imgs = []\n",
        "    for image in example_batch:\n",
        "        image = ImageOps.contain(image, (IMG_SIZE, IMG_SIZE), Image.Resampling.LANCZOS).convert(\"RGB\")\n",
        "        image = ImageOps.autocontrast(image)\n",
        "        # image = Image.fromarray(augment(image=np.array(image))[\"image\"])\n",
        "        image = ImageOps.pad(image, (IMG_SIZE, IMG_SIZE), centering=(0, 0))\n",
        "        new_imgs.append(image)\n",
        "    return new_imgs\n",
        "\n",
        "def transform(example_batch):\n",
        "    # Take a list of PIL images and turn them to pixel values\n",
        "    inputs = feature_extractor([x for x in _transform(example_batch['image'])], return_tensors='pt')\n",
        "\n",
        "    # Don't forget to include the labels!\n",
        "    inputs['labels'] = example_batch['label']\n",
        "    return inputs"
      ],
      "metadata": {
        "id": "ufPObLtHZPOT"
      },
      "execution_count": 29,
      "outputs": []
    },
    {
      "cell_type": "code",
      "source": [
        "prepared_data = data.with_transform(transform)"
      ],
      "metadata": {
        "id": "dBtFo9bpcGoe"
      },
      "execution_count": 30,
      "outputs": []
    },
    {
      "cell_type": "code",
      "source": [
        "import torch\n",
        "import numpy as np\n",
        "from datasets import load_metric\n",
        "\n",
        "def collate_fn(batch):\n",
        "    return {\n",
        "        'pixel_values': torch.stack([x['pixel_values'] for x in batch]),\n",
        "        'labels': torch.tensor([x['labels'] for x in batch])\n",
        "    }\n",
        "\n",
        "\n",
        "acc = load_metric(\"accuracy\")\n",
        "f1 = load_metric(\"f1\")\n",
        "\n",
        "def compute_metrics(p):\n",
        "    info = {}\n",
        "\n",
        "    preds = np.argmax(p.predictions, axis=1)\n",
        "    info[\"accuracy\"] = acc.compute(predictions=preds, references=p.label_ids)[\"accuracy\"]\n",
        "    info[\"f1\"] = f1.compute(predictions=preds, references=p.label_ids, average=\"macro\")[\"f1\"]\n",
        "\n",
        "    return info\n"
      ],
      "metadata": {
        "id": "MGZl47RgcSfE"
      },
      "execution_count": 31,
      "outputs": []
    },
    {
      "cell_type": "code",
      "source": [
        "from transformers import TrainingArguments\n",
        "\n",
        "training_args = TrainingArguments(\n",
        "  output_dir=\"./vit-signal-processing-noimgnet\",\n",
        "  per_device_train_batch_size=64,\n",
        "  evaluation_strategy=\"epoch\",\n",
        "  save_strategy=\"epoch\",\n",
        "  num_train_epochs=15,\n",
        "  fp16=False,\n",
        "  logging_steps=10, #10\n",
        "  learning_rate=2e-4,\n",
        "  save_total_limit=3,\n",
        "  warmup_ratio=0.05,\n",
        "  remove_unused_columns=False,\n",
        "  push_to_hub=False,\n",
        "  metric_for_best_model=\"f1\",\n",
        "  report_to='tensorboard',\n",
        "  load_best_model_at_end=True,\n",
        ")"
      ],
      "metadata": {
        "id": "yMGQFF1sdYUy",
        "colab": {
          "base_uri": "https://localhost:8080/"
        },
        "outputId": "6c3548ba-bd7d-4951-f235-6efae9e86280"
      },
      "execution_count": 32,
      "outputs": [
        {
          "output_type": "stream",
          "name": "stderr",
          "text": [
            "PyTorch: setting up devices\n"
          ]
        }
      ]
    },
    {
      "cell_type": "code",
      "source": [
        "from transformers import Trainer\n",
        "\n",
        "trainer = Trainer(\n",
        "    model=model,\n",
        "    args=training_args,\n",
        "    data_collator=collate_fn,\n",
        "    compute_metrics=compute_metrics,\n",
        "    train_dataset=prepared_data[\"train\"],\n",
        "    eval_dataset=prepared_data[\"test\"],\n",
        "    tokenizer=feature_extractor,\n",
        ")"
      ],
      "metadata": {
        "id": "OZJTmrg_eOqN"
      },
      "execution_count": 33,
      "outputs": []
    },
    {
      "cell_type": "code",
      "source": [
        "train_results = trainer.train()\n",
        "trainer.save_model()\n",
        "trainer.log_metrics(\"train\", train_results.metrics)\n",
        "trainer.save_metrics(\"train\", train_results.metrics)\n",
        "trainer.save_state()"
      ],
      "metadata": {
        "id": "ZHP0SMY6eVKU",
        "colab": {
          "base_uri": "https://localhost:8080/",
          "height": 1000
        },
        "outputId": "616c2e35-6dc9-4290-de56-0b1677b800b9"
      },
      "execution_count": 34,
      "outputs": [
        {
          "output_type": "stream",
          "name": "stderr",
          "text": [
            "/usr/local/lib/python3.9/dist-packages/transformers/optimization.py:306: FutureWarning: This implementation of AdamW is deprecated and will be removed in a future version. Use the PyTorch implementation torch.optim.AdamW instead, or set `no_deprecation_warning=True` to disable this warning\n",
            "  warnings.warn(\n",
            "***** Running training *****\n",
            "  Num examples = 1536\n",
            "  Num Epochs = 15\n",
            "  Instantaneous batch size per device = 64\n",
            "  Total train batch size (w. parallel, distributed & accumulation) = 64\n",
            "  Gradient Accumulation steps = 1\n",
            "  Total optimization steps = 360\n",
            "  Number of trainable parameters = 85804039\n"
          ]
        },
        {
          "output_type": "display_data",
          "data": {
            "text/plain": [
              "<IPython.core.display.HTML object>"
            ],
            "text/html": [
              "\n",
              "    <div>\n",
              "      \n",
              "      <progress value='360' max='360' style='width:300px; height:20px; vertical-align: middle;'></progress>\n",
              "      [360/360 15:18, Epoch 15/15]\n",
              "    </div>\n",
              "    <table border=\"1\" class=\"dataframe\">\n",
              "  <thead>\n",
              " <tr style=\"text-align: left;\">\n",
              "      <th>Epoch</th>\n",
              "      <th>Training Loss</th>\n",
              "      <th>Validation Loss</th>\n",
              "      <th>Accuracy</th>\n",
              "      <th>F1</th>\n",
              "    </tr>\n",
              "  </thead>\n",
              "  <tbody>\n",
              "    <tr>\n",
              "      <td>1</td>\n",
              "      <td>0.072500</td>\n",
              "      <td>0.939259</td>\n",
              "      <td>0.794271</td>\n",
              "      <td>0.783187</td>\n",
              "    </tr>\n",
              "    <tr>\n",
              "      <td>2</td>\n",
              "      <td>0.205800</td>\n",
              "      <td>0.875642</td>\n",
              "      <td>0.794271</td>\n",
              "      <td>0.773167</td>\n",
              "    </tr>\n",
              "    <tr>\n",
              "      <td>3</td>\n",
              "      <td>0.101900</td>\n",
              "      <td>0.778016</td>\n",
              "      <td>0.802083</td>\n",
              "      <td>0.769943</td>\n",
              "    </tr>\n",
              "    <tr>\n",
              "      <td>4</td>\n",
              "      <td>0.125100</td>\n",
              "      <td>1.026014</td>\n",
              "      <td>0.794271</td>\n",
              "      <td>0.774163</td>\n",
              "    </tr>\n",
              "    <tr>\n",
              "      <td>5</td>\n",
              "      <td>0.070800</td>\n",
              "      <td>0.967702</td>\n",
              "      <td>0.776042</td>\n",
              "      <td>0.775144</td>\n",
              "    </tr>\n",
              "    <tr>\n",
              "      <td>6</td>\n",
              "      <td>0.040700</td>\n",
              "      <td>0.688479</td>\n",
              "      <td>0.851562</td>\n",
              "      <td>0.841259</td>\n",
              "    </tr>\n",
              "    <tr>\n",
              "      <td>7</td>\n",
              "      <td>0.007600</td>\n",
              "      <td>0.683892</td>\n",
              "      <td>0.859375</td>\n",
              "      <td>0.846357</td>\n",
              "    </tr>\n",
              "    <tr>\n",
              "      <td>8</td>\n",
              "      <td>0.002300</td>\n",
              "      <td>0.726117</td>\n",
              "      <td>0.867188</td>\n",
              "      <td>0.858651</td>\n",
              "    </tr>\n",
              "    <tr>\n",
              "      <td>9</td>\n",
              "      <td>0.001700</td>\n",
              "      <td>0.583066</td>\n",
              "      <td>0.890625</td>\n",
              "      <td>0.884717</td>\n",
              "    </tr>\n",
              "    <tr>\n",
              "      <td>10</td>\n",
              "      <td>0.000700</td>\n",
              "      <td>0.608004</td>\n",
              "      <td>0.893229</td>\n",
              "      <td>0.887037</td>\n",
              "    </tr>\n",
              "    <tr>\n",
              "      <td>11</td>\n",
              "      <td>0.000200</td>\n",
              "      <td>0.583262</td>\n",
              "      <td>0.895833</td>\n",
              "      <td>0.888898</td>\n",
              "    </tr>\n",
              "    <tr>\n",
              "      <td>12</td>\n",
              "      <td>0.000400</td>\n",
              "      <td>0.588985</td>\n",
              "      <td>0.893229</td>\n",
              "      <td>0.886260</td>\n",
              "    </tr>\n",
              "    <tr>\n",
              "      <td>13</td>\n",
              "      <td>0.000200</td>\n",
              "      <td>0.598545</td>\n",
              "      <td>0.888021</td>\n",
              "      <td>0.879574</td>\n",
              "    </tr>\n",
              "    <tr>\n",
              "      <td>14</td>\n",
              "      <td>0.000200</td>\n",
              "      <td>0.597121</td>\n",
              "      <td>0.888021</td>\n",
              "      <td>0.879574</td>\n",
              "    </tr>\n",
              "    <tr>\n",
              "      <td>15</td>\n",
              "      <td>0.000200</td>\n",
              "      <td>0.596394</td>\n",
              "      <td>0.890625</td>\n",
              "      <td>0.882898</td>\n",
              "    </tr>\n",
              "  </tbody>\n",
              "</table><p>"
            ]
          },
          "metadata": {}
        },
        {
          "output_type": "stream",
          "name": "stderr",
          "text": [
            "***** Running Evaluation *****\n",
            "  Num examples = 384\n",
            "  Batch size = 8\n",
            "Saving model checkpoint to ./vit-signal-processing-noimgnet/checkpoint-24\n",
            "Configuration saved in ./vit-signal-processing-noimgnet/checkpoint-24/config.json\n",
            "Model weights saved in ./vit-signal-processing-noimgnet/checkpoint-24/pytorch_model.bin\n",
            "Image processor saved in ./vit-signal-processing-noimgnet/checkpoint-24/preprocessor_config.json\n",
            "Deleting older checkpoint [vit-signal-processing-noimgnet/checkpoint-312] due to args.save_total_limit\n",
            "***** Running Evaluation *****\n",
            "  Num examples = 384\n",
            "  Batch size = 8\n",
            "Saving model checkpoint to ./vit-signal-processing-noimgnet/checkpoint-48\n",
            "Configuration saved in ./vit-signal-processing-noimgnet/checkpoint-48/config.json\n",
            "Model weights saved in ./vit-signal-processing-noimgnet/checkpoint-48/pytorch_model.bin\n",
            "Image processor saved in ./vit-signal-processing-noimgnet/checkpoint-48/preprocessor_config.json\n",
            "Deleting older checkpoint [vit-signal-processing-noimgnet/checkpoint-336] due to args.save_total_limit\n",
            "***** Running Evaluation *****\n",
            "  Num examples = 384\n",
            "  Batch size = 8\n",
            "Saving model checkpoint to ./vit-signal-processing-noimgnet/checkpoint-72\n",
            "Configuration saved in ./vit-signal-processing-noimgnet/checkpoint-72/config.json\n",
            "Model weights saved in ./vit-signal-processing-noimgnet/checkpoint-72/pytorch_model.bin\n",
            "Image processor saved in ./vit-signal-processing-noimgnet/checkpoint-72/preprocessor_config.json\n",
            "Deleting older checkpoint [vit-signal-processing-noimgnet/checkpoint-360] due to args.save_total_limit\n",
            "***** Running Evaluation *****\n",
            "  Num examples = 384\n",
            "  Batch size = 8\n",
            "Saving model checkpoint to ./vit-signal-processing-noimgnet/checkpoint-96\n",
            "Configuration saved in ./vit-signal-processing-noimgnet/checkpoint-96/config.json\n",
            "Model weights saved in ./vit-signal-processing-noimgnet/checkpoint-96/pytorch_model.bin\n",
            "Image processor saved in ./vit-signal-processing-noimgnet/checkpoint-96/preprocessor_config.json\n",
            "Deleting older checkpoint [vit-signal-processing-noimgnet/checkpoint-48] due to args.save_total_limit\n",
            "***** Running Evaluation *****\n",
            "  Num examples = 384\n",
            "  Batch size = 8\n",
            "Saving model checkpoint to ./vit-signal-processing-noimgnet/checkpoint-120\n",
            "Configuration saved in ./vit-signal-processing-noimgnet/checkpoint-120/config.json\n",
            "Model weights saved in ./vit-signal-processing-noimgnet/checkpoint-120/pytorch_model.bin\n",
            "Image processor saved in ./vit-signal-processing-noimgnet/checkpoint-120/preprocessor_config.json\n",
            "Deleting older checkpoint [vit-signal-processing-noimgnet/checkpoint-72] due to args.save_total_limit\n",
            "***** Running Evaluation *****\n",
            "  Num examples = 384\n",
            "  Batch size = 8\n",
            "Saving model checkpoint to ./vit-signal-processing-noimgnet/checkpoint-144\n",
            "Configuration saved in ./vit-signal-processing-noimgnet/checkpoint-144/config.json\n",
            "Model weights saved in ./vit-signal-processing-noimgnet/checkpoint-144/pytorch_model.bin\n",
            "Image processor saved in ./vit-signal-processing-noimgnet/checkpoint-144/preprocessor_config.json\n",
            "Deleting older checkpoint [vit-signal-processing-noimgnet/checkpoint-24] due to args.save_total_limit\n",
            "***** Running Evaluation *****\n",
            "  Num examples = 384\n",
            "  Batch size = 8\n",
            "Saving model checkpoint to ./vit-signal-processing-noimgnet/checkpoint-168\n",
            "Configuration saved in ./vit-signal-processing-noimgnet/checkpoint-168/config.json\n",
            "Model weights saved in ./vit-signal-processing-noimgnet/checkpoint-168/pytorch_model.bin\n",
            "Image processor saved in ./vit-signal-processing-noimgnet/checkpoint-168/preprocessor_config.json\n",
            "Deleting older checkpoint [vit-signal-processing-noimgnet/checkpoint-96] due to args.save_total_limit\n",
            "***** Running Evaluation *****\n",
            "  Num examples = 384\n",
            "  Batch size = 8\n",
            "Saving model checkpoint to ./vit-signal-processing-noimgnet/checkpoint-192\n",
            "Configuration saved in ./vit-signal-processing-noimgnet/checkpoint-192/config.json\n",
            "Model weights saved in ./vit-signal-processing-noimgnet/checkpoint-192/pytorch_model.bin\n",
            "Image processor saved in ./vit-signal-processing-noimgnet/checkpoint-192/preprocessor_config.json\n",
            "Deleting older checkpoint [vit-signal-processing-noimgnet/checkpoint-120] due to args.save_total_limit\n",
            "***** Running Evaluation *****\n",
            "  Num examples = 384\n",
            "  Batch size = 8\n",
            "Saving model checkpoint to ./vit-signal-processing-noimgnet/checkpoint-216\n",
            "Configuration saved in ./vit-signal-processing-noimgnet/checkpoint-216/config.json\n",
            "Model weights saved in ./vit-signal-processing-noimgnet/checkpoint-216/pytorch_model.bin\n",
            "Image processor saved in ./vit-signal-processing-noimgnet/checkpoint-216/preprocessor_config.json\n",
            "Deleting older checkpoint [vit-signal-processing-noimgnet/checkpoint-144] due to args.save_total_limit\n",
            "***** Running Evaluation *****\n",
            "  Num examples = 384\n",
            "  Batch size = 8\n",
            "Saving model checkpoint to ./vit-signal-processing-noimgnet/checkpoint-240\n",
            "Configuration saved in ./vit-signal-processing-noimgnet/checkpoint-240/config.json\n",
            "Model weights saved in ./vit-signal-processing-noimgnet/checkpoint-240/pytorch_model.bin\n",
            "Image processor saved in ./vit-signal-processing-noimgnet/checkpoint-240/preprocessor_config.json\n",
            "Deleting older checkpoint [vit-signal-processing-noimgnet/checkpoint-168] due to args.save_total_limit\n",
            "***** Running Evaluation *****\n",
            "  Num examples = 384\n",
            "  Batch size = 8\n",
            "Saving model checkpoint to ./vit-signal-processing-noimgnet/checkpoint-264\n",
            "Configuration saved in ./vit-signal-processing-noimgnet/checkpoint-264/config.json\n",
            "Model weights saved in ./vit-signal-processing-noimgnet/checkpoint-264/pytorch_model.bin\n",
            "Image processor saved in ./vit-signal-processing-noimgnet/checkpoint-264/preprocessor_config.json\n",
            "Deleting older checkpoint [vit-signal-processing-noimgnet/checkpoint-192] due to args.save_total_limit\n",
            "***** Running Evaluation *****\n",
            "  Num examples = 384\n",
            "  Batch size = 8\n",
            "Saving model checkpoint to ./vit-signal-processing-noimgnet/checkpoint-288\n",
            "Configuration saved in ./vit-signal-processing-noimgnet/checkpoint-288/config.json\n",
            "Model weights saved in ./vit-signal-processing-noimgnet/checkpoint-288/pytorch_model.bin\n",
            "Image processor saved in ./vit-signal-processing-noimgnet/checkpoint-288/preprocessor_config.json\n",
            "Deleting older checkpoint [vit-signal-processing-noimgnet/checkpoint-216] due to args.save_total_limit\n",
            "***** Running Evaluation *****\n",
            "  Num examples = 384\n",
            "  Batch size = 8\n",
            "Saving model checkpoint to ./vit-signal-processing-noimgnet/checkpoint-312\n",
            "Configuration saved in ./vit-signal-processing-noimgnet/checkpoint-312/config.json\n",
            "Model weights saved in ./vit-signal-processing-noimgnet/checkpoint-312/pytorch_model.bin\n",
            "Image processor saved in ./vit-signal-processing-noimgnet/checkpoint-312/preprocessor_config.json\n",
            "Deleting older checkpoint [vit-signal-processing-noimgnet/checkpoint-240] due to args.save_total_limit\n",
            "***** Running Evaluation *****\n",
            "  Num examples = 384\n",
            "  Batch size = 8\n",
            "Saving model checkpoint to ./vit-signal-processing-noimgnet/checkpoint-336\n",
            "Configuration saved in ./vit-signal-processing-noimgnet/checkpoint-336/config.json\n",
            "Model weights saved in ./vit-signal-processing-noimgnet/checkpoint-336/pytorch_model.bin\n",
            "Image processor saved in ./vit-signal-processing-noimgnet/checkpoint-336/preprocessor_config.json\n",
            "Deleting older checkpoint [vit-signal-processing-noimgnet/checkpoint-288] due to args.save_total_limit\n",
            "***** Running Evaluation *****\n",
            "  Num examples = 384\n",
            "  Batch size = 8\n",
            "Saving model checkpoint to ./vit-signal-processing-noimgnet/checkpoint-360\n",
            "Configuration saved in ./vit-signal-processing-noimgnet/checkpoint-360/config.json\n",
            "Model weights saved in ./vit-signal-processing-noimgnet/checkpoint-360/pytorch_model.bin\n",
            "Image processor saved in ./vit-signal-processing-noimgnet/checkpoint-360/preprocessor_config.json\n",
            "Deleting older checkpoint [vit-signal-processing-noimgnet/checkpoint-312] due to args.save_total_limit\n",
            "\n",
            "\n",
            "Training completed. Do not forget to share your model on huggingface.co/models =)\n",
            "\n",
            "\n",
            "Loading best model from ./vit-signal-processing-noimgnet/checkpoint-264 (score: 0.8888984428614732).\n",
            "Saving model checkpoint to ./vit-signal-processing-noimgnet\n",
            "Configuration saved in ./vit-signal-processing-noimgnet/config.json\n",
            "Model weights saved in ./vit-signal-processing-noimgnet/pytorch_model.bin\n",
            "Image processor saved in ./vit-signal-processing-noimgnet/preprocessor_config.json\n"
          ]
        },
        {
          "output_type": "stream",
          "name": "stdout",
          "text": [
            "***** train metrics *****\n",
            "  epoch                    =         15.0\n",
            "  total_flos               = 1662872220GF\n",
            "  train_loss               =       0.0346\n",
            "  train_runtime            =   0:15:20.80\n",
            "  train_samples_per_second =       25.022\n",
            "  train_steps_per_second   =        0.391\n"
          ]
        }
      ]
    },
    {
      "cell_type": "code",
      "source": [
        "trainer.log_metrics(\"train\", train_results.metrics)\n",
        "trainer.save_metrics(\"train\", train_results.metrics)\n",
        "trainer.save_state()"
      ],
      "metadata": {
        "colab": {
          "base_uri": "https://localhost:8080/"
        },
        "id": "cqPQ-_3I1UYs",
        "outputId": "d628f863-f5f2-47cc-fc40-c915b3186667"
      },
      "execution_count": 38,
      "outputs": [
        {
          "output_type": "stream",
          "name": "stdout",
          "text": [
            "***** train metrics *****\n",
            "  epoch                    =         15.0\n",
            "  total_flos               = 1662872220GF\n",
            "  train_loss               =       0.0346\n",
            "  train_runtime            =   0:15:20.80\n",
            "  train_samples_per_second =       25.022\n",
            "  train_steps_per_second   =        0.391\n"
          ]
        }
      ]
    },
    {
      "cell_type": "code",
      "source": [
        "metrics = trainer.evaluate(prepared_data[\"test\"])"
      ],
      "metadata": {
        "colab": {
          "base_uri": "https://localhost:8080/",
          "height": 89
        },
        "id": "uj-W4hWH1ufi",
        "outputId": "e817c9ae-9959-4276-e19d-924a33458d9e"
      },
      "execution_count": 39,
      "outputs": [
        {
          "output_type": "stream",
          "name": "stderr",
          "text": [
            "***** Running Evaluation *****\n",
            "  Num examples = 384\n",
            "  Batch size = 8\n"
          ]
        },
        {
          "output_type": "display_data",
          "data": {
            "text/plain": [
              "<IPython.core.display.HTML object>"
            ],
            "text/html": [
              "\n",
              "    <div>\n",
              "      \n",
              "      <progress value='96' max='48' style='width:300px; height:20px; vertical-align: middle;'></progress>\n",
              "      [48/48 00:33]\n",
              "    </div>\n",
              "    "
            ]
          },
          "metadata": {}
        }
      ]
    },
    {
      "cell_type": "code",
      "source": [
        "trainer.log_metrics(\"eval\", metrics)"
      ],
      "metadata": {
        "colab": {
          "base_uri": "https://localhost:8080/"
        },
        "id": "1YBFG-fT16Ye",
        "outputId": "3049b441-1e8a-4747-9960-67221612d13d"
      },
      "execution_count": 40,
      "outputs": [
        {
          "output_type": "stream",
          "name": "stdout",
          "text": [
            "***** eval metrics *****\n",
            "  epoch                   =       15.0\n",
            "  eval_accuracy           =     0.8958\n",
            "  eval_f1                 =     0.8889\n",
            "  eval_loss               =     0.5833\n",
            "  eval_runtime            = 0:00:10.60\n",
            "  eval_samples_per_second =     36.211\n",
            "  eval_steps_per_second   =      4.526\n"
          ]
        }
      ]
    },
    {
      "cell_type": "code",
      "source": [
        "# Confusion Matrix\n",
        "import torch\n",
        "import torch.nn.functional as F\n",
        "from sklearn import metrics\n",
        "import copy\n",
        " \n",
        "y_preds = []\n",
        "y_trues = []\n",
        "for index,val_item in enumerate(data[\"test\"]):\n",
        "     encoding = feature_extractor(_transform([val_item[\"image\"]])[0], return_tensors=\"pt\").to(\"cuda\")\n",
        "     outputs = model(**encoding)\n",
        "     y_pred = outputs.logits.argmax(-1)\n",
        "     y_true = val_item[\"label\"]\n",
        "     y_preds.append(y_pred)\n",
        "     y_trues.append(y_true)\n",
        "    #  print(f\"{index} out of {len(data['test'])}\")\n",
        "     "
      ],
      "metadata": {
        "id": "2oEv4QEGLFoQ"
      },
      "execution_count": 41,
      "outputs": []
    },
    {
      "cell_type": "code",
      "source": [
        "import matplotlib.pyplot as plt\n",
        "from sklearn.metrics import ConfusionMatrixDisplay\n",
        "cm = metrics.confusion_matrix([int(x) for x in y_trues], [x.item() for x in y_preds], labels=[x for x in range(10)])\n",
        "disp = ConfusionMatrixDisplay(confusion_matrix=cm)\n",
        "disp.plot()\n",
        "plt.show()"
      ],
      "metadata": {
        "id": "Mk_gby2deDvz",
        "colab": {
          "base_uri": "https://localhost:8080/",
          "height": 279
        },
        "outputId": "786863b7-6cfa-469b-ace6-2f7a0cd00872"
      },
      "execution_count": 42,
      "outputs": [
        {
          "output_type": "display_data",
          "data": {
            "text/plain": [
              "<Figure size 432x288 with 2 Axes>"
            ],
            "image/png": "[encoded data removed]"
          },
          "metadata": {
            "needs_background": "light"
          }
        }
      ]
    },
    {
      "cell_type": "code",
      "source": [
        "!cp -r \"/content/vit-signal-processing-noimgnet/checkpoint-385\" /content/drive/MyDrive/model_signal"
      ],
      "metadata": {
        "id": "LCr_r3jzwY8d",
        "colab": {
          "base_uri": "https://localhost:8080/"
        },
        "outputId": "fd6e2a92-43bc-4806-c50b-c932e88e2748"
      },
      "execution_count": null,
      "outputs": [
        {
          "output_type": "stream",
          "name": "stdout",
          "text": [
            "cp: cannot stat '/content/vit-signal-processing-noimgnet/checkpoint-385': No such file or directory\n"
          ]
        }
      ]
    },
    {
      "cell_type": "code",
      "source": [
        "!zip -r \"checkpoint-16488.zip\" \"vit-digit-recognition/checkpoint-16488\""
      ],
      "metadata": {
        "id": "TvGDgXZj3eAL",
        "colab": {
          "base_uri": "https://localhost:8080/"
        },
        "outputId": "7d611446-e404-4124-e810-40b7c5128766"
      },
      "execution_count": null,
      "outputs": [
        {
          "output_type": "stream",
          "name": "stdout",
          "text": [
            "\tzip warning: name not matched: vit-digit-recognition/checkpoint-16488\n",
            "\n",
            "zip error: Nothing to do! (try: zip -r checkpoint-16488.zip . -i vit-digit-recognition/checkpoint-16488)\n"
          ]
        }
      ]
    },
    {
      "cell_type": "markdown",
      "source": [
        "# Get Results\n",
        "The test files can have many digits in one photo, so we first crop these according to the bounding boxes given."
      ],
      "metadata": {
        "collapsed": false,
        "id": "q9XliHwu5ByZ"
      }
    },
    {
      "cell_type": "code",
      "source": [
        "test_images = glob.glob(\"/content/drive/MyDrive/SuperAI/Signal/image_heatmap/Test/*\")\n",
        "test_images"
      ],
      "metadata": {
        "id": "dhmNQqHqWAYP"
      },
      "execution_count": null,
      "outputs": []
    },
    {
      "cell_type": "code",
      "source": [
        "from PIL import Image, ImageOps\n",
        "import torch\n",
        "\n",
        "answers_final = dict()\n",
        "size_image = 720\n",
        "with torch.no_grad():\n",
        "    for img_id, image_path in enumerate(test_images):\n",
        "        key = image_path.split(\"/\")[-1]\n",
        "\n",
        "        img = Image.open(image_path)\n",
        "        \n",
        "        # Transform those images\n",
        "        image = ImageOps.contain(img, (size_image, size_image), Image.Resampling.LANCZOS).convert(\"RGB\")\n",
        "        image = ImageOps.autocontrast(image)\n",
        "        image = ImageOps.pad(image, (size_image, size_image), centering=(0, 0))\n",
        "\n",
        "        encoding = feature_extractor(image, return_tensors=\"pt\").to(\"cuda\")\n",
        "        outputs = model(**encoding)\n",
        "        pred = outputs.logits.argmax(-1).item()\n",
        "        answers_final[f\"{key.split('.')[0]}\"] = model.config.id2label[str(pred)]\n",
        "\n",
        "answers_final"
      ],
      "metadata": {
        "colab": {
          "base_uri": "https://localhost:8080/"
        },
        "id": "aXFbcHwWtZp4",
        "outputId": "2ca7c8d0-86ef-4688-ef18-d534b54276d4"
      },
      "execution_count": 44,
      "outputs": [
        {
          "output_type": "execute_result",
          "data": {
            "text/plain": [
              "{'30de3513-93ff-42d8-ad5f-4c93f4a4444c': '6',\n",
              " '84e55af1-ae63-4b06-b650-1136d38b691e': '6',\n",
              " '2471a7eb-af35-4ae7-870e-6650de9f0c2f': '6',\n",
              " 'd00e8bdc-79af-4e55-b25a-96ea589b6420': '4',\n",
              " 'ad9f77bc-5ab6-477d-b760-2f3fc65c14d3': '0',\n",
              " '7c437205-adc7-410c-906e-3c79421e6170': '3',\n",
              " '5f5966ac-dc5f-40ad-8272-7c652eb2b16a': '6',\n",
              " '17445f56-bd54-43f0-9560-db427817b8e6': '0',\n",
              " '964384cb-c075-4423-a7d5-4316c7e58394': '2',\n",
              " 'a4f6b08c-32c7-454d-a6af-55f98dbee427': '6',\n",
              " 'd2de8fc8-f4b0-4dc5-8c42-0bd92f1e46ae': '6',\n",
              " '96dc5573-6184-409f-9981-5b480cfe9889': '5',\n",
              " 'fe3f7fa2-5dca-4535-9cfe-138d934e83cf': '6',\n",
              " 'dc4c1a72-7706-41e1-adb8-34a5b342779b': '6',\n",
              " '1bd08fdf-f0cf-4027-a6cd-213269872e2a': '6',\n",
              " '893c2516-d8e7-4d41-a0ea-a1c0bb921492': '5',\n",
              " 'fb1a379f-92c8-467c-915d-f0c59482e99e': '6',\n",
              " 'e7e79485-e907-4310-b65c-3470106581bd': '3',\n",
              " '23811759-e95d-4714-8599-3864f34c4eda': '4',\n",
              " '5d94abf7-e4ac-42d0-9171-7aff65b383ea': '6',\n",
              " '7a84300f-c4b2-41ad-9e6f-511ca5c22d68': '6',\n",
              " '5d6553fd-c8c8-480c-92d6-13a008884dd7': '5',\n",
              " '2203b45e-2193-423c-aab9-00ae97474cfe': '6',\n",
              " '7d011e6a-7056-42ee-ae76-81c72aa94ef2': '6',\n",
              " '04079ed6-01e6-42bc-b8a0-b30ea9446bf5': '4',\n",
              " 'bf70a5c0-57c0-4edc-a755-7e3fc219b355': '6',\n",
              " '603969ca-4a98-4159-a2b6-5a736f4ed53e': '6',\n",
              " 'abf85429-425b-46c9-b853-902810df7211': '6',\n",
              " 'b7dff902-8709-4bcf-b7a6-6af4b920d406': '3',\n",
              " '0235320b-1bad-4422-98d5-5c14cf9ddd59': '2',\n",
              " '93b0f8ec-4c77-490f-af44-0ce78382ca92': '5',\n",
              " '3dcecd85-2fa6-4e80-8ece-ae83af9017b9': '2',\n",
              " '5f28ce89-6b60-4da6-aa93-48e7e255db94': '6',\n",
              " 'de5c1f75-ec1c-4ac5-beba-7895bf42d641': '2',\n",
              " '94033c62-3efb-430e-b4f4-a127c1a2ab81': '5',\n",
              " 'eb43382d-9425-4a65-846b-e40affccae18': '4',\n",
              " 'ea9f9f74-cad7-4fc8-83d7-147d2e1c0701': '6',\n",
              " '773b55a2-70ff-44e8-b076-ca7e5c61c818': '3',\n",
              " 'e7f2c217-4f5e-42cb-a453-ce29233dc82f': '1',\n",
              " '6ea78645-9f90-4e97-8811-51554e468839': '6',\n",
              " 'de58a816-7607-43af-a07d-ff04b34b0ab5': '0',\n",
              " '368b9b2b-42de-4f47-8fdd-e18f32c59b62': '4',\n",
              " 'fea51ff7-842d-49c2-b779-d2d9dda7ddce': '4',\n",
              " 'f8bbc469-5703-48f6-a809-b63d379f4fd0': '3',\n",
              " '6175a44c-c394-43c1-b4d4-b328c8b051fc': '5',\n",
              " '985ee990-3ab4-4703-a6d3-8feebf248b57': '4',\n",
              " '7c6e047d-5432-4d96-80a5-2e67244b3079': '3',\n",
              " '8f9e1a05-ca94-4309-9d93-0d91e4799f85': '1',\n",
              " '6d978f23-e46e-4063-b57e-f21932a1526f': '4',\n",
              " 'ea020669-3019-433e-9957-a087207ff675': '6',\n",
              " '6ee7ddf7-aabe-4c07-a0d6-e65c1c1e9c5f': '6',\n",
              " 'fa145e7c-0395-47e7-aabc-28da8cb62be9': '5',\n",
              " '3bb8edbc-3367-4be0-8352-4500d55dc726': '4',\n",
              " '81bbfa1c-e24a-44e8-8336-5c116ebdf2f4': '3',\n",
              " 'a4e7ba9e-1da3-40ca-b1b2-8f9ef2fe8e95': '6',\n",
              " '746e11cd-0261-4d4c-9440-59c42f261712': '1',\n",
              " '71def67c-3987-47f8-a337-a559cf0f0560': '6',\n",
              " '3c6472a5-171f-414f-9df7-5ce38eddeb0f': '6',\n",
              " '052d35a0-25d8-4eea-9827-2f8d18b6aa99': '6',\n",
              " '15e8312f-b7b8-4291-8258-1e388c71cd88': '6',\n",
              " '1a909767-4f53-4488-b926-9b9cd2dcb7ee': '4',\n",
              " '0613da04-d5f9-4989-b1be-4ce1f3c06dc4': '0',\n",
              " '36cce7a8-a76d-4517-b459-9aec9bcf2541': '6',\n",
              " '5eaae10f-8a35-447c-9ea1-2f8c2e6dca9e': '3',\n",
              " '32bdc663-1cea-425a-862c-3cee1e8a7eb3': '6',\n",
              " '6270d48e-7b58-4d55-89ca-be111957a1b1': '3',\n",
              " '245f7e3a-f32e-41ee-9a6d-c099f5f3f0a1': '6',\n",
              " 'e2a29402-5319-4338-a035-7058f76f1109': '3',\n",
              " 'db4bfd80-c6c6-47a2-81df-20dfc355849c': '3',\n",
              " '4ef76d73-9e2c-447f-a7e5-dc0ff1a5ea26': '4',\n",
              " '1589af85-8afe-43c3-a928-4c44b52164ff': '6',\n",
              " 'aa7f74f2-f161-43fb-acc7-891ca34d5f93': '6',\n",
              " 'b8647e6c-c2a9-4d59-9753-647d551f2145': '6',\n",
              " '84d6d9a7-eba5-4639-8cc0-0213fc37e6f2': '2',\n",
              " 'eb2bbddf-b648-4a40-a7d1-6e541aee6fe5': '6',\n",
              " '2b540400-6d3f-4a50-8c71-52ecc75294af': '6',\n",
              " '357d769e-2148-404e-aa6d-a33b85d2ef9d': '5',\n",
              " '64a1dc80-d435-43d2-abe2-21baa906c462': '4',\n",
              " 'df02387c-789a-4dda-8062-c8a0e85673e5': '1',\n",
              " '9e6235aa-c8ef-4690-8e2d-9d01be7997e1': '6',\n",
              " 'c631b237-18de-48a6-9bca-66c70741dcb8': '6',\n",
              " 'f79a9dad-a983-4502-8004-a0c7e4d55885': '6',\n",
              " 'e0af9ced-c0fd-4cae-8664-d35acbd7f594': '3',\n",
              " '995cdebc-3dc5-460e-82db-019b8afa4fad': '3',\n",
              " 'b7b79162-1b43-4c16-a97d-eb73a0c69ad7': '6',\n",
              " 'b080958e-7bcb-49bf-9c76-3a2a2ec30cc5': '3',\n",
              " 'b1e99b5d-7e79-4b48-a694-b1e1343207c1': '6',\n",
              " 'f4187e84-32ef-43c0-98f7-8e8ebec052bc': '4',\n",
              " '0bf17f5b-f52c-42ef-b771-0187588ad2de': '4',\n",
              " '11cd15be-5674-4b46-900b-1a38dda972c6': '6',\n",
              " '9774c8c8-f1ed-421b-ba46-bfe18ac13115': '6',\n",
              " 'f016e359-280a-4271-b9b7-81b991a910f2': '6',\n",
              " '3aa640cd-0338-4eb7-9170-315d96f1d866': '6',\n",
              " 'e11d7c9a-c3dc-4be5-bfc1-5b2a04dee433': '6',\n",
              " 'b44a46ba-15e0-4574-a49e-f8f5ae77f377': '5',\n",
              " '3ed0f70b-ead6-48db-80b5-ffb96c366f43': '3',\n",
              " '1f8145e6-32bb-4dc9-8768-e6e9b1e4aac8': '6',\n",
              " 'c76d860d-ee6a-4771-a9e9-4bf5c701a738': '6',\n",
              " '7561d3a8-3067-4c6e-8068-9c5b258c5bcc': '6',\n",
              " '4cc3fc6b-11d5-41fa-b5e1-12a20aef633a': '6',\n",
              " '4f5df1af-160c-4ddd-832b-8d3aa7a7f742': '0',\n",
              " '7b9f06e0-b2b6-4f65-945d-057ddf00117d': '3',\n",
              " '3beacfb6-1686-422a-8606-f7c6d268c8e5': '2',\n",
              " 'a43d606d-d32a-4c3f-b771-a4c6914e5de0': '6',\n",
              " 'e7c2e9c4-3c7c-4e96-8373-48d68580b1de': '1',\n",
              " '8d1199bd-4e24-460e-9a37-dbdb039f97e0': '6',\n",
              " 'a3791f32-5946-4daf-b5ab-1271af3d7945': '3',\n",
              " '56821551-4f53-47a0-9b6d-ead29d286dfc': '6',\n",
              " '4ac94aef-54bf-43e0-9918-82935ff1c733': '6',\n",
              " '63f074b1-95d6-453f-a5bd-513cc428ebf8': '6',\n",
              " 'c1d263da-4a45-483f-9fc2-5d331ed56677': '2',\n",
              " '3944ee23-3ff7-4542-888c-bcbe1f444ae4': '6',\n",
              " 'fbd32bc0-d1a1-450b-99c9-e61c4f51d540': '4',\n",
              " 'b98c22bf-593a-4c69-b214-504fc68232ba': '6',\n",
              " '403ad9da-3bd1-443b-b1b5-977323f9dbe6': '6',\n",
              " 'f9847eff-dc78-4d8e-8745-2f0c9eb2f942': '3',\n",
              " '981905df-47de-42fa-9269-21fdaec72263': '6',\n",
              " 'd8f25989-8970-46c3-b308-eefa1a2b3ce4': '3',\n",
              " 'c11e1778-f8c5-484e-8813-fb9ebffc36bf': '6',\n",
              " 'c39f0a7f-3a97-439f-84b6-34c3b377f9d6': '6',\n",
              " 'a76e7fc9-c5b9-4dbf-ae51-882776dd05c9': '6',\n",
              " '2ddaa36c-a210-4f78-a32d-c2bc3c04fe0a': '3',\n",
              " 'e1dd8ac0-ca09-4fc9-bdc2-e13e225c6b17': '6',\n",
              " 'f92ae154-51c4-42d7-a267-c97eb2a7851c': '3',\n",
              " 'f839b910-866f-4dad-9d5a-3aecdf9e7744': '6',\n",
              " '9c1853a5-505e-4f99-885e-bee96637a443': '6',\n",
              " 'ac830892-6e94-40ea-910d-5285fc1c06ae': '0',\n",
              " '158922c9-ac47-415e-94c2-d9adcfbe509c': '4',\n",
              " '631f1b7a-3ea4-4dd3-9e2d-81dcce788dbe': '4',\n",
              " '70ecdc51-afe2-4811-8f13-b3b581d8cd6b': '6',\n",
              " 'dd70c031-1dd9-4410-bd67-220996cb1788': '6',\n",
              " '55984454-e39e-43ff-b502-1bf28c469a5f': '5',\n",
              " 'f6698a19-2354-4f1a-ad8f-7a4c39602719': '2',\n",
              " 'f06efcc5-0c70-470e-b20c-7fed7157fdce': '6',\n",
              " '0b546103-eb69-4778-8ce7-38c1f69c9217': '3',\n",
              " 'f7b09f36-fcb3-4aa0-89de-f8a96c762125': '3',\n",
              " 'cdacda39-01a2-426f-bdfd-d066c45409d1': '4',\n",
              " '42935f90-32f1-4e0d-a996-e3aff5baa7b9': '6',\n",
              " 'f60c285b-2392-42aa-91e3-40bae8d4ab32': '6',\n",
              " '3b92d557-bb77-43c8-8359-6270197d86a7': '4',\n",
              " '4c281894-08d9-48aa-9317-5559f6c96388': '5',\n",
              " 'c169828f-526d-4292-9002-600fab2938f2': '1',\n",
              " 'db052a91-9b4f-4041-bad5-de7b84aef38b': '4',\n",
              " '09726b64-488b-48dc-b44a-87a0c3a8f6a3': '6',\n",
              " '0d097254-9d9a-4348-bcda-73b534ff27c9': '4',\n",
              " '7dd9b57d-e6be-46d9-8fc7-6b884dd6fb01': '4',\n",
              " '07159490-a60b-4512-9538-4357d145f5ff': '6',\n",
              " '36ec2b24-7a41-40a7-ae76-0f02e19c32c7': '2',\n",
              " 'c1fd2ce7-860e-4f4e-9c7c-594988e3d12e': '4',\n",
              " 'd4cdb219-fdba-4e75-8068-55a08fee7cd8': '3',\n",
              " 'fc883ad4-7cbd-4697-8df6-0bd4c85c9d60': '6',\n",
              " '50d7fae0-e90d-41a6-a1c8-57b9c3e13977': '2',\n",
              " '18e0199f-a362-4536-91a4-4c6812a50e26': '3',\n",
              " '9da3f5bd-5cb2-40b8-b754-b6a331a40d11': '6',\n",
              " '900459c3-afec-4283-85e2-af92cbc41d17': '4',\n",
              " 'f9b08f7e-bedc-487e-87c0-6d7177ad96b8': '6',\n",
              " 'b5c514f2-f608-432c-8c1f-fcf2a490d9c1': '6',\n",
              " '95ec2f8c-838c-452c-ab8d-31c05f4f0041': '6',\n",
              " 'd8d0ea90-b74c-481b-9f69-b01fe63e78f2': '6',\n",
              " '5fce955d-1068-40b3-afc3-111f8c22c9f9': '3',\n",
              " 'f3a000be-07c9-44ad-8ff0-b89a9a1070dd': '4',\n",
              " '84d3963b-cfed-450c-88ab-ca853273d15c': '3',\n",
              " '7b36184c-5541-44d9-9200-8057bd3cf4ef': '6',\n",
              " 'aa851836-415b-4a18-b660-99a395976285': '6'}"
            ]
          },
          "metadata": {},
          "execution_count": 44
        }
      ]
    },
    {
      "cell_type": "code",
      "source": [
        "with open(\"solution_vit_no_pretrained_dataResearch.csv\", \"w\") as f:\n",
        "    f.write(\"id,class\\n\")\n",
        "    for name in answers_final:\n",
        "        f.write(f\"{name},{answers_final[name]}\\n\")"
      ],
      "metadata": {
        "id": "U3OnrWsmUxDo"
      },
      "execution_count": 45,
      "outputs": []
    },
    {
      "cell_type": "code",
      "source": [],
      "metadata": {
        "id": "XNHnSY8i_BmV"
      },
      "execution_count": null,
      "outputs": []
    }
  ]
}