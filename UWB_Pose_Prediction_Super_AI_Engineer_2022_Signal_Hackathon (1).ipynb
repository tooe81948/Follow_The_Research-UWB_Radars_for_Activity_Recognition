{
  "cells": [
    {
      "cell_type": "code",
      "execution_count": null,
      "metadata": {
        "colab": {
          "base_uri": "https://localhost:8080/"
        },
        "id": "ixaxM2PL59oM",
        "outputId": "96ec1435-a292-4754-f9d7-d91f54c1cdab"
      },
      "outputs": [
        {
          "output_type": "stream",
          "name": "stdout",
          "text": [
            "Tue Mar  7 08:16:18 2023       \n",
            "+-----------------------------------------------------------------------------+\n",
            "| NVIDIA-SMI 525.85.12    Driver Version: 525.85.12    CUDA Version: 12.0     |\n",
            "|-------------------------------+----------------------+----------------------+\n",
            "| GPU  Name        Persistence-M| Bus-Id        Disp.A | Volatile Uncorr. ECC |\n",
            "| Fan  Temp  Perf  Pwr:Usage/Cap|         Memory-Usage | GPU-Util  Compute M. |\n",
            "|                               |                      |               MIG M. |\n",
            "|===============================+======================+======================|\n",
            "|   0  Tesla T4            Off  | 00000000:00:04.0 Off |                    0 |\n",
            "| N/A   62C    P0    29W /  70W |      0MiB / 15360MiB |      0%      Default |\n",
            "|                               |                      |                  N/A |\n",
            "+-------------------------------+----------------------+----------------------+\n",
            "                                                                               \n",
            "+-----------------------------------------------------------------------------+\n",
            "| Processes:                                                                  |\n",
            "|  GPU   GI   CI        PID   Type   Process name                  GPU Memory |\n",
            "|        ID   ID                                                   Usage      |\n",
            "|=============================================================================|\n",
            "|  No running processes found                                                 |\n",
            "+-----------------------------------------------------------------------------+\n"
          ]
        }
      ],
      "source": [
        "!nvidia-smi"
      ]
    },
    {
      "cell_type": "markdown",
      "metadata": {
        "id": "ImiMDRxKDOFN"
      },
      "source": [
        "#Install Kaggle Library"
      ]
    },
    {
      "cell_type": "code",
      "execution_count": 1,
      "metadata": {
        "id": "D9b5VP5i_zND"
      },
      "outputs": [],
      "source": [
        "!pip install -q kaggle"
      ]
    },
    {
      "cell_type": "markdown",
      "metadata": {
        "id": "QoYDa_BBDTSU"
      },
      "source": [
        "#Mouth Google Drive"
      ]
    },
    {
      "cell_type": "code",
      "execution_count": 2,
      "metadata": {
        "colab": {
          "base_uri": "https://localhost:8080/"
        },
        "id": "fgwu4DxXAmOG",
        "outputId": "98247d09-be66-421d-fcae-c872be4163ce"
      },
      "outputs": [
        {
          "output_type": "stream",
          "name": "stdout",
          "text": [
            "Mounted at /content/drive\n"
          ]
        }
      ],
      "source": [
        "from google.colab import drive\n",
        "drive.mount('/content/drive')"
      ]
    },
    {
      "cell_type": "markdown",
      "metadata": {
        "id": "mJ3IUF3QDw_C"
      },
      "source": [
        "#Kaggle API"
      ]
    },
    {
      "cell_type": "code",
      "execution_count": 3,
      "metadata": {
        "colab": {
          "base_uri": "https://localhost:8080/"
        },
        "id": "QxicDs67AcYu",
        "outputId": "a7941309-5cc7-448c-bbc5-8d2b3ac6dc69"
      },
      "outputs": [
        {
          "output_type": "stream",
          "name": "stdout",
          "text": [
            "ref                                                        title                                        size  lastUpdated          downloadCount  voteCount  usabilityRating  \n",
            "---------------------------------------------------------  ------------------------------------------  -----  -------------------  -------------  ---------  ---------------  \n",
            "themrityunjaypathak/covid-cases-and-deaths-worldwide       Covid Cases and Deaths WorldWide              8KB  2023-02-01 12:22:51           9728        324  1.0              \n",
            "datascientistanna/customers-dataset                        Shop Customer Data                           23KB  2023-02-07 18:42:21           8199        201  1.0              \n",
            "justin2028/unemployment-in-america-per-us-state            Unemployment in America, Per US State       826KB  2023-03-02 07:26:03            699         42  1.0              \n",
            "anas123siddiqui/mobiles                                    Mobiles                                      59KB  2023-02-18 16:37:24           1311         41  1.0              \n",
            "amaanansari09/top-100-songs                                Top 100 songs                                 6KB  2023-02-16 18:55:35           2586         82  1.0              \n",
            "thedevastator/airbnb-prices-in-european-cities             Airbnb Prices in European Cities              4MB  2023-02-20 09:48:04           2710         58  1.0              \n",
            "rkiattisak/salaly-prediction-for-beginer                   Salary prediction for beginner                3KB  2023-03-07 02:45:11            324         27  1.0              \n",
            "nikhilmahajan29/crop-production-statistics-india           Crop Production Statistics - India            3MB  2023-02-28 18:45:13            856         31  1.0              \n",
            "rajugc/imdb-top-250-movies-dataset                         IMDB Top 250 Movies Dataset                  52KB  2023-02-11 16:02:01           3438         80  1.0              \n",
            "karkavelrajaj/amazon-sales-dataset                         Amazon Sales Dataset                          2MB  2023-01-17 06:21:15          10479        152  1.0              \n",
            "ulrikthygepedersen/mushroom-attributes                     Mushroom Attributes                          58KB  2023-02-10 08:58:02            823         28  1.0              \n",
            "rajkumarpandey02/countries-by-carbon-dioxide-emissions     Countries by Carbon Dioxide Emissions.        7KB  2023-02-25 17:51:36            867         35  1.0              \n",
            "shrikrishnaparab/forbes-billionaires-and-companies-2022    Forbes Billionaires and Companies 2022      735KB  2023-02-17 06:15:43            836         22  1.0              \n",
            "niraliivaghani/chatbot-dataset                             Chatbot dataset                               5KB  2023-02-19 05:49:34            974         34  1.0              \n",
            "thedevastator/bigmart-product-sales-factors                BigMart Product Sales Factors               367KB  2023-02-10 10:36:55            903         27  0.88235295       \n",
            "warcoder/earthquake-dataset                                Earthquake dataset                           35KB  2023-02-26 09:59:04            764         31  1.0              \n",
            "belayethossainds/the-worlds-billionaires-dataset-19872022  The World's Billionaires Dataset 1987~2022    5KB  2023-02-23 07:14:19            535         28  1.0              \n",
            "thedevastator/domestic-food-prices-after-covid-19          Domestic Food Prices After COVID-19           1MB  2023-02-13 01:45:15           2413         45  1.0              \n",
            "warcoder/dog-breeds-details                                Dog breeds details                            3KB  2023-03-02 14:01:08            677         29  0.9411765        \n",
            "dansbecker/melbourne-housing-snapshot                      Melbourne Housing Snapshot                  451KB  2018-06-05 12:52:24         109030       1222  0.7058824        \n",
            "Downloading uwb-pose-prediction.zip to /content\n",
            "100% 987M/987M [00:45<00:00, 21.2MB/s]\n",
            "100% 987M/987M [00:45<00:00, 22.7MB/s]\n"
          ]
        }
      ],
      "source": [
        "!mkdir ~/.kaggle\n",
        "!cp /content/drive/MyDrive/Kaggle/kaggle.json ~/.kaggle/ #copy api key ---- depend on your directory -- my directory is .../colab/..\n",
        "!chmod 600 ~/.kaggle/kaggle.json\n",
        "!kaggle datasets list\n",
        "!kaggle competitions download -c uwb-pose-prediction #download competition dataset"
      ]
    },
    {
      "cell_type": "code",
      "execution_count": 4,
      "metadata": {
        "id": "1yPdLoJeCcwc"
      },
      "outputs": [],
      "source": [
        "!unzip -q /content/uwb-pose-prediction.zip"
      ]
    },
    {
      "cell_type": "markdown",
      "metadata": {
        "id": "1hSgTVUTEHJ5"
      },
      "source": [
        "#DATA"
      ]
    },
    {
      "cell_type": "code",
      "source": [
        "import pandas as pd\n",
        "import numpy as np\n",
        "import matplotlib.pyplot as plt"
      ],
      "metadata": {
        "id": "ZmFTD39EOjZn"
      },
      "execution_count": 5,
      "outputs": []
    },
    {
      "cell_type": "code",
      "source": [
        "y_train = pd.read_csv(\"/content/annotations.csv\")\n",
        "\n",
        "# ตรวจสอบจำนวนข้อมูลในแต่ละคลาส\n",
        "for class_label, count in y_train[\"class\"].value_counts().items():\n",
        "    print(f\"Class {class_label}: {count}\")\n",
        "\n",
        "del class_label, count\n",
        "\n",
        "# นำข้อมูลมาทำเป็น dict ตัวอย่าง \"id\" : \"class\"\n",
        "y_train_dict = {}\n",
        "for sclass,id in zip(y_train[\"class\"],y_train[\"id\"]):\n",
        "    y_train_dict[id] = sclass"
      ],
      "metadata": {
        "colab": {
          "base_uri": "https://localhost:8080/"
        },
        "id": "pkzzuP1GTo1r",
        "outputId": "1e7dda0a-97e1-4ba8-f8da-1880aaab3597"
      },
      "execution_count": 6,
      "outputs": [
        {
          "output_type": "stream",
          "name": "stdout",
          "text": [
            "Class 6: 121\n",
            "Class 4: 116\n",
            "Class 3: 111\n",
            "Class 5: 107\n",
            "Class 1: 99\n",
            "Class 0: 50\n",
            "Class 2: 43\n"
          ]
        }
      ]
    },
    {
      "cell_type": "code",
      "source": [
        "# ตรวจสอบรายละเอียดของข้อมูลตัวอย่าง\n",
        "data = np.load('/content/train/train/001b0660-4c6e-4d07-8cd5-cd63578512f7.npy')\n",
        "print(\"Data shape:\", data.shape)\n",
        "print(\"Data type:\", data.dtype)\n",
        "print(\"Class Data type:\", y_train_dict[\"001b0660-4c6e-4d07-8cd5-cd63578512f7\"] ) \n",
        "\n",
        "del data"
      ],
      "metadata": {
        "colab": {
          "base_uri": "https://localhost:8080/"
        },
        "id": "KQIwqC3DTe2D",
        "outputId": "b46c38ce-bf3e-40ad-f993-2b435153e909"
      },
      "execution_count": 7,
      "outputs": [
        {
          "output_type": "stream",
          "name": "stdout",
          "text": [
            "Data shape: (2560, 56)\n",
            "Data type: complex128\n",
            "Class Data type: 2\n"
          ]
        }
      ]
    },
    {
      "cell_type": "code",
      "source": [
        "#path\n",
        "from pathlib import Path\n",
        "path = Path(\"/content/train/train\")"
      ],
      "metadata": {
        "id": "uIM9RPp0lqnq"
      },
      "execution_count": 8,
      "outputs": []
    },
    {
      "cell_type": "code",
      "source": [
        "new_columns_data = []\n",
        "for namenpy in y_train[\"id\"]:\n",
        "    data = np.abs(np.load(path / (namenpy + '.npy')))\n",
        "    # stretched = np.transpose(data[:,:])\n",
        "    new_columns_data.append(data)\n",
        "\n",
        "df = y_train.assign(data_in_file=new_columns_data)\n",
        "df = df.reindex(columns= ['id', 'data_in_file' ,'class'])\n",
        "\n",
        "# del namenpy\n",
        "# del new_columns_data\n",
        "\n",
        "df"
      ],
      "metadata": {
        "colab": {
          "base_uri": "https://localhost:8080/",
          "height": 424
        },
        "id": "sJBSz94Dn01Y",
        "outputId": "0e028424-47c9-4dff-8515-c882a7b73369"
      },
      "execution_count": null,
      "outputs": [
        {
          "output_type": "execute_result",
          "data": {
            "text/plain": [
              "                                       id  \\\n",
              "0    80a8dc1d-b216-469c-91b1-fc257562a883   \n",
              "1    3ab012da-927a-40d6-95f8-5a2f96dad360   \n",
              "2    eef92f84-5127-4063-a4a2-fee4035b1ac7   \n",
              "3    8d562739-6502-4a6c-8b83-e029b795f685   \n",
              "4    404c2e92-1101-4e62-83bf-a6fdb7dfcb9a   \n",
              "..                                    ...   \n",
              "642  ea5513a7-f18a-4393-8ab4-44e574e70f2b   \n",
              "643  edf4aec3-410d-4ed3-90d2-12671bb4c625   \n",
              "644  297e1f02-66ac-4e4e-849a-da2f1103e8a0   \n",
              "645  926418bb-2e66-4c82-82b1-13a82faf73b4   \n",
              "646  e24e1356-ea01-4189-a3d3-15bfb145b7a5   \n",
              "\n",
              "                                          data_in_file  class  \n",
              "0    [[0.012202567971195172, 0.007821743820105212, ...      0  \n",
              "1    [[0.012186333646188048, 0.007765259713549852, ...      0  \n",
              "2    [[0.01198236827281207, 0.007601205018474889, 0...      0  \n",
              "3    [[0.012418692718646231, 0.007921507902277426, ...      0  \n",
              "4    [[0.01219113137799641, 0.007764052098562812, 0...      0  \n",
              "..                                                 ...    ...  \n",
              "642  [[0.011620293445918651, 0.0071988019798935035,...      4  \n",
              "643  [[0.011778157238745621, 0.007690166041238196, ...      4  \n",
              "644  [[0.012107104116514944, 0.008053828546389809, ...      4  \n",
              "645  [[0.011852193874462505, 0.007764038305035135, ...      4  \n",
              "646  [[0.012077310633770409, 0.007983259690918579, ...      4  \n",
              "\n",
              "[647 rows x 3 columns]"
            ],
            "text/html": [
              "\n",
              "  <div id=\"df-08a7a2b8-4271-431e-b01d-b4d09baa25fd\">\n",
              "    <div class=\"colab-df-container\">\n",
              "      <div>\n",
              "<style scoped>\n",
              "    .dataframe tbody tr th:only-of-type {\n",
              "        vertical-align: middle;\n",
              "    }\n",
              "\n",
              "    .dataframe tbody tr th {\n",
              "        vertical-align: top;\n",
              "    }\n",
              "\n",
              "    .dataframe thead th {\n",
              "        text-align: right;\n",
              "    }\n",
              "</style>\n",
              "<table border=\"1\" class=\"dataframe\">\n",
              "  <thead>\n",
              "    <tr style=\"text-align: right;\">\n",
              "      <th></th>\n",
              "      <th>id</th>\n",
              "      <th>data_in_file</th>\n",
              "      <th>class</th>\n",
              "    </tr>\n",
              "  </thead>\n",
              "  <tbody>\n",
              "    <tr>\n",
              "      <th>0</th>\n",
              "      <td>80a8dc1d-b216-469c-91b1-fc257562a883</td>\n",
              "      <td>[[0.012202567971195172, 0.007821743820105212, ...</td>\n",
              "      <td>0</td>\n",
              "    </tr>\n",
              "    <tr>\n",
              "      <th>1</th>\n",
              "      <td>3ab012da-927a-40d6-95f8-5a2f96dad360</td>\n",
              "      <td>[[0.012186333646188048, 0.007765259713549852, ...</td>\n",
              "      <td>0</td>\n",
              "    </tr>\n",
              "    <tr>\n",
              "      <th>2</th>\n",
              "      <td>eef92f84-5127-4063-a4a2-fee4035b1ac7</td>\n",
              "      <td>[[0.01198236827281207, 0.007601205018474889, 0...</td>\n",
              "      <td>0</td>\n",
              "    </tr>\n",
              "    <tr>\n",
              "      <th>3</th>\n",
              "      <td>8d562739-6502-4a6c-8b83-e029b795f685</td>\n",
              "      <td>[[0.012418692718646231, 0.007921507902277426, ...</td>\n",
              "      <td>0</td>\n",
              "    </tr>\n",
              "    <tr>\n",
              "      <th>4</th>\n",
              "      <td>404c2e92-1101-4e62-83bf-a6fdb7dfcb9a</td>\n",
              "      <td>[[0.01219113137799641, 0.007764052098562812, 0...</td>\n",
              "      <td>0</td>\n",
              "    </tr>\n",
              "    <tr>\n",
              "      <th>...</th>\n",
              "      <td>...</td>\n",
              "      <td>...</td>\n",
              "      <td>...</td>\n",
              "    </tr>\n",
              "    <tr>\n",
              "      <th>642</th>\n",
              "      <td>ea5513a7-f18a-4393-8ab4-44e574e70f2b</td>\n",
              "      <td>[[0.011620293445918651, 0.0071988019798935035,...</td>\n",
              "      <td>4</td>\n",
              "    </tr>\n",
              "    <tr>\n",
              "      <th>643</th>\n",
              "      <td>edf4aec3-410d-4ed3-90d2-12671bb4c625</td>\n",
              "      <td>[[0.011778157238745621, 0.007690166041238196, ...</td>\n",
              "      <td>4</td>\n",
              "    </tr>\n",
              "    <tr>\n",
              "      <th>644</th>\n",
              "      <td>297e1f02-66ac-4e4e-849a-da2f1103e8a0</td>\n",
              "      <td>[[0.012107104116514944, 0.008053828546389809, ...</td>\n",
              "      <td>4</td>\n",
              "    </tr>\n",
              "    <tr>\n",
              "      <th>645</th>\n",
              "      <td>926418bb-2e66-4c82-82b1-13a82faf73b4</td>\n",
              "      <td>[[0.011852193874462505, 0.007764038305035135, ...</td>\n",
              "      <td>4</td>\n",
              "    </tr>\n",
              "    <tr>\n",
              "      <th>646</th>\n",
              "      <td>e24e1356-ea01-4189-a3d3-15bfb145b7a5</td>\n",
              "      <td>[[0.012077310633770409, 0.007983259690918579, ...</td>\n",
              "      <td>4</td>\n",
              "    </tr>\n",
              "  </tbody>\n",
              "</table>\n",
              "<p>647 rows × 3 columns</p>\n",
              "</div>\n",
              "      <button class=\"colab-df-convert\" onclick=\"convertToInteractive('df-08a7a2b8-4271-431e-b01d-b4d09baa25fd')\"\n",
              "              title=\"Convert this dataframe to an interactive table.\"\n",
              "              style=\"display:none;\">\n",
              "        \n",
              "  <svg xmlns=\"http://www.w3.org/2000/svg\" height=\"24px\"viewBox=\"0 0 24 24\"\n",
              "       width=\"24px\">\n",
              "    <path d=\"M0 0h24v24H0V0z\" fill=\"none\"/>\n",
              "    <path d=\"M18.56 5.44l.94 2.06.94-2.06 2.06-.94-2.06-.94-.94-2.06-.94 2.06-2.06.94zm-11 1L8.5 8.5l.94-2.06 2.06-.94-2.06-.94L8.5 2.5l-.94 2.06-2.06.94zm10 10l.94 2.06.94-2.06 2.06-.94-2.06-.94-.94-2.06-.94 2.06-2.06.94z\"/><path d=\"M17.41 7.96l-1.37-1.37c-.4-.4-.92-.59-1.43-.59-.52 0-1.04.2-1.43.59L10.3 9.45l-7.72 7.72c-.78.78-.78 2.05 0 2.83L4 21.41c.39.39.9.59 1.41.59.51 0 1.02-.2 1.41-.59l7.78-7.78 2.81-2.81c.8-.78.8-2.07 0-2.86zM5.41 20L4 18.59l7.72-7.72 1.47 1.35L5.41 20z\"/>\n",
              "  </svg>\n",
              "      </button>\n",
              "      \n",
              "  <style>\n",
              "    .colab-df-container {\n",
              "      display:flex;\n",
              "      flex-wrap:wrap;\n",
              "      gap: 12px;\n",
              "    }\n",
              "\n",
              "    .colab-df-convert {\n",
              "      background-color: #E8F0FE;\n",
              "      border: none;\n",
              "      border-radius: 50%;\n",
              "      cursor: pointer;\n",
              "      display: none;\n",
              "      fill: #1967D2;\n",
              "      height: 32px;\n",
              "      padding: 0 0 0 0;\n",
              "      width: 32px;\n",
              "    }\n",
              "\n",
              "    .colab-df-convert:hover {\n",
              "      background-color: #E2EBFA;\n",
              "      box-shadow: 0px 1px 2px rgba(60, 64, 67, 0.3), 0px 1px 3px 1px rgba(60, 64, 67, 0.15);\n",
              "      fill: #174EA6;\n",
              "    }\n",
              "\n",
              "    [theme=dark] .colab-df-convert {\n",
              "      background-color: #3B4455;\n",
              "      fill: #D2E3FC;\n",
              "    }\n",
              "\n",
              "    [theme=dark] .colab-df-convert:hover {\n",
              "      background-color: #434B5C;\n",
              "      box-shadow: 0px 1px 3px 1px rgba(0, 0, 0, 0.15);\n",
              "      filter: drop-shadow(0px 1px 2px rgba(0, 0, 0, 0.3));\n",
              "      fill: #FFFFFF;\n",
              "    }\n",
              "  </style>\n",
              "\n",
              "      <script>\n",
              "        const buttonEl =\n",
              "          document.querySelector('#df-08a7a2b8-4271-431e-b01d-b4d09baa25fd button.colab-df-convert');\n",
              "        buttonEl.style.display =\n",
              "          google.colab.kernel.accessAllowed ? 'block' : 'none';\n",
              "\n",
              "        async function convertToInteractive(key) {\n",
              "          const element = document.querySelector('#df-08a7a2b8-4271-431e-b01d-b4d09baa25fd');\n",
              "          const dataTable =\n",
              "            await google.colab.kernel.invokeFunction('convertToInteractive',\n",
              "                                                     [key], {});\n",
              "          if (!dataTable) return;\n",
              "\n",
              "          const docLinkHtml = 'Like what you see? Visit the ' +\n",
              "            '<a target=\"_blank\" href=https://colab.research.google.com/notebooks/data_table.ipynb>data table notebook</a>'\n",
              "            + ' to learn more about interactive tables.';\n",
              "          element.innerHTML = '';\n",
              "          dataTable['output_type'] = 'display_data';\n",
              "          await google.colab.output.renderOutput(dataTable, element);\n",
              "          const docLink = document.createElement('div');\n",
              "          docLink.innerHTML = docLinkHtml;\n",
              "          element.appendChild(docLink);\n",
              "        }\n",
              "      </script>\n",
              "    </div>\n",
              "  </div>\n",
              "  "
            ]
          },
          "metadata": {},
          "execution_count": 16
        }
      ]
    },
    {
      "cell_type": "code",
      "source": [
        "np.array(new_columns_data[0]).shape"
      ],
      "metadata": {
        "colab": {
          "base_uri": "https://localhost:8080/"
        },
        "id": "9F5xJLZ1yZjg",
        "outputId": "d2d67b61-0cbf-4d71-b00f-cd11216ff450"
      },
      "execution_count": null,
      "outputs": [
        {
          "output_type": "execute_result",
          "data": {
            "text/plain": [
              "(2560, 56)"
            ]
          },
          "metadata": {},
          "execution_count": 44
        }
      ]
    },
    {
      "cell_type": "code",
      "source": [
        "for idx, value in enumerate(new_columns_data):\n",
        "  if value.shape[0] != 2560:\n",
        "    print(idx,value.shape)"
      ],
      "metadata": {
        "id": "XR3kUQCly-Sk"
      },
      "execution_count": null,
      "outputs": []
    },
    {
      "cell_type": "code",
      "source": [
        "new_columns_data[519] = new_columns_data[519][:2560]"
      ],
      "metadata": {
        "id": "vt8vEoObzEgO"
      },
      "execution_count": null,
      "outputs": []
    },
    {
      "cell_type": "code",
      "source": [
        "X = np.vstack(new_columns_data)\n",
        "y = np.vstack(y_train[\"class\"])\n",
        "X.shape , y.shape"
      ],
      "metadata": {
        "colab": {
          "base_uri": "https://localhost:8080/"
        },
        "id": "ssk8tepeyoao",
        "outputId": "c837fbe5-b5b8-448c-9451-a558796cf305"
      },
      "execution_count": null,
      "outputs": [
        {
          "output_type": "execute_result",
          "data": {
            "text/plain": [
              "((1656320, 56), (647, 1))"
            ]
          },
          "metadata": {},
          "execution_count": 32
        }
      ]
    },
    {
      "cell_type": "code",
      "source": [
        "new_columns_data[0][0]"
      ],
      "metadata": {
        "id": "eKc-oEBV0JoI"
      },
      "execution_count": null,
      "outputs": []
    },
    {
      "cell_type": "code",
      "source": [
        "df['class']"
      ],
      "metadata": {
        "colab": {
          "base_uri": "https://localhost:8080/"
        },
        "id": "AKborXTY2imC",
        "outputId": "44304669-fc63-476c-c7e4-6360840defc1"
      },
      "execution_count": null,
      "outputs": [
        {
          "output_type": "execute_result",
          "data": {
            "text/plain": [
              "0      0\n",
              "1      0\n",
              "2      0\n",
              "3      0\n",
              "4      0\n",
              "      ..\n",
              "642    4\n",
              "643    4\n",
              "644    4\n",
              "645    4\n",
              "646    4\n",
              "Name: class, Length: 647, dtype: int64"
            ]
          },
          "metadata": {},
          "execution_count": 43
        }
      ]
    },
    {
      "cell_type": "markdown",
      "source": [
        "#ML : Machine Learning"
      ],
      "metadata": {
        "id": "hvRpfbGKRPNh"
      }
    },
    {
      "cell_type": "markdown",
      "source": [
        "##MLPClassifier"
      ],
      "metadata": {
        "id": "hBSnyuV8RHKx"
      }
    },
    {
      "cell_type": "code",
      "source": [
        "from sklearn.neural_network import MLPClassifier #4449\n",
        "neural_network = (185, 92, 92, 48, 16)\n",
        "\n",
        "ANN = MLPClassifier(max_iter=50 , activation='relu', learning_rate_init=0.1,solver='adam', alpha=1e-5,\n",
        "                    hidden_layer_sizes=neural_network, random_state=42)\n",
        "ANN.fit(X_train, y_train)"
      ],
      "metadata": {
        "colab": {
          "base_uri": "https://localhost:8080/",
          "height": 127
        },
        "id": "B5C1KTpSP3_8",
        "outputId": "5dda81f6-1556-4226-cb01-a64bcc6f1ca8"
      },
      "execution_count": null,
      "outputs": [
        {
          "output_type": "execute_result",
          "data": {
            "text/plain": [
              "MLPClassifier(alpha=1e-05,\n",
              "              hidden_layer_sizes=(4450, 6675, 4450, 2225, 4450, 3337, 1112, 560,\n",
              "                                  69, 27),\n",
              "              learning_rate_init=0.1, max_iter=50, random_state=42)"
            ],
            "text/html": [
              "<style>#sk-container-id-1 {color: black;background-color: white;}#sk-container-id-1 pre{padding: 0;}#sk-container-id-1 div.sk-toggleable {background-color: white;}#sk-container-id-1 label.sk-toggleable__label {cursor: pointer;display: block;width: 100%;margin-bottom: 0;padding: 0.3em;box-sizing: border-box;text-align: center;}#sk-container-id-1 label.sk-toggleable__label-arrow:before {content: \"▸\";float: left;margin-right: 0.25em;color: #696969;}#sk-container-id-1 label.sk-toggleable__label-arrow:hover:before {color: black;}#sk-container-id-1 div.sk-estimator:hover label.sk-toggleable__label-arrow:before {color: black;}#sk-container-id-1 div.sk-toggleable__content {max-height: 0;max-width: 0;overflow: hidden;text-align: left;background-color: #f0f8ff;}#sk-container-id-1 div.sk-toggleable__content pre {margin: 0.2em;color: black;border-radius: 0.25em;background-color: #f0f8ff;}#sk-container-id-1 input.sk-toggleable__control:checked~div.sk-toggleable__content {max-height: 200px;max-width: 100%;overflow: auto;}#sk-container-id-1 input.sk-toggleable__control:checked~label.sk-toggleable__label-arrow:before {content: \"▾\";}#sk-container-id-1 div.sk-estimator input.sk-toggleable__control:checked~label.sk-toggleable__label {background-color: #d4ebff;}#sk-container-id-1 div.sk-label input.sk-toggleable__control:checked~label.sk-toggleable__label {background-color: #d4ebff;}#sk-container-id-1 input.sk-hidden--visually {border: 0;clip: rect(1px 1px 1px 1px);clip: rect(1px, 1px, 1px, 1px);height: 1px;margin: -1px;overflow: hidden;padding: 0;position: absolute;width: 1px;}#sk-container-id-1 div.sk-estimator {font-family: monospace;background-color: #f0f8ff;border: 1px dotted black;border-radius: 0.25em;box-sizing: border-box;margin-bottom: 0.5em;}#sk-container-id-1 div.sk-estimator:hover {background-color: #d4ebff;}#sk-container-id-1 div.sk-parallel-item::after {content: \"\";width: 100%;border-bottom: 1px solid gray;flex-grow: 1;}#sk-container-id-1 div.sk-label:hover label.sk-toggleable__label {background-color: #d4ebff;}#sk-container-id-1 div.sk-serial::before {content: \"\";position: absolute;border-left: 1px solid gray;box-sizing: border-box;top: 0;bottom: 0;left: 50%;z-index: 0;}#sk-container-id-1 div.sk-serial {display: flex;flex-direction: column;align-items: center;background-color: white;padding-right: 0.2em;padding-left: 0.2em;position: relative;}#sk-container-id-1 div.sk-item {position: relative;z-index: 1;}#sk-container-id-1 div.sk-parallel {display: flex;align-items: stretch;justify-content: center;background-color: white;position: relative;}#sk-container-id-1 div.sk-item::before, #sk-container-id-1 div.sk-parallel-item::before {content: \"\";position: absolute;border-left: 1px solid gray;box-sizing: border-box;top: 0;bottom: 0;left: 50%;z-index: -1;}#sk-container-id-1 div.sk-parallel-item {display: flex;flex-direction: column;z-index: 1;position: relative;background-color: white;}#sk-container-id-1 div.sk-parallel-item:first-child::after {align-self: flex-end;width: 50%;}#sk-container-id-1 div.sk-parallel-item:last-child::after {align-self: flex-start;width: 50%;}#sk-container-id-1 div.sk-parallel-item:only-child::after {width: 0;}#sk-container-id-1 div.sk-dashed-wrapped {border: 1px dashed gray;margin: 0 0.4em 0.5em 0.4em;box-sizing: border-box;padding-bottom: 0.4em;background-color: white;}#sk-container-id-1 div.sk-label label {font-family: monospace;font-weight: bold;display: inline-block;line-height: 1.2em;}#sk-container-id-1 div.sk-label-container {text-align: center;}#sk-container-id-1 div.sk-container {/* jupyter's `normalize.less` sets `[hidden] { display: none; }` but bootstrap.min.css set `[hidden] { display: none !important; }` so we also need the `!important` here to be able to override the default hidden behavior on the sphinx rendered scikit-learn.org. See: https://github.com/scikit-learn/scikit-learn/issues/21755 */display: inline-block !important;position: relative;}#sk-container-id-1 div.sk-text-repr-fallback {display: none;}</style><div id=\"sk-container-id-1\" class=\"sk-top-container\"><div class=\"sk-text-repr-fallback\"><pre>MLPClassifier(alpha=1e-05,\n",
              "              hidden_layer_sizes=(4450, 6675, 4450, 2225, 4450, 3337, 1112, 560,\n",
              "                                  69, 27),\n",
              "              learning_rate_init=0.1, max_iter=50, random_state=42)</pre><b>In a Jupyter environment, please rerun this cell to show the HTML representation or trust the notebook. <br />On GitHub, the HTML representation is unable to render, please try loading this page with nbviewer.org.</b></div><div class=\"sk-container\" hidden><div class=\"sk-item\"><div class=\"sk-estimator sk-toggleable\"><input class=\"sk-toggleable__control sk-hidden--visually\" id=\"sk-estimator-id-1\" type=\"checkbox\" checked><label for=\"sk-estimator-id-1\" class=\"sk-toggleable__label sk-toggleable__label-arrow\">MLPClassifier</label><div class=\"sk-toggleable__content\"><pre>MLPClassifier(alpha=1e-05,\n",
              "              hidden_layer_sizes=(4450, 6675, 4450, 2225, 4450, 3337, 1112, 560,\n",
              "                                  69, 27),\n",
              "              learning_rate_init=0.1, max_iter=50, random_state=42)</pre></div></div></div></div></div>"
            ]
          },
          "metadata": {},
          "execution_count": 6
        }
      ]
    },
    {
      "cell_type": "code",
      "source": [
        "[coef.shape for coef in ANN.coefs_]"
      ],
      "metadata": {
        "colab": {
          "base_uri": "https://localhost:8080/"
        },
        "id": "lBnLX8LVaUN5",
        "outputId": "7da956c9-9617-4867-972d-dce73a8bb740"
      },
      "execution_count": null,
      "outputs": [
        {
          "output_type": "execute_result",
          "data": {
            "text/plain": [
              "[(8891, 4450),\n",
              " (4450, 6675),\n",
              " (6675, 4450),\n",
              " (4450, 2225),\n",
              " (2225, 4450),\n",
              " (4450, 3337),\n",
              " (3337, 1112),\n",
              " (1112, 560),\n",
              " (560, 69),\n",
              " (69, 27),\n",
              " (27, 7)]"
            ]
          },
          "metadata": {},
          "execution_count": 8
        }
      ]
    },
    {
      "cell_type": "code",
      "source": [
        "# Evaluate the performance of the model on the testing data\n",
        "y_pred = ANN.predict(X_test)\n",
        "accuracy = accuracy_score(y_test, y_pred)\n",
        "print(f\"Accuracy: {accuracy}\")\n"
      ],
      "metadata": {
        "colab": {
          "base_uri": "https://localhost:8080/"
        },
        "id": "8gCwQB64rI47",
        "outputId": "cf8a956f-b59d-4562-a9dc-3b7e63946c2e"
      },
      "execution_count": null,
      "outputs": [
        {
          "output_type": "stream",
          "name": "stdout",
          "text": [
            "Accuracy: 0.1346153846153846\n"
          ]
        }
      ]
    },
    {
      "cell_type": "markdown",
      "source": [
        "##KNN"
      ],
      "metadata": {
        "id": "InHbFVAZejW9"
      }
    },
    {
      "cell_type": "code",
      "source": [
        "from sklearn.neighbors import KNeighborsClassifier\n",
        "KNN = KNeighborsClassifier(n_neighbors=7)\n",
        "KNN.fit(X_train, y_train)"
      ],
      "metadata": {
        "colab": {
          "base_uri": "https://localhost:8080/",
          "height": 52
        },
        "id": "joU7HLeKekBr",
        "outputId": "b9f11a5e-1135-46c0-94f9-2dcbcfbcf170"
      },
      "execution_count": null,
      "outputs": [
        {
          "output_type": "execute_result",
          "data": {
            "text/plain": [
              "KNeighborsClassifier(n_neighbors=7)"
            ],
            "text/html": [
              "<style>#sk-container-id-9 {color: black;background-color: white;}#sk-container-id-9 pre{padding: 0;}#sk-container-id-9 div.sk-toggleable {background-color: white;}#sk-container-id-9 label.sk-toggleable__label {cursor: pointer;display: block;width: 100%;margin-bottom: 0;padding: 0.3em;box-sizing: border-box;text-align: center;}#sk-container-id-9 label.sk-toggleable__label-arrow:before {content: \"▸\";float: left;margin-right: 0.25em;color: #696969;}#sk-container-id-9 label.sk-toggleable__label-arrow:hover:before {color: black;}#sk-container-id-9 div.sk-estimator:hover label.sk-toggleable__label-arrow:before {color: black;}#sk-container-id-9 div.sk-toggleable__content {max-height: 0;max-width: 0;overflow: hidden;text-align: left;background-color: #f0f8ff;}#sk-container-id-9 div.sk-toggleable__content pre {margin: 0.2em;color: black;border-radius: 0.25em;background-color: #f0f8ff;}#sk-container-id-9 input.sk-toggleable__control:checked~div.sk-toggleable__content {max-height: 200px;max-width: 100%;overflow: auto;}#sk-container-id-9 input.sk-toggleable__control:checked~label.sk-toggleable__label-arrow:before {content: \"▾\";}#sk-container-id-9 div.sk-estimator input.sk-toggleable__control:checked~label.sk-toggleable__label {background-color: #d4ebff;}#sk-container-id-9 div.sk-label input.sk-toggleable__control:checked~label.sk-toggleable__label {background-color: #d4ebff;}#sk-container-id-9 input.sk-hidden--visually {border: 0;clip: rect(1px 1px 1px 1px);clip: rect(1px, 1px, 1px, 1px);height: 1px;margin: -1px;overflow: hidden;padding: 0;position: absolute;width: 1px;}#sk-container-id-9 div.sk-estimator {font-family: monospace;background-color: #f0f8ff;border: 1px dotted black;border-radius: 0.25em;box-sizing: border-box;margin-bottom: 0.5em;}#sk-container-id-9 div.sk-estimator:hover {background-color: #d4ebff;}#sk-container-id-9 div.sk-parallel-item::after {content: \"\";width: 100%;border-bottom: 1px solid gray;flex-grow: 1;}#sk-container-id-9 div.sk-label:hover label.sk-toggleable__label {background-color: #d4ebff;}#sk-container-id-9 div.sk-serial::before {content: \"\";position: absolute;border-left: 1px solid gray;box-sizing: border-box;top: 0;bottom: 0;left: 50%;z-index: 0;}#sk-container-id-9 div.sk-serial {display: flex;flex-direction: column;align-items: center;background-color: white;padding-right: 0.2em;padding-left: 0.2em;position: relative;}#sk-container-id-9 div.sk-item {position: relative;z-index: 1;}#sk-container-id-9 div.sk-parallel {display: flex;align-items: stretch;justify-content: center;background-color: white;position: relative;}#sk-container-id-9 div.sk-item::before, #sk-container-id-9 div.sk-parallel-item::before {content: \"\";position: absolute;border-left: 1px solid gray;box-sizing: border-box;top: 0;bottom: 0;left: 50%;z-index: -1;}#sk-container-id-9 div.sk-parallel-item {display: flex;flex-direction: column;z-index: 1;position: relative;background-color: white;}#sk-container-id-9 div.sk-parallel-item:first-child::after {align-self: flex-end;width: 50%;}#sk-container-id-9 div.sk-parallel-item:last-child::after {align-self: flex-start;width: 50%;}#sk-container-id-9 div.sk-parallel-item:only-child::after {width: 0;}#sk-container-id-9 div.sk-dashed-wrapped {border: 1px dashed gray;margin: 0 0.4em 0.5em 0.4em;box-sizing: border-box;padding-bottom: 0.4em;background-color: white;}#sk-container-id-9 div.sk-label label {font-family: monospace;font-weight: bold;display: inline-block;line-height: 1.2em;}#sk-container-id-9 div.sk-label-container {text-align: center;}#sk-container-id-9 div.sk-container {/* jupyter's `normalize.less` sets `[hidden] { display: none; }` but bootstrap.min.css set `[hidden] { display: none !important; }` so we also need the `!important` here to be able to override the default hidden behavior on the sphinx rendered scikit-learn.org. See: https://github.com/scikit-learn/scikit-learn/issues/21755 */display: inline-block !important;position: relative;}#sk-container-id-9 div.sk-text-repr-fallback {display: none;}</style><div id=\"sk-container-id-9\" class=\"sk-top-container\"><div class=\"sk-text-repr-fallback\"><pre>KNeighborsClassifier(n_neighbors=7)</pre><b>In a Jupyter environment, please rerun this cell to show the HTML representation or trust the notebook. <br />On GitHub, the HTML representation is unable to render, please try loading this page with nbviewer.org.</b></div><div class=\"sk-container\" hidden><div class=\"sk-item\"><div class=\"sk-estimator sk-toggleable\"><input class=\"sk-toggleable__control sk-hidden--visually\" id=\"sk-estimator-id-9\" type=\"checkbox\" checked><label for=\"sk-estimator-id-9\" class=\"sk-toggleable__label sk-toggleable__label-arrow\">KNeighborsClassifier</label><div class=\"sk-toggleable__content\"><pre>KNeighborsClassifier(n_neighbors=7)</pre></div></div></div></div></div>"
            ]
          },
          "metadata": {},
          "execution_count": 74
        }
      ]
    },
    {
      "cell_type": "code",
      "source": [
        "y_pred = KNN.predict(X_test)\n",
        "accuracy = accuracy_score(y_test, y_pred)\n",
        "print(f\"Accuracy: {accuracy}\")"
      ],
      "metadata": {
        "colab": {
          "base_uri": "https://localhost:8080/"
        },
        "id": "gDMfZPD4emTB",
        "outputId": "ef6b5802-452f-4dae-9459-12f6ef100bd4"
      },
      "execution_count": null,
      "outputs": [
        {
          "output_type": "stream",
          "name": "stdout",
          "text": [
            "Accuracy: 0.48549323017408125\n"
          ]
        }
      ]
    },
    {
      "cell_type": "code",
      "source": [
        "test_loss, test_acc = model.evaluate(X_test, y_test)\n",
        "print('Test accuracy:', test_acc)"
      ],
      "metadata": {
        "id": "szvEIXcclWhi"
      },
      "execution_count": null,
      "outputs": []
    },
    {
      "cell_type": "markdown",
      "source": [
        "##SVM"
      ],
      "metadata": {
        "id": "MEeb9TO-2zYQ"
      }
    },
    {
      "cell_type": "code",
      "source": [
        "from sklearn import svm\n",
        "svm_clf = svm.SVC()\n",
        "svm_clf.fit(X_train, y_train)"
      ],
      "metadata": {
        "id": "pX6IgfBC21zG"
      },
      "execution_count": null,
      "outputs": []
    },
    {
      "cell_type": "code",
      "source": [
        "y_pred = svm_clf.predict(X_test)\n",
        "accuracy = accuracy_score(y_test, y_pred)\n",
        "print(f\"Accuracy: {accuracy}\")"
      ],
      "metadata": {
        "id": "eS-0zmNw24UA"
      },
      "execution_count": null,
      "outputs": []
    },
    {
      "cell_type": "markdown",
      "source": [
        "##DecisionTreeClassifier"
      ],
      "metadata": {
        "id": "3Q9cPiKK26ZM"
      }
    },
    {
      "cell_type": "code",
      "source": [
        "from sklearn import tree\n",
        "from sklearn.metrics import accuracy_score\n",
        "decision_tree = tree.DecisionTreeClassifier()\n",
        "decision_tree.fit(X_train, y_train)"
      ],
      "metadata": {
        "id": "DVuHSZYh27Iq"
      },
      "execution_count": null,
      "outputs": []
    },
    {
      "cell_type": "code",
      "source": [
        "y_pred = decision_tree.predict(X_test)\n",
        "accuracy = accuracy_score(y_test, y_pred)\n",
        "print(f\"Accuracy: {accuracy}\")"
      ],
      "metadata": {
        "id": "qgVRdgpN267E"
      },
      "execution_count": null,
      "outputs": []
    },
    {
      "cell_type": "markdown",
      "source": [
        "##RandomForestClassifier"
      ],
      "metadata": {
        "id": "jlAEhh5g3H03"
      }
    },
    {
      "cell_type": "code",
      "source": [
        "from sklearn.ensemble import RandomForestClassifier\n",
        "from sklearn.datasets import make_classification\n",
        "from sklearn.metrics import accuracy_score\n",
        "X, y = make_classification(n_samples=7000, n_features=4,n_informative=2, n_redundant=1,random_state=19, shuffle=False)\n",
        "RandomForest = RandomForestClassifier(max_depth=190, random_state=19) #47\n",
        "RandomForest.fit(X_train, y_train)"
      ],
      "metadata": {
        "id": "rDQ1Qyy_3JKt"
      },
      "execution_count": null,
      "outputs": []
    },
    {
      "cell_type": "code",
      "source": [
        "y_pred = RandomForest.predict(X_test)\n",
        "accuracy = accuracy_score(y_test, y_pred)\n",
        "print(f\"Accuracy: {accuracy}\")"
      ],
      "metadata": {
        "id": "G4lPiRJO3JC5"
      },
      "execution_count": null,
      "outputs": []
    },
    {
      "cell_type": "markdown",
      "source": [
        "##MultinomialNB"
      ],
      "metadata": {
        "id": "UHhZe67b3Ma-"
      }
    },
    {
      "cell_type": "code",
      "source": [
        "from sklearn.naive_bayes import MultinomialNB\n",
        "from sklearn.metrics import accuracy_score\n",
        "MNB = MultinomialNB()\n",
        "MNB.fit(X_train, y_train)"
      ],
      "metadata": {
        "id": "wl4Aeuus3NIN"
      },
      "execution_count": null,
      "outputs": []
    },
    {
      "cell_type": "code",
      "source": [
        "y_pred = MNB.predict(X_test)\n",
        "accuracy = accuracy_score(y_test, y_pred)\n",
        "print(f\"Accuracy: {accuracy}\")"
      ],
      "metadata": {
        "id": "di0g1kyj3M2E"
      },
      "execution_count": null,
      "outputs": []
    },
    {
      "cell_type": "markdown",
      "source": [
        "## Predict Machine Learning"
      ],
      "metadata": {
        "id": "JG7Ke3g83igQ"
      }
    },
    {
      "cell_type": "code",
      "source": [
        "#path\n",
        "import pandas as pd\n",
        "import numpy as np\n",
        "from pathlib import Path\n",
        "y_test = pd.read_csv(\"/content/sample_submission.csv\")\n",
        "path = Path(\"/content/test/test\")"
      ],
      "metadata": {
        "id": "ERbV4Eps3jpr"
      },
      "execution_count": null,
      "outputs": []
    },
    {
      "cell_type": "code",
      "source": [
        "new_columns_data = []\n",
        "for namenpy in y_test[\"id\"]:\n",
        "    \n",
        "    data = np.load(path / (namenpy + '.npy'))\n",
        "    data = data.flatten().astype(float)\n",
        "    window_size = 10000 #\n",
        "    data_abs = np.abs(data)\n",
        "    stretched = np.transpose(data_abs)\n",
        "    smooth_data = np.convolve(stretched, np.ones(window_size)/window_size, mode='valid')\n",
        "    shrunk_data = smooth_data[::15]\n",
        "    new_columns_data.append(shrunk_data)\n",
        "\n",
        "len(new_columns_data)\n"
      ],
      "metadata": {
        "id": "Q_D9C8iZ3jiB"
      },
      "execution_count": null,
      "outputs": []
    },
    {
      "cell_type": "code",
      "source": [
        "y_pred = svm_clf.predict(new_columns_data)\n",
        "y_pred"
      ],
      "metadata": {
        "id": "Ic5Z7Hi63jYh"
      },
      "execution_count": null,
      "outputs": []
    },
    {
      "cell_type": "code",
      "source": [
        "y_pred = decision_tree.predict(new_columns_data)\n",
        "y_pred"
      ],
      "metadata": {
        "id": "_2e6XHnT3jK7"
      },
      "execution_count": null,
      "outputs": []
    },
    {
      "cell_type": "markdown",
      "source": [],
      "metadata": {
        "id": "Uk9NnFfI22Sz"
      }
    },
    {
      "cell_type": "code",
      "source": [],
      "metadata": {
        "colab": {
          "base_uri": "https://localhost:8080/",
          "height": 513
        },
        "id": "8PvayhYTgnAf",
        "outputId": "a8873d14-ffb0-422f-cdb1-8403e9635f01"
      },
      "execution_count": null,
      "outputs": [
        {
          "output_type": "stream",
          "name": "stderr",
          "text": [
            "<ipython-input-111-3c58251e863c>:4: ComplexWarning: Casting complex values to real discards the imaginary part\n",
            "  data = data.flatten().astype(float)\n",
            "<ipython-input-111-3c58251e863c>:14: VisibleDeprecationWarning: Creating an ndarray from ragged nested sequences (which is a list-or-tuple of lists-or-tuples-or ndarrays with different lengths or shapes) is deprecated. If you meant to do this, you must specify 'dtype=object' when creating the ndarray.\n",
            "  new_columns_data = np.array(new_columns_data)\n"
          ]
        },
        {
          "output_type": "execute_result",
          "data": {
            "text/plain": [
              "                                       id  \\\n",
              "0    80a8dc1d-b216-469c-91b1-fc257562a883   \n",
              "1    3ab012da-927a-40d6-95f8-5a2f96dad360   \n",
              "2    eef92f84-5127-4063-a4a2-fee4035b1ac7   \n",
              "3    8d562739-6502-4a6c-8b83-e029b795f685   \n",
              "4    404c2e92-1101-4e62-83bf-a6fdb7dfcb9a   \n",
              "..                                    ...   \n",
              "642  ea5513a7-f18a-4393-8ab4-44e574e70f2b   \n",
              "643  edf4aec3-410d-4ed3-90d2-12671bb4c625   \n",
              "644  297e1f02-66ac-4e4e-849a-da2f1103e8a0   \n",
              "645  926418bb-2e66-4c82-82b1-13a82faf73b4   \n",
              "646  e24e1356-ea01-4189-a3d3-15bfb145b7a5   \n",
              "\n",
              "                                          data_in_file  class  \n",
              "0    [0.0011546519404864218, 0.0011514434057931472,...      0  \n",
              "1    [0.0010872161380009323, 0.0010851647115415503,...      0  \n",
              "2    [0.0011417296277893944, 0.0011367448791137751,...      0  \n",
              "3    [0.0011804525676436925, 0.0011771609384086672,...      0  \n",
              "4    [0.0010842839329784268, 0.0010857257480844232,...      0  \n",
              "..                                                 ...    ...  \n",
              "642  [0.0009996313740805742, 0.00099415163067327, 0...      4  \n",
              "643  [0.0009401322761291485, 0.0009484679713270029,...      4  \n",
              "644  [0.0014574576230146287, 0.0014906835850483512,...      4  \n",
              "645  [0.0010842526704817857, 0.0010745045268031616,...      4  \n",
              "646  [0.001442192857477636, 0.0014679264045781564, ...      4  \n",
              "\n",
              "[647 rows x 3 columns]"
            ],
            "text/html": [
              "\n",
              "  <div id=\"df-8032c829-a551-4260-9e8d-c4c32951892d\">\n",
              "    <div class=\"colab-df-container\">\n",
              "      <div>\n",
              "<style scoped>\n",
              "    .dataframe tbody tr th:only-of-type {\n",
              "        vertical-align: middle;\n",
              "    }\n",
              "\n",
              "    .dataframe tbody tr th {\n",
              "        vertical-align: top;\n",
              "    }\n",
              "\n",
              "    .dataframe thead th {\n",
              "        text-align: right;\n",
              "    }\n",
              "</style>\n",
              "<table border=\"1\" class=\"dataframe\">\n",
              "  <thead>\n",
              "    <tr style=\"text-align: right;\">\n",
              "      <th></th>\n",
              "      <th>id</th>\n",
              "      <th>data_in_file</th>\n",
              "      <th>class</th>\n",
              "    </tr>\n",
              "  </thead>\n",
              "  <tbody>\n",
              "    <tr>\n",
              "      <th>0</th>\n",
              "      <td>80a8dc1d-b216-469c-91b1-fc257562a883</td>\n",
              "      <td>[0.0011546519404864218, 0.0011514434057931472,...</td>\n",
              "      <td>0</td>\n",
              "    </tr>\n",
              "    <tr>\n",
              "      <th>1</th>\n",
              "      <td>3ab012da-927a-40d6-95f8-5a2f96dad360</td>\n",
              "      <td>[0.0010872161380009323, 0.0010851647115415503,...</td>\n",
              "      <td>0</td>\n",
              "    </tr>\n",
              "    <tr>\n",
              "      <th>2</th>\n",
              "      <td>eef92f84-5127-4063-a4a2-fee4035b1ac7</td>\n",
              "      <td>[0.0011417296277893944, 0.0011367448791137751,...</td>\n",
              "      <td>0</td>\n",
              "    </tr>\n",
              "    <tr>\n",
              "      <th>3</th>\n",
              "      <td>8d562739-6502-4a6c-8b83-e029b795f685</td>\n",
              "      <td>[0.0011804525676436925, 0.0011771609384086672,...</td>\n",
              "      <td>0</td>\n",
              "    </tr>\n",
              "    <tr>\n",
              "      <th>4</th>\n",
              "      <td>404c2e92-1101-4e62-83bf-a6fdb7dfcb9a</td>\n",
              "      <td>[0.0010842839329784268, 0.0010857257480844232,...</td>\n",
              "      <td>0</td>\n",
              "    </tr>\n",
              "    <tr>\n",
              "      <th>...</th>\n",
              "      <td>...</td>\n",
              "      <td>...</td>\n",
              "      <td>...</td>\n",
              "    </tr>\n",
              "    <tr>\n",
              "      <th>642</th>\n",
              "      <td>ea5513a7-f18a-4393-8ab4-44e574e70f2b</td>\n",
              "      <td>[0.0009996313740805742, 0.00099415163067327, 0...</td>\n",
              "      <td>4</td>\n",
              "    </tr>\n",
              "    <tr>\n",
              "      <th>643</th>\n",
              "      <td>edf4aec3-410d-4ed3-90d2-12671bb4c625</td>\n",
              "      <td>[0.0009401322761291485, 0.0009484679713270029,...</td>\n",
              "      <td>4</td>\n",
              "    </tr>\n",
              "    <tr>\n",
              "      <th>644</th>\n",
              "      <td>297e1f02-66ac-4e4e-849a-da2f1103e8a0</td>\n",
              "      <td>[0.0014574576230146287, 0.0014906835850483512,...</td>\n",
              "      <td>4</td>\n",
              "    </tr>\n",
              "    <tr>\n",
              "      <th>645</th>\n",
              "      <td>926418bb-2e66-4c82-82b1-13a82faf73b4</td>\n",
              "      <td>[0.0010842526704817857, 0.0010745045268031616,...</td>\n",
              "      <td>4</td>\n",
              "    </tr>\n",
              "    <tr>\n",
              "      <th>646</th>\n",
              "      <td>e24e1356-ea01-4189-a3d3-15bfb145b7a5</td>\n",
              "      <td>[0.001442192857477636, 0.0014679264045781564, ...</td>\n",
              "      <td>4</td>\n",
              "    </tr>\n",
              "  </tbody>\n",
              "</table>\n",
              "<p>647 rows × 3 columns</p>\n",
              "</div>\n",
              "      <button class=\"colab-df-convert\" onclick=\"convertToInteractive('df-8032c829-a551-4260-9e8d-c4c32951892d')\"\n",
              "              title=\"Convert this dataframe to an interactive table.\"\n",
              "              style=\"display:none;\">\n",
              "        \n",
              "  <svg xmlns=\"http://www.w3.org/2000/svg\" height=\"24px\"viewBox=\"0 0 24 24\"\n",
              "       width=\"24px\">\n",
              "    <path d=\"M0 0h24v24H0V0z\" fill=\"none\"/>\n",
              "    <path d=\"M18.56 5.44l.94 2.06.94-2.06 2.06-.94-2.06-.94-.94-2.06-.94 2.06-2.06.94zm-11 1L8.5 8.5l.94-2.06 2.06-.94-2.06-.94L8.5 2.5l-.94 2.06-2.06.94zm10 10l.94 2.06.94-2.06 2.06-.94-2.06-.94-.94-2.06-.94 2.06-2.06.94z\"/><path d=\"M17.41 7.96l-1.37-1.37c-.4-.4-.92-.59-1.43-.59-.52 0-1.04.2-1.43.59L10.3 9.45l-7.72 7.72c-.78.78-.78 2.05 0 2.83L4 21.41c.39.39.9.59 1.41.59.51 0 1.02-.2 1.41-.59l7.78-7.78 2.81-2.81c.8-.78.8-2.07 0-2.86zM5.41 20L4 18.59l7.72-7.72 1.47 1.35L5.41 20z\"/>\n",
              "  </svg>\n",
              "      </button>\n",
              "      \n",
              "  <style>\n",
              "    .colab-df-container {\n",
              "      display:flex;\n",
              "      flex-wrap:wrap;\n",
              "      gap: 12px;\n",
              "    }\n",
              "\n",
              "    .colab-df-convert {\n",
              "      background-color: #E8F0FE;\n",
              "      border: none;\n",
              "      border-radius: 50%;\n",
              "      cursor: pointer;\n",
              "      display: none;\n",
              "      fill: #1967D2;\n",
              "      height: 32px;\n",
              "      padding: 0 0 0 0;\n",
              "      width: 32px;\n",
              "    }\n",
              "\n",
              "    .colab-df-convert:hover {\n",
              "      background-color: #E2EBFA;\n",
              "      box-shadow: 0px 1px 2px rgba(60, 64, 67, 0.3), 0px 1px 3px 1px rgba(60, 64, 67, 0.15);\n",
              "      fill: #174EA6;\n",
              "    }\n",
              "\n",
              "    [theme=dark] .colab-df-convert {\n",
              "      background-color: #3B4455;\n",
              "      fill: #D2E3FC;\n",
              "    }\n",
              "\n",
              "    [theme=dark] .colab-df-convert:hover {\n",
              "      background-color: #434B5C;\n",
              "      box-shadow: 0px 1px 3px 1px rgba(0, 0, 0, 0.15);\n",
              "      filter: drop-shadow(0px 1px 2px rgba(0, 0, 0, 0.3));\n",
              "      fill: #FFFFFF;\n",
              "    }\n",
              "  </style>\n",
              "\n",
              "      <script>\n",
              "        const buttonEl =\n",
              "          document.querySelector('#df-8032c829-a551-4260-9e8d-c4c32951892d button.colab-df-convert');\n",
              "        buttonEl.style.display =\n",
              "          google.colab.kernel.accessAllowed ? 'block' : 'none';\n",
              "\n",
              "        async function convertToInteractive(key) {\n",
              "          const element = document.querySelector('#df-8032c829-a551-4260-9e8d-c4c32951892d');\n",
              "          const dataTable =\n",
              "            await google.colab.kernel.invokeFunction('convertToInteractive',\n",
              "                                                     [key], {});\n",
              "          if (!dataTable) return;\n",
              "\n",
              "          const docLinkHtml = 'Like what you see? Visit the ' +\n",
              "            '<a target=\"_blank\" href=https://colab.research.google.com/notebooks/data_table.ipynb>data table notebook</a>'\n",
              "            + ' to learn more about interactive tables.';\n",
              "          element.innerHTML = '';\n",
              "          dataTable['output_type'] = 'display_data';\n",
              "          await google.colab.output.renderOutput(dataTable, element);\n",
              "          const docLink = document.createElement('div');\n",
              "          docLink.innerHTML = docLinkHtml;\n",
              "          element.appendChild(docLink);\n",
              "        }\n",
              "      </script>\n",
              "    </div>\n",
              "  </div>\n",
              "  "
            ]
          },
          "metadata": {},
          "execution_count": 111
        }
      ]
    },
    {
      "cell_type": "code",
      "source": [],
      "metadata": {
        "colab": {
          "base_uri": "https://localhost:8080/",
          "height": 415
        },
        "id": "sUXo5Mqpk0aS",
        "outputId": "bf72761d-e6ec-412a-d144-3a9e664104a0"
      },
      "execution_count": null,
      "outputs": [
        {
          "output_type": "error",
          "ename": "ValueError",
          "evalue": "ignored",
          "traceback": [
            "\u001b[0;31m---------------------------------------------------------------------------\u001b[0m",
            "\u001b[0;31mValueError\u001b[0m                                Traceback (most recent call last)",
            "\u001b[0;32m<ipython-input-185-13e1af3d59fa>\u001b[0m in \u001b[0;36m<module>\u001b[0;34m\u001b[0m\n\u001b[1;32m      7\u001b[0m \u001b[0;34m\u001b[0m\u001b[0m\n\u001b[1;32m      8\u001b[0m \u001b[0mmodel\u001b[0m \u001b[0;34m=\u001b[0m \u001b[0mSequential\u001b[0m\u001b[0;34m(\u001b[0m\u001b[0;34m)\u001b[0m\u001b[0;34m\u001b[0m\u001b[0;34m\u001b[0m\u001b[0m\n\u001b[0;32m----> 9\u001b[0;31m \u001b[0mmodel\u001b[0m\u001b[0;34m.\u001b[0m\u001b[0madd\u001b[0m\u001b[0;34m(\u001b[0m\u001b[0mConv3D\u001b[0m\u001b[0;34m(\u001b[0m\u001b[0mfilters\u001b[0m\u001b[0;34m=\u001b[0m\u001b[0;36m32\u001b[0m\u001b[0;34m,\u001b[0m \u001b[0mkernel_size\u001b[0m\u001b[0;34m=\u001b[0m\u001b[0;36m3\u001b[0m\u001b[0;34m,\u001b[0m \u001b[0mactivation\u001b[0m\u001b[0;34m=\u001b[0m\u001b[0;34m'relu'\u001b[0m\u001b[0;34m,\u001b[0m \u001b[0minput_shape\u001b[0m\u001b[0;34m=\u001b[0m\u001b[0;34m(\u001b[0m\u001b[0msize\u001b[0m\u001b[0;34m,\u001b[0m \u001b[0msize\u001b[0m\u001b[0;34m,\u001b[0m \u001b[0;36m4\u001b[0m\u001b[0;34m)\u001b[0m\u001b[0;34m)\u001b[0m\u001b[0;34m)\u001b[0m\u001b[0;34m\u001b[0m\u001b[0;34m\u001b[0m\u001b[0m\n\u001b[0m\u001b[1;32m     10\u001b[0m \u001b[0mmodel\u001b[0m\u001b[0;34m.\u001b[0m\u001b[0madd\u001b[0m\u001b[0;34m(\u001b[0m\u001b[0mMaxPooling3D\u001b[0m\u001b[0;34m(\u001b[0m\u001b[0mpool_size\u001b[0m\u001b[0;34m=\u001b[0m\u001b[0;34m(\u001b[0m\u001b[0;36m2\u001b[0m\u001b[0;34m,\u001b[0m \u001b[0;36m2\u001b[0m\u001b[0;34m)\u001b[0m\u001b[0;34m)\u001b[0m\u001b[0;34m)\u001b[0m\u001b[0;34m\u001b[0m\u001b[0;34m\u001b[0m\u001b[0m\n\u001b[1;32m     11\u001b[0m \u001b[0mmodel\u001b[0m\u001b[0;34m.\u001b[0m\u001b[0madd\u001b[0m\u001b[0;34m(\u001b[0m\u001b[0mConv3D\u001b[0m\u001b[0;34m(\u001b[0m\u001b[0mfilters\u001b[0m\u001b[0;34m=\u001b[0m\u001b[0;36m64\u001b[0m\u001b[0;34m,\u001b[0m \u001b[0mkernel_size\u001b[0m\u001b[0;34m=\u001b[0m\u001b[0;36m3\u001b[0m\u001b[0;34m,\u001b[0m \u001b[0mactivation\u001b[0m\u001b[0;34m=\u001b[0m\u001b[0;34m'relu'\u001b[0m\u001b[0;34m)\u001b[0m\u001b[0;34m)\u001b[0m\u001b[0;34m\u001b[0m\u001b[0;34m\u001b[0m\u001b[0m\n",
            "\u001b[0;32m/usr/local/lib/python3.8/dist-packages/tensorflow/python/trackable/base.py\u001b[0m in \u001b[0;36m_method_wrapper\u001b[0;34m(self, *args, **kwargs)\u001b[0m\n",
            "\u001b[0;32m/usr/local/lib/python3.8/dist-packages/keras/utils/traceback_utils.py\u001b[0m in \u001b[0;36merror_handler\u001b[0;34m(*args, **kwargs)\u001b[0m\n\u001b[1;32m     68\u001b[0m             \u001b[0;31m# To get the full stack trace, call:\u001b[0m\u001b[0;34m\u001b[0m\u001b[0;34m\u001b[0m\u001b[0;34m\u001b[0m\u001b[0m\n\u001b[1;32m     69\u001b[0m             \u001b[0;31m# `tf.debugging.disable_traceback_filtering()`\u001b[0m\u001b[0;34m\u001b[0m\u001b[0;34m\u001b[0m\u001b[0;34m\u001b[0m\u001b[0m\n\u001b[0;32m---> 70\u001b[0;31m             \u001b[0;32mraise\u001b[0m \u001b[0me\u001b[0m\u001b[0;34m.\u001b[0m\u001b[0mwith_traceback\u001b[0m\u001b[0;34m(\u001b[0m\u001b[0mfiltered_tb\u001b[0m\u001b[0;34m)\u001b[0m \u001b[0;32mfrom\u001b[0m \u001b[0;32mNone\u001b[0m\u001b[0;34m\u001b[0m\u001b[0;34m\u001b[0m\u001b[0m\n\u001b[0m\u001b[1;32m     71\u001b[0m         \u001b[0;32mfinally\u001b[0m\u001b[0;34m:\u001b[0m\u001b[0;34m\u001b[0m\u001b[0;34m\u001b[0m\u001b[0m\n\u001b[1;32m     72\u001b[0m             \u001b[0;32mdel\u001b[0m \u001b[0mfiltered_tb\u001b[0m\u001b[0;34m\u001b[0m\u001b[0;34m\u001b[0m\u001b[0m\n",
            "\u001b[0;32m/usr/local/lib/python3.8/dist-packages/keras/engine/input_spec.py\u001b[0m in \u001b[0;36massert_input_compatibility\u001b[0;34m(input_spec, inputs, layer_name)\u001b[0m\n\u001b[1;32m    248\u001b[0m             \u001b[0mndim\u001b[0m \u001b[0;34m=\u001b[0m \u001b[0mx\u001b[0m\u001b[0;34m.\u001b[0m\u001b[0mshape\u001b[0m\u001b[0;34m.\u001b[0m\u001b[0mrank\u001b[0m\u001b[0;34m\u001b[0m\u001b[0;34m\u001b[0m\u001b[0m\n\u001b[1;32m    249\u001b[0m             \u001b[0;32mif\u001b[0m \u001b[0mndim\u001b[0m \u001b[0;32mis\u001b[0m \u001b[0;32mnot\u001b[0m \u001b[0;32mNone\u001b[0m \u001b[0;32mand\u001b[0m \u001b[0mndim\u001b[0m \u001b[0;34m<\u001b[0m \u001b[0mspec\u001b[0m\u001b[0;34m.\u001b[0m\u001b[0mmin_ndim\u001b[0m\u001b[0;34m:\u001b[0m\u001b[0;34m\u001b[0m\u001b[0;34m\u001b[0m\u001b[0m\n\u001b[0;32m--> 250\u001b[0;31m                 raise ValueError(\n\u001b[0m\u001b[1;32m    251\u001b[0m                     \u001b[0;34mf'Input {input_index} of layer \"{layer_name}\" '\u001b[0m\u001b[0;34m\u001b[0m\u001b[0;34m\u001b[0m\u001b[0m\n\u001b[1;32m    252\u001b[0m                     \u001b[0;34m\"is incompatible with the layer: \"\u001b[0m\u001b[0;34m\u001b[0m\u001b[0;34m\u001b[0m\u001b[0m\n",
            "\u001b[0;31mValueError\u001b[0m: Input 0 of layer \"conv3d_3\" is incompatible with the layer: expected min_ndim=5, found ndim=4. Full shape received: (None, 144, 144, 4)"
          ]
        }
      ]
    },
    {
      "cell_type": "code",
      "source": [],
      "metadata": {
        "id": "BL7SgPIecFP3"
      },
      "execution_count": null,
      "outputs": []
    },
    {
      "cell_type": "markdown",
      "source": [
        "#Preprocess Image"
      ],
      "metadata": {
        "id": "_GUCuR_Ez5Pn"
      }
    },
    {
      "cell_type": "code",
      "source": [
        "import os \n",
        "from pathlib import Path\n",
        "path_del = Path(\"/content/drive/MyDrive/SuperAI/Signal/image_heatmap/Train\")\n"
      ],
      "metadata": {
        "id": "-Qs8a9GwxXPz"
      },
      "execution_count": null,
      "outputs": []
    },
    {
      "cell_type": "code",
      "source": [
        "#ลบไฟล์\n",
        "for i in os.listdir(\"/content/drive/MyDrive/SuperAI/Signal/image_heatmap/Train\"):\n",
        "  os.remove(path_del / i)"
      ],
      "metadata": {
        "id": "o3jarKR_O0jk"
      },
      "execution_count": null,
      "outputs": []
    },
    {
      "cell_type": "code",
      "source": [
        "import numpy as np\n",
        "import matplotlib.pyplot as plt\n",
        "\n",
        "for idx,namenpy in enumerate(y_train[\"id\"]):\n",
        "    data = np.load(path / (namenpy + '.npy'))\n",
        "    stretched = np.transpose(data)\n",
        "    fig, ax = plt.subplots(figsize=(15, 15))\n",
        "    plt.imshow(stretched, cmap='hot', interpolation='nearest', aspect=\"auto\")\n",
        "    ax.axis('off')\n",
        "    plt.savefig(f'/content/drive/MyDrive/SuperAI/Signal/image_heatmap/Train/{y_train[\"class\"][idx]}/{namenpy}_heatmap.png', bbox_inches='tight', pad_inches=0)\n",
        "    plt.close(fig)"
      ],
      "metadata": {
        "id": "yflY7bUtwQx8"
      },
      "execution_count": null,
      "outputs": []
    },
    {
      "cell_type": "code",
      "source": [
        "import numpy as np\n",
        "import matplotlib.pyplot as plt\n",
        "\n",
        "# Load the .npy file\n",
        "num = 0\n",
        "data = np.load(f'/content/train/train/{df[\"id\"][num]}.npy')\n",
        "\n",
        "# Convert the data to absolute values\n",
        "data_abs = np.abs(data)\n",
        "stretched = np.transpose(data_abs)\n",
        "\n",
        "# Plot the data as a heatmap\n",
        "fig, ax = plt.subplots(figsize=(15, 15))\n",
        "plt.imshow(stretched, cmap='hot', interpolation='nearest', aspect=\"auto\")\n",
        "# plt.imshow(stretched, cmap='gray', aspect=\"auto\")\n",
        "# ax.axis('off')\n",
        "# plt.savefig('heatmap.png', bbox_inches='tight', pad_inches=0)\n",
        "plt.show()\n"
      ],
      "metadata": {
        "colab": {
          "base_uri": "https://localhost:8080/",
          "height": 863
        },
        "id": "WW3CgKx4TanL",
        "outputId": "51b80c28-f4c2-4e10-b861-b91ebece29e4"
      },
      "execution_count": null,
      "outputs": [
        {
          "output_type": "display_data",
          "data": {
            "text/plain": [
              "<Figure size 1080x1080 with 1 Axes>"
            ],
            "image/png": "[encoded data removed]"
          },
          "metadata": {
            "needs_background": "light"
          }
        }
      ]
    },
    {
      "cell_type": "code",
      "source": [
        "from scipy.ndimage import gaussian_filter\n",
        "\n",
        "# Load the .npy file\n",
        "num = 0\n",
        "data = np.load(f'/content/train/train/{df[\"id\"][num]}.npy')\n",
        "\n",
        "# Convert the data to absolute values\n",
        "data_abs = np.abs(data)\n",
        "stretched = np.transpose(data_abs)\n",
        "\n",
        "# Define the parameters for the Gaussian filter\n",
        "sigma = 2  # 1 Standard deviation of the Gaussian kernel\n",
        "\n",
        "# Apply the Gaussian filter to the data\n",
        "smoothed = gaussian_filter(stretched, sigma=sigma)\n",
        "\n",
        "# Plot the smoothed data as a heatmap\n",
        "fig, ax = plt.subplots(figsize=(15, 15))\n",
        "plt.imshow(smoothed,  interpolation='nearest', aspect=\"auto\")\n",
        "\n",
        "ax.axis('off')\n",
        "# plt.savefig('heatmap.png', bbox_inches='tight', pad_inches=0)\n",
        "plt.show()\n"
      ],
      "metadata": {
        "colab": {
          "base_uri": "https://localhost:8080/",
          "height": 846
        },
        "id": "FS3IgT6jHc5G",
        "outputId": "a3babe64-58c5-43b8-b21c-5b19ba9ebe80"
      },
      "execution_count": null,
      "outputs": [
        {
          "output_type": "display_data",
          "data": {
            "text/plain": [
              "<Figure size 1080x1080 with 1 Axes>"
            ],
            "image/png": "[encoded data removed]"
          },
          "metadata": {
            "needs_background": "light"
          }
        }
      ]
    },
    {
      "cell_type": "markdown",
      "source": [
        "## load image to CNN"
      ],
      "metadata": {
        "id": "tGAOG4QLOsE7"
      }
    },
    {
      "cell_type": "code",
      "source": [
        "from pathlib import Path\n",
        "import pandas as pd\n",
        "import numpy as np\n",
        "import albumentations as A\n",
        "from PIL import Image, ImageOps\n",
        "import glob\n",
        "\n",
        "data_file = pd.read_csv(\"/content/drive/MyDrive/SuperAI/Signal/image_heatmap/annotations.csv\")\n",
        "files = glob.glob(\"/content/drive/MyDrive/SuperAI/Signal/image_heatmap/Train/**/*.png\", recursive=True)\n",
        "data_dict = data_file.set_index('id')['class'].to_dict()\n",
        "len(files)"
      ],
      "metadata": {
        "id": "VKE8oWUvP7QK"
      },
      "execution_count": null,
      "outputs": []
    },
    {
      "cell_type": "code",
      "source": [
        "size = 144\n",
        "data_image = []\n",
        "y_train = []\n",
        "for idx, name in enumerate(files):\n",
        "  file_name = name.split(\"/\")[-1].replace(\"_heatmap.png\",\"\")\n",
        "  # print(data_dict[file_name])\n",
        "  img = Image.open(name)\n",
        "  img = ImageOps.pad(img, (size, size), centering=(0,0))\n",
        "  image_array = np.array(img)\n",
        "  data_image.append(image_array)\n",
        "  y_train.append(data_dict[file_name])\n",
        "  # img.show()\n",
        "  # break\n",
        "\n",
        "data_image = np.array(data_image)\n",
        "Ytrain = np.array(y_train)\n",
        "len(data_image)"
      ],
      "metadata": {
        "colab": {
          "base_uri": "https://localhost:8080/"
        },
        "id": "2spgqjbAOr4o",
        "outputId": "93e7ffb9-c79b-4b6c-8cf6-abccf9b67722"
      },
      "execution_count": null,
      "outputs": [
        {
          "output_type": "execute_result",
          "data": {
            "text/plain": [
              "646"
            ]
          },
          "metadata": {},
          "execution_count": 103
        }
      ]
    },
    {
      "cell_type": "code",
      "source": [
        "!pip install numpy>=1.20 typing-extensions>=4.2.0\n",
        "!pip install -q tensorflow==2.4.1"
      ],
      "metadata": {
        "id": "0e-h9K0HfG9v"
      },
      "execution_count": null,
      "outputs": []
    },
    {
      "cell_type": "code",
      "source": [
        "from sklearn.model_selection import train_test_split\n",
        "x_train, x_val, y_train, y_val = train_test_split( data_image, Ytrain, test_size=0.2, random_state=42)\n",
        "\n",
        "print(f\"x_train shape: {x_train.shape}\")\n",
        "print(f\"y_train shape: {y_train.shape}\")\n",
        "print(f\"x_val shape: {x_val.shape}\")\n",
        "print(f\"y_val shape: {y_val.shape}\")"
      ],
      "metadata": {
        "colab": {
          "base_uri": "https://localhost:8080/"
        },
        "id": "WUwpVeYLUYkx",
        "outputId": "518de6b1-cd8d-4c53-d127-670b2185f328"
      },
      "execution_count": null,
      "outputs": [
        {
          "output_type": "stream",
          "name": "stdout",
          "text": [
            "x_train shape: (516, 144, 144, 4)\n",
            "y_train shape: (516,)\n",
            "x_val shape: (130, 144, 144, 4)\n",
            "y_val shape: (130,)\n"
          ]
        }
      ]
    },
    {
      "cell_type": "code",
      "source": [
        "x_train = x_train.reshape(-1, size, size, 4, 1)\n",
        "x_val = x_val.reshape(-1, size, size, 4, 1)\n",
        "y_train = to_categorical(y_train, num_classes=7)\n",
        "y_val = to_categorical(y_val, num_classes=7)"
      ],
      "metadata": {
        "id": "ImJDeVADim7X"
      },
      "execution_count": null,
      "outputs": []
    },
    {
      "cell_type": "code",
      "source": [
        "x_train.shape, y_train.shape"
      ],
      "metadata": {
        "colab": {
          "base_uri": "https://localhost:8080/"
        },
        "id": "ja6KqPWUjxmF",
        "outputId": "28fea950-3b67-45ea-a7d0-0517a966873f"
      },
      "execution_count": null,
      "outputs": [
        {
          "output_type": "execute_result",
          "data": {
            "text/plain": [
              "((516, 144, 144, 4, 1), (516, 7))"
            ]
          },
          "metadata": {},
          "execution_count": 176
        }
      ]
    },
    {
      "cell_type": "code",
      "source": [
        "import tensorflow as tf\n",
        "from tensorflow.keras.models import Sequential\n",
        "from tensorflow.keras.layers import Conv2D, MaxPooling2D, TimeDistributed, LSTM, Dense, Dropout\n",
        "from keras.optimizers import Adam\n",
        "\n",
        "num_classes = 7\n",
        "\n",
        "#CNN\n",
        "cnn = Sequential()\n",
        "cnn.add(Conv2D(32, (3, 3), activation='relu', input_shape=(size, size, 4 , 1)))\n",
        "cnn.add(MaxPooling2D(pool_size=(2, 2)))\n",
        "cnn.add(Conv2D(16, (3, 3), activation='relu'))\n",
        "cnn.add(MaxPooling2D(pool_size=(2, 2)))\n",
        "cnn.add(Conv2D(16, (3, 3), activation='relu'))\n",
        "cnn.add(MaxPooling2D(pool_size=(2, 2)))\n",
        "cnn.add(Conv2D(32, (3, 3), activation='relu'))\n",
        "cnn.add(MaxPooling2D(pool_size=(2, 2)))\n",
        "cnn.add(Dropout(0.25))\n",
        "cnn.add(Flatten())\n",
        "\n",
        "#LSTM\n",
        "lstm = Sequential()\n",
        "lstm.add(TimeDistributed(cnn, input_shape=(None, size, size, 4 , 1)))\n",
        "lstm.add(LSTM(128, return_sequences=True))\n",
        "lstm.add(Dropout(0.5))\n",
        "lstm.add(LSTM(64))\n",
        "lstm.add(Dense(32, activation='relu'))\n",
        "lstm.add(Dense(num_classes, activation='softmax'))\n",
        "\n",
        "#Compile\n",
        "opt = Adam(lr=0.001)\n",
        "lstm.compile(loss='categorical_crossentropy', optimizer=opt, metrics=['accuracy'])\n"
      ],
      "metadata": {
        "id": "BkC4dATabpGJ"
      },
      "execution_count": null,
      "outputs": []
    },
    {
      "cell_type": "code",
      "source": [
        "# Train the model\n",
        "history = lstm.fit(x_train, y_train, batch_size=16, epochs=20, validation_data=(x_val, y_val))"
      ],
      "metadata": {
        "id": "UpgGxVLOcDyl"
      },
      "execution_count": null,
      "outputs": []
    },
    {
      "cell_type": "code",
      "source": [
        "# Evaluate the model\n",
        "test_loss, test_acc = lstm.evaluate(x_val, y_val)\n",
        "print('Test accuracy:', test_acc)"
      ],
      "metadata": {
        "id": "eBxfAuVq4PtQ"
      },
      "execution_count": null,
      "outputs": []
    },
    {
      "cell_type": "markdown",
      "source": [
        "#Graph"
      ],
      "metadata": {
        "id": "Hxp8-bUOz7eT"
      }
    },
    {
      "cell_type": "code",
      "source": [
        "#ตัวอย่างข้อมูล\n",
        "import matplotlib.pyplot as plt\n",
        "import numpy as np\n",
        "from scipy.signal import savgol_filter\n",
        "\n",
        "num = 1\n",
        "data = np.load(f'/content/train/train/{df[\"id\"][num]}.npy')\n",
        "\n",
        "# Smooth the signal using a Savitzky-Golay filter\n",
        "window_size = 10\n",
        "order = 9\n",
        "# data_abs = np.abs(data)\n",
        "stretched = np.transpose(data)\n",
        "smoothed_data = savgol_filter(stretched, window_size, order)\n",
        "plt.plot(smoothed_data/2, label='Smoothed Signal')\n",
        "plt.show()\n"
      ],
      "metadata": {
        "colab": {
          "base_uri": "https://localhost:8080/",
          "height": 235
        },
        "id": "2C4594_UVOE8",
        "outputId": "2d1ccc60-d9c8-400d-e1bc-33d00e38b0ff"
      },
      "execution_count": null,
      "outputs": [
        {
          "output_type": "error",
          "ename": "NameError",
          "evalue": "ignored",
          "traceback": [
            "\u001b[0;31m---------------------------------------------------------------------------\u001b[0m",
            "\u001b[0;31mNameError\u001b[0m                                 Traceback (most recent call last)",
            "\u001b[0;32m<ipython-input-1-8aff8e6988a6>\u001b[0m in \u001b[0;36m<module>\u001b[0;34m\u001b[0m\n\u001b[1;32m      5\u001b[0m \u001b[0;34m\u001b[0m\u001b[0m\n\u001b[1;32m      6\u001b[0m \u001b[0mnum\u001b[0m \u001b[0;34m=\u001b[0m \u001b[0;36m1\u001b[0m\u001b[0;34m\u001b[0m\u001b[0;34m\u001b[0m\u001b[0m\n\u001b[0;32m----> 7\u001b[0;31m \u001b[0mdata\u001b[0m \u001b[0;34m=\u001b[0m \u001b[0mnp\u001b[0m\u001b[0;34m.\u001b[0m\u001b[0mload\u001b[0m\u001b[0;34m(\u001b[0m\u001b[0;34mf'/content/train/train/{df[\"id\"][num]}.npy'\u001b[0m\u001b[0;34m)\u001b[0m\u001b[0;34m\u001b[0m\u001b[0;34m\u001b[0m\u001b[0m\n\u001b[0m\u001b[1;32m      8\u001b[0m \u001b[0;34m\u001b[0m\u001b[0m\n\u001b[1;32m      9\u001b[0m \u001b[0;31m# Smooth the signal using a Savitzky-Golay filter\u001b[0m\u001b[0;34m\u001b[0m\u001b[0;34m\u001b[0m\u001b[0;34m\u001b[0m\u001b[0m\n",
            "\u001b[0;31mNameError\u001b[0m: name 'df' is not defined"
          ]
        }
      ]
    },
    {
      "cell_type": "code",
      "source": [
        "#ตัวอย่างข้อมูล\n",
        "import matplotlib.pyplot as plt\n",
        "import numpy as np\n",
        "\n",
        "num = 1\n",
        "data = np.load(f'/content/train/train/{df[\"id\"][num]}.npy')\n",
        "data = data.flatten().astype(float)\n",
        "\n",
        "window_size = 10000 #51\n",
        "data_abs = np.abs(data)\n",
        "stretched = np.transpose(data_abs)\n",
        "\n",
        "smooth_data = np.convolve(stretched, np.ones(window_size)/window_size, mode='valid')\n",
        "\n",
        "# mean_data = np.mean(smooth_data)\n",
        "shrunk_data = smooth_data[::1000]\n",
        "plt.plot(shrunk_data, label='Smoothed')\n",
        "# plt.axhline(mean_data, color='r', label='Mean')\n",
        "# plt.legend()\n",
        "plt.show()\n",
        "\n",
        "print(df[\"class\"][num])"
      ],
      "metadata": {
        "colab": {
          "base_uri": "https://localhost:8080/",
          "height": 320
        },
        "id": "JS9x4_4KYf7G",
        "outputId": "8a243631-f246-40b7-e09a-e91218118293"
      },
      "execution_count": null,
      "outputs": [
        {
          "output_type": "stream",
          "name": "stderr",
          "text": [
            "<ipython-input-43-e20d178098c5>:7: ComplexWarning: Casting complex values to real discards the imaginary part\n",
            "  data = data.flatten().astype(float)\n"
          ]
        },
        {
          "output_type": "display_data",
          "data": {
            "text/plain": [
              "<Figure size 432x288 with 1 Axes>"
            ],
            "image/png": "[encoded data removed]"
          },
          "metadata": {
            "needs_background": "light"
          }
        },
        {
          "output_type": "stream",
          "name": "stdout",
          "text": [
            "0\n"
          ]
        }
      ]
    },
    {
      "cell_type": "code",
      "source": [
        "shrunk_data.shape"
      ],
      "metadata": {
        "colab": {
          "base_uri": "https://localhost:8080/"
        },
        "id": "NqllEnDkGUBZ",
        "outputId": "a1796e7a-869e-4d9f-a6ae-3fe539be25ec"
      },
      "execution_count": null,
      "outputs": [
        {
          "output_type": "execute_result",
          "data": {
            "text/plain": [
              "(8891,)"
            ]
          },
          "metadata": {},
          "execution_count": 49
        }
      ]
    },
    {
      "cell_type": "markdown",
      "source": [
        "##Graph Data Preprocess"
      ],
      "metadata": {
        "id": "BCHgsaJygncS"
      }
    },
    {
      "cell_type": "markdown",
      "source": [
        "#Spilt Data"
      ],
      "metadata": {
        "id": "Ec8GBwHflOL-"
      }
    },
    {
      "cell_type": "code",
      "source": [
        "from tensorflow.keras.utils import to_categorical\n",
        "import tensorflow as tf"
      ],
      "metadata": {
        "id": "ieH_HA5UtVH8"
      },
      "execution_count": null,
      "outputs": []
    },
    {
      "cell_type": "code",
      "source": [
        "labels = np.array(df[\"class\"]) - 1\n",
        "data = new_columns_data / np.max(new_columns_data[0])\n",
        "\n",
        "num_classes = 6\n",
        "Ytrain = to_categorical(labels, num_classes=num_classes)"
      ],
      "metadata": {
        "id": "QTZPnLjLvw1W"
      },
      "execution_count": null,
      "outputs": []
    },
    {
      "cell_type": "code",
      "source": [
        "data[0].shape[0]"
      ],
      "metadata": {
        "colab": {
          "base_uri": "https://localhost:8080/"
        },
        "id": "Ci2Dq6H-4opJ",
        "outputId": "8287a619-1ee3-4063-a040-b037afb77f91"
      },
      "execution_count": null,
      "outputs": [
        {
          "output_type": "execute_result",
          "data": {
            "text/plain": [
              "134"
            ]
          },
          "metadata": {},
          "execution_count": 115
        }
      ]
    },
    {
      "cell_type": "code",
      "source": [
        "for idx, value in enumerate(data):\n",
        "  if value.shape[0] != 134:\n",
        "    print(idx,value.shape)"
      ],
      "metadata": {
        "colab": {
          "base_uri": "https://localhost:8080/"
        },
        "id": "6V7u84vI40fB",
        "outputId": "21575900-3d7e-47d1-aee3-808e5c74b0f2"
      },
      "execution_count": null,
      "outputs": [
        {
          "output_type": "stream",
          "name": "stdout",
          "text": [
            "519 (421,)\n"
          ]
        }
      ]
    },
    {
      "cell_type": "code",
      "source": [
        "data[519] = data[519][:134]"
      ],
      "metadata": {
        "id": "gc7Bj3nY-rzW"
      },
      "execution_count": null,
      "outputs": []
    },
    {
      "cell_type": "code",
      "source": [
        "X_train = np.vstack(data)"
      ],
      "metadata": {
        "id": "EhdHo2z04CZn"
      },
      "execution_count": null,
      "outputs": []
    },
    {
      "cell_type": "code",
      "source": [
        "from sklearn.model_selection import train_test_split"
      ],
      "metadata": {
        "id": "AxRRBEY2r3X-"
      },
      "execution_count": null,
      "outputs": []
    },
    {
      "cell_type": "code",
      "source": [
        "x_train, x_val, y_train, y_val = train_test_split( X_train, Ytrain, test_size=0.2, random_state=42)\n",
        "\n",
        "print(f\"x_train shape: {x_train.shape}\")\n",
        "print(f\"y_train shape: {y_train.shape}\")\n",
        "print(f\"x_val shape: {x_val.shape}\")\n",
        "print(f\"y_val shape: {y_val.shape}\")"
      ],
      "metadata": {
        "colab": {
          "base_uri": "https://localhost:8080/"
        },
        "id": "dyH7qsk3wArx",
        "outputId": "7fc63f5f-0d2c-42bf-eb6e-210fbb5b4c74"
      },
      "execution_count": null,
      "outputs": [
        {
          "output_type": "stream",
          "name": "stdout",
          "text": [
            "x_train shape: (517, 134)\n",
            "y_train shape: (517, 6)\n",
            "x_val shape: (130, 134)\n",
            "y_val shape: (130, 6)\n"
          ]
        }
      ]
    },
    {
      "cell_type": "code",
      "source": [
        "x_train = np.expand_dims(x_train, axis=2)\n",
        "x_val = np.expand_dims(x_val, axis=2)"
      ],
      "metadata": {
        "id": "A0TAeRw7B-GF"
      },
      "execution_count": null,
      "outputs": []
    },
    {
      "cell_type": "code",
      "source": [
        "print(x_train.shape ,x_val.shape)"
      ],
      "metadata": {
        "colab": {
          "base_uri": "https://localhost:8080/"
        },
        "id": "qdvaassKCBzb",
        "outputId": "03546ebd-f7c2-405f-f747-57adb256f803"
      },
      "execution_count": null,
      "outputs": [
        {
          "output_type": "stream",
          "name": "stdout",
          "text": [
            "(517, 134, 1) (130, 134, 1)\n"
          ]
        }
      ]
    },
    {
      "cell_type": "markdown",
      "source": [
        "#TRAIN MODEL"
      ],
      "metadata": {
        "id": "vATsWXVklRwm"
      }
    },
    {
      "cell_type": "code",
      "source": [
        "del id ,data_abs , stretched"
      ],
      "metadata": {
        "id": "PiYWatnEwZc4"
      },
      "execution_count": null,
      "outputs": []
    },
    {
      "cell_type": "code",
      "source": [
        "from tensorflow.keras.models import Sequential\n",
        "from tensorflow.keras.layers import Conv1D, MaxPooling1D, LSTM, Dense, Dropout, Flatten\n",
        "\n",
        "# Define the input shape\n",
        "input_shape = (x_train.shape[1], 1)\n",
        "\n",
        "model = Sequential()\n",
        "model.add(Conv1D(filters=32, kernel_size=3, activation='relu', input_shape=input_shape))\n",
        "model.add(MaxPooling1D(pool_size=2))\n",
        "model.add(Conv1D(filters=64, kernel_size=3, activation='relu'))\n",
        "model.add(MaxPooling1D(pool_size=2))\n",
        "model.add(LSTM(64, return_sequences=True))\n",
        "\n",
        "model.add(Flatten())\n",
        "model.add(Dense(32, activation='relu'))\n",
        "model.add(Dense(num_classes, activation='softmax'))\n",
        "model.compile(optimizer='adam', loss='categorical_crossentropy', metrics=['accuracy'])"
      ],
      "metadata": {
        "id": "DrZ72KgyCmw0"
      },
      "execution_count": null,
      "outputs": []
    },
    {
      "cell_type": "code",
      "source": [
        "history = model.fit(x_train, y_train, epochs=500, validation_data=(x_val, y_val))"
      ],
      "metadata": {
        "id": "RyZTOcEJCpIS"
      },
      "execution_count": null,
      "outputs": []
    },
    {
      "cell_type": "code",
      "source": [
        "from keras.models import Sequential\n",
        "from keras.layers import Dense, LSTM, GRU, Dropout\n",
        "\n",
        "model = Sequential()\n",
        "model.add(LSTM(134, input_shape=(x_train.shape[1], 1), return_sequences=True))\n",
        "model.add(GRU(64))\n",
        "model.add(Dense(num_classes, activation='softmax'))\n",
        "\n",
        "model.compile(loss='categorical_crossentropy', optimizer='adam', metrics=['accuracy'])\n",
        "\n",
        "history = model.fit(x_train.reshape(x_train.shape[0], x_train.shape[1], 1), y_train,\n",
        "                    validation_data=(x_val.reshape(x_val.shape[0], x_val.shape[1], 1), y_val),\n",
        "                    epochs=10, batch_size=64)\n"
      ],
      "metadata": {
        "colab": {
          "base_uri": "https://localhost:8080/"
        },
        "id": "HuOHF9DnLL7M",
        "outputId": "a028d73b-c23d-4de1-cff5-2fe7ef9d8bae"
      },
      "execution_count": null,
      "outputs": [
        {
          "output_type": "stream",
          "name": "stdout",
          "text": [
            "Epoch 1/50\n",
            "9/9 [==============================] - 6s 127ms/step - loss: 1.7553 - accuracy: 0.2437 - val_loss: 1.7401 - val_accuracy: 0.2538\n",
            "Epoch 2/50\n",
            "9/9 [==============================] - 0s 22ms/step - loss: 1.7451 - accuracy: 0.2669 - val_loss: 1.7300 - val_accuracy: 0.2538\n",
            "Epoch 3/50\n",
            "9/9 [==============================] - 0s 18ms/step - loss: 1.7390 - accuracy: 0.2669 - val_loss: 1.7496 - val_accuracy: 0.2538\n",
            "Epoch 4/50\n",
            "9/9 [==============================] - 0s 18ms/step - loss: 1.7425 - accuracy: 0.2669 - val_loss: 1.7511 - val_accuracy: 0.2538\n",
            "Epoch 5/50\n",
            "9/9 [==============================] - 0s 18ms/step - loss: 1.7384 - accuracy: 0.2669 - val_loss: 1.7438 - val_accuracy: 0.2538\n",
            "Epoch 6/50\n",
            "9/9 [==============================] - 0s 17ms/step - loss: 1.7304 - accuracy: 0.2669 - val_loss: 1.7316 - val_accuracy: 0.2538\n",
            "Epoch 7/50\n",
            "9/9 [==============================] - 0s 17ms/step - loss: 1.7277 - accuracy: 0.2669 - val_loss: 1.7269 - val_accuracy: 0.2538\n",
            "Epoch 8/50\n",
            "9/9 [==============================] - 0s 17ms/step - loss: 1.7363 - accuracy: 0.2669 - val_loss: 1.7356 - val_accuracy: 0.2538\n",
            "Epoch 9/50\n",
            "9/9 [==============================] - 0s 21ms/step - loss: 1.7272 - accuracy: 0.2669 - val_loss: 1.7408 - val_accuracy: 0.2538\n",
            "Epoch 10/50\n",
            "9/9 [==============================] - 0s 23ms/step - loss: 1.7310 - accuracy: 0.2669 - val_loss: 1.7344 - val_accuracy: 0.2538\n",
            "Epoch 11/50\n",
            "9/9 [==============================] - 0s 23ms/step - loss: 1.7320 - accuracy: 0.2669 - val_loss: 1.7316 - val_accuracy: 0.2538\n",
            "Epoch 12/50\n",
            "9/9 [==============================] - 0s 29ms/step - loss: 1.7306 - accuracy: 0.2669 - val_loss: 1.7284 - val_accuracy: 0.2538\n",
            "Epoch 13/50\n",
            "9/9 [==============================] - 0s 29ms/step - loss: 1.7278 - accuracy: 0.2669 - val_loss: 1.7302 - val_accuracy: 0.2538\n",
            "Epoch 14/50\n",
            "9/9 [==============================] - 0s 27ms/step - loss: 1.7270 - accuracy: 0.2669 - val_loss: 1.7348 - val_accuracy: 0.2538\n",
            "Epoch 15/50\n",
            "9/9 [==============================] - 0s 26ms/step - loss: 1.7313 - accuracy: 0.2669 - val_loss: 1.7315 - val_accuracy: 0.2538\n",
            "Epoch 16/50\n",
            "9/9 [==============================] - 0s 27ms/step - loss: 1.7327 - accuracy: 0.2669 - val_loss: 1.7270 - val_accuracy: 0.2538\n",
            "Epoch 17/50\n",
            "9/9 [==============================] - 0s 27ms/step - loss: 1.7292 - accuracy: 0.2669 - val_loss: 1.7227 - val_accuracy: 0.2538\n",
            "Epoch 18/50\n",
            "9/9 [==============================] - 0s 28ms/step - loss: 1.7268 - accuracy: 0.2669 - val_loss: 1.7261 - val_accuracy: 0.2538\n",
            "Epoch 19/50\n",
            "9/9 [==============================] - 0s 27ms/step - loss: 1.7296 - accuracy: 0.2669 - val_loss: 1.7337 - val_accuracy: 0.2538\n",
            "Epoch 20/50\n",
            "9/9 [==============================] - 0s 24ms/step - loss: 1.7297 - accuracy: 0.2669 - val_loss: 1.7335 - val_accuracy: 0.2538\n",
            "Epoch 21/50\n",
            "9/9 [==============================] - 0s 27ms/step - loss: 1.7297 - accuracy: 0.2669 - val_loss: 1.7297 - val_accuracy: 0.2538\n",
            "Epoch 22/50\n",
            "9/9 [==============================] - 0s 24ms/step - loss: 1.7286 - accuracy: 0.2669 - val_loss: 1.7341 - val_accuracy: 0.2538\n",
            "Epoch 23/50\n",
            "9/9 [==============================] - 0s 23ms/step - loss: 1.7327 - accuracy: 0.2669 - val_loss: 1.7415 - val_accuracy: 0.2538\n",
            "Epoch 24/50\n",
            "9/9 [==============================] - 0s 18ms/step - loss: 1.7319 - accuracy: 0.2669 - val_loss: 1.7346 - val_accuracy: 0.2538\n",
            "Epoch 25/50\n",
            "9/9 [==============================] - 0s 18ms/step - loss: 1.7268 - accuracy: 0.2669 - val_loss: 1.7340 - val_accuracy: 0.2538\n",
            "Epoch 26/50\n",
            "9/9 [==============================] - 0s 17ms/step - loss: 1.7277 - accuracy: 0.2669 - val_loss: 1.7411 - val_accuracy: 0.2538\n",
            "Epoch 27/50\n",
            "9/9 [==============================] - 0s 23ms/step - loss: 1.7337 - accuracy: 0.2669 - val_loss: 1.7405 - val_accuracy: 0.2538\n",
            "Epoch 28/50\n",
            "9/9 [==============================] - 0s 23ms/step - loss: 1.7284 - accuracy: 0.2669 - val_loss: 1.7349 - val_accuracy: 0.2538\n",
            "Epoch 29/50\n",
            "9/9 [==============================] - 0s 18ms/step - loss: 1.7272 - accuracy: 0.2669 - val_loss: 1.7301 - val_accuracy: 0.2538\n",
            "Epoch 30/50\n",
            "9/9 [==============================] - 0s 17ms/step - loss: 1.7246 - accuracy: 0.2669 - val_loss: 1.7287 - val_accuracy: 0.2538\n",
            "Epoch 31/50\n",
            "9/9 [==============================] - 0s 18ms/step - loss: 1.7257 - accuracy: 0.2669 - val_loss: 1.7231 - val_accuracy: 0.2538\n",
            "Epoch 32/50\n",
            "9/9 [==============================] - 0s 18ms/step - loss: 1.7259 - accuracy: 0.2669 - val_loss: 1.7203 - val_accuracy: 0.2538\n",
            "Epoch 33/50\n",
            "9/9 [==============================] - 0s 21ms/step - loss: 1.7258 - accuracy: 0.2669 - val_loss: 1.7257 - val_accuracy: 0.2538\n",
            "Epoch 34/50\n",
            "9/9 [==============================] - 0s 18ms/step - loss: 1.7275 - accuracy: 0.2669 - val_loss: 1.7373 - val_accuracy: 0.2538\n",
            "Epoch 35/50\n",
            "9/9 [==============================] - 0s 17ms/step - loss: 1.7345 - accuracy: 0.2669 - val_loss: 1.7349 - val_accuracy: 0.2538\n",
            "Epoch 36/50\n",
            "9/9 [==============================] - 0s 17ms/step - loss: 1.7259 - accuracy: 0.2669 - val_loss: 1.7283 - val_accuracy: 0.2538\n",
            "Epoch 37/50\n",
            "9/9 [==============================] - 0s 17ms/step - loss: 1.7251 - accuracy: 0.2669 - val_loss: 1.7301 - val_accuracy: 0.2538\n",
            "Epoch 38/50\n",
            "9/9 [==============================] - 0s 18ms/step - loss: 1.7267 - accuracy: 0.2669 - val_loss: 1.7284 - val_accuracy: 0.2538\n",
            "Epoch 39/50\n",
            "9/9 [==============================] - 0s 18ms/step - loss: 1.7252 - accuracy: 0.2669 - val_loss: 1.7276 - val_accuracy: 0.2538\n",
            "Epoch 40/50\n",
            "9/9 [==============================] - 0s 20ms/step - loss: 1.7236 - accuracy: 0.2669 - val_loss: 1.7295 - val_accuracy: 0.2538\n",
            "Epoch 41/50\n",
            "9/9 [==============================] - 0s 17ms/step - loss: 1.7240 - accuracy: 0.2669 - val_loss: 1.7270 - val_accuracy: 0.2538\n",
            "Epoch 42/50\n",
            "9/9 [==============================] - 0s 18ms/step - loss: 1.7265 - accuracy: 0.2669 - val_loss: 1.7203 - val_accuracy: 0.2538\n",
            "Epoch 43/50\n",
            "9/9 [==============================] - 0s 17ms/step - loss: 1.7260 - accuracy: 0.2669 - val_loss: 1.7194 - val_accuracy: 0.2538\n",
            "Epoch 44/50\n",
            "9/9 [==============================] - 0s 18ms/step - loss: 1.7267 - accuracy: 0.2669 - val_loss: 1.7180 - val_accuracy: 0.2538\n",
            "Epoch 45/50\n",
            "9/9 [==============================] - 0s 19ms/step - loss: 1.7256 - accuracy: 0.2669 - val_loss: 1.7211 - val_accuracy: 0.2538\n",
            "Epoch 46/50\n",
            "9/9 [==============================] - 0s 19ms/step - loss: 1.7256 - accuracy: 0.2669 - val_loss: 1.7190 - val_accuracy: 0.2538\n",
            "Epoch 47/50\n",
            "9/9 [==============================] - 0s 18ms/step - loss: 1.7229 - accuracy: 0.2669 - val_loss: 1.7230 - val_accuracy: 0.2538\n",
            "Epoch 48/50\n",
            "9/9 [==============================] - 0s 17ms/step - loss: 1.7305 - accuracy: 0.2669 - val_loss: 1.7278 - val_accuracy: 0.2538\n",
            "Epoch 49/50\n",
            "9/9 [==============================] - 0s 17ms/step - loss: 1.7290 - accuracy: 0.2669 - val_loss: 1.7237 - val_accuracy: 0.2538\n",
            "Epoch 50/50\n",
            "9/9 [==============================] - 0s 17ms/step - loss: 1.7237 - accuracy: 0.2669 - val_loss: 1.7276 - val_accuracy: 0.2538\n"
          ]
        }
      ]
    },
    {
      "cell_type": "markdown",
      "source": [
        "#DATA PREDICT"
      ],
      "metadata": {
        "id": "Z7z9zhSZ9ZZw"
      }
    },
    {
      "cell_type": "code",
      "source": [
        "y_predict = pd.read_csv(\"/content/sample_submission.csv\")\n",
        "y_predict"
      ],
      "metadata": {
        "colab": {
          "base_uri": "https://localhost:8080/",
          "height": 424
        },
        "id": "PYZw9OYq9Zzd",
        "outputId": "b4552e9f-18a0-4bcf-94f8-41855a71c197"
      },
      "execution_count": null,
      "outputs": [
        {
          "output_type": "execute_result",
          "data": {
            "text/plain": [
              "                                       id  class\n",
              "0    30de3513-93ff-42d8-ad5f-4c93f4a4444c    6.0\n",
              "1    84e55af1-ae63-4b06-b650-1136d38b691e    4.0\n",
              "2    2471a7eb-af35-4ae7-870e-6650de9f0c2f    2.0\n",
              "3    d00e8bdc-79af-4e55-b25a-96ea589b6420    NaN\n",
              "4    ad9f77bc-5ab6-477d-b760-2f3fc65c14d3    NaN\n",
              "..                                    ...    ...\n",
              "159  5fce955d-1068-40b3-afc3-111f8c22c9f9    NaN\n",
              "160  f3a000be-07c9-44ad-8ff0-b89a9a1070dd    NaN\n",
              "161  84d3963b-cfed-450c-88ab-ca853273d15c    NaN\n",
              "162  7b36184c-5541-44d9-9200-8057bd3cf4ef    NaN\n",
              "163  aa851836-415b-4a18-b660-99a395976285    NaN\n",
              "\n",
              "[164 rows x 2 columns]"
            ],
            "text/html": [
              "\n",
              "  <div id=\"df-eaf1d2d1-4999-4ea7-a00b-6e27cf7421bc\">\n",
              "    <div class=\"colab-df-container\">\n",
              "      <div>\n",
              "<style scoped>\n",
              "    .dataframe tbody tr th:only-of-type {\n",
              "        vertical-align: middle;\n",
              "    }\n",
              "\n",
              "    .dataframe tbody tr th {\n",
              "        vertical-align: top;\n",
              "    }\n",
              "\n",
              "    .dataframe thead th {\n",
              "        text-align: right;\n",
              "    }\n",
              "</style>\n",
              "<table border=\"1\" class=\"dataframe\">\n",
              "  <thead>\n",
              "    <tr style=\"text-align: right;\">\n",
              "      <th></th>\n",
              "      <th>id</th>\n",
              "      <th>class</th>\n",
              "    </tr>\n",
              "  </thead>\n",
              "  <tbody>\n",
              "    <tr>\n",
              "      <th>0</th>\n",
              "      <td>30de3513-93ff-42d8-ad5f-4c93f4a4444c</td>\n",
              "      <td>6.0</td>\n",
              "    </tr>\n",
              "    <tr>\n",
              "      <th>1</th>\n",
              "      <td>84e55af1-ae63-4b06-b650-1136d38b691e</td>\n",
              "      <td>4.0</td>\n",
              "    </tr>\n",
              "    <tr>\n",
              "      <th>2</th>\n",
              "      <td>2471a7eb-af35-4ae7-870e-6650de9f0c2f</td>\n",
              "      <td>2.0</td>\n",
              "    </tr>\n",
              "    <tr>\n",
              "      <th>3</th>\n",
              "      <td>d00e8bdc-79af-4e55-b25a-96ea589b6420</td>\n",
              "      <td>NaN</td>\n",
              "    </tr>\n",
              "    <tr>\n",
              "      <th>4</th>\n",
              "      <td>ad9f77bc-5ab6-477d-b760-2f3fc65c14d3</td>\n",
              "      <td>NaN</td>\n",
              "    </tr>\n",
              "    <tr>\n",
              "      <th>...</th>\n",
              "      <td>...</td>\n",
              "      <td>...</td>\n",
              "    </tr>\n",
              "    <tr>\n",
              "      <th>159</th>\n",
              "      <td>5fce955d-1068-40b3-afc3-111f8c22c9f9</td>\n",
              "      <td>NaN</td>\n",
              "    </tr>\n",
              "    <tr>\n",
              "      <th>160</th>\n",
              "      <td>f3a000be-07c9-44ad-8ff0-b89a9a1070dd</td>\n",
              "      <td>NaN</td>\n",
              "    </tr>\n",
              "    <tr>\n",
              "      <th>161</th>\n",
              "      <td>84d3963b-cfed-450c-88ab-ca853273d15c</td>\n",
              "      <td>NaN</td>\n",
              "    </tr>\n",
              "    <tr>\n",
              "      <th>162</th>\n",
              "      <td>7b36184c-5541-44d9-9200-8057bd3cf4ef</td>\n",
              "      <td>NaN</td>\n",
              "    </tr>\n",
              "    <tr>\n",
              "      <th>163</th>\n",
              "      <td>aa851836-415b-4a18-b660-99a395976285</td>\n",
              "      <td>NaN</td>\n",
              "    </tr>\n",
              "  </tbody>\n",
              "</table>\n",
              "<p>164 rows × 2 columns</p>\n",
              "</div>\n",
              "      <button class=\"colab-df-convert\" onclick=\"convertToInteractive('df-eaf1d2d1-4999-4ea7-a00b-6e27cf7421bc')\"\n",
              "              title=\"Convert this dataframe to an interactive table.\"\n",
              "              style=\"display:none;\">\n",
              "        \n",
              "  <svg xmlns=\"http://www.w3.org/2000/svg\" height=\"24px\"viewBox=\"0 0 24 24\"\n",
              "       width=\"24px\">\n",
              "    <path d=\"M0 0h24v24H0V0z\" fill=\"none\"/>\n",
              "    <path d=\"M18.56 5.44l.94 2.06.94-2.06 2.06-.94-2.06-.94-.94-2.06-.94 2.06-2.06.94zm-11 1L8.5 8.5l.94-2.06 2.06-.94-2.06-.94L8.5 2.5l-.94 2.06-2.06.94zm10 10l.94 2.06.94-2.06 2.06-.94-2.06-.94-.94-2.06-.94 2.06-2.06.94z\"/><path d=\"M17.41 7.96l-1.37-1.37c-.4-.4-.92-.59-1.43-.59-.52 0-1.04.2-1.43.59L10.3 9.45l-7.72 7.72c-.78.78-.78 2.05 0 2.83L4 21.41c.39.39.9.59 1.41.59.51 0 1.02-.2 1.41-.59l7.78-7.78 2.81-2.81c.8-.78.8-2.07 0-2.86zM5.41 20L4 18.59l7.72-7.72 1.47 1.35L5.41 20z\"/>\n",
              "  </svg>\n",
              "      </button>\n",
              "      \n",
              "  <style>\n",
              "    .colab-df-container {\n",
              "      display:flex;\n",
              "      flex-wrap:wrap;\n",
              "      gap: 12px;\n",
              "    }\n",
              "\n",
              "    .colab-df-convert {\n",
              "      background-color: #E8F0FE;\n",
              "      border: none;\n",
              "      border-radius: 50%;\n",
              "      cursor: pointer;\n",
              "      display: none;\n",
              "      fill: #1967D2;\n",
              "      height: 32px;\n",
              "      padding: 0 0 0 0;\n",
              "      width: 32px;\n",
              "    }\n",
              "\n",
              "    .colab-df-convert:hover {\n",
              "      background-color: #E2EBFA;\n",
              "      box-shadow: 0px 1px 2px rgba(60, 64, 67, 0.3), 0px 1px 3px 1px rgba(60, 64, 67, 0.15);\n",
              "      fill: #174EA6;\n",
              "    }\n",
              "\n",
              "    [theme=dark] .colab-df-convert {\n",
              "      background-color: #3B4455;\n",
              "      fill: #D2E3FC;\n",
              "    }\n",
              "\n",
              "    [theme=dark] .colab-df-convert:hover {\n",
              "      background-color: #434B5C;\n",
              "      box-shadow: 0px 1px 3px 1px rgba(0, 0, 0, 0.15);\n",
              "      filter: drop-shadow(0px 1px 2px rgba(0, 0, 0, 0.3));\n",
              "      fill: #FFFFFF;\n",
              "    }\n",
              "  </style>\n",
              "\n",
              "      <script>\n",
              "        const buttonEl =\n",
              "          document.querySelector('#df-eaf1d2d1-4999-4ea7-a00b-6e27cf7421bc button.colab-df-convert');\n",
              "        buttonEl.style.display =\n",
              "          google.colab.kernel.accessAllowed ? 'block' : 'none';\n",
              "\n",
              "        async function convertToInteractive(key) {\n",
              "          const element = document.querySelector('#df-eaf1d2d1-4999-4ea7-a00b-6e27cf7421bc');\n",
              "          const dataTable =\n",
              "            await google.colab.kernel.invokeFunction('convertToInteractive',\n",
              "                                                     [key], {});\n",
              "          if (!dataTable) return;\n",
              "\n",
              "          const docLinkHtml = 'Like what you see? Visit the ' +\n",
              "            '<a target=\"_blank\" href=https://colab.research.google.com/notebooks/data_table.ipynb>data table notebook</a>'\n",
              "            + ' to learn more about interactive tables.';\n",
              "          element.innerHTML = '';\n",
              "          dataTable['output_type'] = 'display_data';\n",
              "          await google.colab.output.renderOutput(dataTable, element);\n",
              "          const docLink = document.createElement('div');\n",
              "          docLink.innerHTML = docLinkHtml;\n",
              "          element.appendChild(docLink);\n",
              "        }\n",
              "      </script>\n",
              "    </div>\n",
              "  </div>\n",
              "  "
            ]
          },
          "metadata": {},
          "execution_count": 27
        }
      ]
    },
    {
      "cell_type": "code",
      "source": [
        "#path\n",
        "from pathlib import Path\n",
        "path = Path(\"/content/test/test\")"
      ],
      "metadata": {
        "id": "WJpvwrdY-cCT"
      },
      "execution_count": null,
      "outputs": []
    },
    {
      "cell_type": "code",
      "source": [
        "data_predict = []\n",
        "for namenpy in y_predict[\"id\"]:\n",
        "    data = np.abs(np.load(path / (namenpy + '.npy')))\n",
        "    stretched = np.transpose(data[:,:])\n",
        "    data_predict.append(stretched)\n",
        "\n",
        "df_pre = y_predict.assign(data_in_file=data_predict)\n",
        "df_pre = df_pre.reindex(columns= ['id', 'data_in_file' ,'class'])\n",
        "df_pre"
      ],
      "metadata": {
        "colab": {
          "base_uri": "https://localhost:8080/",
          "height": 424
        },
        "id": "XrZxqkyM-bj1",
        "outputId": "a118a500-46a7-416e-bdfc-8b6b4c71926d"
      },
      "execution_count": null,
      "outputs": [
        {
          "output_type": "execute_result",
          "data": {
            "text/plain": [
              "                                       id  \\\n",
              "0    30de3513-93ff-42d8-ad5f-4c93f4a4444c   \n",
              "1    84e55af1-ae63-4b06-b650-1136d38b691e   \n",
              "2    2471a7eb-af35-4ae7-870e-6650de9f0c2f   \n",
              "3    d00e8bdc-79af-4e55-b25a-96ea589b6420   \n",
              "4    ad9f77bc-5ab6-477d-b760-2f3fc65c14d3   \n",
              "..                                    ...   \n",
              "159  5fce955d-1068-40b3-afc3-111f8c22c9f9   \n",
              "160  f3a000be-07c9-44ad-8ff0-b89a9a1070dd   \n",
              "161  84d3963b-cfed-450c-88ab-ca853273d15c   \n",
              "162  7b36184c-5541-44d9-9200-8057bd3cf4ef   \n",
              "163  aa851836-415b-4a18-b660-99a395976285   \n",
              "\n",
              "                                          data_in_file  class  \n",
              "0    [[0.011824504373720889, 0.01181215138279343, 0...    6.0  \n",
              "1    [[0.011809872859332268, 0.011830427554175736, ...    4.0  \n",
              "2    [[0.012163430289117682, 0.012156186665010347, ...    2.0  \n",
              "3    [[0.011963321558994785, 0.011997065541440066, ...    NaN  \n",
              "4    [[0.011862989656902965, 0.011867217483443132, ...    NaN  \n",
              "..                                                 ...    ...  \n",
              "159  [[0.011748556582033266, 0.0117290780820416, 0....    NaN  \n",
              "160  [[0.011926361304467113, 0.011918729108564794, ...    NaN  \n",
              "161  [[0.011780068181288683, 0.011758610311177494, ...    NaN  \n",
              "162  [[0.012090818204980439, 0.01208165725836804, 0...    NaN  \n",
              "163  [[0.011952343002204484, 0.011938701951301152, ...    NaN  \n",
              "\n",
              "[164 rows x 3 columns]"
            ],
            "text/html": [
              "\n",
              "  <div id=\"df-b2e6f49a-60a7-4514-925b-3293eefde5a8\">\n",
              "    <div class=\"colab-df-container\">\n",
              "      <div>\n",
              "<style scoped>\n",
              "    .dataframe tbody tr th:only-of-type {\n",
              "        vertical-align: middle;\n",
              "    }\n",
              "\n",
              "    .dataframe tbody tr th {\n",
              "        vertical-align: top;\n",
              "    }\n",
              "\n",
              "    .dataframe thead th {\n",
              "        text-align: right;\n",
              "    }\n",
              "</style>\n",
              "<table border=\"1\" class=\"dataframe\">\n",
              "  <thead>\n",
              "    <tr style=\"text-align: right;\">\n",
              "      <th></th>\n",
              "      <th>id</th>\n",
              "      <th>data_in_file</th>\n",
              "      <th>class</th>\n",
              "    </tr>\n",
              "  </thead>\n",
              "  <tbody>\n",
              "    <tr>\n",
              "      <th>0</th>\n",
              "      <td>30de3513-93ff-42d8-ad5f-4c93f4a4444c</td>\n",
              "      <td>[[0.011824504373720889, 0.01181215138279343, 0...</td>\n",
              "      <td>6.0</td>\n",
              "    </tr>\n",
              "    <tr>\n",
              "      <th>1</th>\n",
              "      <td>84e55af1-ae63-4b06-b650-1136d38b691e</td>\n",
              "      <td>[[0.011809872859332268, 0.011830427554175736, ...</td>\n",
              "      <td>4.0</td>\n",
              "    </tr>\n",
              "    <tr>\n",
              "      <th>2</th>\n",
              "      <td>2471a7eb-af35-4ae7-870e-6650de9f0c2f</td>\n",
              "      <td>[[0.012163430289117682, 0.012156186665010347, ...</td>\n",
              "      <td>2.0</td>\n",
              "    </tr>\n",
              "    <tr>\n",
              "      <th>3</th>\n",
              "      <td>d00e8bdc-79af-4e55-b25a-96ea589b6420</td>\n",
              "      <td>[[0.011963321558994785, 0.011997065541440066, ...</td>\n",
              "      <td>NaN</td>\n",
              "    </tr>\n",
              "    <tr>\n",
              "      <th>4</th>\n",
              "      <td>ad9f77bc-5ab6-477d-b760-2f3fc65c14d3</td>\n",
              "      <td>[[0.011862989656902965, 0.011867217483443132, ...</td>\n",
              "      <td>NaN</td>\n",
              "    </tr>\n",
              "    <tr>\n",
              "      <th>...</th>\n",
              "      <td>...</td>\n",
              "      <td>...</td>\n",
              "      <td>...</td>\n",
              "    </tr>\n",
              "    <tr>\n",
              "      <th>159</th>\n",
              "      <td>5fce955d-1068-40b3-afc3-111f8c22c9f9</td>\n",
              "      <td>[[0.011748556582033266, 0.0117290780820416, 0....</td>\n",
              "      <td>NaN</td>\n",
              "    </tr>\n",
              "    <tr>\n",
              "      <th>160</th>\n",
              "      <td>f3a000be-07c9-44ad-8ff0-b89a9a1070dd</td>\n",
              "      <td>[[0.011926361304467113, 0.011918729108564794, ...</td>\n",
              "      <td>NaN</td>\n",
              "    </tr>\n",
              "    <tr>\n",
              "      <th>161</th>\n",
              "      <td>84d3963b-cfed-450c-88ab-ca853273d15c</td>\n",
              "      <td>[[0.011780068181288683, 0.011758610311177494, ...</td>\n",
              "      <td>NaN</td>\n",
              "    </tr>\n",
              "    <tr>\n",
              "      <th>162</th>\n",
              "      <td>7b36184c-5541-44d9-9200-8057bd3cf4ef</td>\n",
              "      <td>[[0.012090818204980439, 0.01208165725836804, 0...</td>\n",
              "      <td>NaN</td>\n",
              "    </tr>\n",
              "    <tr>\n",
              "      <th>163</th>\n",
              "      <td>aa851836-415b-4a18-b660-99a395976285</td>\n",
              "      <td>[[0.011952343002204484, 0.011938701951301152, ...</td>\n",
              "      <td>NaN</td>\n",
              "    </tr>\n",
              "  </tbody>\n",
              "</table>\n",
              "<p>164 rows × 3 columns</p>\n",
              "</div>\n",
              "      <button class=\"colab-df-convert\" onclick=\"convertToInteractive('df-b2e6f49a-60a7-4514-925b-3293eefde5a8')\"\n",
              "              title=\"Convert this dataframe to an interactive table.\"\n",
              "              style=\"display:none;\">\n",
              "        \n",
              "  <svg xmlns=\"http://www.w3.org/2000/svg\" height=\"24px\"viewBox=\"0 0 24 24\"\n",
              "       width=\"24px\">\n",
              "    <path d=\"M0 0h24v24H0V0z\" fill=\"none\"/>\n",
              "    <path d=\"M18.56 5.44l.94 2.06.94-2.06 2.06-.94-2.06-.94-.94-2.06-.94 2.06-2.06.94zm-11 1L8.5 8.5l.94-2.06 2.06-.94-2.06-.94L8.5 2.5l-.94 2.06-2.06.94zm10 10l.94 2.06.94-2.06 2.06-.94-2.06-.94-.94-2.06-.94 2.06-2.06.94z\"/><path d=\"M17.41 7.96l-1.37-1.37c-.4-.4-.92-.59-1.43-.59-.52 0-1.04.2-1.43.59L10.3 9.45l-7.72 7.72c-.78.78-.78 2.05 0 2.83L4 21.41c.39.39.9.59 1.41.59.51 0 1.02-.2 1.41-.59l7.78-7.78 2.81-2.81c.8-.78.8-2.07 0-2.86zM5.41 20L4 18.59l7.72-7.72 1.47 1.35L5.41 20z\"/>\n",
              "  </svg>\n",
              "      </button>\n",
              "      \n",
              "  <style>\n",
              "    .colab-df-container {\n",
              "      display:flex;\n",
              "      flex-wrap:wrap;\n",
              "      gap: 12px;\n",
              "    }\n",
              "\n",
              "    .colab-df-convert {\n",
              "      background-color: #E8F0FE;\n",
              "      border: none;\n",
              "      border-radius: 50%;\n",
              "      cursor: pointer;\n",
              "      display: none;\n",
              "      fill: #1967D2;\n",
              "      height: 32px;\n",
              "      padding: 0 0 0 0;\n",
              "      width: 32px;\n",
              "    }\n",
              "\n",
              "    .colab-df-convert:hover {\n",
              "      background-color: #E2EBFA;\n",
              "      box-shadow: 0px 1px 2px rgba(60, 64, 67, 0.3), 0px 1px 3px 1px rgba(60, 64, 67, 0.15);\n",
              "      fill: #174EA6;\n",
              "    }\n",
              "\n",
              "    [theme=dark] .colab-df-convert {\n",
              "      background-color: #3B4455;\n",
              "      fill: #D2E3FC;\n",
              "    }\n",
              "\n",
              "    [theme=dark] .colab-df-convert:hover {\n",
              "      background-color: #434B5C;\n",
              "      box-shadow: 0px 1px 3px 1px rgba(0, 0, 0, 0.15);\n",
              "      filter: drop-shadow(0px 1px 2px rgba(0, 0, 0, 0.3));\n",
              "      fill: #FFFFFF;\n",
              "    }\n",
              "  </style>\n",
              "\n",
              "      <script>\n",
              "        const buttonEl =\n",
              "          document.querySelector('#df-b2e6f49a-60a7-4514-925b-3293eefde5a8 button.colab-df-convert');\n",
              "        buttonEl.style.display =\n",
              "          google.colab.kernel.accessAllowed ? 'block' : 'none';\n",
              "\n",
              "        async function convertToInteractive(key) {\n",
              "          const element = document.querySelector('#df-b2e6f49a-60a7-4514-925b-3293eefde5a8');\n",
              "          const dataTable =\n",
              "            await google.colab.kernel.invokeFunction('convertToInteractive',\n",
              "                                                     [key], {});\n",
              "          if (!dataTable) return;\n",
              "\n",
              "          const docLinkHtml = 'Like what you see? Visit the ' +\n",
              "            '<a target=\"_blank\" href=https://colab.research.google.com/notebooks/data_table.ipynb>data table notebook</a>'\n",
              "            + ' to learn more about interactive tables.';\n",
              "          element.innerHTML = '';\n",
              "          dataTable['output_type'] = 'display_data';\n",
              "          await google.colab.output.renderOutput(dataTable, element);\n",
              "          const docLink = document.createElement('div');\n",
              "          docLink.innerHTML = docLinkHtml;\n",
              "          element.appendChild(docLink);\n",
              "        }\n",
              "      </script>\n",
              "    </div>\n",
              "  </div>\n",
              "  "
            ]
          },
          "metadata": {},
          "execution_count": 29
        }
      ]
    },
    {
      "cell_type": "code",
      "source": [
        "# Reshape the data to have the same shape\n",
        "max_shape = np.max([x.shape for x in df_pre[\"data_in_file\"]], axis=0)\n",
        "data = np.zeros((len(df_pre), max_shape[0], max_shape[1]), dtype=np.float32)\n",
        "for i, x in enumerate(df_pre[\"data_in_file\"]):\n",
        "    data[i, :x.shape[0], :x.shape[1]] = x\n",
        "\n",
        "# Normalize the data to [0, 1]\n",
        "data = data / np.max(data)"
      ],
      "metadata": {
        "id": "QaaLvv3y-65R"
      },
      "execution_count": null,
      "outputs": []
    },
    {
      "cell_type": "code",
      "source": [
        "data.shape"
      ],
      "metadata": {
        "colab": {
          "base_uri": "https://localhost:8080/"
        },
        "id": "TP0MC0oPDCqt",
        "outputId": "6524691c-3aba-4593-ac87-f172956b0b79"
      },
      "execution_count": null,
      "outputs": [
        {
          "output_type": "execute_result",
          "data": {
            "text/plain": [
              "(164, 56, 2560, 1)"
            ]
          },
          "metadata": {},
          "execution_count": 34
        }
      ]
    },
    {
      "cell_type": "code",
      "source": [
        "data = np.expand_dims(data, axis=-1)"
      ],
      "metadata": {
        "id": "7DY0TEm3Dhnc"
      },
      "execution_count": null,
      "outputs": []
    },
    {
      "cell_type": "markdown",
      "source": [
        "#PREDICT"
      ],
      "metadata": {
        "id": "_Cs7sU5RzkBu"
      }
    },
    {
      "cell_type": "code",
      "source": [
        "new_columns_data = []\n",
        "for namenpy in y_train[\"id\"]:\n",
        "    data = np.load(path / (namenpy + '.npy'))\n",
        "    data = data.flatten().astype(float)\n",
        "    window_size = 10000 #51\n",
        "    data_abs = np.abs(data)\n",
        "    stretched = np.transpose(data_abs)\n",
        "    smooth_data = np.convolve(stretched, np.ones(window_size)/window_size, mode='valid')\n",
        "    shrunk_data = smooth_data[::1000]\n",
        "    new_columns_data.append(np.array(shrunk_data))\n",
        "    \n",
        "df = y_train.assign(data_in_file=new_columns_data)\n",
        "df = df.reindex(columns= ['id', 'data_in_file' ,'class'])\n",
        "new_columns_data = np.array(new_columns_data)\n",
        "# del namenpy\n",
        "# del new_columns_data\n",
        "\n",
        "df"
      ],
      "metadata": {
        "id": "LSKoBR5238Hm"
      },
      "execution_count": null,
      "outputs": []
    },
    {
      "cell_type": "code",
      "source": [
        "import tensorflow as tf\n",
        "from tensorflow.keras.models import Sequential\n",
        "from tensorflow.keras.layers import Conv3D, MaxPooling3D, TimeDistributed, LSTM, Dense, Dropout\n",
        "from keras.optimizers import Adam\n",
        "\n",
        "num_classes = 7\n",
        "\n",
        "model = Sequential()\n",
        "model.add(Conv3D(filters=32, kernel_size=3, activation='relu', input_shape=(size, size, 4)))\n",
        "model.add(MaxPooling3D(pool_size=(2, 2)))\n",
        "model.add(Conv3D(filters=64, kernel_size=3, activation='relu'))\n",
        "model.add(MaxPooling3D(pool_size=(2, 2)))\n",
        "model.add(LSTM(64, return_sequences=True))\n",
        "\n",
        "model.add(Flatten())\n",
        "model.add(Dense(32, activation='relu'))\n",
        "model.add(Dense(num_classes, activation='softmax'))\n",
        "opt = Adam(lr=0.001)\n",
        "model.compile(optimizer=opt, loss='categorical_crossentropy', metrics=['accuracy'])\n",
        "\n",
        "# Train the model\n",
        "history = lstm.fit(x_train, y_train, batch_size=16, epochs=20, validation_data=(x_val, y_val))\n",
        "\n"
      ],
      "metadata": {
        "id": "-UlTj01K37_d"
      },
      "execution_count": null,
      "outputs": []
    },
    {
      "cell_type": "markdown",
      "source": [
        "##score"
      ],
      "metadata": {
        "id": "4bFRSZrX0iqr"
      }
    },
    {
      "cell_type": "code",
      "source": [
        "# Make predictions on the validation set\n",
        "y_pred = model.predict(data)\n",
        "\n",
        "# Convert the predictions to class labels\n",
        "# y_pred_labels = np.argmax(y_pred, axis=1)"
      ],
      "metadata": {
        "id": "BRhvelgszjVz"
      },
      "execution_count": null,
      "outputs": []
    },
    {
      "cell_type": "code",
      "source": [],
      "metadata": {
        "id": "DpEgxCH04BV1"
      },
      "execution_count": null,
      "outputs": []
    },
    {
      "cell_type": "markdown",
      "source": [
        "#SAVE SUBMISSION"
      ],
      "metadata": {
        "id": "-2F2yzQPlbaT"
      }
    },
    {
      "cell_type": "code",
      "execution_count": null,
      "metadata": {
        "colab": {
          "base_uri": "https://localhost:8080/",
          "height": 424
        },
        "id": "gN_TvgEQy_gA",
        "outputId": "7811b167-42dd-4dbd-f199-415fe75fb349"
      },
      "outputs": [
        {
          "output_type": "execute_result",
          "data": {
            "text/plain": [
              "                                       id  class\n",
              "0    30de3513-93ff-42d8-ad5f-4c93f4a4444c    6.0\n",
              "1    84e55af1-ae63-4b06-b650-1136d38b691e    4.0\n",
              "2    2471a7eb-af35-4ae7-870e-6650de9f0c2f    2.0\n",
              "3    d00e8bdc-79af-4e55-b25a-96ea589b6420    NaN\n",
              "4    ad9f77bc-5ab6-477d-b760-2f3fc65c14d3    NaN\n",
              "..                                    ...    ...\n",
              "159  5fce955d-1068-40b3-afc3-111f8c22c9f9    NaN\n",
              "160  f3a000be-07c9-44ad-8ff0-b89a9a1070dd    NaN\n",
              "161  84d3963b-cfed-450c-88ab-ca853273d15c    NaN\n",
              "162  7b36184c-5541-44d9-9200-8057bd3cf4ef    NaN\n",
              "163  aa851836-415b-4a18-b660-99a395976285    NaN\n",
              "\n",
              "[164 rows x 2 columns]"
            ],
            "text/html": [
              "\n",
              "  <div id=\"df-93e26aee-1066-4cf9-a984-d387b9ac5699\">\n",
              "    <div class=\"colab-df-container\">\n",
              "      <div>\n",
              "<style scoped>\n",
              "    .dataframe tbody tr th:only-of-type {\n",
              "        vertical-align: middle;\n",
              "    }\n",
              "\n",
              "    .dataframe tbody tr th {\n",
              "        vertical-align: top;\n",
              "    }\n",
              "\n",
              "    .dataframe thead th {\n",
              "        text-align: right;\n",
              "    }\n",
              "</style>\n",
              "<table border=\"1\" class=\"dataframe\">\n",
              "  <thead>\n",
              "    <tr style=\"text-align: right;\">\n",
              "      <th></th>\n",
              "      <th>id</th>\n",
              "      <th>class</th>\n",
              "    </tr>\n",
              "  </thead>\n",
              "  <tbody>\n",
              "    <tr>\n",
              "      <th>0</th>\n",
              "      <td>30de3513-93ff-42d8-ad5f-4c93f4a4444c</td>\n",
              "      <td>6.0</td>\n",
              "    </tr>\n",
              "    <tr>\n",
              "      <th>1</th>\n",
              "      <td>84e55af1-ae63-4b06-b650-1136d38b691e</td>\n",
              "      <td>4.0</td>\n",
              "    </tr>\n",
              "    <tr>\n",
              "      <th>2</th>\n",
              "      <td>2471a7eb-af35-4ae7-870e-6650de9f0c2f</td>\n",
              "      <td>2.0</td>\n",
              "    </tr>\n",
              "    <tr>\n",
              "      <th>3</th>\n",
              "      <td>d00e8bdc-79af-4e55-b25a-96ea589b6420</td>\n",
              "      <td>NaN</td>\n",
              "    </tr>\n",
              "    <tr>\n",
              "      <th>4</th>\n",
              "      <td>ad9f77bc-5ab6-477d-b760-2f3fc65c14d3</td>\n",
              "      <td>NaN</td>\n",
              "    </tr>\n",
              "    <tr>\n",
              "      <th>...</th>\n",
              "      <td>...</td>\n",
              "      <td>...</td>\n",
              "    </tr>\n",
              "    <tr>\n",
              "      <th>159</th>\n",
              "      <td>5fce955d-1068-40b3-afc3-111f8c22c9f9</td>\n",
              "      <td>NaN</td>\n",
              "    </tr>\n",
              "    <tr>\n",
              "      <th>160</th>\n",
              "      <td>f3a000be-07c9-44ad-8ff0-b89a9a1070dd</td>\n",
              "      <td>NaN</td>\n",
              "    </tr>\n",
              "    <tr>\n",
              "      <th>161</th>\n",
              "      <td>84d3963b-cfed-450c-88ab-ca853273d15c</td>\n",
              "      <td>NaN</td>\n",
              "    </tr>\n",
              "    <tr>\n",
              "      <th>162</th>\n",
              "      <td>7b36184c-5541-44d9-9200-8057bd3cf4ef</td>\n",
              "      <td>NaN</td>\n",
              "    </tr>\n",
              "    <tr>\n",
              "      <th>163</th>\n",
              "      <td>aa851836-415b-4a18-b660-99a395976285</td>\n",
              "      <td>NaN</td>\n",
              "    </tr>\n",
              "  </tbody>\n",
              "</table>\n",
              "<p>164 rows × 2 columns</p>\n",
              "</div>\n",
              "      <button class=\"colab-df-convert\" onclick=\"convertToInteractive('df-93e26aee-1066-4cf9-a984-d387b9ac5699')\"\n",
              "              title=\"Convert this dataframe to an interactive table.\"\n",
              "              style=\"display:none;\">\n",
              "        \n",
              "  <svg xmlns=\"http://www.w3.org/2000/svg\" height=\"24px\"viewBox=\"0 0 24 24\"\n",
              "       width=\"24px\">\n",
              "    <path d=\"M0 0h24v24H0V0z\" fill=\"none\"/>\n",
              "    <path d=\"M18.56 5.44l.94 2.06.94-2.06 2.06-.94-2.06-.94-.94-2.06-.94 2.06-2.06.94zm-11 1L8.5 8.5l.94-2.06 2.06-.94-2.06-.94L8.5 2.5l-.94 2.06-2.06.94zm10 10l.94 2.06.94-2.06 2.06-.94-2.06-.94-.94-2.06-.94 2.06-2.06.94z\"/><path d=\"M17.41 7.96l-1.37-1.37c-.4-.4-.92-.59-1.43-.59-.52 0-1.04.2-1.43.59L10.3 9.45l-7.72 7.72c-.78.78-.78 2.05 0 2.83L4 21.41c.39.39.9.59 1.41.59.51 0 1.02-.2 1.41-.59l7.78-7.78 2.81-2.81c.8-.78.8-2.07 0-2.86zM5.41 20L4 18.59l7.72-7.72 1.47 1.35L5.41 20z\"/>\n",
              "  </svg>\n",
              "      </button>\n",
              "      \n",
              "  <style>\n",
              "    .colab-df-container {\n",
              "      display:flex;\n",
              "      flex-wrap:wrap;\n",
              "      gap: 12px;\n",
              "    }\n",
              "\n",
              "    .colab-df-convert {\n",
              "      background-color: #E8F0FE;\n",
              "      border: none;\n",
              "      border-radius: 50%;\n",
              "      cursor: pointer;\n",
              "      display: none;\n",
              "      fill: #1967D2;\n",
              "      height: 32px;\n",
              "      padding: 0 0 0 0;\n",
              "      width: 32px;\n",
              "    }\n",
              "\n",
              "    .colab-df-convert:hover {\n",
              "      background-color: #E2EBFA;\n",
              "      box-shadow: 0px 1px 2px rgba(60, 64, 67, 0.3), 0px 1px 3px 1px rgba(60, 64, 67, 0.15);\n",
              "      fill: #174EA6;\n",
              "    }\n",
              "\n",
              "    [theme=dark] .colab-df-convert {\n",
              "      background-color: #3B4455;\n",
              "      fill: #D2E3FC;\n",
              "    }\n",
              "\n",
              "    [theme=dark] .colab-df-convert:hover {\n",
              "      background-color: #434B5C;\n",
              "      box-shadow: 0px 1px 3px 1px rgba(0, 0, 0, 0.15);\n",
              "      filter: drop-shadow(0px 1px 2px rgba(0, 0, 0, 0.3));\n",
              "      fill: #FFFFFF;\n",
              "    }\n",
              "  </style>\n",
              "\n",
              "      <script>\n",
              "        const buttonEl =\n",
              "          document.querySelector('#df-93e26aee-1066-4cf9-a984-d387b9ac5699 button.colab-df-convert');\n",
              "        buttonEl.style.display =\n",
              "          google.colab.kernel.accessAllowed ? 'block' : 'none';\n",
              "\n",
              "        async function convertToInteractive(key) {\n",
              "          const element = document.querySelector('#df-93e26aee-1066-4cf9-a984-d387b9ac5699');\n",
              "          const dataTable =\n",
              "            await google.colab.kernel.invokeFunction('convertToInteractive',\n",
              "                                                     [key], {});\n",
              "          if (!dataTable) return;\n",
              "\n",
              "          const docLinkHtml = 'Like what you see? Visit the ' +\n",
              "            '<a target=\"_blank\" href=https://colab.research.google.com/notebooks/data_table.ipynb>data table notebook</a>'\n",
              "            + ' to learn more about interactive tables.';\n",
              "          element.innerHTML = '';\n",
              "          dataTable['output_type'] = 'display_data';\n",
              "          await google.colab.output.renderOutput(dataTable, element);\n",
              "          const docLink = document.createElement('div');\n",
              "          docLink.innerHTML = docLinkHtml;\n",
              "          element.appendChild(docLink);\n",
              "        }\n",
              "      </script>\n",
              "    </div>\n",
              "  </div>\n",
              "  "
            ]
          },
          "metadata": {},
          "execution_count": 33
        }
      ],
      "source": [
        "df_submission = pd.read_csv(\"/content/sample_submission.csv\")\n",
        "df_submission"
      ]
    },
    {
      "cell_type": "code",
      "source": [
        "import random\n",
        "\n",
        "for index, row in df_submission.iterrows():\n",
        "  if index > 2:\n",
        "    df_submission[\"class\"][index] = \"\""
      ],
      "metadata": {
        "colab": {
          "base_uri": "https://localhost:8080/"
        },
        "id": "HyRTAIZYO6Dh",
        "outputId": "ddd5e6f9-3e7a-4438-ce78-288057fdc1b2"
      },
      "execution_count": null,
      "outputs": [
        {
          "output_type": "stream",
          "name": "stderr",
          "text": [
            "<ipython-input-41-fc6125c63d38>:5: SettingWithCopyWarning: \n",
            "A value is trying to be set on a copy of a slice from a DataFrame\n",
            "\n",
            "See the caveats in the documentation: https://pandas.pydata.org/pandas-docs/stable/user_guide/indexing.html#returning-a-view-versus-a-copy\n",
            "  df_submission[\"class\"][index] = str(random.randint(0, 6))\n"
          ]
        }
      ]
    },
    {
      "cell_type": "code",
      "source": [
        "df_submission"
      ],
      "metadata": {
        "colab": {
          "base_uri": "https://localhost:8080/",
          "height": 424
        },
        "id": "6BPT-DDYPflY",
        "outputId": "67560d55-f4c3-41b7-8efe-802f97269757"
      },
      "execution_count": null,
      "outputs": [
        {
          "output_type": "execute_result",
          "data": {
            "text/plain": [
              "                                       id  class\n",
              "0    30de3513-93ff-42d8-ad5f-4c93f4a4444c    6.0\n",
              "1    84e55af1-ae63-4b06-b650-1136d38b691e    4.0\n",
              "2    2471a7eb-af35-4ae7-870e-6650de9f0c2f    2.0\n",
              "3    d00e8bdc-79af-4e55-b25a-96ea589b6420    6.0\n",
              "4    ad9f77bc-5ab6-477d-b760-2f3fc65c14d3    5.0\n",
              "..                                    ...    ...\n",
              "159  5fce955d-1068-40b3-afc3-111f8c22c9f9    5.0\n",
              "160  f3a000be-07c9-44ad-8ff0-b89a9a1070dd    6.0\n",
              "161  84d3963b-cfed-450c-88ab-ca853273d15c    6.0\n",
              "162  7b36184c-5541-44d9-9200-8057bd3cf4ef    6.0\n",
              "163  aa851836-415b-4a18-b660-99a395976285    1.0\n",
              "\n",
              "[164 rows x 2 columns]"
            ],
            "text/html": [
              "\n",
              "  <div id=\"df-3a970744-8eaf-4bd4-a877-58751060b49d\">\n",
              "    <div class=\"colab-df-container\">\n",
              "      <div>\n",
              "<style scoped>\n",
              "    .dataframe tbody tr th:only-of-type {\n",
              "        vertical-align: middle;\n",
              "    }\n",
              "\n",
              "    .dataframe tbody tr th {\n",
              "        vertical-align: top;\n",
              "    }\n",
              "\n",
              "    .dataframe thead th {\n",
              "        text-align: right;\n",
              "    }\n",
              "</style>\n",
              "<table border=\"1\" class=\"dataframe\">\n",
              "  <thead>\n",
              "    <tr style=\"text-align: right;\">\n",
              "      <th></th>\n",
              "      <th>id</th>\n",
              "      <th>class</th>\n",
              "    </tr>\n",
              "  </thead>\n",
              "  <tbody>\n",
              "    <tr>\n",
              "      <th>0</th>\n",
              "      <td>30de3513-93ff-42d8-ad5f-4c93f4a4444c</td>\n",
              "      <td>6.0</td>\n",
              "    </tr>\n",
              "    <tr>\n",
              "      <th>1</th>\n",
              "      <td>84e55af1-ae63-4b06-b650-1136d38b691e</td>\n",
              "      <td>4.0</td>\n",
              "    </tr>\n",
              "    <tr>\n",
              "      <th>2</th>\n",
              "      <td>2471a7eb-af35-4ae7-870e-6650de9f0c2f</td>\n",
              "      <td>2.0</td>\n",
              "    </tr>\n",
              "    <tr>\n",
              "      <th>3</th>\n",
              "      <td>d00e8bdc-79af-4e55-b25a-96ea589b6420</td>\n",
              "      <td>6.0</td>\n",
              "    </tr>\n",
              "    <tr>\n",
              "      <th>4</th>\n",
              "      <td>ad9f77bc-5ab6-477d-b760-2f3fc65c14d3</td>\n",
              "      <td>5.0</td>\n",
              "    </tr>\n",
              "    <tr>\n",
              "      <th>...</th>\n",
              "      <td>...</td>\n",
              "      <td>...</td>\n",
              "    </tr>\n",
              "    <tr>\n",
              "      <th>159</th>\n",
              "      <td>5fce955d-1068-40b3-afc3-111f8c22c9f9</td>\n",
              "      <td>5.0</td>\n",
              "    </tr>\n",
              "    <tr>\n",
              "      <th>160</th>\n",
              "      <td>f3a000be-07c9-44ad-8ff0-b89a9a1070dd</td>\n",
              "      <td>6.0</td>\n",
              "    </tr>\n",
              "    <tr>\n",
              "      <th>161</th>\n",
              "      <td>84d3963b-cfed-450c-88ab-ca853273d15c</td>\n",
              "      <td>6.0</td>\n",
              "    </tr>\n",
              "    <tr>\n",
              "      <th>162</th>\n",
              "      <td>7b36184c-5541-44d9-9200-8057bd3cf4ef</td>\n",
              "      <td>6.0</td>\n",
              "    </tr>\n",
              "    <tr>\n",
              "      <th>163</th>\n",
              "      <td>aa851836-415b-4a18-b660-99a395976285</td>\n",
              "      <td>1.0</td>\n",
              "    </tr>\n",
              "  </tbody>\n",
              "</table>\n",
              "<p>164 rows × 2 columns</p>\n",
              "</div>\n",
              "      <button class=\"colab-df-convert\" onclick=\"convertToInteractive('df-3a970744-8eaf-4bd4-a877-58751060b49d')\"\n",
              "              title=\"Convert this dataframe to an interactive table.\"\n",
              "              style=\"display:none;\">\n",
              "        \n",
              "  <svg xmlns=\"http://www.w3.org/2000/svg\" height=\"24px\"viewBox=\"0 0 24 24\"\n",
              "       width=\"24px\">\n",
              "    <path d=\"M0 0h24v24H0V0z\" fill=\"none\"/>\n",
              "    <path d=\"M18.56 5.44l.94 2.06.94-2.06 2.06-.94-2.06-.94-.94-2.06-.94 2.06-2.06.94zm-11 1L8.5 8.5l.94-2.06 2.06-.94-2.06-.94L8.5 2.5l-.94 2.06-2.06.94zm10 10l.94 2.06.94-2.06 2.06-.94-2.06-.94-.94-2.06-.94 2.06-2.06.94z\"/><path d=\"M17.41 7.96l-1.37-1.37c-.4-.4-.92-.59-1.43-.59-.52 0-1.04.2-1.43.59L10.3 9.45l-7.72 7.72c-.78.78-.78 2.05 0 2.83L4 21.41c.39.39.9.59 1.41.59.51 0 1.02-.2 1.41-.59l7.78-7.78 2.81-2.81c.8-.78.8-2.07 0-2.86zM5.41 20L4 18.59l7.72-7.72 1.47 1.35L5.41 20z\"/>\n",
              "  </svg>\n",
              "      </button>\n",
              "      \n",
              "  <style>\n",
              "    .colab-df-container {\n",
              "      display:flex;\n",
              "      flex-wrap:wrap;\n",
              "      gap: 12px;\n",
              "    }\n",
              "\n",
              "    .colab-df-convert {\n",
              "      background-color: #E8F0FE;\n",
              "      border: none;\n",
              "      border-radius: 50%;\n",
              "      cursor: pointer;\n",
              "      display: none;\n",
              "      fill: #1967D2;\n",
              "      height: 32px;\n",
              "      padding: 0 0 0 0;\n",
              "      width: 32px;\n",
              "    }\n",
              "\n",
              "    .colab-df-convert:hover {\n",
              "      background-color: #E2EBFA;\n",
              "      box-shadow: 0px 1px 2px rgba(60, 64, 67, 0.3), 0px 1px 3px 1px rgba(60, 64, 67, 0.15);\n",
              "      fill: #174EA6;\n",
              "    }\n",
              "\n",
              "    [theme=dark] .colab-df-convert {\n",
              "      background-color: #3B4455;\n",
              "      fill: #D2E3FC;\n",
              "    }\n",
              "\n",
              "    [theme=dark] .colab-df-convert:hover {\n",
              "      background-color: #434B5C;\n",
              "      box-shadow: 0px 1px 3px 1px rgba(0, 0, 0, 0.15);\n",
              "      filter: drop-shadow(0px 1px 2px rgba(0, 0, 0, 0.3));\n",
              "      fill: #FFFFFF;\n",
              "    }\n",
              "  </style>\n",
              "\n",
              "      <script>\n",
              "        const buttonEl =\n",
              "          document.querySelector('#df-3a970744-8eaf-4bd4-a877-58751060b49d button.colab-df-convert');\n",
              "        buttonEl.style.display =\n",
              "          google.colab.kernel.accessAllowed ? 'block' : 'none';\n",
              "\n",
              "        async function convertToInteractive(key) {\n",
              "          const element = document.querySelector('#df-3a970744-8eaf-4bd4-a877-58751060b49d');\n",
              "          const dataTable =\n",
              "            await google.colab.kernel.invokeFunction('convertToInteractive',\n",
              "                                                     [key], {});\n",
              "          if (!dataTable) return;\n",
              "\n",
              "          const docLinkHtml = 'Like what you see? Visit the ' +\n",
              "            '<a target=\"_blank\" href=https://colab.research.google.com/notebooks/data_table.ipynb>data table notebook</a>'\n",
              "            + ' to learn more about interactive tables.';\n",
              "          element.innerHTML = '';\n",
              "          dataTable['output_type'] = 'display_data';\n",
              "          await google.colab.output.renderOutput(dataTable, element);\n",
              "          const docLink = document.createElement('div');\n",
              "          docLink.innerHTML = docLinkHtml;\n",
              "          element.appendChild(docLink);\n",
              "        }\n",
              "      </script>\n",
              "    </div>\n",
              "  </div>\n",
              "  "
            ]
          },
          "metadata": {},
          "execution_count": 42
        }
      ]
    },
    {
      "cell_type": "code",
      "source": [
        "df_submission = pd.read_csv(\"/content/Submission.csv\")\n",
        "df_submission"
      ],
      "metadata": {
        "colab": {
          "base_uri": "https://localhost:8080/",
          "height": 424
        },
        "id": "caFZkfoJR52Q",
        "outputId": "ea21a0ab-3eb2-4397-efa0-f73d2a67b4f3"
      },
      "execution_count": null,
      "outputs": [
        {
          "output_type": "execute_result",
          "data": {
            "text/plain": [
              "                                       id  class\n",
              "0    30de3513-93ff-42d8-ad5f-4c93f4a4444c    6.0\n",
              "1    84e55af1-ae63-4b06-b650-1136d38b691e    4.0\n",
              "2    2471a7eb-af35-4ae7-870e-6650de9f0c2f    2.0\n",
              "3    d00e8bdc-79af-4e55-b25a-96ea589b6420    3.0\n",
              "4    ad9f77bc-5ab6-477d-b760-2f3fc65c14d3    5.0\n",
              "..                                    ...    ...\n",
              "159  5fce955d-1068-40b3-afc3-111f8c22c9f9    4.0\n",
              "160  f3a000be-07c9-44ad-8ff0-b89a9a1070dd    3.0\n",
              "161  84d3963b-cfed-450c-88ab-ca853273d15c    0.0\n",
              "162  7b36184c-5541-44d9-9200-8057bd3cf4ef    3.0\n",
              "163  aa851836-415b-4a18-b660-99a395976285    0.0\n",
              "\n",
              "[164 rows x 2 columns]"
            ],
            "text/html": [
              "\n",
              "  <div id=\"df-fb1ca199-240a-4a1f-b1a4-67cc8df9f59c\">\n",
              "    <div class=\"colab-df-container\">\n",
              "      <div>\n",
              "<style scoped>\n",
              "    .dataframe tbody tr th:only-of-type {\n",
              "        vertical-align: middle;\n",
              "    }\n",
              "\n",
              "    .dataframe tbody tr th {\n",
              "        vertical-align: top;\n",
              "    }\n",
              "\n",
              "    .dataframe thead th {\n",
              "        text-align: right;\n",
              "    }\n",
              "</style>\n",
              "<table border=\"1\" class=\"dataframe\">\n",
              "  <thead>\n",
              "    <tr style=\"text-align: right;\">\n",
              "      <th></th>\n",
              "      <th>id</th>\n",
              "      <th>class</th>\n",
              "    </tr>\n",
              "  </thead>\n",
              "  <tbody>\n",
              "    <tr>\n",
              "      <th>0</th>\n",
              "      <td>30de3513-93ff-42d8-ad5f-4c93f4a4444c</td>\n",
              "      <td>6.0</td>\n",
              "    </tr>\n",
              "    <tr>\n",
              "      <th>1</th>\n",
              "      <td>84e55af1-ae63-4b06-b650-1136d38b691e</td>\n",
              "      <td>4.0</td>\n",
              "    </tr>\n",
              "    <tr>\n",
              "      <th>2</th>\n",
              "      <td>2471a7eb-af35-4ae7-870e-6650de9f0c2f</td>\n",
              "      <td>2.0</td>\n",
              "    </tr>\n",
              "    <tr>\n",
              "      <th>3</th>\n",
              "      <td>d00e8bdc-79af-4e55-b25a-96ea589b6420</td>\n",
              "      <td>3.0</td>\n",
              "    </tr>\n",
              "    <tr>\n",
              "      <th>4</th>\n",
              "      <td>ad9f77bc-5ab6-477d-b760-2f3fc65c14d3</td>\n",
              "      <td>5.0</td>\n",
              "    </tr>\n",
              "    <tr>\n",
              "      <th>...</th>\n",
              "      <td>...</td>\n",
              "      <td>...</td>\n",
              "    </tr>\n",
              "    <tr>\n",
              "      <th>159</th>\n",
              "      <td>5fce955d-1068-40b3-afc3-111f8c22c9f9</td>\n",
              "      <td>4.0</td>\n",
              "    </tr>\n",
              "    <tr>\n",
              "      <th>160</th>\n",
              "      <td>f3a000be-07c9-44ad-8ff0-b89a9a1070dd</td>\n",
              "      <td>3.0</td>\n",
              "    </tr>\n",
              "    <tr>\n",
              "      <th>161</th>\n",
              "      <td>84d3963b-cfed-450c-88ab-ca853273d15c</td>\n",
              "      <td>0.0</td>\n",
              "    </tr>\n",
              "    <tr>\n",
              "      <th>162</th>\n",
              "      <td>7b36184c-5541-44d9-9200-8057bd3cf4ef</td>\n",
              "      <td>3.0</td>\n",
              "    </tr>\n",
              "    <tr>\n",
              "      <th>163</th>\n",
              "      <td>aa851836-415b-4a18-b660-99a395976285</td>\n",
              "      <td>0.0</td>\n",
              "    </tr>\n",
              "  </tbody>\n",
              "</table>\n",
              "<p>164 rows × 2 columns</p>\n",
              "</div>\n",
              "      <button class=\"colab-df-convert\" onclick=\"convertToInteractive('df-fb1ca199-240a-4a1f-b1a4-67cc8df9f59c')\"\n",
              "              title=\"Convert this dataframe to an interactive table.\"\n",
              "              style=\"display:none;\">\n",
              "        \n",
              "  <svg xmlns=\"http://www.w3.org/2000/svg\" height=\"24px\"viewBox=\"0 0 24 24\"\n",
              "       width=\"24px\">\n",
              "    <path d=\"M0 0h24v24H0V0z\" fill=\"none\"/>\n",
              "    <path d=\"M18.56 5.44l.94 2.06.94-2.06 2.06-.94-2.06-.94-.94-2.06-.94 2.06-2.06.94zm-11 1L8.5 8.5l.94-2.06 2.06-.94-2.06-.94L8.5 2.5l-.94 2.06-2.06.94zm10 10l.94 2.06.94-2.06 2.06-.94-2.06-.94-.94-2.06-.94 2.06-2.06.94z\"/><path d=\"M17.41 7.96l-1.37-1.37c-.4-.4-.92-.59-1.43-.59-.52 0-1.04.2-1.43.59L10.3 9.45l-7.72 7.72c-.78.78-.78 2.05 0 2.83L4 21.41c.39.39.9.59 1.41.59.51 0 1.02-.2 1.41-.59l7.78-7.78 2.81-2.81c.8-.78.8-2.07 0-2.86zM5.41 20L4 18.59l7.72-7.72 1.47 1.35L5.41 20z\"/>\n",
              "  </svg>\n",
              "      </button>\n",
              "      \n",
              "  <style>\n",
              "    .colab-df-container {\n",
              "      display:flex;\n",
              "      flex-wrap:wrap;\n",
              "      gap: 12px;\n",
              "    }\n",
              "\n",
              "    .colab-df-convert {\n",
              "      background-color: #E8F0FE;\n",
              "      border: none;\n",
              "      border-radius: 50%;\n",
              "      cursor: pointer;\n",
              "      display: none;\n",
              "      fill: #1967D2;\n",
              "      height: 32px;\n",
              "      padding: 0 0 0 0;\n",
              "      width: 32px;\n",
              "    }\n",
              "\n",
              "    .colab-df-convert:hover {\n",
              "      background-color: #E2EBFA;\n",
              "      box-shadow: 0px 1px 2px rgba(60, 64, 67, 0.3), 0px 1px 3px 1px rgba(60, 64, 67, 0.15);\n",
              "      fill: #174EA6;\n",
              "    }\n",
              "\n",
              "    [theme=dark] .colab-df-convert {\n",
              "      background-color: #3B4455;\n",
              "      fill: #D2E3FC;\n",
              "    }\n",
              "\n",
              "    [theme=dark] .colab-df-convert:hover {\n",
              "      background-color: #434B5C;\n",
              "      box-shadow: 0px 1px 3px 1px rgba(0, 0, 0, 0.15);\n",
              "      filter: drop-shadow(0px 1px 2px rgba(0, 0, 0, 0.3));\n",
              "      fill: #FFFFFF;\n",
              "    }\n",
              "  </style>\n",
              "\n",
              "      <script>\n",
              "        const buttonEl =\n",
              "          document.querySelector('#df-fb1ca199-240a-4a1f-b1a4-67cc8df9f59c button.colab-df-convert');\n",
              "        buttonEl.style.display =\n",
              "          google.colab.kernel.accessAllowed ? 'block' : 'none';\n",
              "\n",
              "        async function convertToInteractive(key) {\n",
              "          const element = document.querySelector('#df-fb1ca199-240a-4a1f-b1a4-67cc8df9f59c');\n",
              "          const dataTable =\n",
              "            await google.colab.kernel.invokeFunction('convertToInteractive',\n",
              "                                                     [key], {});\n",
              "          if (!dataTable) return;\n",
              "\n",
              "          const docLinkHtml = 'Like what you see? Visit the ' +\n",
              "            '<a target=\"_blank\" href=https://colab.research.google.com/notebooks/data_table.ipynb>data table notebook</a>'\n",
              "            + ' to learn more about interactive tables.';\n",
              "          element.innerHTML = '';\n",
              "          dataTable['output_type'] = 'display_data';\n",
              "          await google.colab.output.renderOutput(dataTable, element);\n",
              "          const docLink = document.createElement('div');\n",
              "          docLink.innerHTML = docLinkHtml;\n",
              "          element.appendChild(docLink);\n",
              "        }\n",
              "      </script>\n",
              "    </div>\n",
              "  </div>\n",
              "  "
            ]
          },
          "metadata": {},
          "execution_count": 39
        }
      ]
    },
    {
      "cell_type": "markdown",
      "metadata": {
        "id": "PP5TriTHEJra"
      },
      "source": [
        "#Submission to Kaggle"
      ]
    },
    {
      "cell_type": "markdown",
      "metadata": {
        "id": "2Pj_XilAEiZS"
      },
      "source": [
        "submit from local"
      ]
    },
    {
      "cell_type": "code",
      "execution_count": null,
      "metadata": {
        "colab": {
          "base_uri": "https://localhost:8080/"
        },
        "id": "GVTiTbVBDKbq",
        "outputId": "88849a85-2e26-4f6f-fabf-7d06232a1892"
      },
      "outputs": [
        {
          "output_type": "stream",
          "name": "stdout",
          "text": [
            "100% 6.25k/6.25k [00:03<00:00, 1.74kB/s]\n",
            "400 - Bad Request\n"
          ]
        }
      ],
      "source": [
        "!kaggle competitions submit -c uwb-pose-prediction -f /content/Submission.csv -m \"CNN Overfiting time 2\""
      ]
    },
    {
      "cell_type": "markdown",
      "metadata": {
        "id": "Tjy681boEloS"
      },
      "source": [
        "##submit from gdrive"
      ]
    },
    {
      "cell_type": "code",
      "source": [
        "X_pca.shape"
      ],
      "metadata": {
        "colab": {
          "base_uri": "https://localhost:8080/"
        },
        "id": "Wj9Mg9W0S48f",
        "outputId": "b58fe786-3daf-40ea-a89b-4cdd50de6c6e"
      },
      "execution_count": null,
      "outputs": [
        {
          "output_type": "execute_result",
          "data": {
            "text/plain": [
              "(647, 100)"
            ]
          },
          "metadata": {},
          "execution_count": 65
        }
      ]
    },
    {
      "cell_type": "code",
      "source": [
        "num = 13\n",
        "fig, ax = plt.subplots(figsize=(15, 15))\n",
        "ax.imshow(df[\"data_in_file\"][num], cmap='gray', aspect=\"auto\")\n",
        "ax.axis('off')\n",
        "plt.show()\n",
        "\n",
        "print(df[\"class\"][num])"
      ],
      "metadata": {
        "colab": {
          "base_uri": "https://localhost:8080/",
          "height": 863
        },
        "id": "sYrMVxk5fK2y",
        "outputId": "876f2c6a-0103-479d-88eb-bbae17edae46"
      },
      "execution_count": null,
      "outputs": [
        {
          "output_type": "display_data",
          "data": {
            "text/plain": [
              "<Figure size 1080x1080 with 1 Axes>"
            ],
            "image/png": "[encoded data removed]"
          },
          "metadata": {
            "needs_background": "light"
          }
        },
        {
          "output_type": "stream",
          "name": "stdout",
          "text": [
            "0\n"
          ]
        }
      ]
    },
    {
      "cell_type": "code",
      "source": [
        "#path\n",
        "import pandas as pd\n",
        "import numpy as np\n",
        "from pathlib import Path\n",
        "y_train = pd.read_csv(\"/content/annotations.csv\")\n",
        "path = Path(\"/content/train/train\")"
      ],
      "metadata": {
        "id": "L7pjJavKRSjD"
      },
      "execution_count": null,
      "outputs": []
    },
    {
      "cell_type": "code",
      "source": [
        "new_columns_data = []\n",
        "for namenpy in y_train[\"id\"]:\n",
        "    data = np.load(path / (namenpy + '.npy'))\n",
        "    data = data.flatten().astype(float)\n",
        "    window_size = 10000 #\n",
        "    data_abs = np.abs(data)\n",
        "    stretched = np.transpose(data_abs)\n",
        "    smooth_data = np.convolve(stretched, np.ones(window_size)/window_size, mode='valid')\n",
        "    shrunk_data = smooth_data[::1000]\n",
        "    new_columns_data.append(shrunk_data)\n",
        "\n",
        "df = y_train.assign(data_in_file=new_columns_data)\n",
        "df = df.reindex(columns= ['id', 'data_in_file' ,'class'])\n",
        "\n",
        "# del namenpy\n",
        "# del new_columns_data\n",
        "df"
      ],
      "metadata": {
        "id": "ydmvUp1JVPAT",
        "colab": {
          "base_uri": "https://localhost:8080/",
          "height": 458
        },
        "outputId": "8ae20020-eb0d-4fd4-b1fb-0c6ef59b6b01"
      },
      "execution_count": null,
      "outputs": [
        {
          "output_type": "stream",
          "name": "stderr",
          "text": [
            "<ipython-input-2-8cc66c1539b9>:4: ComplexWarning: Casting complex values to real discards the imaginary part\n",
            "  data = data.flatten().astype(float)\n"
          ]
        },
        {
          "output_type": "execute_result",
          "data": {
            "text/plain": [
              "                                       id  \\\n",
              "0    80a8dc1d-b216-469c-91b1-fc257562a883   \n",
              "1    3ab012da-927a-40d6-95f8-5a2f96dad360   \n",
              "2    eef92f84-5127-4063-a4a2-fee4035b1ac7   \n",
              "3    8d562739-6502-4a6c-8b83-e029b795f685   \n",
              "4    404c2e92-1101-4e62-83bf-a6fdb7dfcb9a   \n",
              "..                                    ...   \n",
              "642  ea5513a7-f18a-4393-8ab4-44e574e70f2b   \n",
              "643  edf4aec3-410d-4ed3-90d2-12671bb4c625   \n",
              "644  297e1f02-66ac-4e4e-849a-da2f1103e8a0   \n",
              "645  926418bb-2e66-4c82-82b1-13a82faf73b4   \n",
              "646  e24e1356-ea01-4189-a3d3-15bfb145b7a5   \n",
              "\n",
              "                                          data_in_file  class  \n",
              "0    [0.0011546519404864218, 0.0011509351616813936,...      0  \n",
              "1    [0.0010872161380009323, 0.0010831964103539384,...      0  \n",
              "2    [0.0011417296277893944, 0.001138153311570662, ...      0  \n",
              "3    [0.0011804525676436925, 0.0011764742750635152,...      0  \n",
              "4    [0.0010842839329784268, 0.0010806790509687502,...      0  \n",
              "..                                                 ...    ...  \n",
              "642  [0.0009996313740805742, 0.0009960191618430072,...      4  \n",
              "643  [0.0009401322761291485, 0.0009366407529717012,...      4  \n",
              "644  [0.0014574576230146287, 0.0014507804993837037,...      4  \n",
              "645  [0.0010842526704817857, 0.0010801428821330802,...      4  \n",
              "646  [0.001442192857477636, 0.0014378160612622932, ...      4  \n",
              "\n",
              "[647 rows x 3 columns]"
            ],
            "text/html": [
              "\n",
              "  <div id=\"df-a12e82f5-8714-413b-bcf6-39e3a1532aa6\">\n",
              "    <div class=\"colab-df-container\">\n",
              "      <div>\n",
              "<style scoped>\n",
              "    .dataframe tbody tr th:only-of-type {\n",
              "        vertical-align: middle;\n",
              "    }\n",
              "\n",
              "    .dataframe tbody tr th {\n",
              "        vertical-align: top;\n",
              "    }\n",
              "\n",
              "    .dataframe thead th {\n",
              "        text-align: right;\n",
              "    }\n",
              "</style>\n",
              "<table border=\"1\" class=\"dataframe\">\n",
              "  <thead>\n",
              "    <tr style=\"text-align: right;\">\n",
              "      <th></th>\n",
              "      <th>id</th>\n",
              "      <th>data_in_file</th>\n",
              "      <th>class</th>\n",
              "    </tr>\n",
              "  </thead>\n",
              "  <tbody>\n",
              "    <tr>\n",
              "      <th>0</th>\n",
              "      <td>80a8dc1d-b216-469c-91b1-fc257562a883</td>\n",
              "      <td>[0.0011546519404864218, 0.0011509351616813936,...</td>\n",
              "      <td>0</td>\n",
              "    </tr>\n",
              "    <tr>\n",
              "      <th>1</th>\n",
              "      <td>3ab012da-927a-40d6-95f8-5a2f96dad360</td>\n",
              "      <td>[0.0010872161380009323, 0.0010831964103539384,...</td>\n",
              "      <td>0</td>\n",
              "    </tr>\n",
              "    <tr>\n",
              "      <th>2</th>\n",
              "      <td>eef92f84-5127-4063-a4a2-fee4035b1ac7</td>\n",
              "      <td>[0.0011417296277893944, 0.001138153311570662, ...</td>\n",
              "      <td>0</td>\n",
              "    </tr>\n",
              "    <tr>\n",
              "      <th>3</th>\n",
              "      <td>8d562739-6502-4a6c-8b83-e029b795f685</td>\n",
              "      <td>[0.0011804525676436925, 0.0011764742750635152,...</td>\n",
              "      <td>0</td>\n",
              "    </tr>\n",
              "    <tr>\n",
              "      <th>4</th>\n",
              "      <td>404c2e92-1101-4e62-83bf-a6fdb7dfcb9a</td>\n",
              "      <td>[0.0010842839329784268, 0.0010806790509687502,...</td>\n",
              "      <td>0</td>\n",
              "    </tr>\n",
              "    <tr>\n",
              "      <th>...</th>\n",
              "      <td>...</td>\n",
              "      <td>...</td>\n",
              "      <td>...</td>\n",
              "    </tr>\n",
              "    <tr>\n",
              "      <th>642</th>\n",
              "      <td>ea5513a7-f18a-4393-8ab4-44e574e70f2b</td>\n",
              "      <td>[0.0009996313740805742, 0.0009960191618430072,...</td>\n",
              "      <td>4</td>\n",
              "    </tr>\n",
              "    <tr>\n",
              "      <th>643</th>\n",
              "      <td>edf4aec3-410d-4ed3-90d2-12671bb4c625</td>\n",
              "      <td>[0.0009401322761291485, 0.0009366407529717012,...</td>\n",
              "      <td>4</td>\n",
              "    </tr>\n",
              "    <tr>\n",
              "      <th>644</th>\n",
              "      <td>297e1f02-66ac-4e4e-849a-da2f1103e8a0</td>\n",
              "      <td>[0.0014574576230146287, 0.0014507804993837037,...</td>\n",
              "      <td>4</td>\n",
              "    </tr>\n",
              "    <tr>\n",
              "      <th>645</th>\n",
              "      <td>926418bb-2e66-4c82-82b1-13a82faf73b4</td>\n",
              "      <td>[0.0010842526704817857, 0.0010801428821330802,...</td>\n",
              "      <td>4</td>\n",
              "    </tr>\n",
              "    <tr>\n",
              "      <th>646</th>\n",
              "      <td>e24e1356-ea01-4189-a3d3-15bfb145b7a5</td>\n",
              "      <td>[0.001442192857477636, 0.0014378160612622932, ...</td>\n",
              "      <td>4</td>\n",
              "    </tr>\n",
              "  </tbody>\n",
              "</table>\n",
              "<p>647 rows × 3 columns</p>\n",
              "</div>\n",
              "      <button class=\"colab-df-convert\" onclick=\"convertToInteractive('df-a12e82f5-8714-413b-bcf6-39e3a1532aa6')\"\n",
              "              title=\"Convert this dataframe to an interactive table.\"\n",
              "              style=\"display:none;\">\n",
              "        \n",
              "  <svg xmlns=\"http://www.w3.org/2000/svg\" height=\"24px\"viewBox=\"0 0 24 24\"\n",
              "       width=\"24px\">\n",
              "    <path d=\"M0 0h24v24H0V0z\" fill=\"none\"/>\n",
              "    <path d=\"M18.56 5.44l.94 2.06.94-2.06 2.06-.94-2.06-.94-.94-2.06-.94 2.06-2.06.94zm-11 1L8.5 8.5l.94-2.06 2.06-.94-2.06-.94L8.5 2.5l-.94 2.06-2.06.94zm10 10l.94 2.06.94-2.06 2.06-.94-2.06-.94-.94-2.06-.94 2.06-2.06.94z\"/><path d=\"M17.41 7.96l-1.37-1.37c-.4-.4-.92-.59-1.43-.59-.52 0-1.04.2-1.43.59L10.3 9.45l-7.72 7.72c-.78.78-.78 2.05 0 2.83L4 21.41c.39.39.9.59 1.41.59.51 0 1.02-.2 1.41-.59l7.78-7.78 2.81-2.81c.8-.78.8-2.07 0-2.86zM5.41 20L4 18.59l7.72-7.72 1.47 1.35L5.41 20z\"/>\n",
              "  </svg>\n",
              "      </button>\n",
              "      \n",
              "  <style>\n",
              "    .colab-df-container {\n",
              "      display:flex;\n",
              "      flex-wrap:wrap;\n",
              "      gap: 12px;\n",
              "    }\n",
              "\n",
              "    .colab-df-convert {\n",
              "      background-color: #E8F0FE;\n",
              "      border: none;\n",
              "      border-radius: 50%;\n",
              "      cursor: pointer;\n",
              "      display: none;\n",
              "      fill: #1967D2;\n",
              "      height: 32px;\n",
              "      padding: 0 0 0 0;\n",
              "      width: 32px;\n",
              "    }\n",
              "\n",
              "    .colab-df-convert:hover {\n",
              "      background-color: #E2EBFA;\n",
              "      box-shadow: 0px 1px 2px rgba(60, 64, 67, 0.3), 0px 1px 3px 1px rgba(60, 64, 67, 0.15);\n",
              "      fill: #174EA6;\n",
              "    }\n",
              "\n",
              "    [theme=dark] .colab-df-convert {\n",
              "      background-color: #3B4455;\n",
              "      fill: #D2E3FC;\n",
              "    }\n",
              "\n",
              "    [theme=dark] .colab-df-convert:hover {\n",
              "      background-color: #434B5C;\n",
              "      box-shadow: 0px 1px 3px 1px rgba(0, 0, 0, 0.15);\n",
              "      filter: drop-shadow(0px 1px 2px rgba(0, 0, 0, 0.3));\n",
              "      fill: #FFFFFF;\n",
              "    }\n",
              "  </style>\n",
              "\n",
              "      <script>\n",
              "        const buttonEl =\n",
              "          document.querySelector('#df-a12e82f5-8714-413b-bcf6-39e3a1532aa6 button.colab-df-convert');\n",
              "        buttonEl.style.display =\n",
              "          google.colab.kernel.accessAllowed ? 'block' : 'none';\n",
              "\n",
              "        async function convertToInteractive(key) {\n",
              "          const element = document.querySelector('#df-a12e82f5-8714-413b-bcf6-39e3a1532aa6');\n",
              "          const dataTable =\n",
              "            await google.colab.kernel.invokeFunction('convertToInteractive',\n",
              "                                                     [key], {});\n",
              "          if (!dataTable) return;\n",
              "\n",
              "          const docLinkHtml = 'Like what you see? Visit the ' +\n",
              "            '<a target=\"_blank\" href=https://colab.research.google.com/notebooks/data_table.ipynb>data table notebook</a>'\n",
              "            + ' to learn more about interactive tables.';\n",
              "          element.innerHTML = '';\n",
              "          dataTable['output_type'] = 'display_data';\n",
              "          await google.colab.output.renderOutput(dataTable, element);\n",
              "          const docLink = document.createElement('div');\n",
              "          docLink.innerHTML = docLinkHtml;\n",
              "          element.appendChild(docLink);\n",
              "        }\n",
              "      </script>\n",
              "    </div>\n",
              "  </div>\n",
              "  "
            ]
          },
          "metadata": {},
          "execution_count": 2
        }
      ]
    },
    {
      "cell_type": "code",
      "source": [
        "from sklearn.model_selection import train_test_split\n",
        "from sklearn.metrics import accuracy_score\n",
        "\n",
        "# Split the data into training and testing sets\n",
        "X_train, X_test, y_train, y_test = train_test_split(df['data_in_file'], df['class'], test_size=0.2, random_state=42)\n",
        "X_train, X_test, y_train, y_test = train_test_split(X_train, y_train, test_size=0.1, random_state=42)\n",
        "print(X_train.shape, X_test.shape) #(517,) (130,)\n"
      ],
      "metadata": {
        "colab": {
          "base_uri": "https://localhost:8080/"
        },
        "id": "kKDd8fQhrJDS",
        "outputId": "2e84ef19-4e0a-4bc8-fb9a-8ea4e03fe8f3"
      },
      "execution_count": null,
      "outputs": [
        {
          "output_type": "stream",
          "name": "stdout",
          "text": [
            "(465,) (52,)\n"
          ]
        }
      ]
    },
    {
      "cell_type": "code",
      "source": [
        "# Stack the arrays vertically\n",
        "X_train = np.vstack(X_train)\n",
        "X_test = np.vstack(X_test)"
      ],
      "metadata": {
        "id": "MyX5OIfWrt2W"
      },
      "execution_count": null,
      "outputs": []
    },
    {
      "cell_type": "code",
      "source": [
        "print(X_train.shape)\n",
        "print(X_test.shape)\n"
      ],
      "metadata": {
        "colab": {
          "base_uri": "https://localhost:8080/"
        },
        "id": "X9S-V4fsYZvK",
        "outputId": "7f15c1d7-3e2a-42be-e815-e60c91c7cb4d"
      },
      "execution_count": null,
      "outputs": [
        {
          "output_type": "stream",
          "name": "stdout",
          "text": [
            "(465, 8891)\n",
            "(52, 8891)\n"
          ]
        }
      ]
    },
    {
      "cell_type": "markdown",
      "source": [
        "#Research : Filtering Data Bins of UWB Radars for Activity Recognition with Random Forest"
      ],
      "metadata": {
        "id": "ft5uCbrK73PT"
      }
    },
    {
      "cell_type": "code",
      "source": [
        "import numpy as np\n",
        "import pandas as pd\n",
        "from pathlib import Path\n",
        "from sklearn.feature_selection import SelectKBest, chi2\n",
        "from sklearn.decomposition import PCA\n",
        "from sklearn.neural_network import MLPClassifier\n",
        "from sklearn.model_selection import train_test_split\n",
        "from scipy import signal\n",
        "\n",
        "path = Path(\"/content/train/train\")\n",
        "y_train = pd.read_csv(\"/content/annotations.csv\")\n",
        "y_train = y_train.rename(columns={'class': 'target'})\n",
        "\n",
        "new_columns_data = []\n",
        "fs = 50  # Sample rate\n",
        "for namenpy in y_train[\"id\"]:\n",
        "    data = np.abs(np.load(path / (namenpy + '.npy')))\n",
        "    lowcut = 20\n",
        "    highcut = 80\n",
        "    b, a = signal.butter(2, [lowcut / (0.5 * fs), highcut / (0.5 * fs)], 'band')\n",
        "    data = np.abs(signal.filtfilt(b, a, data))\n",
        "    new_columns_data.append(data)\n",
        "new_columns_data[519] = new_columns_data[519][:2560]\n",
        "df = y_train.assign(data_in_file=new_columns_data)\n",
        "df = df.reindex(columns= ['id', 'data_in_file' ,'target'])\n",
        "\n",
        "# Select the top 4000 features using chi2 test\n",
        "X = np.array(new_columns_data).reshape(647, -1)\n",
        "selector = SelectKBest(score_func=chi2, k=45000)\n",
        "X_new = selector.fit_transform(X, y_train[\"target\"])\n",
        "\n",
        "Y = y_train[\"target\"]\n",
        "# Apply PCA to reduce the number of features\n",
        "n_components = [10, 20, 30, 40, 50, 60, 70, 80, 90, 100]\n",
        "for n in n_components:\n",
        "    pca = PCA(n_components=n)\n",
        "    X_pca = pca.fit_transform(X_new)\n",
        "\n",
        "    # Split the data into training, validation, and test sets\n",
        "    X_train, X_test, y_train_target, y_test_target = train_test_split(X_pca, y_train[\"target\"], test_size=0.2, random_state=0)\n",
        "    # X_train, X_val, y_train_target, y_val_target = train_test_split(X_train, y_train_target, test_size=0.2, random_state=0)\n",
        "    neural_network = (n, n*2, n//3,10)\n",
        "    clf = MLPClassifier(max_iter=300 , activation='relu', learning_rate_init=0.001,solver='adam', alpha=1e-5,\n",
        "                    hidden_layer_sizes=neural_network, random_state=42)\n",
        "    # Train a Multi-layer Perceptron Classifier\n",
        "    clf.fit(X_train, y_train_target)\n",
        "\n",
        "    # Evaluate the model's accuracy on the validation set\n",
        "    test_accuracy = clf.score(X_test, y_test_target)\n",
        "    print(f\"Test accuracy with {n} principal components: {test_accuracy:.4f}\")\n",
        "\n"
      ],
      "metadata": {
        "colab": {
          "base_uri": "https://localhost:8080/"
        },
        "id": "wNu_32FgQDPo",
        "outputId": "8b46ffe9-d0e6-438d-e183-44d6c4e4b2ff"
      },
      "execution_count": null,
      "outputs": [
        {
          "output_type": "stream",
          "name": "stderr",
          "text": [
            "/usr/local/lib/python3.8/dist-packages/sklearn/neural_network/_multilayer_perceptron.py:684: ConvergenceWarning: Stochastic Optimizer: Maximum iterations (300) reached and the optimization hasn't converged yet.\n",
            "  warnings.warn(\n"
          ]
        },
        {
          "output_type": "stream",
          "name": "stdout",
          "text": [
            "Test accuracy with 10 principal components: 0.2077\n",
            "Test accuracy with 20 principal components: 0.1615\n"
          ]
        },
        {
          "output_type": "stream",
          "name": "stderr",
          "text": [
            "/usr/local/lib/python3.8/dist-packages/sklearn/neural_network/_multilayer_perceptron.py:684: ConvergenceWarning: Stochastic Optimizer: Maximum iterations (300) reached and the optimization hasn't converged yet.\n",
            "  warnings.warn(\n"
          ]
        },
        {
          "output_type": "stream",
          "name": "stdout",
          "text": [
            "Test accuracy with 30 principal components: 0.2846\n"
          ]
        },
        {
          "output_type": "stream",
          "name": "stderr",
          "text": [
            "/usr/local/lib/python3.8/dist-packages/sklearn/neural_network/_multilayer_perceptron.py:684: ConvergenceWarning: Stochastic Optimizer: Maximum iterations (300) reached and the optimization hasn't converged yet.\n",
            "  warnings.warn(\n"
          ]
        },
        {
          "output_type": "stream",
          "name": "stdout",
          "text": [
            "Test accuracy with 40 principal components: 0.2615\n"
          ]
        },
        {
          "output_type": "stream",
          "name": "stderr",
          "text": [
            "/usr/local/lib/python3.8/dist-packages/sklearn/neural_network/_multilayer_perceptron.py:684: ConvergenceWarning: Stochastic Optimizer: Maximum iterations (300) reached and the optimization hasn't converged yet.\n",
            "  warnings.warn(\n"
          ]
        },
        {
          "output_type": "stream",
          "name": "stdout",
          "text": [
            "Test accuracy with 50 principal components: 0.3231\n"
          ]
        },
        {
          "output_type": "stream",
          "name": "stderr",
          "text": [
            "/usr/local/lib/python3.8/dist-packages/sklearn/neural_network/_multilayer_perceptron.py:684: ConvergenceWarning: Stochastic Optimizer: Maximum iterations (300) reached and the optimization hasn't converged yet.\n",
            "  warnings.warn(\n"
          ]
        },
        {
          "output_type": "stream",
          "name": "stdout",
          "text": [
            "Test accuracy with 60 principal components: 0.3000\n"
          ]
        },
        {
          "output_type": "stream",
          "name": "stderr",
          "text": [
            "/usr/local/lib/python3.8/dist-packages/sklearn/neural_network/_multilayer_perceptron.py:684: ConvergenceWarning: Stochastic Optimizer: Maximum iterations (300) reached and the optimization hasn't converged yet.\n",
            "  warnings.warn(\n"
          ]
        },
        {
          "output_type": "stream",
          "name": "stdout",
          "text": [
            "Test accuracy with 70 principal components: 0.2846\n"
          ]
        },
        {
          "output_type": "stream",
          "name": "stderr",
          "text": [
            "/usr/local/lib/python3.8/dist-packages/sklearn/neural_network/_multilayer_perceptron.py:684: ConvergenceWarning: Stochastic Optimizer: Maximum iterations (300) reached and the optimization hasn't converged yet.\n",
            "  warnings.warn(\n"
          ]
        },
        {
          "output_type": "stream",
          "name": "stdout",
          "text": [
            "Test accuracy with 80 principal components: 0.3231\n"
          ]
        },
        {
          "output_type": "stream",
          "name": "stderr",
          "text": [
            "/usr/local/lib/python3.8/dist-packages/sklearn/neural_network/_multilayer_perceptron.py:684: ConvergenceWarning: Stochastic Optimizer: Maximum iterations (300) reached and the optimization hasn't converged yet.\n",
            "  warnings.warn(\n"
          ]
        },
        {
          "output_type": "stream",
          "name": "stdout",
          "text": [
            "Test accuracy with 90 principal components: 0.2462\n",
            "Test accuracy with 100 principal components: 0.2923\n"
          ]
        },
        {
          "output_type": "stream",
          "name": "stderr",
          "text": [
            "/usr/local/lib/python3.8/dist-packages/sklearn/neural_network/_multilayer_perceptron.py:684: ConvergenceWarning: Stochastic Optimizer: Maximum iterations (300) reached and the optimization hasn't converged yet.\n",
            "  warnings.warn(\n"
          ]
        }
      ]
    },
    {
      "cell_type": "code",
      "source": [
        "import numpy as np\n",
        "import pandas as pd\n",
        "from pathlib import Path\n",
        "from sklearn.feature_selection import SelectKBest, chi2\n",
        "from sklearn.decomposition import PCA\n",
        "from sklearn.ensemble import RandomForestClassifier\n",
        "from sklearn.model_selection import train_test_split\n",
        "from scipy import signal\n",
        "\n",
        "path = Path(\"/content/train/train\")\n",
        "y_train = pd.read_csv(\"/content/annotations.csv\")\n",
        "\n",
        "new_columns_data = []\n",
        "fs = 1000  # Sample rate\n",
        "for namenpy in y_train[\"id\"]:\n",
        "    data = np.abs(np.load(path / (namenpy + '.npy')))\n",
        "    lowcut = 20\n",
        "    highcut = 80\n",
        "    b, a = signal.butter(2, [lowcut / (0.5 * fs), highcut / (0.5 * fs)], 'band')\n",
        "    data = np.abs(signal.filtfilt(b, a, data))\n",
        "    new_columns_data.append(data)\n",
        "new_columns_data[519] = new_columns_data[519][:2560]\n",
        "df = y_train.assign(data_in_file=new_columns_data)\n",
        "df = df.reindex(columns= ['id', 'data_in_file' ,'class'])\n",
        "\n",
        "# Select the top 4000 features using chi2 test\n",
        "X = np.array(new_columns_data).reshape(647, -1)\n",
        "selector = SelectKBest(score_func=chi2, k=4000)\n",
        "X_new = selector.fit_transform(X, y_train[\"class\"])\n",
        "\n",
        "Y = y_train[\"class\"]\n",
        "# Apply PCA to reduce the number of features\n",
        "n_components = [10,11,12,13,14,15,16,17,18,19, 20, 30, 40, 50, 60, 70, 80, 90, 100]\n",
        "for n in n_components:\n",
        "    pca = PCA(n_components=n)\n",
        "    X_pca = pca.fit_transform(X_new)\n",
        "\n",
        "    # Split the data into training, validation, and test sets\n",
        "    X_train, X_test, y_train, y_test = train_test_split(X_pca, Y , test_size=0.2, random_state=42)\n",
        "    X_train, X_val, y_train, y_val = train_test_split(X_train, y_train, test_size=0.2, random_state=42)\n",
        "\n",
        "    # Train a Random Forest Classifier with 100 trees\n",
        "    clf = RandomForestClassifier(n_estimators=100)\n",
        "    clf.fit(X_train, y_train)\n",
        "\n",
        "    # Evaluate the model's accuracy on the validation set\n",
        "    val_accuracy = clf.score(X_val, y_val)\n",
        "    print(f\"Validation accuracy with {n} principal components: {val_accuracy:.4f}\")\n",
        "\n",
        "    # Evaluate the model's accuracy on the test set\n",
        "    test_accuracy = clf.score(X_test, y_test)\n",
        "    print(f\"Test accuracy with {n} principal components: {test_accuracy:.4f}\")\n",
        "\n"
      ],
      "metadata": {
        "id": "9YFMUN_YA-pf"
      },
      "execution_count": null,
      "outputs": []
    },
    {
      "cell_type": "code",
      "source": [
        "import numpy as np\n",
        "import pandas as pd\n",
        "from pathlib import Path\n",
        "from sklearn.feature_selection import SelectKBest, chi2\n",
        "from sklearn.decomposition import PCA\n",
        "from sklearn.ensemble import RandomForestClassifier\n",
        "from sklearn.model_selection import train_test_split\n",
        "from scipy import signal\n",
        "from scipy.ndimage import gaussian_filter\n"
      ],
      "metadata": {
        "id": "IIJiGyI1yawq"
      },
      "execution_count": 41,
      "outputs": []
    },
    {
      "cell_type": "code",
      "source": [
        "path = Path(\"/content/train/train\")\n",
        "y_train = pd.read_csv(\"/content/annotations.csv\")\n",
        "\n",
        "fs = 12\n",
        "lowcut = 0.1\n",
        "highcut = 0.9\n",
        "\n",
        "# for namenpy in y_train[\"id\"]:\n",
        "    # data = np.abs(np.load(path / (namenpy + '.npy')))\n",
        "\n",
        "    # b, a = signal.butter(2, [lowcut / (0.5* fs), highcut / (0.5*fs)], 'band')\n",
        "    # data = np.abs(signal.filtfilt(b, a, data))\n",
        "\n",
        "    # data_abs = np.abs(data)\n",
        "    # stretched = np.transpose(data)\n",
        "    # break\n",
        "\n",
        "num = 10\n",
        "data = np.load(f'/content/train/train/{y_train[\"id\"][num]}.npy')\n",
        "\n",
        "b, a = signal.butter(2, [lowcut / (0.5* fs), highcut / (0.5*fs)], 'band')\n",
        "data = np.abs(signal.filtfilt(b, a, data))\n",
        "\n",
        "data_abs = np.abs(data)\n",
        "stretched = np.transpose(data)\n",
        "\n",
        "sigma = 1.5  # 1 Standard deviation of the Gaussian kernel\n",
        "smoothed = gaussian_filter(stretched, sigma=sigma)\n",
        "\n",
        "# Plot the data as a heatmap\n",
        "fig, ax = plt.subplots(figsize=(15, 15))\n",
        "plt.imshow(smoothed,cmap='viridis', interpolation='nearest', aspect=\"auto\")\n",
        "plt.show()\n",
        "\n"
      ],
      "metadata": {
        "colab": {
          "base_uri": "https://localhost:8080/",
          "height": 863
        },
        "id": "ZtPBV4mXyFnQ",
        "outputId": "73246d62-4598-49f9-9418-40d97e73dec1"
      },
      "execution_count": 152,
      "outputs": [
        {
          "output_type": "display_data",
          "data": {
            "text/plain": [
              "<Figure size 1080x1080 with 1 Axes>"
            ],
            "image/png": "[encoded data removed]"
          },
          "metadata": {
            "needs_background": "light"
          }
        }
      ]
    },
    {
      "cell_type": "markdown",
      "source": [
        "###save train image path"
      ],
      "metadata": {
        "id": "98l1ClYsYkVa"
      }
    },
    {
      "cell_type": "code",
      "source": [
        "import numpy as np\n",
        "import matplotlib.pyplot as plt\n",
        "\n",
        "path = Path(\"/content/train/train\")\n",
        "y_train = pd.read_csv(\"/content/annotations.csv\")\n",
        "\n",
        "sigma = 1  # 1 Standard deviation of the Gaussian kernel\n",
        "lowcut = 20\n",
        "highcut = 30\n",
        "fs = 100\n",
        "for idx,namenpy in enumerate(y_train[\"id\"]):\n",
        "    if idx % 50 == 0:\n",
        "      print(idx)\n",
        "    data = np.load(path / (namenpy + '.npy'))\n",
        "\n",
        "    b, a = signal.butter(2, [lowcut / (0.5* fs), highcut / (0.5*fs)], 'band')\n",
        "    data = np.abs(signal.filtfilt(b, a, data))\n",
        "\n",
        "    data_abs = np.abs(data)\n",
        "    stretched = np.transpose(data)\n",
        "    # smoothed = gaussian_filter(stretched, sigma=sigma)\n",
        "    plt.imshow(stretched, interpolation='nearest', aspect=\"auto\")\n",
        "    ax.axis('off')\n",
        "    plt.savefig(f'/content/drive/MyDrive/SuperAI/Signal/image_Research/train/{y_train[\"class\"][idx]}/{namenpy}_heatmap_sm.png', bbox_inches='tight', pad_inches=0)\n",
        "    plt.close(fig)"
      ],
      "metadata": {
        "id": "ZKHE2fC4UCtr"
      },
      "execution_count": null,
      "outputs": []
    },
    {
      "cell_type": "markdown",
      "source": [
        "###save test image path"
      ],
      "metadata": {
        "id": "g7b5esnnYrxo"
      }
    },
    {
      "cell_type": "code",
      "source": [
        "import numpy as np\n",
        "import matplotlib.pyplot as plt\n",
        "\n",
        "path = Path(\"/content/test/test\")\n",
        "y_test = pd.read_csv(\"/content/sample_submission.csv\")\n",
        "\n",
        "sigma = 1  # 1 Standard deviation of the Gaussian kernel\n",
        "lowcut = 20\n",
        "highcut = 30\n",
        "fs = 100\n",
        "for idx,namenpy in enumerate(y_test[\"id\"]):\n",
        "    if idx % 30 == 0:\n",
        "      print(idx)\n",
        "    data = np.load(path / (namenpy + '.npy'))\n",
        "\n",
        "    b, a = signal.butter(2, [lowcut / (0.5* fs), highcut / (0.5*fs)], 'band')\n",
        "    data = np.abs(signal.filtfilt(b, a, data))\n",
        "\n",
        "    data_abs = np.abs(data)\n",
        "    stretched = np.transpose(data)\n",
        "    smoothed = gaussian_filter(stretched, sigma=sigma)\n",
        "\n",
        "    plt.imshow(smoothed, interpolation='nearest', aspect=\"auto\")\n",
        "    ax.axis('off')\n",
        "    plt.savefig(f'/content/drive/MyDrive/SuperAI/Signal/image_Research/test/{namenpy}.png', bbox_inches='tight', pad_inches=0)\n",
        "    plt.close(fig)"
      ],
      "metadata": {
        "colab": {
          "base_uri": "https://localhost:8080/",
          "height": 647
        },
        "id": "PCP4TFikYrXB",
        "outputId": "6303f407-cebe-415d-ebf8-b668f4eb5f34"
      },
      "execution_count": 135,
      "outputs": [
        {
          "output_type": "stream",
          "name": "stdout",
          "text": [
            "0\n"
          ]
        },
        {
          "output_type": "error",
          "ename": "KeyboardInterrupt",
          "evalue": "ignored",
          "traceback": [
            "\u001b[0;31m---------------------------------------------------------------------------\u001b[0m",
            "\u001b[0;31mKeyboardInterrupt\u001b[0m                         Traceback (most recent call last)",
            "\u001b[0;32m<ipython-input-135-5585f60549f6>\u001b[0m in \u001b[0;36m<module>\u001b[0;34m\u001b[0m\n\u001b[1;32m     23\u001b[0m     \u001b[0mplt\u001b[0m\u001b[0;34m.\u001b[0m\u001b[0mimshow\u001b[0m\u001b[0;34m(\u001b[0m\u001b[0msmoothed\u001b[0m\u001b[0;34m,\u001b[0m \u001b[0minterpolation\u001b[0m\u001b[0;34m=\u001b[0m\u001b[0;34m'nearest'\u001b[0m\u001b[0;34m,\u001b[0m \u001b[0maspect\u001b[0m\u001b[0;34m=\u001b[0m\u001b[0;34m\"auto\"\u001b[0m\u001b[0;34m)\u001b[0m\u001b[0;34m\u001b[0m\u001b[0;34m\u001b[0m\u001b[0m\n\u001b[1;32m     24\u001b[0m     \u001b[0max\u001b[0m\u001b[0;34m.\u001b[0m\u001b[0maxis\u001b[0m\u001b[0;34m(\u001b[0m\u001b[0;34m'off'\u001b[0m\u001b[0;34m)\u001b[0m\u001b[0;34m\u001b[0m\u001b[0;34m\u001b[0m\u001b[0m\n\u001b[0;32m---> 25\u001b[0;31m     \u001b[0mplt\u001b[0m\u001b[0;34m.\u001b[0m\u001b[0msavefig\u001b[0m\u001b[0;34m(\u001b[0m\u001b[0;34mf'/content/drive/MyDrive/SuperAI/Signal/image_Research/test/{namenpy}.png'\u001b[0m\u001b[0;34m,\u001b[0m \u001b[0mbbox_inches\u001b[0m\u001b[0;34m=\u001b[0m\u001b[0;34m'tight'\u001b[0m\u001b[0;34m,\u001b[0m \u001b[0mpad_inches\u001b[0m\u001b[0;34m=\u001b[0m\u001b[0;36m0\u001b[0m\u001b[0;34m)\u001b[0m\u001b[0;34m\u001b[0m\u001b[0;34m\u001b[0m\u001b[0m\n\u001b[0m\u001b[1;32m     26\u001b[0m     \u001b[0mplt\u001b[0m\u001b[0;34m.\u001b[0m\u001b[0mclose\u001b[0m\u001b[0;34m(\u001b[0m\u001b[0mfig\u001b[0m\u001b[0;34m)\u001b[0m\u001b[0;34m\u001b[0m\u001b[0;34m\u001b[0m\u001b[0m\n",
            "\u001b[0;32m/usr/local/lib/python3.9/dist-packages/matplotlib/pyplot.py\u001b[0m in \u001b[0;36msavefig\u001b[0;34m(*args, **kwargs)\u001b[0m\n\u001b[1;32m    975\u001b[0m \u001b[0;32mdef\u001b[0m \u001b[0msavefig\u001b[0m\u001b[0;34m(\u001b[0m\u001b[0;34m*\u001b[0m\u001b[0margs\u001b[0m\u001b[0;34m,\u001b[0m \u001b[0;34m**\u001b[0m\u001b[0mkwargs\u001b[0m\u001b[0;34m)\u001b[0m\u001b[0;34m:\u001b[0m\u001b[0;34m\u001b[0m\u001b[0;34m\u001b[0m\u001b[0m\n\u001b[1;32m    976\u001b[0m     \u001b[0mfig\u001b[0m \u001b[0;34m=\u001b[0m \u001b[0mgcf\u001b[0m\u001b[0;34m(\u001b[0m\u001b[0;34m)\u001b[0m\u001b[0;34m\u001b[0m\u001b[0;34m\u001b[0m\u001b[0m\n\u001b[0;32m--> 977\u001b[0;31m     \u001b[0mres\u001b[0m \u001b[0;34m=\u001b[0m \u001b[0mfig\u001b[0m\u001b[0;34m.\u001b[0m\u001b[0msavefig\u001b[0m\u001b[0;34m(\u001b[0m\u001b[0;34m*\u001b[0m\u001b[0margs\u001b[0m\u001b[0;34m,\u001b[0m \u001b[0;34m**\u001b[0m\u001b[0mkwargs\u001b[0m\u001b[0;34m)\u001b[0m\u001b[0;34m\u001b[0m\u001b[0;34m\u001b[0m\u001b[0m\n\u001b[0m\u001b[1;32m    978\u001b[0m     \u001b[0mfig\u001b[0m\u001b[0;34m.\u001b[0m\u001b[0mcanvas\u001b[0m\u001b[0;34m.\u001b[0m\u001b[0mdraw_idle\u001b[0m\u001b[0;34m(\u001b[0m\u001b[0;34m)\u001b[0m   \u001b[0;31m# need this if 'transparent=True' to reset colors\u001b[0m\u001b[0;34m\u001b[0m\u001b[0;34m\u001b[0m\u001b[0m\n\u001b[1;32m    979\u001b[0m     \u001b[0;32mreturn\u001b[0m \u001b[0mres\u001b[0m\u001b[0;34m\u001b[0m\u001b[0;34m\u001b[0m\u001b[0m\n",
            "\u001b[0;32m/usr/local/lib/python3.9/dist-packages/matplotlib/figure.py\u001b[0m in \u001b[0;36msavefig\u001b[0;34m(self, fname, transparent, **kwargs)\u001b[0m\n\u001b[1;32m   3056\u001b[0m                         ax.patch._cm_set(facecolor='none', edgecolor='none'))\n\u001b[1;32m   3057\u001b[0m \u001b[0;34m\u001b[0m\u001b[0m\n\u001b[0;32m-> 3058\u001b[0;31m             \u001b[0mself\u001b[0m\u001b[0;34m.\u001b[0m\u001b[0mcanvas\u001b[0m\u001b[0;34m.\u001b[0m\u001b[0mprint_figure\u001b[0m\u001b[0;34m(\u001b[0m\u001b[0mfname\u001b[0m\u001b[0;34m,\u001b[0m \u001b[0;34m**\u001b[0m\u001b[0mkwargs\u001b[0m\u001b[0;34m)\u001b[0m\u001b[0;34m\u001b[0m\u001b[0;34m\u001b[0m\u001b[0m\n\u001b[0m\u001b[1;32m   3059\u001b[0m \u001b[0;34m\u001b[0m\u001b[0m\n\u001b[1;32m   3060\u001b[0m     def ginput(self, n=1, timeout=30, show_clicks=True,\n",
            "\u001b[0;32m/usr/local/lib/python3.9/dist-packages/matplotlib/backend_bases.py\u001b[0m in \u001b[0;36mprint_figure\u001b[0;34m(self, filename, dpi, facecolor, edgecolor, orientation, format, bbox_inches, pad_inches, bbox_extra_artists, backend, **kwargs)\u001b[0m\n\u001b[1;32m   2293\u001b[0m                 )\n\u001b[1;32m   2294\u001b[0m                 \u001b[0;32mwith\u001b[0m \u001b[0mgetattr\u001b[0m\u001b[0;34m(\u001b[0m\u001b[0mrenderer\u001b[0m\u001b[0;34m,\u001b[0m \u001b[0;34m\"_draw_disabled\"\u001b[0m\u001b[0;34m,\u001b[0m \u001b[0mnullcontext\u001b[0m\u001b[0;34m)\u001b[0m\u001b[0;34m(\u001b[0m\u001b[0;34m)\u001b[0m\u001b[0;34m:\u001b[0m\u001b[0;34m\u001b[0m\u001b[0;34m\u001b[0m\u001b[0m\n\u001b[0;32m-> 2295\u001b[0;31m                     \u001b[0mself\u001b[0m\u001b[0;34m.\u001b[0m\u001b[0mfigure\u001b[0m\u001b[0;34m.\u001b[0m\u001b[0mdraw\u001b[0m\u001b[0;34m(\u001b[0m\u001b[0mrenderer\u001b[0m\u001b[0;34m)\u001b[0m\u001b[0;34m\u001b[0m\u001b[0;34m\u001b[0m\u001b[0m\n\u001b[0m\u001b[1;32m   2296\u001b[0m \u001b[0;34m\u001b[0m\u001b[0m\n\u001b[1;32m   2297\u001b[0m             \u001b[0;32mif\u001b[0m \u001b[0mbbox_inches\u001b[0m\u001b[0;34m:\u001b[0m\u001b[0;34m\u001b[0m\u001b[0;34m\u001b[0m\u001b[0m\n",
            "\u001b[0;32m/usr/local/lib/python3.9/dist-packages/matplotlib/artist.py\u001b[0m in \u001b[0;36mdraw_wrapper\u001b[0;34m(artist, renderer, *args, **kwargs)\u001b[0m\n\u001b[1;32m     72\u001b[0m     \u001b[0;34m@\u001b[0m\u001b[0mwraps\u001b[0m\u001b[0;34m(\u001b[0m\u001b[0mdraw\u001b[0m\u001b[0;34m)\u001b[0m\u001b[0;34m\u001b[0m\u001b[0;34m\u001b[0m\u001b[0m\n\u001b[1;32m     73\u001b[0m     \u001b[0;32mdef\u001b[0m \u001b[0mdraw_wrapper\u001b[0m\u001b[0;34m(\u001b[0m\u001b[0martist\u001b[0m\u001b[0;34m,\u001b[0m \u001b[0mrenderer\u001b[0m\u001b[0;34m,\u001b[0m \u001b[0;34m*\u001b[0m\u001b[0margs\u001b[0m\u001b[0;34m,\u001b[0m \u001b[0;34m**\u001b[0m\u001b[0mkwargs\u001b[0m\u001b[0;34m)\u001b[0m\u001b[0;34m:\u001b[0m\u001b[0;34m\u001b[0m\u001b[0;34m\u001b[0m\u001b[0m\n\u001b[0;32m---> 74\u001b[0;31m         \u001b[0mresult\u001b[0m \u001b[0;34m=\u001b[0m \u001b[0mdraw\u001b[0m\u001b[0;34m(\u001b[0m\u001b[0martist\u001b[0m\u001b[0;34m,\u001b[0m \u001b[0mrenderer\u001b[0m\u001b[0;34m,\u001b[0m \u001b[0;34m*\u001b[0m\u001b[0margs\u001b[0m\u001b[0;34m,\u001b[0m \u001b[0;34m**\u001b[0m\u001b[0mkwargs\u001b[0m\u001b[0;34m)\u001b[0m\u001b[0;34m\u001b[0m\u001b[0;34m\u001b[0m\u001b[0m\n\u001b[0m\u001b[1;32m     75\u001b[0m         \u001b[0;32mif\u001b[0m \u001b[0mrenderer\u001b[0m\u001b[0;34m.\u001b[0m\u001b[0m_rasterizing\u001b[0m\u001b[0;34m:\u001b[0m\u001b[0;34m\u001b[0m\u001b[0;34m\u001b[0m\u001b[0m\n\u001b[1;32m     76\u001b[0m             \u001b[0mrenderer\u001b[0m\u001b[0;34m.\u001b[0m\u001b[0mstop_rasterizing\u001b[0m\u001b[0;34m(\u001b[0m\u001b[0;34m)\u001b[0m\u001b[0;34m\u001b[0m\u001b[0;34m\u001b[0m\u001b[0m\n",
            "\u001b[0;32m/usr/local/lib/python3.9/dist-packages/matplotlib/artist.py\u001b[0m in \u001b[0;36mdraw_wrapper\u001b[0;34m(artist, renderer)\u001b[0m\n\u001b[1;32m     49\u001b[0m                 \u001b[0mrenderer\u001b[0m\u001b[0;34m.\u001b[0m\u001b[0mstart_filter\u001b[0m\u001b[0;34m(\u001b[0m\u001b[0;34m)\u001b[0m\u001b[0;34m\u001b[0m\u001b[0;34m\u001b[0m\u001b[0m\n\u001b[1;32m     50\u001b[0m \u001b[0;34m\u001b[0m\u001b[0m\n\u001b[0;32m---> 51\u001b[0;31m             \u001b[0;32mreturn\u001b[0m \u001b[0mdraw\u001b[0m\u001b[0;34m(\u001b[0m\u001b[0martist\u001b[0m\u001b[0;34m,\u001b[0m \u001b[0mrenderer\u001b[0m\u001b[0;34m)\u001b[0m\u001b[0;34m\u001b[0m\u001b[0;34m\u001b[0m\u001b[0m\n\u001b[0m\u001b[1;32m     52\u001b[0m         \u001b[0;32mfinally\u001b[0m\u001b[0;34m:\u001b[0m\u001b[0;34m\u001b[0m\u001b[0;34m\u001b[0m\u001b[0m\n\u001b[1;32m     53\u001b[0m             \u001b[0;32mif\u001b[0m \u001b[0martist\u001b[0m\u001b[0;34m.\u001b[0m\u001b[0mget_agg_filter\u001b[0m\u001b[0;34m(\u001b[0m\u001b[0;34m)\u001b[0m \u001b[0;32mis\u001b[0m \u001b[0;32mnot\u001b[0m \u001b[0;32mNone\u001b[0m\u001b[0;34m:\u001b[0m\u001b[0;34m\u001b[0m\u001b[0;34m\u001b[0m\u001b[0m\n",
            "\u001b[0;32m/usr/local/lib/python3.9/dist-packages/matplotlib/figure.py\u001b[0m in \u001b[0;36mdraw\u001b[0;34m(self, renderer)\u001b[0m\n\u001b[1;32m   2843\u001b[0m \u001b[0;34m\u001b[0m\u001b[0m\n\u001b[1;32m   2844\u001b[0m             \u001b[0mself\u001b[0m\u001b[0;34m.\u001b[0m\u001b[0mpatch\u001b[0m\u001b[0;34m.\u001b[0m\u001b[0mdraw\u001b[0m\u001b[0;34m(\u001b[0m\u001b[0mrenderer\u001b[0m\u001b[0;34m)\u001b[0m\u001b[0;34m\u001b[0m\u001b[0;34m\u001b[0m\u001b[0m\n\u001b[0;32m-> 2845\u001b[0;31m             mimage._draw_list_compositing_images(\n\u001b[0m\u001b[1;32m   2846\u001b[0m                 renderer, self, artists, self.suppressComposite)\n\u001b[1;32m   2847\u001b[0m \u001b[0;34m\u001b[0m\u001b[0m\n",
            "\u001b[0;32m/usr/local/lib/python3.9/dist-packages/matplotlib/image.py\u001b[0m in \u001b[0;36m_draw_list_compositing_images\u001b[0;34m(renderer, parent, artists, suppress_composite)\u001b[0m\n\u001b[1;32m    130\u001b[0m     \u001b[0;32mif\u001b[0m \u001b[0mnot_composite\u001b[0m \u001b[0;32mor\u001b[0m \u001b[0;32mnot\u001b[0m \u001b[0mhas_images\u001b[0m\u001b[0;34m:\u001b[0m\u001b[0;34m\u001b[0m\u001b[0;34m\u001b[0m\u001b[0m\n\u001b[1;32m    131\u001b[0m         \u001b[0;32mfor\u001b[0m \u001b[0ma\u001b[0m \u001b[0;32min\u001b[0m \u001b[0martists\u001b[0m\u001b[0;34m:\u001b[0m\u001b[0;34m\u001b[0m\u001b[0;34m\u001b[0m\u001b[0m\n\u001b[0;32m--> 132\u001b[0;31m             \u001b[0ma\u001b[0m\u001b[0;34m.\u001b[0m\u001b[0mdraw\u001b[0m\u001b[0;34m(\u001b[0m\u001b[0mrenderer\u001b[0m\u001b[0;34m)\u001b[0m\u001b[0;34m\u001b[0m\u001b[0;34m\u001b[0m\u001b[0m\n\u001b[0m\u001b[1;32m    133\u001b[0m     \u001b[0;32melse\u001b[0m\u001b[0;34m:\u001b[0m\u001b[0;34m\u001b[0m\u001b[0;34m\u001b[0m\u001b[0m\n\u001b[1;32m    134\u001b[0m         \u001b[0;31m# Composite any adjacent images together\u001b[0m\u001b[0;34m\u001b[0m\u001b[0;34m\u001b[0m\u001b[0m\n",
            "\u001b[0;32m/usr/local/lib/python3.9/dist-packages/matplotlib/artist.py\u001b[0m in \u001b[0;36mdraw_wrapper\u001b[0;34m(artist, renderer)\u001b[0m\n\u001b[1;32m     49\u001b[0m                 \u001b[0mrenderer\u001b[0m\u001b[0;34m.\u001b[0m\u001b[0mstart_filter\u001b[0m\u001b[0;34m(\u001b[0m\u001b[0;34m)\u001b[0m\u001b[0;34m\u001b[0m\u001b[0;34m\u001b[0m\u001b[0m\n\u001b[1;32m     50\u001b[0m \u001b[0;34m\u001b[0m\u001b[0m\n\u001b[0;32m---> 51\u001b[0;31m             \u001b[0;32mreturn\u001b[0m \u001b[0mdraw\u001b[0m\u001b[0;34m(\u001b[0m\u001b[0martist\u001b[0m\u001b[0;34m,\u001b[0m \u001b[0mrenderer\u001b[0m\u001b[0;34m)\u001b[0m\u001b[0;34m\u001b[0m\u001b[0;34m\u001b[0m\u001b[0m\n\u001b[0m\u001b[1;32m     52\u001b[0m         \u001b[0;32mfinally\u001b[0m\u001b[0;34m:\u001b[0m\u001b[0;34m\u001b[0m\u001b[0;34m\u001b[0m\u001b[0m\n\u001b[1;32m     53\u001b[0m             \u001b[0;32mif\u001b[0m \u001b[0martist\u001b[0m\u001b[0;34m.\u001b[0m\u001b[0mget_agg_filter\u001b[0m\u001b[0;34m(\u001b[0m\u001b[0;34m)\u001b[0m \u001b[0;32mis\u001b[0m \u001b[0;32mnot\u001b[0m \u001b[0;32mNone\u001b[0m\u001b[0;34m:\u001b[0m\u001b[0;34m\u001b[0m\u001b[0;34m\u001b[0m\u001b[0m\n",
            "\u001b[0;32m/usr/local/lib/python3.9/dist-packages/matplotlib/axes/_base.py\u001b[0m in \u001b[0;36mdraw\u001b[0;34m(self, renderer)\u001b[0m\n\u001b[1;32m   3089\u001b[0m             \u001b[0mrenderer\u001b[0m\u001b[0;34m.\u001b[0m\u001b[0mstop_rasterizing\u001b[0m\u001b[0;34m(\u001b[0m\u001b[0;34m)\u001b[0m\u001b[0;34m\u001b[0m\u001b[0;34m\u001b[0m\u001b[0m\n\u001b[1;32m   3090\u001b[0m \u001b[0;34m\u001b[0m\u001b[0m\n\u001b[0;32m-> 3091\u001b[0;31m         mimage._draw_list_compositing_images(\n\u001b[0m\u001b[1;32m   3092\u001b[0m             renderer, self, artists, self.figure.suppressComposite)\n\u001b[1;32m   3093\u001b[0m \u001b[0;34m\u001b[0m\u001b[0m\n",
            "\u001b[0;32m/usr/local/lib/python3.9/dist-packages/matplotlib/image.py\u001b[0m in \u001b[0;36m_draw_list_compositing_images\u001b[0;34m(renderer, parent, artists, suppress_composite)\u001b[0m\n\u001b[1;32m    130\u001b[0m     \u001b[0;32mif\u001b[0m \u001b[0mnot_composite\u001b[0m \u001b[0;32mor\u001b[0m \u001b[0;32mnot\u001b[0m \u001b[0mhas_images\u001b[0m\u001b[0;34m:\u001b[0m\u001b[0;34m\u001b[0m\u001b[0;34m\u001b[0m\u001b[0m\n\u001b[1;32m    131\u001b[0m         \u001b[0;32mfor\u001b[0m \u001b[0ma\u001b[0m \u001b[0;32min\u001b[0m \u001b[0martists\u001b[0m\u001b[0;34m:\u001b[0m\u001b[0;34m\u001b[0m\u001b[0;34m\u001b[0m\u001b[0m\n\u001b[0;32m--> 132\u001b[0;31m             \u001b[0ma\u001b[0m\u001b[0;34m.\u001b[0m\u001b[0mdraw\u001b[0m\u001b[0;34m(\u001b[0m\u001b[0mrenderer\u001b[0m\u001b[0;34m)\u001b[0m\u001b[0;34m\u001b[0m\u001b[0;34m\u001b[0m\u001b[0m\n\u001b[0m\u001b[1;32m    133\u001b[0m     \u001b[0;32melse\u001b[0m\u001b[0;34m:\u001b[0m\u001b[0;34m\u001b[0m\u001b[0;34m\u001b[0m\u001b[0m\n\u001b[1;32m    134\u001b[0m         \u001b[0;31m# Composite any adjacent images together\u001b[0m\u001b[0;34m\u001b[0m\u001b[0;34m\u001b[0m\u001b[0m\n",
            "\u001b[0;32m/usr/local/lib/python3.9/dist-packages/matplotlib/artist.py\u001b[0m in \u001b[0;36mdraw_wrapper\u001b[0;34m(artist, renderer)\u001b[0m\n\u001b[1;32m     49\u001b[0m                 \u001b[0mrenderer\u001b[0m\u001b[0;34m.\u001b[0m\u001b[0mstart_filter\u001b[0m\u001b[0;34m(\u001b[0m\u001b[0;34m)\u001b[0m\u001b[0;34m\u001b[0m\u001b[0;34m\u001b[0m\u001b[0m\n\u001b[1;32m     50\u001b[0m \u001b[0;34m\u001b[0m\u001b[0m\n\u001b[0;32m---> 51\u001b[0;31m             \u001b[0;32mreturn\u001b[0m \u001b[0mdraw\u001b[0m\u001b[0;34m(\u001b[0m\u001b[0martist\u001b[0m\u001b[0;34m,\u001b[0m \u001b[0mrenderer\u001b[0m\u001b[0;34m)\u001b[0m\u001b[0;34m\u001b[0m\u001b[0;34m\u001b[0m\u001b[0m\n\u001b[0m\u001b[1;32m     52\u001b[0m         \u001b[0;32mfinally\u001b[0m\u001b[0;34m:\u001b[0m\u001b[0;34m\u001b[0m\u001b[0;34m\u001b[0m\u001b[0m\n\u001b[1;32m     53\u001b[0m             \u001b[0;32mif\u001b[0m \u001b[0martist\u001b[0m\u001b[0;34m.\u001b[0m\u001b[0mget_agg_filter\u001b[0m\u001b[0;34m(\u001b[0m\u001b[0;34m)\u001b[0m \u001b[0;32mis\u001b[0m \u001b[0;32mnot\u001b[0m \u001b[0;32mNone\u001b[0m\u001b[0;34m:\u001b[0m\u001b[0;34m\u001b[0m\u001b[0;34m\u001b[0m\u001b[0m\n",
            "\u001b[0;32m/usr/local/lib/python3.9/dist-packages/matplotlib/axis.py\u001b[0m in \u001b[0;36mdraw\u001b[0;34m(self, renderer, *args, **kwargs)\u001b[0m\n\u001b[1;32m   1161\u001b[0m \u001b[0;34m\u001b[0m\u001b[0m\n\u001b[1;32m   1162\u001b[0m         \u001b[0;32mfor\u001b[0m \u001b[0mtick\u001b[0m \u001b[0;32min\u001b[0m \u001b[0mticks_to_draw\u001b[0m\u001b[0;34m:\u001b[0m\u001b[0;34m\u001b[0m\u001b[0;34m\u001b[0m\u001b[0m\n\u001b[0;32m-> 1163\u001b[0;31m             \u001b[0mtick\u001b[0m\u001b[0;34m.\u001b[0m\u001b[0mdraw\u001b[0m\u001b[0;34m(\u001b[0m\u001b[0mrenderer\u001b[0m\u001b[0;34m)\u001b[0m\u001b[0;34m\u001b[0m\u001b[0;34m\u001b[0m\u001b[0m\n\u001b[0m\u001b[1;32m   1164\u001b[0m \u001b[0;34m\u001b[0m\u001b[0m\n\u001b[1;32m   1165\u001b[0m         \u001b[0;31m# scale up the axis label box to also find the neighbors, not\u001b[0m\u001b[0;34m\u001b[0m\u001b[0;34m\u001b[0m\u001b[0m\n",
            "\u001b[0;32m/usr/local/lib/python3.9/dist-packages/matplotlib/artist.py\u001b[0m in \u001b[0;36mdraw_wrapper\u001b[0;34m(artist, renderer)\u001b[0m\n\u001b[1;32m     49\u001b[0m                 \u001b[0mrenderer\u001b[0m\u001b[0;34m.\u001b[0m\u001b[0mstart_filter\u001b[0m\u001b[0;34m(\u001b[0m\u001b[0;34m)\u001b[0m\u001b[0;34m\u001b[0m\u001b[0;34m\u001b[0m\u001b[0m\n\u001b[1;32m     50\u001b[0m \u001b[0;34m\u001b[0m\u001b[0m\n\u001b[0;32m---> 51\u001b[0;31m             \u001b[0;32mreturn\u001b[0m \u001b[0mdraw\u001b[0m\u001b[0;34m(\u001b[0m\u001b[0martist\u001b[0m\u001b[0;34m,\u001b[0m \u001b[0mrenderer\u001b[0m\u001b[0;34m)\u001b[0m\u001b[0;34m\u001b[0m\u001b[0;34m\u001b[0m\u001b[0m\n\u001b[0m\u001b[1;32m     52\u001b[0m         \u001b[0;32mfinally\u001b[0m\u001b[0;34m:\u001b[0m\u001b[0;34m\u001b[0m\u001b[0;34m\u001b[0m\u001b[0m\n\u001b[1;32m     53\u001b[0m             \u001b[0;32mif\u001b[0m \u001b[0martist\u001b[0m\u001b[0;34m.\u001b[0m\u001b[0mget_agg_filter\u001b[0m\u001b[0;34m(\u001b[0m\u001b[0;34m)\u001b[0m \u001b[0;32mis\u001b[0m \u001b[0;32mnot\u001b[0m \u001b[0;32mNone\u001b[0m\u001b[0;34m:\u001b[0m\u001b[0;34m\u001b[0m\u001b[0;34m\u001b[0m\u001b[0m\n",
            "\u001b[0;32m/usr/local/lib/python3.9/dist-packages/matplotlib/axis.py\u001b[0m in \u001b[0;36mdraw\u001b[0;34m(self, renderer)\u001b[0m\n\u001b[1;32m    297\u001b[0m         for artist in [self.gridline, self.tick1line, self.tick2line,\n\u001b[1;32m    298\u001b[0m                        self.label1, self.label2]:\n\u001b[0;32m--> 299\u001b[0;31m             \u001b[0martist\u001b[0m\u001b[0;34m.\u001b[0m\u001b[0mdraw\u001b[0m\u001b[0;34m(\u001b[0m\u001b[0mrenderer\u001b[0m\u001b[0;34m)\u001b[0m\u001b[0;34m\u001b[0m\u001b[0;34m\u001b[0m\u001b[0m\n\u001b[0m\u001b[1;32m    300\u001b[0m         \u001b[0mrenderer\u001b[0m\u001b[0;34m.\u001b[0m\u001b[0mclose_group\u001b[0m\u001b[0;34m(\u001b[0m\u001b[0mself\u001b[0m\u001b[0;34m.\u001b[0m\u001b[0m__name__\u001b[0m\u001b[0;34m)\u001b[0m\u001b[0;34m\u001b[0m\u001b[0;34m\u001b[0m\u001b[0m\n\u001b[1;32m    301\u001b[0m         \u001b[0mself\u001b[0m\u001b[0;34m.\u001b[0m\u001b[0mstale\u001b[0m \u001b[0;34m=\u001b[0m \u001b[0;32mFalse\u001b[0m\u001b[0;34m\u001b[0m\u001b[0;34m\u001b[0m\u001b[0m\n",
            "\u001b[0;32m/usr/local/lib/python3.9/dist-packages/matplotlib/artist.py\u001b[0m in \u001b[0;36mdraw_wrapper\u001b[0;34m(artist, renderer)\u001b[0m\n\u001b[1;32m     49\u001b[0m                 \u001b[0mrenderer\u001b[0m\u001b[0;34m.\u001b[0m\u001b[0mstart_filter\u001b[0m\u001b[0;34m(\u001b[0m\u001b[0;34m)\u001b[0m\u001b[0;34m\u001b[0m\u001b[0;34m\u001b[0m\u001b[0m\n\u001b[1;32m     50\u001b[0m \u001b[0;34m\u001b[0m\u001b[0m\n\u001b[0;32m---> 51\u001b[0;31m             \u001b[0;32mreturn\u001b[0m \u001b[0mdraw\u001b[0m\u001b[0;34m(\u001b[0m\u001b[0martist\u001b[0m\u001b[0;34m,\u001b[0m \u001b[0mrenderer\u001b[0m\u001b[0;34m)\u001b[0m\u001b[0;34m\u001b[0m\u001b[0;34m\u001b[0m\u001b[0m\n\u001b[0m\u001b[1;32m     52\u001b[0m         \u001b[0;32mfinally\u001b[0m\u001b[0;34m:\u001b[0m\u001b[0;34m\u001b[0m\u001b[0;34m\u001b[0m\u001b[0m\n\u001b[1;32m     53\u001b[0m             \u001b[0;32mif\u001b[0m \u001b[0martist\u001b[0m\u001b[0;34m.\u001b[0m\u001b[0mget_agg_filter\u001b[0m\u001b[0;34m(\u001b[0m\u001b[0;34m)\u001b[0m \u001b[0;32mis\u001b[0m \u001b[0;32mnot\u001b[0m \u001b[0;32mNone\u001b[0m\u001b[0;34m:\u001b[0m\u001b[0;34m\u001b[0m\u001b[0;34m\u001b[0m\u001b[0m\n",
            "\u001b[0;32m/usr/local/lib/python3.9/dist-packages/matplotlib/text.py\u001b[0m in \u001b[0;36mdraw\u001b[0;34m(self, renderer)\u001b[0m\n\u001b[1;32m    683\u001b[0m \u001b[0;34m\u001b[0m\u001b[0m\n\u001b[1;32m    684\u001b[0m         \u001b[0;32mwith\u001b[0m \u001b[0mself\u001b[0m\u001b[0;34m.\u001b[0m\u001b[0m_cm_set\u001b[0m\u001b[0;34m(\u001b[0m\u001b[0mtext\u001b[0m\u001b[0;34m=\u001b[0m\u001b[0mself\u001b[0m\u001b[0;34m.\u001b[0m\u001b[0m_get_wrapped_text\u001b[0m\u001b[0;34m(\u001b[0m\u001b[0;34m)\u001b[0m\u001b[0;34m)\u001b[0m\u001b[0;34m:\u001b[0m\u001b[0;34m\u001b[0m\u001b[0;34m\u001b[0m\u001b[0m\n\u001b[0;32m--> 685\u001b[0;31m             \u001b[0mbbox\u001b[0m\u001b[0;34m,\u001b[0m \u001b[0minfo\u001b[0m\u001b[0;34m,\u001b[0m \u001b[0mdescent\u001b[0m \u001b[0;34m=\u001b[0m \u001b[0mself\u001b[0m\u001b[0;34m.\u001b[0m\u001b[0m_get_layout\u001b[0m\u001b[0;34m(\u001b[0m\u001b[0mrenderer\u001b[0m\u001b[0;34m)\u001b[0m\u001b[0;34m\u001b[0m\u001b[0;34m\u001b[0m\u001b[0m\n\u001b[0m\u001b[1;32m    686\u001b[0m             \u001b[0mtrans\u001b[0m \u001b[0;34m=\u001b[0m \u001b[0mself\u001b[0m\u001b[0;34m.\u001b[0m\u001b[0mget_transform\u001b[0m\u001b[0;34m(\u001b[0m\u001b[0;34m)\u001b[0m\u001b[0;34m\u001b[0m\u001b[0;34m\u001b[0m\u001b[0m\n\u001b[1;32m    687\u001b[0m \u001b[0;34m\u001b[0m\u001b[0m\n",
            "\u001b[0;32m/usr/local/lib/python3.9/dist-packages/matplotlib/text.py\u001b[0m in \u001b[0;36m_get_layout\u001b[0;34m(self, renderer)\u001b[0m\n\u001b[1;32m    294\u001b[0m         \u001b[0mof\u001b[0m \u001b[0ma\u001b[0m \u001b[0mrotated\u001b[0m \u001b[0mtext\u001b[0m \u001b[0mwhen\u001b[0m \u001b[0mnecessary\u001b[0m\u001b[0;34m.\u001b[0m\u001b[0;34m\u001b[0m\u001b[0;34m\u001b[0m\u001b[0m\n\u001b[1;32m    295\u001b[0m         \"\"\"\n\u001b[0;32m--> 296\u001b[0;31m         \u001b[0mkey\u001b[0m \u001b[0;34m=\u001b[0m \u001b[0mself\u001b[0m\u001b[0;34m.\u001b[0m\u001b[0m_get_layout_cache_key\u001b[0m\u001b[0;34m(\u001b[0m\u001b[0mrenderer\u001b[0m\u001b[0;34m=\u001b[0m\u001b[0mrenderer\u001b[0m\u001b[0;34m)\u001b[0m\u001b[0;34m\u001b[0m\u001b[0;34m\u001b[0m\u001b[0m\n\u001b[0m\u001b[1;32m    297\u001b[0m         \u001b[0;32mif\u001b[0m \u001b[0mkey\u001b[0m \u001b[0;32min\u001b[0m \u001b[0mself\u001b[0m\u001b[0;34m.\u001b[0m\u001b[0m_cached\u001b[0m\u001b[0;34m:\u001b[0m\u001b[0;34m\u001b[0m\u001b[0;34m\u001b[0m\u001b[0m\n\u001b[1;32m    298\u001b[0m             \u001b[0;32mreturn\u001b[0m \u001b[0mself\u001b[0m\u001b[0;34m.\u001b[0m\u001b[0m_cached\u001b[0m\u001b[0;34m[\u001b[0m\u001b[0mkey\u001b[0m\u001b[0;34m]\u001b[0m\u001b[0;34m\u001b[0m\u001b[0;34m\u001b[0m\u001b[0m\n",
            "\u001b[0;32m/usr/local/lib/python3.9/dist-packages/matplotlib/text.py\u001b[0m in \u001b[0;36m_get_layout_cache_key\u001b[0;34m(self, renderer)\u001b[0m\n\u001b[1;32m    281\u001b[0m         \u001b[0mrenderer\u001b[0m \u001b[0;34m=\u001b[0m \u001b[0mrenderer\u001b[0m \u001b[0;32mor\u001b[0m \u001b[0mself\u001b[0m\u001b[0;34m.\u001b[0m\u001b[0m_renderer\u001b[0m\u001b[0;34m\u001b[0m\u001b[0;34m\u001b[0m\u001b[0m\n\u001b[1;32m    282\u001b[0m         return (\n\u001b[0;32m--> 283\u001b[0;31m             \u001b[0mx\u001b[0m\u001b[0;34m,\u001b[0m \u001b[0my\u001b[0m\u001b[0;34m,\u001b[0m \u001b[0mself\u001b[0m\u001b[0;34m.\u001b[0m\u001b[0mget_text\u001b[0m\u001b[0;34m(\u001b[0m\u001b[0;34m)\u001b[0m\u001b[0;34m,\u001b[0m \u001b[0mhash\u001b[0m\u001b[0;34m(\u001b[0m\u001b[0mself\u001b[0m\u001b[0;34m.\u001b[0m\u001b[0m_fontproperties\u001b[0m\u001b[0;34m)\u001b[0m\u001b[0;34m,\u001b[0m\u001b[0;34m\u001b[0m\u001b[0;34m\u001b[0m\u001b[0m\n\u001b[0m\u001b[1;32m    284\u001b[0m             \u001b[0mself\u001b[0m\u001b[0;34m.\u001b[0m\u001b[0m_verticalalignment\u001b[0m\u001b[0;34m,\u001b[0m \u001b[0mself\u001b[0m\u001b[0;34m.\u001b[0m\u001b[0m_horizontalalignment\u001b[0m\u001b[0;34m,\u001b[0m\u001b[0;34m\u001b[0m\u001b[0;34m\u001b[0m\u001b[0m\n\u001b[1;32m    285\u001b[0m             \u001b[0mself\u001b[0m\u001b[0;34m.\u001b[0m\u001b[0m_linespacing\u001b[0m\u001b[0;34m,\u001b[0m\u001b[0;34m\u001b[0m\u001b[0;34m\u001b[0m\u001b[0m\n",
            "\u001b[0;32m/usr/local/lib/python3.9/dist-packages/matplotlib/font_manager.py\u001b[0m in \u001b[0;36m__hash__\u001b[0;34m(self)\u001b[0m\n\u001b[1;32m    708\u001b[0m             \u001b[0;32mreturn\u001b[0m \u001b[0mcls\u001b[0m\u001b[0;34m(\u001b[0m\u001b[0;34m**\u001b[0m\u001b[0marg\u001b[0m\u001b[0;34m)\u001b[0m\u001b[0;34m\u001b[0m\u001b[0;34m\u001b[0m\u001b[0m\n\u001b[1;32m    709\u001b[0m \u001b[0;34m\u001b[0m\u001b[0m\n\u001b[0;32m--> 710\u001b[0;31m     \u001b[0;32mdef\u001b[0m \u001b[0m__hash__\u001b[0m\u001b[0;34m(\u001b[0m\u001b[0mself\u001b[0m\u001b[0;34m)\u001b[0m\u001b[0;34m:\u001b[0m\u001b[0;34m\u001b[0m\u001b[0;34m\u001b[0m\u001b[0m\n\u001b[0m\u001b[1;32m    711\u001b[0m         l = (tuple(self.get_family()),\n\u001b[1;32m    712\u001b[0m              \u001b[0mself\u001b[0m\u001b[0;34m.\u001b[0m\u001b[0mget_slant\u001b[0m\u001b[0;34m(\u001b[0m\u001b[0;34m)\u001b[0m\u001b[0;34m,\u001b[0m\u001b[0;34m\u001b[0m\u001b[0;34m\u001b[0m\u001b[0m\n",
            "\u001b[0;31mKeyboardInterrupt\u001b[0m: "
          ]
        },
        {
          "output_type": "display_data",
          "data": {
            "text/plain": [
              "<Figure size 432x288 with 1 Axes>"
            ],
            "image/png": "[encoded data removed]"
          },
          "metadata": {
            "needs_background": "light"
          }
        }
      ]
    },
    {
      "cell_type": "code",
      "source": [
        "import matplotlib.pyplot as plt\n",
        "\n",
        "plt.scatter(X_pca[:, 0], X_pca[:, 1], c=Y)\n",
        "plt.xlabel('First Principal Component')\n",
        "plt.ylabel('Second Principal Component')\n",
        "plt.title('PCA Scatter Plot of Transformed Data')\n",
        "plt.show()\n"
      ],
      "metadata": {
        "colab": {
          "base_uri": "https://localhost:8080/",
          "height": 632
        },
        "id": "VHBtUGRZXiqH",
        "outputId": "a5964020-3423-4a9a-de40-54720b103557"
      },
      "execution_count": 126,
      "outputs": [
        {
          "output_type": "error",
          "ename": "TypeError",
          "evalue": "ignored",
          "traceback": [
            "\u001b[0;31m---------------------------------------------------------------------------\u001b[0m",
            "\u001b[0;31mTypeError\u001b[0m                                 Traceback (most recent call last)",
            "\u001b[0;32m<ipython-input-126-294d64b0da3a>\u001b[0m in \u001b[0;36m<module>\u001b[0;34m\u001b[0m\n\u001b[1;32m      1\u001b[0m \u001b[0;32mimport\u001b[0m \u001b[0mmatplotlib\u001b[0m\u001b[0;34m.\u001b[0m\u001b[0mpyplot\u001b[0m \u001b[0;32mas\u001b[0m \u001b[0mplt\u001b[0m\u001b[0;34m\u001b[0m\u001b[0;34m\u001b[0m\u001b[0m\n\u001b[1;32m      2\u001b[0m \u001b[0;34m\u001b[0m\u001b[0m\n\u001b[0;32m----> 3\u001b[0;31m \u001b[0mplt\u001b[0m\u001b[0;34m.\u001b[0m\u001b[0mimshow\u001b[0m\u001b[0;34m(\u001b[0m\u001b[0mX_pca\u001b[0m\u001b[0;34m[\u001b[0m\u001b[0;36m0\u001b[0m\u001b[0;34m]\u001b[0m\u001b[0;34m,\u001b[0m \u001b[0minterpolation\u001b[0m\u001b[0;34m=\u001b[0m\u001b[0;34m'nearest'\u001b[0m\u001b[0;34m,\u001b[0m \u001b[0maspect\u001b[0m\u001b[0;34m=\u001b[0m\u001b[0;34m\"auto\"\u001b[0m\u001b[0;34m)\u001b[0m\u001b[0;34m\u001b[0m\u001b[0;34m\u001b[0m\u001b[0m\n\u001b[0m\u001b[1;32m      4\u001b[0m \u001b[0mplt\u001b[0m\u001b[0;34m.\u001b[0m\u001b[0mscatter\u001b[0m\u001b[0;34m(\u001b[0m\u001b[0mX_pca\u001b[0m\u001b[0;34m[\u001b[0m\u001b[0;34m:\u001b[0m\u001b[0;34m,\u001b[0m \u001b[0;36m0\u001b[0m\u001b[0;34m]\u001b[0m\u001b[0;34m,\u001b[0m \u001b[0mX_pca\u001b[0m\u001b[0;34m[\u001b[0m\u001b[0;34m:\u001b[0m\u001b[0;34m,\u001b[0m \u001b[0;36m1\u001b[0m\u001b[0;34m]\u001b[0m\u001b[0;34m,\u001b[0m \u001b[0mc\u001b[0m\u001b[0;34m=\u001b[0m\u001b[0mY\u001b[0m\u001b[0;34m)\u001b[0m\u001b[0;34m\u001b[0m\u001b[0;34m\u001b[0m\u001b[0m\n\u001b[1;32m      5\u001b[0m \u001b[0mplt\u001b[0m\u001b[0;34m.\u001b[0m\u001b[0mxlabel\u001b[0m\u001b[0;34m(\u001b[0m\u001b[0;34m'First Principal Component'\u001b[0m\u001b[0;34m)\u001b[0m\u001b[0;34m\u001b[0m\u001b[0;34m\u001b[0m\u001b[0m\n",
            "\u001b[0;32m/usr/local/lib/python3.9/dist-packages/matplotlib/_api/deprecation.py\u001b[0m in \u001b[0;36mwrapper\u001b[0;34m(*args, **kwargs)\u001b[0m\n\u001b[1;32m    457\u001b[0m                 \u001b[0;34m\"parameter will become keyword-only %(removal)s.\"\u001b[0m\u001b[0;34m,\u001b[0m\u001b[0;34m\u001b[0m\u001b[0;34m\u001b[0m\u001b[0m\n\u001b[1;32m    458\u001b[0m                 name=name, obj_type=f\"parameter of {func.__name__}()\")\n\u001b[0;32m--> 459\u001b[0;31m         \u001b[0;32mreturn\u001b[0m \u001b[0mfunc\u001b[0m\u001b[0;34m(\u001b[0m\u001b[0;34m*\u001b[0m\u001b[0margs\u001b[0m\u001b[0;34m,\u001b[0m \u001b[0;34m**\u001b[0m\u001b[0mkwargs\u001b[0m\u001b[0;34m)\u001b[0m\u001b[0;34m\u001b[0m\u001b[0;34m\u001b[0m\u001b[0m\n\u001b[0m\u001b[1;32m    460\u001b[0m \u001b[0;34m\u001b[0m\u001b[0m\n\u001b[1;32m    461\u001b[0m     \u001b[0;31m# Don't modify *func*'s signature, as boilerplate.py needs it.\u001b[0m\u001b[0;34m\u001b[0m\u001b[0;34m\u001b[0m\u001b[0m\n",
            "\u001b[0;32m/usr/local/lib/python3.9/dist-packages/matplotlib/pyplot.py\u001b[0m in \u001b[0;36mimshow\u001b[0;34m(X, cmap, norm, aspect, interpolation, alpha, vmin, vmax, origin, extent, interpolation_stage, filternorm, filterrad, resample, url, data, **kwargs)\u001b[0m\n\u001b[1;32m   2648\u001b[0m         \u001b[0minterpolation_stage\u001b[0m\u001b[0;34m=\u001b[0m\u001b[0;32mNone\u001b[0m\u001b[0;34m,\u001b[0m \u001b[0mfilternorm\u001b[0m\u001b[0;34m=\u001b[0m\u001b[0;32mTrue\u001b[0m\u001b[0;34m,\u001b[0m \u001b[0mfilterrad\u001b[0m\u001b[0;34m=\u001b[0m\u001b[0;36m4.0\u001b[0m\u001b[0;34m,\u001b[0m\u001b[0;34m\u001b[0m\u001b[0;34m\u001b[0m\u001b[0m\n\u001b[1;32m   2649\u001b[0m         resample=None, url=None, data=None, **kwargs):\n\u001b[0;32m-> 2650\u001b[0;31m     __ret = gca().imshow(\n\u001b[0m\u001b[1;32m   2651\u001b[0m         \u001b[0mX\u001b[0m\u001b[0;34m,\u001b[0m \u001b[0mcmap\u001b[0m\u001b[0;34m=\u001b[0m\u001b[0mcmap\u001b[0m\u001b[0;34m,\u001b[0m \u001b[0mnorm\u001b[0m\u001b[0;34m=\u001b[0m\u001b[0mnorm\u001b[0m\u001b[0;34m,\u001b[0m \u001b[0maspect\u001b[0m\u001b[0;34m=\u001b[0m\u001b[0maspect\u001b[0m\u001b[0;34m,\u001b[0m\u001b[0;34m\u001b[0m\u001b[0;34m\u001b[0m\u001b[0m\n\u001b[1;32m   2652\u001b[0m         \u001b[0minterpolation\u001b[0m\u001b[0;34m=\u001b[0m\u001b[0minterpolation\u001b[0m\u001b[0;34m,\u001b[0m \u001b[0malpha\u001b[0m\u001b[0;34m=\u001b[0m\u001b[0malpha\u001b[0m\u001b[0;34m,\u001b[0m \u001b[0mvmin\u001b[0m\u001b[0;34m=\u001b[0m\u001b[0mvmin\u001b[0m\u001b[0;34m,\u001b[0m\u001b[0;34m\u001b[0m\u001b[0;34m\u001b[0m\u001b[0m\n",
            "\u001b[0;32m/usr/local/lib/python3.9/dist-packages/matplotlib/_api/deprecation.py\u001b[0m in \u001b[0;36mwrapper\u001b[0;34m(*args, **kwargs)\u001b[0m\n\u001b[1;32m    457\u001b[0m                 \u001b[0;34m\"parameter will become keyword-only %(removal)s.\"\u001b[0m\u001b[0;34m,\u001b[0m\u001b[0;34m\u001b[0m\u001b[0;34m\u001b[0m\u001b[0m\n\u001b[1;32m    458\u001b[0m                 name=name, obj_type=f\"parameter of {func.__name__}()\")\n\u001b[0;32m--> 459\u001b[0;31m         \u001b[0;32mreturn\u001b[0m \u001b[0mfunc\u001b[0m\u001b[0;34m(\u001b[0m\u001b[0;34m*\u001b[0m\u001b[0margs\u001b[0m\u001b[0;34m,\u001b[0m \u001b[0;34m**\u001b[0m\u001b[0mkwargs\u001b[0m\u001b[0;34m)\u001b[0m\u001b[0;34m\u001b[0m\u001b[0;34m\u001b[0m\u001b[0m\n\u001b[0m\u001b[1;32m    460\u001b[0m \u001b[0;34m\u001b[0m\u001b[0m\n\u001b[1;32m    461\u001b[0m     \u001b[0;31m# Don't modify *func*'s signature, as boilerplate.py needs it.\u001b[0m\u001b[0;34m\u001b[0m\u001b[0;34m\u001b[0m\u001b[0m\n",
            "\u001b[0;32m/usr/local/lib/python3.9/dist-packages/matplotlib/__init__.py\u001b[0m in \u001b[0;36minner\u001b[0;34m(ax, data, *args, **kwargs)\u001b[0m\n\u001b[1;32m   1412\u001b[0m     \u001b[0;32mdef\u001b[0m \u001b[0minner\u001b[0m\u001b[0;34m(\u001b[0m\u001b[0max\u001b[0m\u001b[0;34m,\u001b[0m \u001b[0;34m*\u001b[0m\u001b[0margs\u001b[0m\u001b[0;34m,\u001b[0m \u001b[0mdata\u001b[0m\u001b[0;34m=\u001b[0m\u001b[0;32mNone\u001b[0m\u001b[0;34m,\u001b[0m \u001b[0;34m**\u001b[0m\u001b[0mkwargs\u001b[0m\u001b[0;34m)\u001b[0m\u001b[0;34m:\u001b[0m\u001b[0;34m\u001b[0m\u001b[0;34m\u001b[0m\u001b[0m\n\u001b[1;32m   1413\u001b[0m         \u001b[0;32mif\u001b[0m \u001b[0mdata\u001b[0m \u001b[0;32mis\u001b[0m \u001b[0;32mNone\u001b[0m\u001b[0;34m:\u001b[0m\u001b[0;34m\u001b[0m\u001b[0;34m\u001b[0m\u001b[0m\n\u001b[0;32m-> 1414\u001b[0;31m             \u001b[0;32mreturn\u001b[0m \u001b[0mfunc\u001b[0m\u001b[0;34m(\u001b[0m\u001b[0max\u001b[0m\u001b[0;34m,\u001b[0m \u001b[0;34m*\u001b[0m\u001b[0mmap\u001b[0m\u001b[0;34m(\u001b[0m\u001b[0msanitize_sequence\u001b[0m\u001b[0;34m,\u001b[0m \u001b[0margs\u001b[0m\u001b[0;34m)\u001b[0m\u001b[0;34m,\u001b[0m \u001b[0;34m**\u001b[0m\u001b[0mkwargs\u001b[0m\u001b[0;34m)\u001b[0m\u001b[0;34m\u001b[0m\u001b[0;34m\u001b[0m\u001b[0m\n\u001b[0m\u001b[1;32m   1415\u001b[0m \u001b[0;34m\u001b[0m\u001b[0m\n\u001b[1;32m   1416\u001b[0m         \u001b[0mbound\u001b[0m \u001b[0;34m=\u001b[0m \u001b[0mnew_sig\u001b[0m\u001b[0;34m.\u001b[0m\u001b[0mbind\u001b[0m\u001b[0;34m(\u001b[0m\u001b[0max\u001b[0m\u001b[0;34m,\u001b[0m \u001b[0;34m*\u001b[0m\u001b[0margs\u001b[0m\u001b[0;34m,\u001b[0m \u001b[0;34m**\u001b[0m\u001b[0mkwargs\u001b[0m\u001b[0;34m)\u001b[0m\u001b[0;34m\u001b[0m\u001b[0;34m\u001b[0m\u001b[0m\n",
            "\u001b[0;32m/usr/local/lib/python3.9/dist-packages/matplotlib/axes/_axes.py\u001b[0m in \u001b[0;36mimshow\u001b[0;34m(self, X, cmap, norm, aspect, interpolation, alpha, vmin, vmax, origin, extent, interpolation_stage, filternorm, filterrad, resample, url, **kwargs)\u001b[0m\n\u001b[1;32m   5485\u001b[0m                               **kwargs)\n\u001b[1;32m   5486\u001b[0m \u001b[0;34m\u001b[0m\u001b[0m\n\u001b[0;32m-> 5487\u001b[0;31m         \u001b[0mim\u001b[0m\u001b[0;34m.\u001b[0m\u001b[0mset_data\u001b[0m\u001b[0;34m(\u001b[0m\u001b[0mX\u001b[0m\u001b[0;34m)\u001b[0m\u001b[0;34m\u001b[0m\u001b[0;34m\u001b[0m\u001b[0m\n\u001b[0m\u001b[1;32m   5488\u001b[0m         \u001b[0mim\u001b[0m\u001b[0;34m.\u001b[0m\u001b[0mset_alpha\u001b[0m\u001b[0;34m(\u001b[0m\u001b[0malpha\u001b[0m\u001b[0;34m)\u001b[0m\u001b[0;34m\u001b[0m\u001b[0;34m\u001b[0m\u001b[0m\n\u001b[1;32m   5489\u001b[0m         \u001b[0;32mif\u001b[0m \u001b[0mim\u001b[0m\u001b[0;34m.\u001b[0m\u001b[0mget_clip_path\u001b[0m\u001b[0;34m(\u001b[0m\u001b[0;34m)\u001b[0m \u001b[0;32mis\u001b[0m \u001b[0;32mNone\u001b[0m\u001b[0;34m:\u001b[0m\u001b[0;34m\u001b[0m\u001b[0;34m\u001b[0m\u001b[0m\n",
            "\u001b[0;32m/usr/local/lib/python3.9/dist-packages/matplotlib/image.py\u001b[0m in \u001b[0;36mset_data\u001b[0;34m(self, A)\u001b[0m\n\u001b[1;32m    713\u001b[0m         if not (self._A.ndim == 2\n\u001b[1;32m    714\u001b[0m                 or self._A.ndim == 3 and self._A.shape[-1] in [3, 4]):\n\u001b[0;32m--> 715\u001b[0;31m             raise TypeError(\"Invalid shape {} for image data\"\n\u001b[0m\u001b[1;32m    716\u001b[0m                             .format(self._A.shape))\n\u001b[1;32m    717\u001b[0m \u001b[0;34m\u001b[0m\u001b[0m\n",
            "\u001b[0;31mTypeError\u001b[0m: Invalid shape (100,) for image data"
          ]
        },
        {
          "output_type": "display_data",
          "data": {
            "text/plain": [
              "<Figure size 432x288 with 1 Axes>"
            ],
            "image/png": "[encoded data removed]"
          },
          "metadata": {
            "needs_background": "light"
          }
        }
      ]
    },
    {
      "cell_type": "code",
      "source": [
        "from mpl_toolkits.mplot3d import Axes3D\n",
        "import matplotlib.pyplot as plt\n",
        "\n",
        "fig = plt.figure()\n",
        "ax = fig.add_subplot(111, projection='3d')\n",
        "ax.scatter(X_pca[:, 0], X_pca[:, 1], X_pca[:, 2], c=Y, cmap='viridis')\n",
        "ax.set_xlabel('PC1')\n",
        "ax.set_ylabel('PC2')\n",
        "ax.set_zlabel('PC3')\n",
        "plt.title('3D Scatter Plot of Transformed Data')\n",
        "plt.show()\n"
      ],
      "metadata": {
        "colab": {
          "base_uri": "https://localhost:8080/",
          "height": 270
        },
        "id": "dQp4JFUSsn6O",
        "outputId": "a9a1f589-1e82-4cfa-9c4a-52381038cd17"
      },
      "execution_count": 116,
      "outputs": [
        {
          "output_type": "display_data",
          "data": {
            "text/plain": [
              "<Figure size 432x288 with 1 Axes>"
            ],
            "image/png": "[encoded data removed]"
          },
          "metadata": {
            "needs_background": "light"
          }
        }
      ]
    },
    {
      "cell_type": "markdown",
      "source": [
        "##RandomForestClassifier"
      ],
      "metadata": {
        "id": "1-1NzTOZQFLQ"
      }
    },
    {
      "cell_type": "code",
      "source": [
        "import numpy as np\n",
        "import pandas as pd\n",
        "from pathlib import Path\n",
        "from sklearn.feature_selection import SelectKBest, chi2\n",
        "from sklearn.decomposition import PCA\n",
        "from sklearn.ensemble import RandomForestClassifier\n",
        "from sklearn.model_selection import train_test_split\n",
        "from scipy import signal\n",
        "\n",
        "path = Path(\"/content/train/train\")\n",
        "y_train = pd.read_csv(\"/content/annotations.csv\")\n",
        "y_train = y_train.rename(columns={'class': 'target'})\n",
        "\n",
        "new_columns_data = []\n",
        "fs = 12  # 1000\n",
        "for namenpy in y_train[\"id\"]:\n",
        "    data = np.abs(np.load(path / (namenpy + '.npy')))\n",
        "    lowcut = 0.1 #20\n",
        "    highcut = 0.9 #80\n",
        "    b, a = signal.butter(2, [lowcut / (0.5*fs), highcut / (0.5*fs)], 'band')\n",
        "    data = np.abs(signal.filtfilt(b, a, data))\n",
        "    new_columns_data.append(data)\n",
        "new_columns_data[519] = new_columns_data[519][:2560]\n",
        "df = y_train.assign(data_in_file=new_columns_data)\n",
        "df = df.reindex(columns= ['id', 'data_in_file' ,'target'])\n",
        "\n",
        "X = np.array(new_columns_data).reshape(647, -1)\n",
        "selector = SelectKBest(score_func=chi2, k=4500) #4000\n",
        "X_new = selector.fit_transform(X, y_train[\"target\"])\n",
        "Y = y_train[\"target\"]\n",
        "\n",
        "n_components = [5,10,15,20,25,30,35,40,45,50]\n",
        "clf = RandomForestClassifier(n_estimators=100)\n",
        "\n",
        "for n in n_components:\n",
        "    pca = PCA(n_components=n)\n",
        "    X_pca = pca.fit_transform(X_new)\n",
        "\n",
        "    X_train, X_test, y_train, y_test = train_test_split(X_pca, Y, test_size=0.2, random_state=0)\n",
        "\n",
        "    # Train a Random Forest Classifier with 100 trees\n",
        "    clf.fit(X_train, y_train)\n",
        "\n",
        "    test_accuracy = clf.score(X_test, y_test)\n",
        "    print(f\"Test accuracy with {n} principal components: {test_accuracy:.4f}\")\n",
        "\n"
      ],
      "metadata": {
        "colab": {
          "base_uri": "https://localhost:8080/"
        },
        "id": "L7_FWuU6Hpfo",
        "outputId": "ac5bae70-084b-4cb1-c7db-599c0b3aefc2"
      },
      "execution_count": 145,
      "outputs": [
        {
          "output_type": "stream",
          "name": "stdout",
          "text": [
            "Test accuracy with 5 principal components: 0.3846\n",
            "Test accuracy with 10 principal components: 0.3385\n",
            "Test accuracy with 15 principal components: 0.3231\n",
            "Test accuracy with 20 principal components: 0.3462\n",
            "Test accuracy with 25 principal components: 0.3692\n",
            "Test accuracy with 30 principal components: 0.3462\n",
            "Test accuracy with 35 principal components: 0.3692\n",
            "Test accuracy with 40 principal components: 0.3077\n",
            "Test accuracy with 45 principal components: 0.3385\n",
            "Test accuracy with 50 principal components: 0.3154\n"
          ]
        }
      ]
    },
    {
      "cell_type": "markdown",
      "source": [
        "##SVM"
      ],
      "metadata": {
        "id": "RUqhPgoc_MWq"
      }
    },
    {
      "cell_type": "code",
      "source": [
        "import numpy as np\n",
        "import pandas as pd\n",
        "from pathlib import Path\n",
        "from sklearn.feature_selection import SelectKBest, chi2\n",
        "from sklearn.decomposition import PCA\n",
        "from sklearn.model_selection import train_test_split\n",
        "from scipy import signal\n",
        "from sklearn import svm\n",
        "\n",
        "path = Path(\"/content/train/train\")\n",
        "y_train = pd.read_csv(\"/content/annotations.csv\")\n",
        "y_train = y_train.rename(columns={'class': 'target'})\n",
        "\n",
        "new_columns_data = []\n",
        "fs = 900  # 1000\n",
        "for namenpy in y_train[\"id\"]:\n",
        "    data = np.abs(np.load(path / (namenpy + '.npy')))\n",
        "    lowcut = 25 #20\n",
        "    highcut = 150 #80\n",
        "    b, a = signal.butter(2, [lowcut / (0.5 * fs), highcut / (0.5 * fs)], 'band')\n",
        "    data = np.abs(signal.filtfilt(b, a, data))\n",
        "    new_columns_data.append(data)\n",
        "new_columns_data[519] = new_columns_data[519][:2560]\n",
        "df = y_train.assign(data_in_file=new_columns_data)\n",
        "df = df.reindex(columns= ['id', 'data_in_file' ,'target'])\n",
        "\n",
        "X = np.array(new_columns_data).reshape(647, -1)\n",
        "selector = SelectKBest(score_func=chi2, k=10000) #4000\n",
        "X_new = selector.fit_transform(X, y_train[\"target\"])\n",
        "Y = y_train[\"target\"]\n",
        "\n",
        "n_components = [5,10, 15, 20, 25, 30, 40, 50, 60, 70, 80, 90, 100]\n",
        "for n in n_components:\n",
        "    pca = PCA(n_components=n)\n",
        "    X_pca = pca.fit_transform(X_new)\n",
        "\n",
        "    X_train, X_test, y_train, y_test = train_test_split(X_pca, Y, test_size=0.2, random_state=0)\n",
        "\n",
        "    clf = svm.SVC()\n",
        "    clf.fit(X_train, y_train)\n",
        "\n",
        "    test_accuracy = clf.score(X_test, y_test)\n",
        "    print(f\"Test accuracy with {n} principal components: {test_accuracy:.4f}\")\n",
        "\n"
      ],
      "metadata": {
        "colab": {
          "base_uri": "https://localhost:8080/"
        },
        "id": "EgfFjxe4_OH0",
        "outputId": "cf4f8a17-d67e-4439-f274-6a8afc1ea933"
      },
      "execution_count": 85,
      "outputs": [
        {
          "output_type": "stream",
          "name": "stdout",
          "text": [
            "Test accuracy with 5 principal components: 0.3615\n",
            "Test accuracy with 10 principal components: 0.3692\n",
            "Test accuracy with 15 principal components: 0.3615\n",
            "Test accuracy with 20 principal components: 0.4000\n",
            "Test accuracy with 25 principal components: 0.3769\n",
            "Test accuracy with 30 principal components: 0.3692\n",
            "Test accuracy with 40 principal components: 0.3769\n",
            "Test accuracy with 50 principal components: 0.3462\n",
            "Test accuracy with 60 principal components: 0.3462\n",
            "Test accuracy with 70 principal components: 0.3308\n",
            "Test accuracy with 80 principal components: 0.3231\n",
            "Test accuracy with 90 principal components: 0.3308\n",
            "Test accuracy with 100 principal components: 0.3308\n"
          ]
        }
      ]
    },
    {
      "cell_type": "markdown",
      "source": [
        "##DecisionTreeClassifier"
      ],
      "metadata": {
        "id": "4gmyQHC-A1V4"
      }
    },
    {
      "cell_type": "code",
      "source": [
        "import numpy as np\n",
        "import pandas as pd\n",
        "from pathlib import Path\n",
        "from sklearn.feature_selection import SelectKBest, chi2\n",
        "from sklearn.decomposition import PCA\n",
        "from sklearn.model_selection import train_test_split\n",
        "from scipy import signal\n",
        "from sklearn import tree\n",
        "\n",
        "path = Path(\"/content/train/train\")\n",
        "y_train = pd.read_csv(\"/content/annotations.csv\")\n",
        "y_train = y_train.rename(columns={'class': 'target'})\n",
        "\n",
        "new_columns_data = []\n",
        "fs = 900  # 1000\n",
        "for namenpy in y_train[\"id\"]:\n",
        "    data = np.abs(np.load(path / (namenpy + '.npy')))\n",
        "    lowcut = 25 #20\n",
        "    highcut = 150 #80\n",
        "    b, a = signal.butter(2, [lowcut / (0.5 * fs), highcut / (0.5 * fs)], 'band')\n",
        "    data = np.abs(signal.filtfilt(b, a, data))\n",
        "    new_columns_data.append(data)\n",
        "new_columns_data[519] = new_columns_data[519][:2560]\n",
        "df = y_train.assign(data_in_file=new_columns_data)\n",
        "df = df.reindex(columns= ['id', 'data_in_file' ,'target'])\n",
        "\n",
        "X = np.array(new_columns_data).reshape(647, -1)\n",
        "selector = SelectKBest(score_func=chi2, k=10000) #4000\n",
        "X_new = selector.fit_transform(X, y_train[\"target\"])\n",
        "Y = y_train[\"target\"]\n",
        "\n",
        "n_components = [5,10, 15, 20, 25, 30, 40, 50, 60, 70, 80, 90, 100]\n",
        "for n in n_components:\n",
        "    pca = PCA(n_components=n)\n",
        "    X_pca = pca.fit_transform(X_new)\n",
        "\n",
        "    X_train, X_test, y_train, y_test = train_test_split(X_pca, Y, test_size=0.2, random_state=0)\n",
        "\n",
        "    clf = tree.DecisionTreeClassifier()\n",
        "    clf.fit(X_train, y_train)\n",
        "\n",
        "    test_accuracy = clf.score(X_test, y_test)\n",
        "    print(f\"Test accuracy with {n} principal components: {test_accuracy:.4f}\")\n",
        "\n"
      ],
      "metadata": {
        "colab": {
          "base_uri": "https://localhost:8080/"
        },
        "id": "o2Tz5iTw_OT6",
        "outputId": "d42e4e99-130e-430b-d7d9-bf0c5e824a4e"
      },
      "execution_count": 86,
      "outputs": [
        {
          "output_type": "stream",
          "name": "stdout",
          "text": [
            "Test accuracy with 5 principal components: 0.2538\n",
            "Test accuracy with 10 principal components: 0.3308\n",
            "Test accuracy with 15 principal components: 0.3154\n",
            "Test accuracy with 20 principal components: 0.3154\n",
            "Test accuracy with 25 principal components: 0.3077\n",
            "Test accuracy with 30 principal components: 0.3308\n",
            "Test accuracy with 40 principal components: 0.2846\n",
            "Test accuracy with 50 principal components: 0.3154\n",
            "Test accuracy with 60 principal components: 0.3154\n",
            "Test accuracy with 70 principal components: 0.3231\n",
            "Test accuracy with 80 principal components: 0.2923\n",
            "Test accuracy with 90 principal components: 0.2462\n",
            "Test accuracy with 100 principal components: 0.2846\n"
          ]
        }
      ]
    },
    {
      "cell_type": "markdown",
      "source": [
        "#model Ensemble"
      ],
      "metadata": {
        "id": "26FYXaqa5ECe"
      }
    },
    {
      "cell_type": "markdown",
      "source": [
        "##sklearn"
      ],
      "metadata": {
        "id": "9VIh_gwE5eSn"
      }
    },
    {
      "cell_type": "code",
      "source": [
        "from sklearn.ensemble import VotingClassifier\n",
        "from sklearn.linear_model import LogisticRegression\n",
        "from sklearn.tree import DecisionTreeClassifier\n",
        "from sklearn.svm import SVC\n",
        "\n",
        "# Define 3 classifiers to use in the ensemble\n",
        "clf1 = LogisticRegression(random_state=1)\n",
        "clf2 = DecisionTreeClassifier(random_state=1)\n",
        "clf3 = SVC(probability=True, random_state=1)\n",
        "\n",
        "# Combine the classifiers in the ensemble model\n",
        "ensemble = VotingClassifier(estimators=[('lr', clf1), ('dt', clf2), ('svc', clf3)], voting='soft')\n",
        "\n",
        "# Fit the ensemble model to training data\n",
        "ensemble.fit(X_train, y_train)\n",
        "\n",
        "# Use the ensemble model to make predictions on new data\n",
        "y_pred = ensemble.predict(X_test)\n"
      ],
      "metadata": {
        "id": "3r2fflkZ5IpD"
      },
      "execution_count": null,
      "outputs": []
    },
    {
      "cell_type": "markdown",
      "source": [
        "##tensorflow"
      ],
      "metadata": {
        "id": "axSmiaAe5hIU"
      }
    },
    {
      "cell_type": "code",
      "source": [
        "import tensorflow as tf\n",
        "\n",
        "# Define the input layer\n",
        "inputs = tf.keras.Input(shape=(X_train.shape[1],))\n",
        "\n",
        "# Define the first model\n",
        "model1 = tf.keras.layers.Dense(64, activation='relu')(inputs)\n",
        "model1 = tf.keras.layers.Dense(64, activation='relu')(model1)\n",
        "model1 = tf.keras.layers.Dense(64, activation='relu')(model1)\n",
        "model1 = tf.keras.layers.Dense(1, activation='sigmoid')(model1)\n",
        "\n",
        "# Define the second model\n",
        "model2 = tf.keras.layers.Dense(64, activation='relu')(inputs)\n",
        "model2 = tf.keras.layers.Dense(64, activation='relu')(model2)\n",
        "model2 = tf.keras.layers.Dense(64, activation='relu')(model2)\n",
        "model2 = tf.keras.layers.Dense(1, activation='sigmoid')(model2)\n",
        "\n",
        "# Define the third model\n",
        "model3 = tf.keras.layers.Dense(64, activation='relu')(inputs)\n",
        "model3 = tf.keras.layers.Dense(64, activation='relu')(model3)\n",
        "model3 = tf.keras.layers.Dense(64, activation='relu')(model3)\n",
        "model3 = tf.keras.layers.Dense(1, activation='sigmoid')(model3)\n",
        "\n",
        "# Combine the predictions from the three models\n",
        "ensemble_outputs = tf.keras.layers.average([model1, model2, model3])\n",
        "\n",
        "# Define the ensemble model\n",
        "ensemble_model = tf.keras.Model(inputs=inputs, outputs=ensemble_outputs)\n",
        "\n",
        "# Compile the model\n",
        "ensemble_model.compile(optimizer='adam', loss='binary_crossentropy', metrics=['accuracy'])\n",
        "\n",
        "# Fit the ensemble model to the training data\n",
        "ensemble_model.fit(X_train, y_train, epochs=10, batch_size=32, validation_data=(X_test, y_test))\n",
        "\n",
        "# Use the ensemble model to make predictions\n",
        "y_pred = ensemble_model.predict(X_test)\n"
      ],
      "metadata": {
        "id": "pkfzriJK5Ogh"
      },
      "execution_count": null,
      "outputs": []
    }
  ],
  "metadata": {
    "colab": {
      "provenance": [],
      "collapsed_sections": [
        "hvRpfbGKRPNh",
        "_GUCuR_Ez5Pn",
        "Hxp8-bUOz7eT"
      ],
      "toc_visible": true
    },
    "gpuClass": "standard",
    "kernelspec": {
      "display_name": "Python 3",
      "name": "python3"
    },
    "language_info": {
      "name": "python"
    },
    "accelerator": "GPU"
  },
  "nbformat": 4,
  "nbformat_minor": 0
}